{
 "cells": [
  {
   "cell_type": "code",
   "execution_count": 30,
   "metadata": {
    "scrolled": true
   },
   "outputs": [
    {
     "name": "stdout",
     "output_type": "stream",
     "text": [
      "('python version: ', '2.7.15 | packaged by conda-forge | (default, Oct 12 2018, 14:10:51) \\n[GCC 7.3.0]')\n",
      "('pandas version: ', u'0.23.4')\n",
      "('numpy version: ', '1.15.4')\n",
      "('scipy version: ', '1.1.0')\n",
      "('sklearn version: ', '0.19.2')\n",
      "('keras version: ', '2.2.4')\n",
      "('keras backend: ', u'tensorflow')\n",
      "('tensorflow version: ', '1.10.0')\n",
      "('theano version: ', '0.8.2')\n"
     ]
    }
   ],
   "source": [
    "import sys\n",
    "print(\"python version: \", sys.version)\n",
    "\n",
    "import pandas as pd\n",
    "print(\"pandas version: \", pd.__version__)\n",
    "\n",
    "import numpy as np\n",
    "print('numpy version: ', np.__version__)\n",
    "\n",
    "import scipy as sp\n",
    "print('scipy version: ', sp.__version__)\n",
    "\n",
    "import sklearn as skl\n",
    "print('sklearn version: ', skl.__version__)\n",
    "\n",
    "import matplotlib.pyplot as plt\n",
    "\n",
    "import seaborn as sns\n",
    "\n",
    "import keras as ks\n",
    "print('keras version: ', ks.__version__)\n",
    "print('keras backend: ', ks.backend.backend())\n",
    "\n",
    "import tensorflow as tf\n",
    "print('tensorflow version: ', tf.__version__)\n",
    "\n",
    "import theano as th\n",
    "print('theano version: ', th.__version__)\n",
    "\n",
    "import warnings\n",
    "warnings.filterwarnings('ignore')\n",
    "\n",
    "from sklearn.preprocessing import LabelEncoder\n",
    "from keras.models import Sequential\n",
    "from keras.layers import LSTM, GRU, Dense, Dropout\n",
    "from keras import backend as K\n",
    "from sklearn.metrics import confusion_matrix, precision_score, recall_score\n",
    "from sklearn.metrics import roc_curve, auc, f1_score, accuracy_score, precision_recall_curve\n",
    "\n",
    "import os\n",
    "import random\n",
    "from datetime import datetime"
   ]
  },
  {
   "cell_type": "code",
   "execution_count": 303,
   "metadata": {},
   "outputs": [
    {
     "name": "stderr",
     "output_type": "stream",
     "text": [
      "Using Theano backend.\n"
     ]
    }
   ],
   "source": [
    "def set_keras_backend(backend):\n",
    "    if K.backend() != backend:\n",
    "        os.environ['KERAS_BACKEND'] = backend\n",
    "        reload(K)\n",
    "        assert K.backend() == backend\n",
    "\n",
    "set_keras_backend(\"theano\")"
   ]
  },
  {
   "cell_type": "code",
   "execution_count": 107,
   "metadata": {},
   "outputs": [
    {
     "name": "stdout",
     "output_type": "stream",
     "text": [
      "(13422, 191)\n"
     ]
    }
   ],
   "source": [
    "excel_file = r'../Geri-DL-data/data-dictionary.xlsx'\n",
    "data = pd.DataFrame(pd.read_excel(excel_file,sheet_name='Measures'))\n",
    "data_copy = data.copy()\n",
    "print(data.shape)\n",
    "# data.head()"
   ]
  },
  {
   "cell_type": "code",
   "execution_count": 193,
   "metadata": {},
   "outputs": [],
   "source": [
    "data = data_copy.copy() #backup"
   ]
  },
  {
   "cell_type": "code",
   "execution_count": 194,
   "metadata": {},
   "outputs": [],
   "source": [
    "# use for all not entry\n",
    "data['target_1'] = data['outcome-Mds-fall-since-prior-assessment'].shift(1)\n",
    "data['target_1'].iloc[0] = 'None'"
   ]
  },
  {
   "cell_type": "code",
   "execution_count": 195,
   "metadata": {},
   "outputs": [
    {
     "name": "stdout",
     "output_type": "stream",
     "text": [
      "(7584, 192)\n",
      "Number of unique IDs: 3133\n",
      "\n",
      "(5702, 192)\n",
      "Number of unique IDs: 1251\n",
      "\n",
      "Number of unique IDs: 709\n",
      "\n"
     ]
    },
    {
     "data": {
      "text/plain": [
       "<pandas.core.groupby.groupby.DataFrameGroupBy object at 0x7fe5695f9fd0>"
      ]
     },
     "execution_count": 195,
     "metadata": {},
     "output_type": "execute_result"
    }
   ],
   "source": [
    "def groupById(data, col='patient-id'):\n",
    "    g = data.groupby(col)\n",
    "    print 'Number of unique IDs: %d\\n' % len(g)\n",
    "    return g\n",
    "\n",
    "data_not_ed = data[data['Entry-discharge-type']=='Not entry/discharge record']\n",
    "print(data_not_ed.shape)\n",
    "group_not_ed = groupById(data_not_ed)\n",
    "\n",
    "group_size = group_not_ed.size()\n",
    "data_lt_one = data_not_ed[ data_not_ed['patient-id'].isin(group_size[group_size > 1].index) ]\n",
    "print(data_lt_one.shape)\n",
    "groupById(data_lt_one)\n",
    "\n",
    "data_no_fall = data_not_ed.loc[data['outcome-Mds-fall-since-prior-assessment']=='Yes']\n",
    "groupById(data_no_fall)"
   ]
  },
  {
   "cell_type": "code",
   "execution_count": 196,
   "metadata": {
    "scrolled": false
   },
   "outputs": [],
   "source": [
    "# Not entry records (num record > 2)\n",
    "# missing_cnt = data_lt_one.isna().sum()\n",
    "# missing_data = pd.concat([missing_cnt, missing_cnt/data_lt_one.shape[0]], axis=1, keys=['count', 'percentage'])\n",
    "# # missing_data = missing_data.loc[missing_data['count']!=0].sort_values('percentage', ascending=False)\n",
    "# missing_zero = missing_data[missing_data['count'] == 0]\n",
    "# # print(missing_zero)\n",
    "\n",
    "# Not entry records (all)\n",
    "missing_cnt = data_not_ed.isna().sum()\n",
    "missing_data = pd.concat([missing_cnt, missing_cnt/data_not_ed.shape[0]], axis=1, keys=['count', 'percentage'])\n",
    "# missing_data = missing_data.loc[missing_data['count']!=0].sort_values('percentage', ascending=False)\n",
    "missing_zero = missing_data[missing_data['count'] == 0]\n",
    "# print(missing_zero)\n",
    "\n",
    "# All records\n",
    "# missing_cnt = data.isna().sum()\n",
    "# missing_data = pd.concat([missing_cnt, missing_cnt/data.shape[0]], axis=1, keys=['count', 'percentage'])\n",
    "# # missing_data = missing_data.loc[missing_data['count']!=0].sort_values('percentage', ascending=False)\n",
    "# missing_zero = missing_data[missing_data['count'] == 0]\n",
    "# # print(missing_zero)"
   ]
  },
  {
   "cell_type": "code",
   "execution_count": 197,
   "metadata": {},
   "outputs": [
    {
     "name": "stdout",
     "output_type": "stream",
     "text": [
      "(7584, 40)\n",
      "(7584,)\n"
     ]
    }
   ],
   "source": [
    "# df = data_lt_one[missing_zero[missing_zero.index.str.contains('^(?!.*(-date|ws-|outcome-|Entry)).*$')].index.tolist()]\n",
    "df = data_not_ed[missing_zero[missing_zero.index.str.contains('^(?!.*(-date|ws-|outcome-|Entry)).*$')].index.tolist()]\n",
    "# df = data[missing_zero[missing_zero.index.str.contains('^(?!.*(-date|ws-|outcome-|Entry)).*$')].index.tolist()]\n",
    "print(df.shape)\n",
    "# target = data_lt_one['outcome-Mds-fall-since-prior-assessment']\n",
    "target = data_not_ed['outcome-Mds-fall-since-prior-assessment']\n",
    "# target = data['outcome-Mds-fall-since-prior-assessment']\n",
    "print(target.shape)"
   ]
  },
  {
   "cell_type": "code",
   "execution_count": 198,
   "metadata": {
    "scrolled": true
   },
   "outputs": [
    {
     "name": "stdout",
     "output_type": "stream",
     "text": [
      "Index([                    u'cms-long-stay',\n",
      "            u'mds-stay-trans-short-to-long',\n",
      "                                  u'gender',\n",
      "                                    u'race',\n",
      "                                u'facility',\n",
      "              u'mds-antianxiety-medication',\n",
      "           u'mds-antidepressant-medication',\n",
      "            u'mds-antipsychotic-medication',\n",
      "               u'mds-antibiotic-medication',\n",
      "            u'mds-anticoagulant-medication',\n",
      "                 u'mds-diuretic-medication',\n",
      "                 u'mds-hypnotic-medication',\n",
      "                 u'mds-behavioral-symptoms',\n",
      "       u'mds-behavioral-symptoms-to-others',\n",
      "                u'mds-bims-summary-ranking',\n",
      "                          u'mds-dehydrated',\n",
      "                          u'mds-depression',\n",
      "                               u'mds-fever',\n",
      "                   u'mds-impaired-mobility',\n",
      "                   u'mds-impaired-transfer',\n",
      "                   u'mds-internal-bleeding',\n",
      "                     u'mds-pain-non-verbal',\n",
      "                        u'mds-malnutrition',\n",
      "               u'mds-no-problem-conditions',\n",
      "                            u'mds-vomiting',\n",
      "                          u'PPS-assessment',\n",
      "                      u'Federal-assessment',\n",
      "               u'mds-impaired-walk-in-room',\n",
      "           u'mds-impaired-walk-in-corridor',\n",
      "               u'mds-impaired-locomot-unit',\n",
      "              u'mds-impaired-locomot-other',\n",
      "                                u'target_1'],\n",
      "      dtype='object')\n"
     ]
    }
   ],
   "source": [
    "f_obj = df.dtypes[df.dtypes == 'object'].index\n",
    "print(f_obj)"
   ]
  },
  {
   "cell_type": "code",
   "execution_count": 199,
   "metadata": {
    "scrolled": true
   },
   "outputs": [
    {
     "name": "stdout",
     "output_type": "stream",
     "text": [
      "Index([u'patient-id', u'current-stay-days', u'cumulative-days-in-facility',\n",
      "       u'age', u'cns-drug-exposure', u'psychotropic-exposure',\n",
      "       u'pk-interaction', u'mds-adl-scale'],\n",
      "      dtype='object')\n"
     ]
    }
   ],
   "source": [
    "f_numeric = df.dtypes[df.dtypes != 'object'].index\n",
    "print(f_numeric)"
   ]
  },
  {
   "cell_type": "code",
   "execution_count": 200,
   "metadata": {},
   "outputs": [
    {
     "name": "stdout",
     "output_type": "stream",
     "text": [
      "Index([], dtype='object')\n"
     ]
    }
   ],
   "source": [
    "f_not_bin = ['mds-bims-summary-ranking', 'PPS-assessment', 'Federal-assessment', 'gender', 'race', 'facility']\n",
    "df = pd.get_dummies(df, columns=f_not_bin, prefix=f_not_bin)\n",
    "df['mds-pain-non-verbal'] = df['mds-pain-non-verbal'].map({'None/Mild': 0, 'Moderate/Severe': 1})\n",
    "df['target_1'] = df['target_1'].map({'None': 0, 'Yes': 1})\n",
    "f_obj = f_obj.drop(f_not_bin + ['mds-pain-non-verbal', 'target_1'])\n",
    "# f_obj = f_obj.drop(f_not_bin + ['mds-pain-non-verbal'])\n",
    "for f in f_obj:\n",
    "    df[f] = df[f].map({'No': 0, 'Yes': 1})\n",
    "target = target.map({'None': 0, 'Yes': 1})\n",
    "print(df.dtypes[df.dtypes == 'object'].index)"
   ]
  },
  {
   "cell_type": "markdown",
   "metadata": {},
   "source": [
    "boolean:\n",
    "'cms-long-stay', 'mds-stay-trans-short-to-long', '*-medication'\n",
    "'mds-pain-non-verbal'\n",
    "\n",
    "not-boolean:\n",
    "'mds-bims-summary-ranking', 'PPS-assessment', 'Federal-assessment', \n",
    "\n",
    "drop:\n",
    "'Entry-discharge-type'"
   ]
  },
  {
   "cell_type": "code",
   "execution_count": 201,
   "metadata": {
    "scrolled": true
   },
   "outputs": [],
   "source": [
    "df['target'] = target"
   ]
  },
  {
   "cell_type": "code",
   "execution_count": 202,
   "metadata": {},
   "outputs": [],
   "source": [
    "'''\n",
    " Generate input list for generator\n",
    " \n",
    " Returns:\n",
    "    x: [Patient 1, Patient 2, ...]\n",
    "       in Patient X: [Record 1, Record 2, ...]\n",
    "       type of record is ndarray    \n",
    "    y: [Patient 1, Patient 2, ...]\n",
    "       Patient X is series of target (compatible with ndarray)\n",
    "'''\n",
    "def generate_nested_list(df):\n",
    "    x, y = [], [] \n",
    "    index = df['patient-id'].unique()\n",
    "    for idx in index:\n",
    "        dff = df[df['patient-id']==idx]\n",
    "        \n",
    "        # Method 1, T-1 feature(redunant) & T-1 target & T feature as INPUT, \n",
    "#         cols, names = list(), list()\n",
    "#         cols.append(dff.shift(1))\n",
    "#         names += [('%s_1' % col_name) for col_name in dff.columns]\n",
    "#         cols.append(dff.shift(0))\n",
    "#         names += [('%s' % col_name) for col_name in dff.columns]\n",
    "#         agg = pd.concat(cols, axis=1)\n",
    "#         agg.columns = names\n",
    "#         agg.dropna(inplace=True)\n",
    "#         y.append(agg['target'])\n",
    "#         agg.drop('target', axis=1, inplace=True)\n",
    "#         x.append([xx for xx in agg.values])\n",
    "\n",
    "        # Method 2, T feature as INPUT, lack T-1 actual value\n",
    "#         y.append(dff['target'])\n",
    "#         dff.drop('target', axis=1, inplace=True)\n",
    "#         x.append([value for value in dff.values])\n",
    "\n",
    "        # Method 3, T-1 target & T feature as INPUT\n",
    "        # not_entry (num of record > 2)\n",
    "#         dff['target_1'] = dff['target'].shift(1)\n",
    "#         dff = dff[1:]\n",
    "        # all not_entry\n",
    "\n",
    "        # all record\n",
    "#         temp = dff['target'].shift(1)\n",
    "#         dff['target_1'] = temp\n",
    "#         dff['target_2'] = temp.map({0: 1, 1: 0})\n",
    "#         dff['target_1'].iloc[0] = 0\n",
    "#         dff['target_2'].iloc[0] = 0\n",
    "        \n",
    "        y.append(dff['target'])\n",
    "        dff = dff.drop(['patient-id', 'target'], axis=1)\n",
    "        x.append([record for record in dff.values])\n",
    "    return x, y"
   ]
  },
  {
   "cell_type": "code",
   "execution_count": 203,
   "metadata": {
    "scrolled": true
   },
   "outputs": [
    {
     "name": "stdout",
     "output_type": "stream",
     "text": [
      "CPU times: user 3.85 s, sys: 12 ms, total: 3.86 s\n",
      "Wall time: 3.86 s\n"
     ]
    }
   ],
   "source": [
    "%%time\n",
    "xmat, ymat = generate_nested_list(df)"
   ]
  },
  {
   "cell_type": "code",
   "execution_count": 192,
   "metadata": {},
   "outputs": [],
   "source": [
    "xmat_copy, ymat_copy = xmat[:], ymat[:]"
   ]
  },
  {
   "cell_type": "code",
   "execution_count": 204,
   "metadata": {},
   "outputs": [
    {
     "name": "stdout",
     "output_type": "stream",
     "text": [
      "3133\n",
      "1\n",
      "58\n",
      "3133\n",
      "1\n"
     ]
    }
   ],
   "source": [
    "print(len(xmat))\n",
    "print(len(xmat[0]))\n",
    "print(xmat[0][0].shape[0])\n",
    "print(len(ymat))\n",
    "print(ymat[0].shape[0])"
   ]
  },
  {
   "cell_type": "code",
   "execution_count": 180,
   "metadata": {},
   "outputs": [],
   "source": [
    "def check_dim(x, y):\n",
    "    result = [ (len(x[i]) == y[i].shape[0]) for i in range(len(y)) ]\n",
    "    if(False not in result):\n",
    "        print('All dimensions match.')\n",
    "        return True;\n",
    "    else:\n",
    "        print('Some dimensions do not match.')\n",
    "        return result;"
   ]
  },
  {
   "cell_type": "code",
   "execution_count": 92,
   "metadata": {},
   "outputs": [],
   "source": [
    "def train_test_split(xmat, ymat, radio, seed):\n",
    "    random.seed(seed)\n",
    "    n_total = sum(y.shape[0] for y in ymat)\n",
    "    print('total number of samples: %d' % n_total)\n",
    "    X_train, X_test, Y_train, Y_test = ([], ) * 4\n",
    "    idx = random.sample(range(len(ymat)), len(ymat))\n",
    "    n_train = 0\n",
    "    for i, val in enumerate(idx):\n",
    "        n_train += len(ymat[val])\n",
    "        if(n_train >= n_total * radio):\n",
    "            X_train, Y_train = [xmat[j] for j in idx[:i]], [ymat[j] for j in idx[:i]]\n",
    "            X_test, Y_test = [xmat[j] for j in idx[i:]], [ymat[j] for j in idx[i:]]\n",
    "            print('total number of samples in training set: %d' % n_train)\n",
    "            break\n",
    "    return X_train, X_test, Y_train, Y_test"
   ]
  },
  {
   "cell_type": "code",
   "execution_count": 17,
   "metadata": {},
   "outputs": [],
   "source": [
    "def train_test_split_by_patient(xmat, ymat, radio, seed):\n",
    "    random.seed(seed)\n",
    "    idx = random.sample(range(len(ymat)), len(ymat))\n",
    "    i = int(len(ymat) * radio)\n",
    "    X_train, Y_train = [xmat[j] for j in idx[:i]], [ymat[j] for j in idx[:i]]\n",
    "    X_test, Y_test = [xmat[j] for j in idx[i:]], [ymat[j] for j in idx[i:]]\n",
    "    return X_train, X_test, Y_train, Y_test"
   ]
  },
  {
   "cell_type": "code",
   "execution_count": 18,
   "metadata": {},
   "outputs": [],
   "source": [
    "def nested_list_to_df(layer1, col_names):\n",
    "    li = [layer3 for layer2 in layer1 for layer3 in layer2]\n",
    "    return pd.DataFrame(np.row_stack(li), columns=col_names)"
   ]
  },
  {
   "cell_type": "code",
   "execution_count": 205,
   "metadata": {},
   "outputs": [
    {
     "name": "stdout",
     "output_type": "stream",
     "text": [
      "total number of samples: 7584\n",
      "total number of samples in training set: 5309\n"
     ]
    }
   ],
   "source": [
    "X_train, X_test, Y_train, Y_test = train_test_split(xmat, ymat, 0.7, 1)"
   ]
  },
  {
   "cell_type": "code",
   "execution_count": 20,
   "metadata": {},
   "outputs": [],
   "source": [
    "X_train, X_test, Y_train, Y_test = train_test_split_by_patient(xmat, ymat, 0.7, 1)"
   ]
  },
  {
   "cell_type": "code",
   "execution_count": 175,
   "metadata": {},
   "outputs": [
    {
     "name": "stdout",
     "output_type": "stream",
     "text": [
      "2763\n",
      "2\n",
      "58\n",
      "2763\n",
      "2\n"
     ]
    }
   ],
   "source": [
    "print(len(X_train))\n",
    "print(len(X_train[0]))\n",
    "print(X_train[0][0].shape[0])\n",
    "print(len(Y_train))\n",
    "print(Y_train[0].shape[0])"
   ]
  },
  {
   "cell_type": "code",
   "execution_count": 142,
   "metadata": {},
   "outputs": [
    {
     "name": "stdout",
     "output_type": "stream",
     "text": [
      "All dimensions match.\n"
     ]
    },
    {
     "data": {
      "text/plain": [
       "True"
      ]
     },
     "execution_count": 142,
     "metadata": {},
     "output_type": "execute_result"
    }
   ],
   "source": [
    "check_dim(X_train, Y_train)"
   ]
  },
  {
   "cell_type": "code",
   "execution_count": 23,
   "metadata": {},
   "outputs": [],
   "source": [
    "col_names = df.columns.tolist()[1:-1]\n",
    "col_names.append('target_1')\n",
    "# print(col_names)"
   ]
  },
  {
   "cell_type": "code",
   "execution_count": 24,
   "metadata": {
    "scrolled": false
   },
   "outputs": [
    {
     "data": {
      "text/plain": [
       "(3031, 58)"
      ]
     },
     "execution_count": 24,
     "metadata": {},
     "output_type": "execute_result"
    }
   ],
   "source": [
    "nested_list_to_df(X_train, col_names).shape"
   ]
  },
  {
   "cell_type": "code",
   "execution_count": 206,
   "metadata": {},
   "outputs": [],
   "source": [
    "from sklearn.preprocessing import MinMaxScaler\n",
    "scaler = MinMaxScaler(feature_range=(0, 1))\n",
    "scaler.fit(pd.DataFrame(np.concatenate(X_train)))\n",
    "X_train_transformed = list()\n",
    "for X in X_train:\n",
    "    X_train_transformed.append(scaler.transform(X))\n",
    "scaler.fit(pd.DataFrame(np.concatenate(X_test)))\n",
    "X_test_transformed = list()\n",
    "for X in X_test:\n",
    "    X_test_transformed.append(scaler.transform(X))"
   ]
  },
  {
   "cell_type": "code",
   "execution_count": 26,
   "metadata": {},
   "outputs": [],
   "source": [
    "def mygenerator(obj):\n",
    "    if(isinstance(obj, tuple)):\n",
    "        xmat, ymat = obj\n",
    "        while True:\n",
    "            for x, y in zip(xmat, ymat):\n",
    "                yield (np.array(x).reshape((len(x), 1, x[0].shape[0])), y)\n",
    "    else:\n",
    "        xmat = obj\n",
    "        while True:\n",
    "            for x in xmat:\n",
    "                yield (np.array(x).reshape((len(x), 1, x[0].shape[0])))"
   ]
  },
  {
   "cell_type": "code",
   "execution_count": 207,
   "metadata": {},
   "outputs": [],
   "source": [
    "model = Sequential()\n",
    "n_timesteps = 1\n",
    "n_dimensions = xmat[0][0].shape[0]\n",
    "model.add(LSTM(20, input_shape=(n_timesteps, n_dimensions)))\n",
    "model.add(Dropout(0.5))\n",
    "model.add(Dense(1, activation='sigmoid'))\n",
    "model.compile(loss='binary_crossentropy', optimizer='adagrad', metrics=['binary_accuracy'])"
   ]
  },
  {
   "cell_type": "code",
   "execution_count": 36,
   "metadata": {},
   "outputs": [],
   "source": [
    "model = Sequential()\n",
    "n_timesteps = 1\n",
    "n_dimensions = xmat[0][0].shape[0]\n",
    "model.add(GRU(20, input_shape=(n_timesteps, n_dimensions)))\n",
    "model.add(Dropout(0.5))\n",
    "model.add(Dense(1, activation='sigmoid'))\n",
    "model.compile(loss='binary_crossentropy', optimizer='adagrad', metrics=['binary_accuracy'])"
   ]
  },
  {
   "cell_type": "code",
   "execution_count": 208,
   "metadata": {
    "scrolled": true
   },
   "outputs": [
    {
     "name": "stdout",
     "output_type": "stream",
     "text": [
      "Epoch 1/60\n",
      "2225/2225 [==============================] - 7s 3ms/step - loss: 0.3959 - binary_accuracy: 0.8669 - val_loss: 0.4376 - val_binary_accuracy: 0.8256\n",
      "Epoch 2/60\n",
      "2225/2225 [==============================] - 5s 2ms/step - loss: 0.3761 - binary_accuracy: 0.8674 - val_loss: 0.4304 - val_binary_accuracy: 0.8256\n",
      "Epoch 3/60\n",
      "2225/2225 [==============================] - 5s 2ms/step - loss: 0.3698 - binary_accuracy: 0.8672 - val_loss: 0.4268 - val_binary_accuracy: 0.8256\n",
      "Epoch 4/60\n",
      "2225/2225 [==============================] - 5s 2ms/step - loss: 0.3694 - binary_accuracy: 0.8672 - val_loss: 0.4243 - val_binary_accuracy: 0.8256\n",
      "Epoch 5/60\n",
      "2225/2225 [==============================] - 5s 2ms/step - loss: 0.3653 - binary_accuracy: 0.8675 - val_loss: 0.4222 - val_binary_accuracy: 0.8260\n",
      "Epoch 6/60\n",
      "2225/2225 [==============================] - 5s 2ms/step - loss: 0.3621 - binary_accuracy: 0.8675 - val_loss: 0.4208 - val_binary_accuracy: 0.8251\n",
      "Epoch 7/60\n",
      "2225/2225 [==============================] - 5s 2ms/step - loss: 0.3609 - binary_accuracy: 0.8676 - val_loss: 0.4199 - val_binary_accuracy: 0.8247\n",
      "Epoch 8/60\n",
      "2225/2225 [==============================] - 5s 2ms/step - loss: 0.3625 - binary_accuracy: 0.8677 - val_loss: 0.4193 - val_binary_accuracy: 0.8251\n",
      "Epoch 9/60\n",
      "2225/2225 [==============================] - 5s 2ms/step - loss: 0.3620 - binary_accuracy: 0.8687 - val_loss: 0.4189 - val_binary_accuracy: 0.8251\n",
      "Epoch 10/60\n",
      "2225/2225 [==============================] - 5s 2ms/step - loss: 0.3617 - binary_accuracy: 0.8683 - val_loss: 0.4182 - val_binary_accuracy: 0.8278\n",
      "Epoch 11/60\n",
      "2225/2225 [==============================] - 5s 2ms/step - loss: 0.3604 - binary_accuracy: 0.8687 - val_loss: 0.4178 - val_binary_accuracy: 0.8282\n",
      "Epoch 12/60\n",
      "2225/2225 [==============================] - 5s 2ms/step - loss: 0.3591 - binary_accuracy: 0.8680 - val_loss: 0.4177 - val_binary_accuracy: 0.8286\n",
      "Epoch 13/60\n",
      "2225/2225 [==============================] - 5s 2ms/step - loss: 0.3569 - binary_accuracy: 0.8677 - val_loss: 0.4173 - val_binary_accuracy: 0.8278\n",
      "Epoch 14/60\n",
      "2225/2225 [==============================] - 5s 2ms/step - loss: 0.3586 - binary_accuracy: 0.8682 - val_loss: 0.4171 - val_binary_accuracy: 0.8278\n",
      "Epoch 15/60\n",
      "2225/2225 [==============================] - 5s 2ms/step - loss: 0.3597 - binary_accuracy: 0.8681 - val_loss: 0.4170 - val_binary_accuracy: 0.8278\n",
      "Epoch 16/60\n",
      "2225/2225 [==============================] - 5s 2ms/step - loss: 0.3584 - binary_accuracy: 0.8683 - val_loss: 0.4168 - val_binary_accuracy: 0.8269\n",
      "Epoch 17/60\n",
      "2225/2225 [==============================] - 5s 2ms/step - loss: 0.3586 - binary_accuracy: 0.8682 - val_loss: 0.4168 - val_binary_accuracy: 0.8273\n",
      "Epoch 18/60\n",
      "2225/2225 [==============================] - 5s 2ms/step - loss: 0.3570 - binary_accuracy: 0.8675 - val_loss: 0.4166 - val_binary_accuracy: 0.8273\n",
      "Epoch 19/60\n",
      "2225/2225 [==============================] - 5s 2ms/step - loss: 0.3551 - binary_accuracy: 0.8678 - val_loss: 0.4165 - val_binary_accuracy: 0.8278\n",
      "Epoch 20/60\n",
      "2225/2225 [==============================] - 5s 2ms/step - loss: 0.3566 - binary_accuracy: 0.8700 - val_loss: 0.4164 - val_binary_accuracy: 0.8278\n",
      "Epoch 21/60\n",
      "2225/2225 [==============================] - 5s 2ms/step - loss: 0.3506 - binary_accuracy: 0.8697 - val_loss: 0.4164 - val_binary_accuracy: 0.8273\n",
      "Epoch 22/60\n",
      "2225/2225 [==============================] - 5s 2ms/step - loss: 0.3610 - binary_accuracy: 0.8674 - val_loss: 0.4163 - val_binary_accuracy: 0.8273\n",
      "Epoch 23/60\n",
      "2225/2225 [==============================] - 5s 2ms/step - loss: 0.3543 - binary_accuracy: 0.8674 - val_loss: 0.4163 - val_binary_accuracy: 0.8273\n",
      "Epoch 24/60\n",
      "2225/2225 [==============================] - 5s 2ms/step - loss: 0.3553 - binary_accuracy: 0.8670 - val_loss: 0.4164 - val_binary_accuracy: 0.8282\n",
      "Epoch 25/60\n",
      "2225/2225 [==============================] - 5s 2ms/step - loss: 0.3571 - binary_accuracy: 0.8679 - val_loss: 0.4163 - val_binary_accuracy: 0.8282\n",
      "Epoch 26/60\n",
      "2225/2225 [==============================] - 5s 2ms/step - loss: 0.3544 - binary_accuracy: 0.8694 - val_loss: 0.4162 - val_binary_accuracy: 0.8282\n",
      "Epoch 27/60\n",
      "2225/2225 [==============================] - 5s 2ms/step - loss: 0.3547 - binary_accuracy: 0.8689 - val_loss: 0.4163 - val_binary_accuracy: 0.8282\n",
      "Epoch 28/60\n",
      "2225/2225 [==============================] - 5s 2ms/step - loss: 0.3555 - binary_accuracy: 0.8694 - val_loss: 0.4164 - val_binary_accuracy: 0.8291\n",
      "Epoch 29/60\n",
      "2225/2225 [==============================] - 5s 2ms/step - loss: 0.3499 - binary_accuracy: 0.8689 - val_loss: 0.4163 - val_binary_accuracy: 0.8291\n",
      "Epoch 30/60\n",
      "2225/2225 [==============================] - 5s 2ms/step - loss: 0.3544 - binary_accuracy: 0.8687 - val_loss: 0.4161 - val_binary_accuracy: 0.8286\n",
      "Epoch 31/60\n",
      "2225/2225 [==============================] - 5s 2ms/step - loss: 0.3542 - binary_accuracy: 0.8685 - val_loss: 0.4161 - val_binary_accuracy: 0.8282\n",
      "Epoch 32/60\n",
      "2225/2225 [==============================] - 5s 2ms/step - loss: 0.3569 - binary_accuracy: 0.8682 - val_loss: 0.4161 - val_binary_accuracy: 0.8291\n",
      "Epoch 33/60\n",
      "2225/2225 [==============================] - 5s 2ms/step - loss: 0.3511 - binary_accuracy: 0.8681 - val_loss: 0.4163 - val_binary_accuracy: 0.8286\n",
      "Epoch 34/60\n",
      "2225/2225 [==============================] - 5s 2ms/step - loss: 0.3547 - binary_accuracy: 0.8674 - val_loss: 0.4162 - val_binary_accuracy: 0.8286\n",
      "Epoch 35/60\n",
      "2225/2225 [==============================] - 5s 2ms/step - loss: 0.3543 - binary_accuracy: 0.8686 - val_loss: 0.4160 - val_binary_accuracy: 0.8291\n",
      "Epoch 36/60\n",
      "2225/2225 [==============================] - 5s 2ms/step - loss: 0.3545 - binary_accuracy: 0.8697 - val_loss: 0.4161 - val_binary_accuracy: 0.8291\n",
      "Epoch 37/60\n",
      "2225/2225 [==============================] - 5s 2ms/step - loss: 0.3538 - binary_accuracy: 0.8671 - val_loss: 0.4163 - val_binary_accuracy: 0.8291\n",
      "Epoch 38/60\n",
      "2225/2225 [==============================] - 5s 2ms/step - loss: 0.3533 - binary_accuracy: 0.8689 - val_loss: 0.4161 - val_binary_accuracy: 0.8291\n",
      "Epoch 39/60\n",
      "2225/2225 [==============================] - 5s 2ms/step - loss: 0.3531 - binary_accuracy: 0.8702 - val_loss: 0.4161 - val_binary_accuracy: 0.8295\n",
      "Epoch 40/60\n",
      "2225/2225 [==============================] - 5s 2ms/step - loss: 0.3536 - binary_accuracy: 0.8704 - val_loss: 0.4161 - val_binary_accuracy: 0.8295\n",
      "Epoch 41/60\n",
      "2225/2225 [==============================] - 5s 2ms/step - loss: 0.3544 - binary_accuracy: 0.8678 - val_loss: 0.4160 - val_binary_accuracy: 0.8295\n",
      "Epoch 42/60\n",
      "2225/2225 [==============================] - 5s 2ms/step - loss: 0.3494 - binary_accuracy: 0.8705 - val_loss: 0.4160 - val_binary_accuracy: 0.8295\n",
      "Epoch 43/60\n",
      "2225/2225 [==============================] - 5s 2ms/step - loss: 0.3549 - binary_accuracy: 0.8691 - val_loss: 0.4160 - val_binary_accuracy: 0.8291\n",
      "Epoch 44/60\n",
      "2225/2225 [==============================] - 5s 2ms/step - loss: 0.3516 - binary_accuracy: 0.8688 - val_loss: 0.4160 - val_binary_accuracy: 0.8295\n",
      "Epoch 45/60\n",
      "2225/2225 [==============================] - 5s 2ms/step - loss: 0.3557 - binary_accuracy: 0.8678 - val_loss: 0.4160 - val_binary_accuracy: 0.8295\n",
      "Epoch 46/60\n",
      "2225/2225 [==============================] - 5s 2ms/step - loss: 0.3553 - binary_accuracy: 0.8688 - val_loss: 0.4160 - val_binary_accuracy: 0.8295\n",
      "Epoch 47/60\n",
      "2225/2225 [==============================] - 5s 2ms/step - loss: 0.3513 - binary_accuracy: 0.8687 - val_loss: 0.4161 - val_binary_accuracy: 0.8282\n",
      "Epoch 48/60\n",
      "2225/2225 [==============================] - 5s 2ms/step - loss: 0.3540 - binary_accuracy: 0.8701 - val_loss: 0.4161 - val_binary_accuracy: 0.8291\n",
      "Epoch 49/60\n",
      "2225/2225 [==============================] - 5s 2ms/step - loss: 0.3537 - binary_accuracy: 0.8683 - val_loss: 0.4161 - val_binary_accuracy: 0.8286\n",
      "Epoch 50/60\n",
      "2225/2225 [==============================] - 5s 2ms/step - loss: 0.3494 - binary_accuracy: 0.8660 - val_loss: 0.4162 - val_binary_accuracy: 0.8291\n",
      "Epoch 51/60\n",
      "2225/2225 [==============================] - 5s 2ms/step - loss: 0.3533 - binary_accuracy: 0.8684 - val_loss: 0.4161 - val_binary_accuracy: 0.8291\n",
      "Epoch 52/60\n",
      "2225/2225 [==============================] - 5s 2ms/step - loss: 0.3509 - binary_accuracy: 0.8712 - val_loss: 0.4161 - val_binary_accuracy: 0.8291\n",
      "Epoch 53/60\n",
      "2225/2225 [==============================] - 5s 2ms/step - loss: 0.3503 - binary_accuracy: 0.8702 - val_loss: 0.4161 - val_binary_accuracy: 0.8308\n",
      "Epoch 54/60\n",
      "2225/2225 [==============================] - 5s 2ms/step - loss: 0.3472 - binary_accuracy: 0.8693 - val_loss: 0.4162 - val_binary_accuracy: 0.8291\n",
      "Epoch 55/60\n",
      "2225/2225 [==============================] - 5s 2ms/step - loss: 0.3555 - binary_accuracy: 0.8695 - val_loss: 0.4162 - val_binary_accuracy: 0.8295\n",
      "Epoch 56/60\n",
      "2225/2225 [==============================] - 5s 2ms/step - loss: 0.3573 - binary_accuracy: 0.8684 - val_loss: 0.4162 - val_binary_accuracy: 0.8295\n",
      "Epoch 57/60\n",
      "2225/2225 [==============================] - 5s 2ms/step - loss: 0.3513 - binary_accuracy: 0.8705 - val_loss: 0.4162 - val_binary_accuracy: 0.8286\n",
      "Epoch 58/60\n",
      "2225/2225 [==============================] - 5s 2ms/step - loss: 0.3505 - binary_accuracy: 0.8687 - val_loss: 0.4162 - val_binary_accuracy: 0.8291\n",
      "Epoch 59/60\n",
      "2225/2225 [==============================] - 5s 2ms/step - loss: 0.3489 - binary_accuracy: 0.8692 - val_loss: 0.4163 - val_binary_accuracy: 0.8286\n",
      "Epoch 60/60\n",
      "2225/2225 [==============================] - 5s 2ms/step - loss: 0.3542 - binary_accuracy: 0.8700 - val_loss: 0.4162 - val_binary_accuracy: 0.8295\n"
     ]
    },
    {
     "data": {
      "image/png": "[encoded data removed]",
      "text/plain": [
       "<Figure size 432x288 with 1 Axes>"
      ]
     },
     "metadata": {
      "needs_background": "light"
     },
     "output_type": "display_data"
    },
    {
     "name": "stdout",
     "output_type": "stream",
     "text": [
      "CPU times: user 12min 1s, sys: 2min 19s, total: 14min 20s\n",
      "Wall time: 4min 59s\n"
     ]
    }
   ],
   "source": [
    "%%time\n",
    "history = model.fit_generator(mygenerator((X_train_transformed, Y_train)), steps_per_epoch=len(X_train_transformed), \\\n",
    "                              epochs=60, validation_data=mygenerator((X_test_transformed, Y_test)), \\\n",
    "                              validation_steps=len(X_test_transformed))\n",
    "\n",
    "plt.plot(history.history['loss'])\n",
    "plt.plot(history.history['val_loss'])\n",
    "plt.title('model loss')\n",
    "plt.ylabel('loss')\n",
    "plt.xlabel('epoch')\n",
    "plt.legend(['train', 'test'], loc='upper right')\n",
    "plt.show()"
   ]
  },
  {
   "cell_type": "code",
   "execution_count": 209,
   "metadata": {},
   "outputs": [
    {
     "name": "stdout",
     "output_type": "stream",
     "text": [
      "Confusion Matrix:\n",
      "[[1863   16]\n",
      " [ 372   25]]\n",
      "('Precision score: ', 0.6097560975609756)\n",
      "('Recall score: ', 0.06297229219143577)\n",
      "('Accuracy: ', 0.8295254833040422)\n",
      "('F1 score: ', 0.11415525114155252)\n"
     ]
    },
    {
     "data": {
      "image/png": "[encoded data removed]",
      "text/plain": [
       "<Figure size 432x288 with 1 Axes>"
      ]
     },
     "metadata": {
      "needs_background": "light"
     },
     "output_type": "display_data"
    },
    {
     "data": {
      "image/png": "[encoded data removed]",
      "text/plain": [
       "<Figure size 432x288 with 1 Axes>"
      ]
     },
     "metadata": {
      "needs_background": "light"
     },
     "output_type": "display_data"
    }
   ],
   "source": [
    "Y_predicted = model.predict_generator(mygenerator(X_test_transformed), steps=len(X_test_transformed))\n",
    "Y_predicted_c = np.concatenate(Y_predicted)\n",
    "Y_test_c = np.concatenate(Y_test)\n",
    "Y_pred_0_5 = (Y_predicted_c > 0.5)\n",
    "print('Confusion Matrix:')\n",
    "print(confusion_matrix(Y_test_c, Y_pred_0_5))\n",
    "print('Precision score: ', precision_score(Y_test_c, Y_pred_0_5))\n",
    "print('Recall score: ', recall_score(Y_test_c, Y_pred_0_5))\n",
    "fpr, tpr, thresholds = roc_curve(Y_test_c, Y_predicted_c, pos_label=1)\n",
    "print('Accuracy: ', accuracy_score(Y_test_c, Y_pred_0_5))\n",
    "print('F1 score: ', f1_score(Y_test_c, Y_pred_0_5));\n",
    "\n",
    "def plot_roc_curve(fpr, tpr, saveplt=False, comment=''):\n",
    "    plt.figure()\n",
    "    plt.plot(fpr, tpr, color='darkorange',\n",
    "             label='ROC curve (area = %0.2f)' % auc(fpr, tpr))\n",
    "    plt.plot([0, 1], [0, 1], color='navy', linestyle='--')\n",
    "    plt.xlim([0.0, 1.0])\n",
    "    plt.ylim([0.0, 1.05])\n",
    "    plt.xlabel('False Positive Rate')\n",
    "    plt.ylabel('True Positive Rate')\n",
    "    plt.legend(loc=\"lower right\")\n",
    "    if(saveplt):\n",
    "        plt.savefig('../results/' + datetime.now().strftime('%Y%m%d_%H%M%S') + '_ROC'+ comment)\n",
    "    plt.show()\n",
    "    \n",
    "def plot_precision_recall_curve(Y_test, Y_predicted, saveplt=False, comment=''):\n",
    "    plt.figure()\n",
    "    precision, recall, _ = precision_recall_curve(Y_test, Y_predicted)\n",
    "    plt.plot(recall, precision)\n",
    "    plt.xlim([0.0, 1.0])\n",
    "    plt.ylim([0.0, 1.05])\n",
    "    plt.xlabel('Recall')\n",
    "    plt.ylabel('Precision')\n",
    "    if(saveplt):\n",
    "        plt.savefig('../results/' + datetime.now().strftime('%Y%m%d_%H%M%S') + '_Precision_Recall' + comment)\n",
    "    plt.show()\n",
    "        \n",
    "# plot_roc_curve(fpr, tpr)\n",
    "# plot_precision_recall_curve(Y_test_c, Y_predicted_c)\n",
    "plot_roc_curve(fpr, tpr, True, '_m3_r1_lstm20_e60_all_not_entry_record') # method/random seed/model/unit/epoch\n",
    "plot_precision_recall_curve(Y_test_c, Y_predicted_c, True, '_m3_r1_lstm20_e60_all_not_entry_record')"
   ]
  },
  {
   "cell_type": "code",
   "execution_count": null,
   "metadata": {},
   "outputs": [],
   "source": []
  }
 ],
 "metadata": {
  "kernelspec": {
   "display_name": "Python 2",
   "language": "python",
   "name": "python2"
  },
  "language_info": {
   "codemirror_mode": {
    "name": "ipython",
    "version": 2
   },
   "file_extension": ".py",
   "mimetype": "text/x-python",
   "name": "python",
   "nbconvert_exporter": "python",
   "pygments_lexer": "ipython2",
   "version": "2.7.15"
  }
 },
 "nbformat": 4,
 "nbformat_minor": 2
}
