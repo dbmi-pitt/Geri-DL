{
 "cells": [
  {
   "cell_type": "code",
   "execution_count": 1,
   "metadata": {},
   "outputs": [
    {
     "name": "stdout",
     "output_type": "stream",
     "text": [
      "python version:  3.7.3 (default, Mar 27 2019, 22:11:17) \n",
      "[GCC 7.3.0]\n",
      "pandas version:  0.24.2\n",
      "numpy version:  1.16.4\n",
      "scipy version:  1.3.0\n",
      "sklearn version:  0.21.2\n"
     ]
    },
    {
     "name": "stderr",
     "output_type": "stream",
     "text": [
      "Using TensorFlow backend.\n"
     ]
    },
    {
     "name": "stdout",
     "output_type": "stream",
     "text": [
      "keras version:  2.2.4\n",
      "keras backend:  tensorflow\n",
      "tensorflow version:  1.14.0\n"
     ]
    }
   ],
   "source": [
    "import sys\n",
    "print(\"python version: \", sys.version)\n",
    "\n",
    "import pandas as pd\n",
    "print(\"pandas version: \", pd.__version__)\n",
    "\n",
    "import numpy as np\n",
    "print('numpy version: ', np.__version__)\n",
    "\n",
    "import scipy as sp\n",
    "print('scipy version: ', sp.__version__)\n",
    "\n",
    "import sklearn as skl\n",
    "print('sklearn version: ', skl.__version__)\n",
    "\n",
    "import matplotlib.pyplot as plt\n",
    "\n",
    "import os\n",
    "os.environ[\"CUDA_DEVICE_ORDER\"] = \"PCI_BUS_ID\"\n",
    "os.environ[\"CUDA_VISIBLE_DEVICES\"] = \"\"\n",
    "\n",
    "import keras as ks\n",
    "print('keras version: ', ks.__version__)\n",
    "print('keras backend: ', ks.backend.backend())\n",
    "\n",
    "import tensorflow as tf\n",
    "print('tensorflow version: ', tf.__version__)\n",
    "\n",
    "import warnings\n",
    "warnings.filterwarnings('ignore')\n",
    "\n",
    "from keras import backend as K\n",
    "from sklearn.metrics import confusion_matrix, precision_score, recall_score\n",
    "from sklearn.metrics import roc_curve, auc, f1_score, accuracy_score, precision_recall_curve\n",
    "\n",
    "import random"
   ]
  },
  {
   "cell_type": "code",
   "execution_count": 2,
   "metadata": {},
   "outputs": [],
   "source": [
    "def set_keras_backend(backend):\n",
    "    if K.backend() != backend:\n",
    "        os.environ['KERAS_BACKEND'] = backend\n",
    "        reload(K)\n",
    "        assert K.backend() == backend\n",
    "\n",
    "set_keras_backend(\"tensorflow\")"
   ]
  },
  {
   "cell_type": "code",
   "execution_count": 3,
   "metadata": {},
   "outputs": [
    {
     "name": "stdout",
     "output_type": "stream",
     "text": [
      "(7584, 208)\n"
     ]
    }
   ],
   "source": [
    "excel_file = r'geriomop-data-from-egems-paper-UPDATED-COL-FIX-ATC_2-and-behavior-change-022819.tsv'\n",
    "df = pd.DataFrame(pd.read_csv(excel_file, sep='\\t'))\n",
    "print(df.shape)"
   ]
  },
  {
   "cell_type": "code",
   "execution_count": 4,
   "metadata": {},
   "outputs": [],
   "source": [
    "# Get atc codes\n",
    "atc_list = []\n",
    "for i in range(1, 6):\n",
    "    atc_list.append(df.groupby('atc_%d' % i)['min_effective_dose_%d' % i].first())\n",
    "atc_codes = pd.concat(atc_list)\n",
    "atc_codes = atc_codes[~atc_codes.index.duplicated()].index.tolist()\n",
    "\n",
    "# Set sdd=0 to NA\n",
    "for i in range(1, 6):\n",
    "    df.loc[df['psych_sdd_%d' % i] == 0, 'psych_sdd_%d' % i] = np.nan"
   ]
  },
  {
   "cell_type": "markdown",
   "metadata": {},
   "source": [
    "# Missing value means not relevant\n",
    "### One Hot Encoding (All zero stands for NA)\n",
    "* \"Mds-fall-2-6-months-to-admission\", \"Mds-fall-last-month-to-admission\", \"mds-pain-last-five-days\" (Y/N/U/NA)\n",
    "* \"recent-start-other-fall-risk-rx\" (Y/N/NA)\n",
    "\n",
    "### Label Encoding & Sin, Cos Transform (NA: (0, 0))\n",
    "* \"mds-cognitive-scale\": \n",
    "  - 'Independent': 0, \n",
    "  - 'Modified Independence': 1, \n",
    "  - 'Moderately Impaired': 2, \n",
    "  - 'Severely Impaired': 3\n",
    "* \"mds-pain-freq-last-five-days\": \n",
    "  - 'Continuous': 4, \n",
    "  - 'Frequent': 3, \n",
    "  - 'Occasional': 2, \n",
    "  - 'Rare': 1, \n",
    "  - 'Unable to respond': 0,\n",
    "* \"mds-pain-intensity\": \n",
    "  - 'None': 0, \n",
    "  - 'Mild': 1, \n",
    "  - 'Moderate': 2, \n",
    "  - 'Severe': 3, \n",
    "  - 'Very severe, horrible': 4\n",
    "* \"Psychotropic-X\": Number\n",
    "* (Added) \"Psychotropic-X-Period\": Number\n",
    "\n",
    "\n",
    "# Drop features\n",
    "\n",
    "* ~~\"Unnamed: 51\"~~, \n",
    "* ~~\"pk-interaction\", \"pk-interaction-type\"~~ \n",
    "* ~~\"object-drug-1\", \"object-drug-1-dose\", \"object-drug-1-effective-dose-increase\", \"object-drug-1-effective-dose\", \"interaction-1-stop-date\"~~, \n",
    "* ~~\"object-drug-2\", \"object-drug-2-dose\", \"object-drug-2-effective-dose-increase\", \"object-drug-2-effective-dose\", \"interaction-2-stop-date\"~~\n",
    "* \"ws-sudden-stop\", \"ws-sudden-stop-drugs\", \"ws-prolonged-psychotropics\", \"mds-toilet-prgm-atmptd\"\n",
    "* \"Blank-1\", \"Deleted-X\" (X from 1 to 12), \"Psychotropic-X-average-daily-dose\", \"Psychotropic-X-Start/End-date\"\n",
    "* \"Entry-discharge-type\"\n",
    "\n",
    "* \"acute_mental_change\", \"aphasia\", \"balance_toileting\", \"balance_turning_around\", \"bipolar\", \"bph\", \n",
    "* \"cam_motor_retardation\", \"cerebralpalsy\", \"cirrhosis\", \"cms-long-stay\", \"comatose\", \"conduct_pain_assmnt\", \n",
    "* \"dysrhythmias\", \"embolisms\", \"facility\", \"hemiplegia/hemiparesis\", \"hepatitis\", \"huntingtons\", \"hyperkalemia\", \n",
    "* \"hypertension\", \"hyperthyroidism\", \"hyponatremia\", \"hypotension\", \"hypothyroidism\", \n",
    "* \"limb_prosthesis_past_7_days\", \"marital-status\", \"mds-conduct-staff-assessment-mental-status\", \"mds-dehydrated\",\n",
    "* \"mds-delirium-scale\", \"mds-excess-weight-loss\", \"mds-long-term-memory-ok\", \n",
    "* \"mds-pressure-ulcer-stage-1\", \"mds-pressure-ulcer-stage-2\", \"mds-pressure-ulcer-stage-3\", \"mds-pressure-ulcer-stage-4\", \n",
    "* \"mds-short-term-memory-ok\", \"mds-staff-assess-pain\", \"multiple-sclerosis\", \"neurogenic-bladder\", \n",
    "* \"obstructive-uropathy\", \"paraplegia\", \"pneumonia\", \"ptsd\", \"pvd\", \"quadriplegia\", \n",
    "* \"renal-failure\", \"schizophrenia\", \"septicemia\", \"stroke\", \"tourettes\", \"traumatic-brain-injury\", \n",
    "* \"tuberculosis\", \"wound\", \"ws-antibiotic-anticoag-coexposure\", \"ws-diuretic-adl\", \"ws-meclizine-psych-coexposure\", \n",
    "* \"ws-meclizine-psych-coexposure\", \"ws-meclizine-psych-coexposure\", \"ws-meclizine-psych-coexposure\", \n",
    "* \"ws-meclizine-psych-coexposure\", \"ws-psychotropic-with-not-ordered-weight-loss\", \"ws-tramadol-antidepressant-coexposure\""
   ]
  },
  {
   "cell_type": "markdown",
   "metadata": {},
   "source": [
    "# Encode features (originally) with no missing values\n",
    "\n",
    "### Date-related Transform\n",
    "\n",
    "* episodePeriod = episode-end-date - episode-start-date\n",
    "* stayPeriod = stay-end-date - stay-start-date\n",
    "\n",
    "### Drop Date-related Features\n",
    "\n",
    "* \"episode-start-date\", \"episode-end-date\", \"stay-start-date\", \"stay-end-date\", \"predictor-date\", \"projected-date\"\n",
    "\n",
    "### Binary Encoding (Y/N)\n",
    "\n",
    "* \"mds-stay-trans-short-to-long\",\n",
    "* \"mds-antianxiety-medication\", \"mds-antidepressant-medication\", \"mds-antipsychotic-medication\", \"mds-antibiotic-medication\",\n",
    "* \"mds-anticoagulant-medication\", \"mds-diuretic-medication\", \"mds-hypnotic-medication\",\n",
    "* \"mds-behavioral-symptoms\", \"mds-behavioral-symptoms-to-others\", \"mds-depression\", \"mds-fever\",\n",
    "* \"mds-impaired-mobility\", \"mds-impaired-transfer\", \"mds-internal-bleeding\", \"mds-malnutrition\", \"mds-no-problem-conditions\",\n",
    "* \"mds-vomiting\", \"mds-impaired-walk-in-room\", \"mds-impaired-walk-in-corridor\", \"mds-impaired-locomot-unit\", \"mds-impaired-locomot-other\",\n",
    "\n",
    "### One Hot Encoding\n",
    "\n",
    "* \"race\", \"gender\", \"mds-bims-summary-ranking\"\n",
    "\n",
    "### Drop Feature\n",
    "* \"PPS-assessment\", \"Federal-assessment\"\n",
    "\n",
    "### Mapping\n",
    "\n",
    "* mds-pain-non-verbal {'None/Mild':0,'Moderate/Severe':1}"
   ]
  },
  {
   "cell_type": "markdown",
   "metadata": {},
   "source": [
    "# Features need imputation\n",
    "### One Hot Encoding\n",
    "\n",
    "1. Binary categories (Yes/No/NA)\n",
    "   * \"uti\", \"mdro\", \"anemia\", \"constipation\", \n",
    "   * \"alzheimers\", \"anxiety\", \"depression\", \"non-alz-dimentia\", \n",
    "   * \"parkinsons\", \"psychosis\", \"seizure\", \"emphysema\", \n",
    "   * \"arthritis\", \"ashd\", \"cancer\", \n",
    "   * \"diabetes\",\"gerd\", \"heart-failure\",\n",
    "   * \"hyperlipidemia\",\n",
    "   * \"osteoporosis\", \"thyroid-disorder\", \n",
    "   * \"transient-ischemic-attack\",\n",
    "\n",
    "   * \"mds-pain-medication\", \"mds-received-pain-tx-non-pharm\", \"mds-received-prn-pain-medication\",\n",
    "   * \"mds-pressure-ulcer-prsnt\", \"conduct_bims\",\n",
    "   * \"cane_or_crutch_past_7_days\", \"walker_past_7_days\", \"wheelchair_past_7_days\", \n",
    "   * \"no_listed_mobility_device\", \n",
    "\n",
    "\n",
    "2. Other categories\n",
    "\n",
    "   * \"mds-entered-from\": \n",
    "     - \"Acute Hospital\", \"Psychiatric Hospital\", \"Another nursing home or swing bed\", \"Hospice\", \"Inpatient rehabilitation facility\"\n",
    "     - \"Community (private home/apt., board/care, assisted living, group home)\",  \"Other\", \n",
    "\n",
    "   * \"balance_while_standing\", \"balance_while_walking\", \"balance_bed_to_chair\"\n",
    "     - \"Steady at all times\", \"able to stabilize without assistance\", \"able to stabilize with assistance\", \"Activity did not occur\"\n",
    "    \n",
    "### Label Encoding\n",
    "* \"mds-urinary-incontinence\"\n",
    "  - \"Always continent\": 0, \n",
    "  - \"Occasionally incontinent\": 1,\n",
    "  - \"Frequently incontinent\": 2,\n",
    "  - \"Always incontinent\": 3,\n",
    "  - \"Catheter - not rated\": (0, 0)\n",
    "\n",
    "\n",
    "* \"cam_inattention\",\n",
    "* \"cam_disorganized_thought\",\n",
    "* \"cam_altered_conc\",\n",
    "  - \"Behavior not present\": 0,\n",
    "  - \"Behavior present, fluctuates\": 1, \n",
    "  - \"Behavior continuously present\": 2, \n",
    "\n",
    "   \n",
    "* \"functlimit_rom_upper\", \n",
    "* \"functlimit_rom_lower\"\n",
    "   - \"No impairment\": 0, \n",
    "   - \"Impairment on one side\": 1, \n",
    "   - \"Impairment on both sides\": 2 \n",
    "\n",
    "\n",
    "* \"does_resident_wander\"\n",
    "   - \"Behavior not exhibited\": 0, \n",
    "   - \"1 to 3 days\": 1, \n",
    "   - \"4 to 6 days\": 2, \n",
    "   - \"occurred daily\": 3,"
   ]
  },
  {
   "cell_type": "markdown",
   "metadata": {},
   "source": [
    "# Features from new dataset\n",
    "* \"atc_X\" (X from 1 to 5) - one hot encoding\n",
    "* \"number_of_behavior_changes\" - keep\n",
    "* \"min_effective_dose_X\" - drop\n",
    "* \"psych_sdd_X\" - sin/cos transform"
   ]
  },
  {
   "cell_type": "code",
   "execution_count": 5,
   "metadata": {},
   "outputs": [],
   "source": [
    "# drop feature\n",
    "def drop_features(df, f):\n",
    "    df.drop(f, axis=1, inplace=True)"
   ]
  },
  {
   "cell_type": "code",
   "execution_count": 6,
   "metadata": {},
   "outputs": [],
   "source": [
    "# one hot encoding\n",
    "def one_hot_encoding(df, features, categories):\n",
    "    for f, c in zip(features, categories):\n",
    "        df[f] = df[f].astype('category', categories=c)\n",
    "    return pd.get_dummies(df, columns=features, prefix=features)"
   ]
  },
  {
   "cell_type": "code",
   "execution_count": 7,
   "metadata": {},
   "outputs": [],
   "source": [
    "# compute date difference\n",
    "def date_diff(start, end):\n",
    "    return (pd.to_datetime(end) - pd.to_datetime(start)) / np.timedelta64(1, 'D')"
   ]
  },
  {
   "cell_type": "code",
   "execution_count": 8,
   "metadata": {},
   "outputs": [],
   "source": [
    "# generate date diff features\n",
    "def generate_period(df, f):\n",
    "    for start, end, period in f:\n",
    "        df[period] = date_diff(df[start], df[end])\n",
    "        df.drop([start, end], axis=1, inplace=True)"
   ]
  },
  {
   "cell_type": "code",
   "execution_count": 9,
   "metadata": {},
   "outputs": [],
   "source": [
    "# label encoding\n",
    "def label_encoding(df, features, dictionaries):\n",
    "    for f, dic in zip(features, dictionaries):\n",
    "        df[f] = df[f].map(dic)"
   ]
  },
  {
   "cell_type": "code",
   "execution_count": 10,
   "metadata": {},
   "outputs": [],
   "source": [
    "# sin&cos transform\n",
    "def col_transform(df, col, mmax, mmin, df_ref=None):\n",
    "    if(mmax <= mmin):\n",
    "        # for test set, if max&min not set, use training set value\n",
    "        if(df_ref is not None): \n",
    "            mmax = df_ref[col].max()\n",
    "            mmin = df_ref[col].max()\n",
    "        else:\n",
    "            mmax = df[col].max()\n",
    "            mmin = df[col].min()\n",
    "    angle = 0.25 * np.pi * (df[col] - mmin) / (mmax - mmin) + 0.125 * np.pi\n",
    "    return (np.cos(angle), np.sin(angle))\n",
    "\n",
    "def df_transform(df, f, df_ref=None):\n",
    "    for col, mmax, mmin in f:\n",
    "        df[col + '_x'], df[col + '_y'] = col_transform(df, col, mmax, mmin, df_ref)\n",
    "        df[col + '_x'].fillna(0, inplace=True)\n",
    "        df[col + '_y'].fillna(0, inplace=True)\n",
    "        df.drop(col, axis=1, inplace=True)"
   ]
  },
  {
   "cell_type": "code",
   "execution_count": 11,
   "metadata": {},
   "outputs": [],
   "source": [
    "# train test split\n",
    "from sklearn.model_selection import GroupShuffleSplit\n",
    "def train_test_split(df, target, groupby, radio, random_state):\n",
    "    train_idx, test_idx = next(GroupShuffleSplit(train_size=radio, test_size=1-radio, random_state=random_state).split(df, target, df[groupby]))\n",
    "    return df.iloc[train_idx], df.iloc[test_idx], target.iloc[train_idx], target.iloc[test_idx]"
   ]
  },
  {
   "cell_type": "code",
   "execution_count": 12,
   "metadata": {},
   "outputs": [],
   "source": [
    "# missing data describe\n",
    "def missing_summary(df):\n",
    "    missing_cnt = df.isna().sum()\n",
    "    missing_data = pd.concat([missing_cnt, missing_cnt/df.shape[0]], axis=1, keys=['count', 'percentage'])\n",
    "    return missing_data[missing_data['percentage'] != 0].sort_values(by='percentage', ascending=False)"
   ]
  },
  {
   "cell_type": "code",
   "execution_count": 13,
   "metadata": {},
   "outputs": [],
   "source": [
    "# Drop features\n",
    "f_drop = [\"Blank-1\", \"ws-sudden-stop\", \"ws-sudden-stop-drugs\", \"ws-prolonged-psychotropics\", \"mds-toilet-prgm-atmptd\"] + \\\n",
    "         ['Deleted-%d' % i for i in range(1, 13)] + ['Psychotropic-%d' % i for i in range(1, 6)] + \\\n",
    "         ['Psychotropic-%d-average-daily-dose' % i for i in range(1, 6)] + [\"Entry-discharge-type\"]\n",
    "\n",
    "f_drop += [\"acute_mental_change\", \"aphasia\", \"balance_toileting\", \"balance_turning_around\", \"bipolar\", \"bph\", \\\n",
    "           \"cam_motor_retardation\", \"cerebralpalsy\", \"cirrhosis\", \"cms-long-stay\", \"comatose\", \"conduct_pain_assmnt\",\\\n",
    "           \"dysrhythmias\", \"embolisms\", \"facility\", \"hemiplegia/hemiparesis\", \"hepatitis\", \"huntingtons\", \"hyperkalemia\",\\\n",
    "           \"hypertension\", \"hyperthyroidism\", \"hyponatremia\", \"hypotension\", \"hypothyroidism\", \\\n",
    "           \"limb_prosthesis_past_7_days\", \"marital-status\", \"mds-conduct-staff-assessment-mental-status\", \\\n",
    "           \"mds-dehydrated\", \"mds-delirium-scale\", \"mds-excess-weight-loss\", \"mds-long-term-memory-ok\", \\\n",
    "           \"mds-pressure-ulcer-stage-1\", \"mds-pressure-ulcer-stage-2\", \"mds-pressure-ulcer-stage-3\", \\\n",
    "           \"mds-pressure-ulcer-stage-4\", \"mds-short-term-memory-ok\", \"mds-staff-assess-pain\", \"multiple-sclerosis\", \\\n",
    "           \"neurogenic-bladder\", \"obstructive-uropathy\", \"paraplegia\", \"pneumonia\", \"ptsd\", \"pvd\", \"quadriplegia\", \\\n",
    "           \"renal-failure\", \"schizophrenia\", \"septicemia\", \"stroke\", \"tourettes\", \"traumatic-brain-injury\", \\\n",
    "           \"tuberculosis\", \"wound\", \"ws-antibiotic-anticoag-coexposure\", \"ws-diuretic-adl\", \\\n",
    "           \"ws-meclizine-psych-coexposure\", \"ws-meclizine-psych-coexposure\", \"ws-meclizine-psych-coexposure\",\\\n",
    "           \"ws-meclizine-psych-coexposure\", \"ws-meclizine-psych-coexposure\", \\\n",
    "           \"ws-psychotropic-with-not-ordered-weight-loss\", \"ws-tramadol-antidepressant-coexposure\"]\n",
    " \n",
    "# Missing value means not relevant\n",
    "f_one_hot = [\"Mds-fall-2-6-months-to-admission\", \"Mds-fall-last-month-to-admission\", \"mds-pain-last-five-days\", \\\n",
    "             \"recent-start-other-fall-risk-rx\"]\n",
    "cate_one_hot = [['Yes', 'No', 'Unable to answer']] * 3 + [['Yes', 'No']]\n",
    "\n",
    "f_period = [(\"Psychotropic-%d-Start-date\" % i, 'Psychotropic-%d-End-date' % i, 'Psychotropic-%d-Period' % i) for i in range(1, 6)]\n",
    "\n",
    "f_label = ['mds-cognitive-scale', 'mds-pain-freq-last-five-days', 'mds-pain-intensity']\n",
    "dic_label = [{'Independent': 0, 'Modified Independence': 1, 'Moderately Impaired': 2, 'Severely Impaired': 3}, \\\n",
    "             {'Continuous': 4, 'Frequent': 3, 'Occasional': 2, 'Rare': 1, 'Unable to respond': 0}, \\\n",
    "             {'None': 0, 'Mild': 1, 'Moderate': 2, 'Severe': 3, 'Very severe, horrible': 4}]\n",
    "\n",
    "f_transform = [('mds-cognitive-scale', 3, 0), ('mds-pain-freq-last-five-days', 4, 0), ('mds-pain-intensity', 4, 0)] + \\\n",
    "              [('Psychotropic-%d-Period' % i, 0, 0) for i in range(1, 6)]"
   ]
  },
  {
   "cell_type": "code",
   "execution_count": 14,
   "metadata": {},
   "outputs": [],
   "source": [
    "# Encode features (originally) with no missing values\n",
    "f_drop += [\"predictor-date\", \"projected-date\", \"PPS-assessment\", \"Federal-assessment\"]\n",
    "\n",
    "f_period += [('episode-start-date', 'episode-end-date', 'episode-period'),\\\n",
    "             ('stay-start-date', 'stay-end-date', 'stay-period')]\n",
    "\n",
    "f_label += [\"mds-stay-trans-short-to-long\", \"mds-antianxiety-medication\", \\\n",
    "            \"mds-antidepressant-medication\", \"mds-antipsychotic-medication\", \"mds-antibiotic-medication\",\n",
    "            \"mds-anticoagulant-medication\", \"mds-diuretic-medication\", \\\n",
    "            \"mds-hypnotic-medication\", \"mds-behavioral-symptoms\", \"mds-behavioral-symptoms-to-others\", \\\n",
    "            \"mds-depression\", \"mds-fever\", \"mds-impaired-mobility\", \"mds-impaired-transfer\", \\\n",
    "            \"mds-internal-bleeding\", \"mds-malnutrition\", \"mds-no-problem-conditions\", \"mds-vomiting\", \\\n",
    "            \"mds-impaired-walk-in-room\", \"mds-impaired-walk-in-corridor\", \"mds-impaired-locomot-unit\", \\\n",
    "            \"mds-impaired-locomot-other\"] + [\"mds-pain-non-verbal\"]\n",
    "dic_label += [{'Yes': 1, 'No': 0}] * 22 + [{'None/Mild':0,'Moderate/Severe':1}]\n",
    "\n",
    "f_one_hot += [\"race\", \"gender\", \"mds-bims-summary-ranking\"]\n",
    "cate_one_hot += [['White', 'Black', 'Other'], \\\n",
    "                 ['Female', 'Male'], ['Intact or Moderately Intact', 'Moderate Impairment']]"
   ]
  },
  {
   "cell_type": "code",
   "execution_count": 15,
   "metadata": {},
   "outputs": [],
   "source": [
    "# Features need imputation\n",
    "f_one_hot += [\"uti\", \"mdro\", \"anemia\", \"constipation\", \"alzheimers\", \"anxiety\", \"depression\", \"non-alz-dimentia\", \\\n",
    "              \"parkinsons\", \"psychosis\", \"seizure\", \"emphysema\", \"arthritis\", \"ashd\", \"cancer\", \"diabetes\", \"gerd\",\\\n",
    "              \"heart-failure\", \"osteoporosis\", \"thyroid-disorder\", \"transient-ischemic-attack\", \"mds-pain-medication\", \\\n",
    "              \"mds-received-pain-tx-non-pharm\", \"mds-received-prn-pain-medication\", \"mds-pressure-ulcer-prsnt\", \\\n",
    "              \"conduct_bims\", \"cane_or_crutch_past_7_days\", \"walker_past_7_days\", \"wheelchair_past_7_days\", \\\n",
    "              \"no_listed_mobility_device\", \"hyperlipidemia\"] + \\\n",
    "              [\"balance_while_standing\", \"balance_while_walking\", \"balance_bed_to_chair\"] + [\"mds-entered-from\"]\n",
    "cate_one_hot += [['Yes', 'No']] * 31 + \\\n",
    "                [[\"Steady at all times\", \"able to stabilize without assistance\", \\\n",
    "                  \"able to stabilize with assistance\", \"Activity did not occur\"]] * 3 + \\\n",
    "                [[\"Acute Hospital\", \"Psychiatric Hospital\", \"Another nursing home or swing bed\", \"Hospice\", \\\n",
    "                  \"Inpatient rehabilitation facility\",\n",
    "                  \"Community (private home/apt., board/care, assisted living, group home)\", \"Other\"]]\n",
    "\n",
    "f_label += [\"mds-urinary-incontinence\", \"functlimit_rom_upper\", \"functlimit_rom_lower\", \"does_resident_wander\"] + \\\n",
    "           [\"cam_inattention\", \"cam_disorganized_thought\", \"cam_altered_conc\"]\n",
    "dic_label += [{\"Always continent\": 0, \"Occasionally incontinent\": 1, \"Frequently incontinent\": 2,\\\n",
    "               \"Always incontinent\": 3, \"Catheter - not rated\": np.nan}] + \\\n",
    "             [{\"No impairment\": 0, \"Impairment on one side\": 1, \"Impairment on both sides\": 2}] * 2 + \\\n",
    "             [{\"Behavior not exhibited\": 0, \"1 to 3 days\": 1, \"4 to 6 days\": 2, \"occurred daily\": 3}] + \\\n",
    "             [{\"Behavior not present\": 0, \"Behavior present, fluctuates\": 1, \"Behavior continuously present\": 2}] * 3\n",
    "\n",
    "f_transform += [(\"mds-urinary-incontinence\", 3, 0), (\"cam_inattention\", 2, 0), (\"cam_disorganized_thought\", 2, 0), \\\n",
    "                (\"cam_altered_conc\", 2, 0), (\"functlimit_rom_upper\", 2, 0), \\\n",
    "                (\"functlimit_rom_lower\", 2, 0), (\"does_resident_wander\", 3, 0)]"
   ]
  },
  {
   "cell_type": "code",
   "execution_count": 16,
   "metadata": {},
   "outputs": [],
   "source": [
    "# Features from new dataset\n",
    "f_drop += [\"min_effective_dose_%d\" % i for i in range(1, 6)]\n",
    "\n",
    "f_one_hot += [\"atc_%d\" % i for i in range(1, 6)]\n",
    "cate_one_hot += [atc_codes] * 5\n",
    "\n",
    "f_transform += [('psych_sdd_%d' % i, 0, 0) for i in range(1, 6)]"
   ]
  },
  {
   "cell_type": "code",
   "execution_count": 17,
   "metadata": {},
   "outputs": [],
   "source": [
    "# generate target\n",
    "target = df['outcome-Mds-fall-since-prior-assessment'].map({'None': 0, 'Yes': 1})\n",
    "dff = df.drop(['outcome-mds-fall-no-injury', 'outcome-mds-fall-minor-injury', 'outcome-mds-fall-major-injury', \\\n",
    "               'outcome-Mds-fall-since-prior-assessment', 'outcome-riskmaster-fall-incident'], axis=1)"
   ]
  },
  {
   "cell_type": "code",
   "execution_count": 18,
   "metadata": {},
   "outputs": [
    {
     "name": "stdout",
     "output_type": "stream",
     "text": [
      "Total number of patients: 3133\n",
      "Number of patients in training set: 2193\n"
     ]
    }
   ],
   "source": [
    "X_train, X_test, y_train, y_test = train_test_split(dff, target, 'patient-id', 0.7, 0)\n",
    "print('Total number of patients: %d' % len(df.groupby('patient-id')))\n",
    "print('Number of patients in training set: %d' % len(X_train.groupby('patient-id')))"
   ]
  },
  {
   "cell_type": "code",
   "execution_count": 19,
   "metadata": {
    "scrolled": true
   },
   "outputs": [
    {
     "name": "stdout",
     "output_type": "stream",
     "text": [
      "CPU times: user 1min 21s, sys: 1.6 s, total: 1min 23s\n",
      "Wall time: 21.7 s\n"
     ]
    }
   ],
   "source": [
    "%%time\n",
    "generate_period(X_train, f_period)\n",
    "label_encoding(X_train, f_label, dic_label)\n",
    "X_train_original = X_train.copy() # store value range\n",
    "df_transform(X_train, f_transform)\n",
    "X_train = one_hot_encoding(X_train, f_one_hot, cate_one_hot)\n",
    "drop_features(X_train, f_drop)"
   ]
  },
  {
   "cell_type": "code",
   "execution_count": 20,
   "metadata": {},
   "outputs": [],
   "source": [
    "X_train_use = X_train.copy()"
   ]
  },
  {
   "cell_type": "code",
   "execution_count": 21,
   "metadata": {},
   "outputs": [
    {
     "name": "stdout",
     "output_type": "stream",
     "text": [
      "Index([], dtype='object')\n"
     ]
    }
   ],
   "source": [
    "print(X_train.dtypes[X_train.dtypes == 'object'].index)"
   ]
  },
  {
   "cell_type": "code",
   "execution_count": 22,
   "metadata": {},
   "outputs": [
    {
     "data": {
      "text/html": [
       "<div>\n",
       "<style scoped>\n",
       "    .dataframe tbody tr th:only-of-type {\n",
       "        vertical-align: middle;\n",
       "    }\n",
       "\n",
       "    .dataframe tbody tr th {\n",
       "        vertical-align: top;\n",
       "    }\n",
       "\n",
       "    .dataframe thead th {\n",
       "        text-align: right;\n",
       "    }\n",
       "</style>\n",
       "<table border=\"1\" class=\"dataframe\">\n",
       "  <thead>\n",
       "    <tr style=\"text-align: right;\">\n",
       "      <th></th>\n",
       "      <th>count</th>\n",
       "      <th>percentage</th>\n",
       "    </tr>\n",
       "  </thead>\n",
       "  <tbody>\n",
       "  </tbody>\n",
       "</table>\n",
       "</div>"
      ],
      "text/plain": [
       "Empty DataFrame\n",
       "Columns: [count, percentage]\n",
       "Index: []"
      ]
     },
     "execution_count": 22,
     "metadata": {},
     "output_type": "execute_result"
    }
   ],
   "source": [
    "missing_summary(X_train_use)"
   ]
  },
  {
   "cell_type": "code",
   "execution_count": 23,
   "metadata": {},
   "outputs": [
    {
     "name": "stdout",
     "output_type": "stream",
     "text": [
      "CPU times: user 17.8 s, sys: 31.9 ms, total: 17.8 s\n",
      "Wall time: 17.8 s\n"
     ]
    }
   ],
   "source": [
    "%%time\n",
    "generate_period(X_test, f_period)\n",
    "label_encoding(X_test, f_label, dic_label)\n",
    "df_transform(X_test, f_transform, X_train_original)\n",
    "X_test = one_hot_encoding(X_test, f_one_hot, cate_one_hot)\n",
    "drop_features(X_test, f_drop)"
   ]
  },
  {
   "cell_type": "code",
   "execution_count": 24,
   "metadata": {},
   "outputs": [],
   "source": [
    "X_test_use = X_test.copy()"
   ]
  },
  {
   "cell_type": "code",
   "execution_count": 25,
   "metadata": {},
   "outputs": [
    {
     "name": "stdout",
     "output_type": "stream",
     "text": [
      "Index([], dtype='object')\n"
     ]
    }
   ],
   "source": [
    "print(X_train.dtypes[X_train.dtypes == 'object'].index)"
   ]
  },
  {
   "cell_type": "code",
   "execution_count": 26,
   "metadata": {},
   "outputs": [
    {
     "data": {
      "text/html": [
       "<div>\n",
       "<style scoped>\n",
       "    .dataframe tbody tr th:only-of-type {\n",
       "        vertical-align: middle;\n",
       "    }\n",
       "\n",
       "    .dataframe tbody tr th {\n",
       "        vertical-align: top;\n",
       "    }\n",
       "\n",
       "    .dataframe thead th {\n",
       "        text-align: right;\n",
       "    }\n",
       "</style>\n",
       "<table border=\"1\" class=\"dataframe\">\n",
       "  <thead>\n",
       "    <tr style=\"text-align: right;\">\n",
       "      <th></th>\n",
       "      <th>count</th>\n",
       "      <th>percentage</th>\n",
       "    </tr>\n",
       "  </thead>\n",
       "  <tbody>\n",
       "  </tbody>\n",
       "</table>\n",
       "</div>"
      ],
      "text/plain": [
       "Empty DataFrame\n",
       "Columns: [count, percentage]\n",
       "Index: []"
      ]
     },
     "execution_count": 26,
     "metadata": {},
     "output_type": "execute_result"
    }
   ],
   "source": [
    "missing_summary(X_train_use)"
   ]
  },
  {
   "cell_type": "code",
   "execution_count": 27,
   "metadata": {},
   "outputs": [
    {
     "data": {
      "text/plain": [
       "(5301, 398)"
      ]
     },
     "execution_count": 27,
     "metadata": {},
     "output_type": "execute_result"
    }
   ],
   "source": [
    "X_train_use.shape"
   ]
  },
  {
   "cell_type": "code",
   "execution_count": 28,
   "metadata": {},
   "outputs": [
    {
     "data": {
      "text/plain": [
       "(2283, 398)"
      ]
     },
     "execution_count": 28,
     "metadata": {},
     "output_type": "execute_result"
    }
   ],
   "source": [
    "X_test_use.shape"
   ]
  },
  {
   "cell_type": "markdown",
   "metadata": {},
   "source": [
    "### RNN"
   ]
  },
  {
   "cell_type": "code",
   "execution_count": 29,
   "metadata": {},
   "outputs": [],
   "source": [
    "from sklearn.preprocessing import MinMaxScaler\n",
    "from keras.models import Sequential\n",
    "from keras.layers import LSTM, GRU, Dense, Dropout\n",
    "from numpy.random import seed\n",
    "from tensorflow import set_random_seed"
   ]
  },
  {
   "cell_type": "code",
   "execution_count": 30,
   "metadata": {},
   "outputs": [],
   "source": [
    "def scaler_transform(X_train_use, X_test_use):    \n",
    "    scaler = MinMaxScaler(feature_range=(0, 1)).fit(X_train_use.drop('patient-id', axis=1))\n",
    "    X_train_transformed = pd.DataFrame(scaler.transform(X_train_use.drop('patient-id', axis=1)), \\\n",
    "                                       columns=X_train_use.columns[1:], index=X_train_use.index)                                   \n",
    "    X_train_transformed['patient-id'] = X_train_use['patient-id']\n",
    "    X_test_transformed = pd.DataFrame(scaler.transform(X_test_use.drop('patient-id', axis=1)), \\\n",
    "                                       columns=X_test_use.columns[1:], index=X_test_use.index) \n",
    "    X_test_transformed['patient-id'] = X_test_use['patient-id']\n",
    "    return X_train_transformed, X_test_transformed"
   ]
  },
  {
   "cell_type": "code",
   "execution_count": 31,
   "metadata": {},
   "outputs": [],
   "source": [
    "def generate_nested_list(X, Y):\n",
    "    X = X.copy()\n",
    "    Y = Y.copy()\n",
    "    x_list, y_list = [], [] \n",
    "    x1, x2 = [], []\n",
    "    pids = X['patient-id'].unique()\n",
    "    for pid in pids:\n",
    "        df = Y[X[X['patient-id']==pid].index]\n",
    "        if(df.shape[0] == 1):\n",
    "            x1.append(pd.Series([0]))\n",
    "            x2.append(pd.Series([0]))\n",
    "        else:\n",
    "            # input 1=(1, 0), 0=(0, 1), NA=(0, 0)\n",
    "            x1.append(pd.Series([0]))\n",
    "            x1.append(df[:-1])\n",
    "            x2.append(pd.Series([0]))\n",
    "            x2.append(df[:-1].map({0: 1, 1: 0}))\n",
    "    X['input_outcome_x'] = pd.Series(pd.concat(x1, ignore_index=True).tolist(), index=X.index)\n",
    "    X['input_outcome_y'] = pd.Series(pd.concat(x2, ignore_index=True).tolist(), index=X.index)\n",
    "    for pid in pids:\n",
    "        df = X[X['patient-id']==pid]\n",
    "        y_list.append(Y[df.index].values)\n",
    "        x_list.append([record for record in df.drop('patient-id', axis=1).values])\n",
    "    return x_list, y_list"
   ]
  },
  {
   "cell_type": "code",
   "execution_count": 32,
   "metadata": {},
   "outputs": [],
   "source": [
    "def mygenerator(x_list, y_list=None):\n",
    "    if(y_list is not None):\n",
    "        while True:\n",
    "            for x, y in zip(x_list, y_list):\n",
    "                yield np.array(x).reshape((len(x), 1, x[0].shape[0])), y\n",
    "    else:\n",
    "        while True:\n",
    "            for x in x_list:\n",
    "                yield np.array(x).reshape((len(x), 1, x[0].shape[0])) "
   ]
  },
  {
   "cell_type": "code",
   "execution_count": 33,
   "metadata": {},
   "outputs": [],
   "source": [
    "def fit_model(model, epoch, X_train, y_train, X_valid=None, y_valid=None, verbose=0):\n",
    "    if(verbose == 0):\n",
    "        model.fit_generator(mygenerator(X_train, y_train), steps_per_epoch=len(X_train), epochs=epoch, verbose=0)\n",
    "    else:\n",
    "        history = model.fit_generator(mygenerator(X_train, y_train), steps_per_epoch=len(X_train), \\\n",
    "                                      validation_data=mygenerator(X_valid, y_valid), validation_steps=len(X_valid), \\\n",
    "                                      epochs=epoch, verbose=verbose)\n",
    "        plot_history(history)\n",
    "    return history"
   ]
  },
  {
   "cell_type": "code",
   "execution_count": 34,
   "metadata": {},
   "outputs": [],
   "source": [
    "def plot_roc_curve(fpr, tpr):\n",
    "    plt.figure()\n",
    "    plt.plot(fpr, tpr, color='darkorange', label='ROC curve (area = %0.2f)' % auc(fpr, tpr))\n",
    "    plt.plot([0, 1], [0, 1], color='navy', linestyle='--')\n",
    "    plt.xlim([0.0, 1.0])\n",
    "    plt.ylim([0.0, 1.05])\n",
    "    plt.xlabel('False Positive Rate')\n",
    "    plt.ylabel('True Positive Rate')\n",
    "    plt.legend(loc=\"lower right\")\n",
    "    plt.show()"
   ]
  },
  {
   "cell_type": "code",
   "execution_count": 35,
   "metadata": {},
   "outputs": [],
   "source": [
    "def plot_history(history):\n",
    "    plt.figure()\n",
    "    plt.plot(history.history['loss'])\n",
    "    plt.plot(history.history['val_loss'])\n",
    "    plt.title('model loss')\n",
    "    plt.ylabel('loss')\n",
    "    plt.xlabel('epoch')\n",
    "    plt.legend(['train', 'test'], loc='upper right')\n",
    "    plt.show()"
   ]
  },
  {
   "cell_type": "code",
   "execution_count": 36,
   "metadata": {},
   "outputs": [],
   "source": [
    "from sklearn.model_selection import GroupKFold\n",
    "def kfold_validation(unit, ratio, epoch, X, y, groupby, k=5, verbose=0):\n",
    "    auroc_list = []\n",
    "    for train_idx, valid_idx in GroupKFold(n_splits=5).split(X, y, X[groupby]):\n",
    "        X_train, X_valid, y_train, y_valid = X.iloc[train_idx], X.iloc[valid_idx], y.iloc[train_idx], y.iloc[valid_idx]\n",
    "        X_train, y_train = generate_nested_list(X_train, y_train)\n",
    "        X_valid, y_valid = generate_nested_list(X_valid, y_valid)\n",
    "        seed(1)\n",
    "        set_random_seed(2)\n",
    "        model = build_model(unit, ratio, 1, X_train[0][0].shape[0])\n",
    "        if (verbose == 0):\n",
    "            fit_model(model, epoch, X_train, y_train)\n",
    "        else:\n",
    "            fit_model(model, epoch, X_train, y_train, X_valid, y_valid, verbose)\n",
    "        y_predict = model.predict_generator(mygenerator(X_valid), steps=len(X_valid))\n",
    "        y_predict = np.concatenate(y_predict)\n",
    "        y_true = np.concatenate(y_valid)\n",
    "        auroc_list.append(auroc(y_predict, y_true))\n",
    "    return auroc_list "
   ]
  },
  {
   "cell_type": "code",
   "execution_count": 37,
   "metadata": {},
   "outputs": [],
   "source": [
    "def auroc(y_predict, y_true, plot=False):\n",
    "    fpr, tpr, thresholds = roc_curve(y_true, y_predict, pos_label=1)    \n",
    "    if(plot):\n",
    "        plot_roc_curve(fpr, tpr)\n",
    "    return auc(fpr, tpr)"
   ]
  },
  {
   "cell_type": "code",
   "execution_count": 38,
   "metadata": {},
   "outputs": [],
   "source": [
    "def find_best_f1(y_predict, y_true):\n",
    "    fpr, tpr, thresholds = roc_curve(y_true, y_predict, pos_label=1) \n",
    "    max_f1, th = 0, 0\n",
    "    for threshold in thresholds:\n",
    "        f1 = f1_score(y_true, y_predict > threshold)\n",
    "        if(f1 > max_f1):\n",
    "            max_f1 = f1\n",
    "            th = threshold\n",
    "    return max_f1, th"
   ]
  },
  {
   "cell_type": "code",
   "execution_count": 39,
   "metadata": {},
   "outputs": [],
   "source": [
    "def other_metrics(y_predict, y_true, threshold):\n",
    "    y_threshold = y_predict > threshold\n",
    "    tn, fp, fn, tp = confusion_matrix(y_true, y_threshold).ravel()\n",
    "    return precision_score(y_true, y_threshold), recall_score(y_true, y_threshold),\\\n",
    "            accuracy_score(y_true, y_threshold), float(tn) / (tn + fp)"
   ]
  },
  {
   "cell_type": "code",
   "execution_count": 40,
   "metadata": {},
   "outputs": [],
   "source": [
    "X_train_transformed, X_test_transformed = scaler_transform(X_train_use, X_test_use)"
   ]
  },
  {
   "cell_type": "code",
   "execution_count": 41,
   "metadata": {},
   "outputs": [],
   "source": [
    "# %%time\n",
    "X_train_list, y_train_list = generate_nested_list(X_train_transformed, y_train)\n",
    "X_test_list, y_test_list = generate_nested_list(X_test_transformed, y_test)"
   ]
  },
  {
   "cell_type": "code",
   "execution_count": 42,
   "metadata": {},
   "outputs": [],
   "source": [
    "from keras import regularizers\n",
    "from keras.optimizers import Adagrad, Adadelta \n",
    "def build_model(cell_size, dropout_ratio, n_timesteps, n_dimensions):\n",
    "    model = Sequential()\n",
    "    model.add(LSTM(cell_size, input_shape=(n_timesteps, n_dimensions), recurrent_dropout=0.1, dropout=dropout_ratio))\n",
    "#     model.add(LSTM(cell_size, input_shape=(n_timesteps, n_dimensions), recurrent_dropout=0.4, recurrent_regularizer=regularizers.l2(dropout_ratio)))\n",
    "#     model.add(LSTM(cell_size, input_shape=(n_timesteps, n_dimensions)))\n",
    "#     model.add(GRU(cell_size, input_shape=(n_timesteps, n_dimensions), recurrent_dropout=dropout_ratio))\n",
    "#     model.add(Dropout(dropout_ratio))\n",
    "    model.add(Dense(1, activation='sigmoid'))\n",
    "#     model.compile(loss='binary_crossentropy', optimizer=Adagrad(lr=0.009), metrics=['binary_accuracy'])\n",
    "    model.compile(loss='binary_crossentropy', optimizer='adagrad', metrics=['binary_accuracy'])\n",
    "    return model"
   ]
  },
  {
   "cell_type": "code",
   "execution_count": 55,
   "metadata": {
    "scrolled": true
   },
   "outputs": [
    {
     "name": "stdout",
     "output_type": "stream",
     "text": [
      "Epoch 1/50\n",
      "2193/2193 [==============================] - 31s 14ms/step - loss: 0.3643 - binary_accuracy: 0.8743 - val_loss: 0.4649 - val_binary_accuracy: 0.8103\n",
      "Epoch 2/50\n",
      "2193/2193 [==============================] - 12s 5ms/step - loss: 0.3501 - binary_accuracy: 0.8748 - val_loss: 0.4611 - val_binary_accuracy: 0.8103\n",
      "Epoch 3/50\n",
      "2193/2193 [==============================] - 12s 6ms/step - loss: 0.3432 - binary_accuracy: 0.8749 - val_loss: 0.4592 - val_binary_accuracy: 0.8103\n",
      "Epoch 4/50\n",
      "2193/2193 [==============================] - 12s 6ms/step - loss: 0.3422 - binary_accuracy: 0.8750 - val_loss: 0.4568 - val_binary_accuracy: 0.8108\n",
      "Epoch 5/50\n",
      "2193/2193 [==============================] - 12s 6ms/step - loss: 0.3424 - binary_accuracy: 0.8757 - val_loss: 0.4586 - val_binary_accuracy: 0.8108\n",
      "Epoch 6/50\n",
      "2193/2193 [==============================] - 12s 6ms/step - loss: 0.3372 - binary_accuracy: 0.8759 - val_loss: 0.4577 - val_binary_accuracy: 0.8112\n",
      "Epoch 7/50\n",
      "2193/2193 [==============================] - 12s 6ms/step - loss: 0.3392 - binary_accuracy: 0.8764 - val_loss: 0.4576 - val_binary_accuracy: 0.8117\n",
      "Epoch 8/50\n",
      "2193/2193 [==============================] - 12s 6ms/step - loss: 0.3382 - binary_accuracy: 0.8756 - val_loss: 0.4572 - val_binary_accuracy: 0.8108\n",
      "Epoch 9/50\n",
      "2193/2193 [==============================] - 12s 6ms/step - loss: 0.3378 - binary_accuracy: 0.8761 - val_loss: 0.4565 - val_binary_accuracy: 0.8108\n",
      "Epoch 10/50\n",
      "2193/2193 [==============================] - 12s 6ms/step - loss: 0.3353 - binary_accuracy: 0.8758 - val_loss: 0.4560 - val_binary_accuracy: 0.8108\n",
      "Epoch 11/50\n",
      "2193/2193 [==============================] - 12s 6ms/step - loss: 0.3347 - binary_accuracy: 0.8750 - val_loss: 0.4577 - val_binary_accuracy: 0.8108\n",
      "Epoch 12/50\n",
      "2193/2193 [==============================] - 12s 6ms/step - loss: 0.3336 - binary_accuracy: 0.8761 - val_loss: 0.4573 - val_binary_accuracy: 0.8112\n",
      "Epoch 13/50\n",
      "2193/2193 [==============================] - 12s 6ms/step - loss: 0.3339 - binary_accuracy: 0.8761 - val_loss: 0.4567 - val_binary_accuracy: 0.8117\n",
      "Epoch 14/50\n",
      "2193/2193 [==============================] - 12s 6ms/step - loss: 0.3344 - binary_accuracy: 0.8757 - val_loss: 0.4571 - val_binary_accuracy: 0.8117\n",
      "Epoch 15/50\n",
      "2193/2193 [==============================] - 12s 6ms/step - loss: 0.3303 - binary_accuracy: 0.8756 - val_loss: 0.4570 - val_binary_accuracy: 0.8117\n",
      "Epoch 16/50\n",
      "2193/2193 [==============================] - 12s 6ms/step - loss: 0.3284 - binary_accuracy: 0.8787 - val_loss: 0.4577 - val_binary_accuracy: 0.8121\n",
      "Epoch 17/50\n",
      "2193/2193 [==============================] - 12s 5ms/step - loss: 0.3315 - binary_accuracy: 0.8775 - val_loss: 0.4577 - val_binary_accuracy: 0.8121\n",
      "Epoch 18/50\n",
      "2193/2193 [==============================] - 12s 6ms/step - loss: 0.3323 - binary_accuracy: 0.8755 - val_loss: 0.4558 - val_binary_accuracy: 0.8121\n",
      "Epoch 19/50\n",
      "2193/2193 [==============================] - 12s 6ms/step - loss: 0.3321 - binary_accuracy: 0.8759 - val_loss: 0.4555 - val_binary_accuracy: 0.8121\n",
      "Epoch 20/50\n",
      "2193/2193 [==============================] - 12s 6ms/step - loss: 0.3323 - binary_accuracy: 0.8768 - val_loss: 0.4568 - val_binary_accuracy: 0.8121\n",
      "Epoch 21/50\n",
      "2193/2193 [==============================] - 12s 5ms/step - loss: 0.3318 - binary_accuracy: 0.8754 - val_loss: 0.4564 - val_binary_accuracy: 0.8121\n",
      "Epoch 22/50\n",
      "2193/2193 [==============================] - 12s 6ms/step - loss: 0.3337 - binary_accuracy: 0.8774 - val_loss: 0.4565 - val_binary_accuracy: 0.8121\n",
      "Epoch 23/50\n",
      "2193/2193 [==============================] - 12s 5ms/step - loss: 0.3294 - binary_accuracy: 0.8790 - val_loss: 0.4557 - val_binary_accuracy: 0.8121\n",
      "Epoch 24/50\n",
      "2193/2193 [==============================] - 12s 6ms/step - loss: 0.3301 - binary_accuracy: 0.8783 - val_loss: 0.4563 - val_binary_accuracy: 0.8121\n",
      "Epoch 25/50\n",
      "2193/2193 [==============================] - 12s 6ms/step - loss: 0.3293 - binary_accuracy: 0.8780 - val_loss: 0.4560 - val_binary_accuracy: 0.8125\n",
      "Epoch 26/50\n",
      "2193/2193 [==============================] - 12s 6ms/step - loss: 0.3273 - binary_accuracy: 0.8772 - val_loss: 0.4564 - val_binary_accuracy: 0.8125\n",
      "Epoch 27/50\n",
      "2193/2193 [==============================] - 12s 6ms/step - loss: 0.3288 - binary_accuracy: 0.8755 - val_loss: 0.4554 - val_binary_accuracy: 0.8121\n",
      "Epoch 28/50\n",
      "2193/2193 [==============================] - 12s 6ms/step - loss: 0.3303 - binary_accuracy: 0.8760 - val_loss: 0.4548 - val_binary_accuracy: 0.8117\n",
      "Epoch 29/50\n",
      "2193/2193 [==============================] - 12s 6ms/step - loss: 0.3294 - binary_accuracy: 0.8778 - val_loss: 0.4559 - val_binary_accuracy: 0.8117\n",
      "Epoch 30/50\n",
      "2193/2193 [==============================] - 12s 6ms/step - loss: 0.3289 - binary_accuracy: 0.8774 - val_loss: 0.4555 - val_binary_accuracy: 0.8117\n",
      "Epoch 31/50\n",
      "2193/2193 [==============================] - 12s 6ms/step - loss: 0.3285 - binary_accuracy: 0.8766 - val_loss: 0.4555 - val_binary_accuracy: 0.8117\n",
      "Epoch 32/50\n",
      "2193/2193 [==============================] - 12s 6ms/step - loss: 0.3268 - binary_accuracy: 0.8752 - val_loss: 0.4546 - val_binary_accuracy: 0.8117\n",
      "Epoch 33/50\n",
      "2193/2193 [==============================] - 12s 6ms/step - loss: 0.3259 - binary_accuracy: 0.8786 - val_loss: 0.4563 - val_binary_accuracy: 0.8112\n",
      "Epoch 34/50\n",
      "2193/2193 [==============================] - 12s 6ms/step - loss: 0.3285 - binary_accuracy: 0.8769 - val_loss: 0.4564 - val_binary_accuracy: 0.8121\n",
      "Epoch 35/50\n",
      "2193/2193 [==============================] - 12s 6ms/step - loss: 0.3304 - binary_accuracy: 0.8769 - val_loss: 0.4558 - val_binary_accuracy: 0.8125\n",
      "Epoch 36/50\n",
      "2193/2193 [==============================] - 12s 6ms/step - loss: 0.3250 - binary_accuracy: 0.8766 - val_loss: 0.4558 - val_binary_accuracy: 0.8117\n",
      "Epoch 37/50\n",
      "2193/2193 [==============================] - 13s 6ms/step - loss: 0.3275 - binary_accuracy: 0.8781 - val_loss: 0.4561 - val_binary_accuracy: 0.8117\n",
      "Epoch 38/50\n",
      "2193/2193 [==============================] - 12s 6ms/step - loss: 0.3303 - binary_accuracy: 0.8770 - val_loss: 0.4560 - val_binary_accuracy: 0.8117\n",
      "Epoch 39/50\n",
      "2193/2193 [==============================] - 12s 6ms/step - loss: 0.3274 - binary_accuracy: 0.8780 - val_loss: 0.4561 - val_binary_accuracy: 0.8121\n",
      "Epoch 40/50\n",
      "2193/2193 [==============================] - 12s 6ms/step - loss: 0.3239 - binary_accuracy: 0.8774 - val_loss: 0.4559 - val_binary_accuracy: 0.8121\n",
      "Epoch 41/50\n",
      "2193/2193 [==============================] - 12s 6ms/step - loss: 0.3263 - binary_accuracy: 0.8796 - val_loss: 0.4555 - val_binary_accuracy: 0.8121\n",
      "Epoch 42/50\n",
      "2193/2193 [==============================] - 12s 6ms/step - loss: 0.3256 - binary_accuracy: 0.8766 - val_loss: 0.4543 - val_binary_accuracy: 0.8125\n",
      "Epoch 43/50\n",
      "2193/2193 [==============================] - 12s 6ms/step - loss: 0.3273 - binary_accuracy: 0.8773 - val_loss: 0.4558 - val_binary_accuracy: 0.8121\n",
      "Epoch 44/50\n",
      "2193/2193 [==============================] - 12s 6ms/step - loss: 0.3227 - binary_accuracy: 0.8775 - val_loss: 0.4564 - val_binary_accuracy: 0.8130\n",
      "Epoch 45/50\n",
      "2193/2193 [==============================] - 12s 5ms/step - loss: 0.3214 - binary_accuracy: 0.8781 - val_loss: 0.4566 - val_binary_accuracy: 0.8125\n",
      "Epoch 46/50\n",
      "2193/2193 [==============================] - 12s 6ms/step - loss: 0.3263 - binary_accuracy: 0.8778 - val_loss: 0.4569 - val_binary_accuracy: 0.8130\n",
      "Epoch 47/50\n",
      "2193/2193 [==============================] - 12s 5ms/step - loss: 0.3256 - binary_accuracy: 0.8782 - val_loss: 0.4554 - val_binary_accuracy: 0.8121\n",
      "Epoch 48/50\n",
      "2193/2193 [==============================] - 12s 6ms/step - loss: 0.3230 - binary_accuracy: 0.8781 - val_loss: 0.4560 - val_binary_accuracy: 0.8121\n",
      "Epoch 49/50\n",
      "2193/2193 [==============================] - 12s 6ms/step - loss: 0.3218 - binary_accuracy: 0.8793 - val_loss: 0.4556 - val_binary_accuracy: 0.8130\n",
      "Epoch 50/50\n",
      "2193/2193 [==============================] - 12s 6ms/step - loss: 0.3225 - binary_accuracy: 0.8771 - val_loss: 0.4554 - val_binary_accuracy: 0.8130\n"
     ]
    },
    {
     "data": {
      "image/png": "[encoded data removed]",
      "text/plain": [
       "<Figure size 432x288 with 1 Axes>"
      ]
     },
     "metadata": {
      "needs_background": "light"
     },
     "output_type": "display_data"
    },
    {
     "name": "stdout",
     "output_type": "stream",
     "text": [
      "avg auroc:  0.7006741152237688\n",
      "avg precision:  0.3442857142857143\n",
      "avg recall:  0.5565819861431871\n",
      "avg accuracy:  0.7148488830486203\n",
      "avg specificity:  0.7518918918918919\n",
      "avg f1:  0.42541924095322153\n",
      "auroc:  [0.7006741152237688]\n",
      "precision:  [0.3442857142857143]\n",
      "recall:  [0.5565819861431871]\n",
      "accuracy:  [0.7148488830486203]\n",
      "specificity:  [0.7518918918918919]\n",
      "f1:  [0.42541924095322153]\n",
      "threshold:  [0.17542362]\n",
      "CPU times: user 24min, sys: 3min 38s, total: 27min 38s\n",
      "Wall time: 10min 40s\n"
     ]
    }
   ],
   "source": [
    "%%time\n",
    "seed(1)\n",
    "set_random_seed(2)\n",
    "auroc_list = []\n",
    "precision_list = []\n",
    "recall_list = []\n",
    "accuracy_list = []\n",
    "specificity_list = []\n",
    "f1_list = []\n",
    "th_list = []\n",
    "for i in range(0,1):\n",
    "    model = build_model(24, 0.5, 1, X_train_list[0][0].shape[0])\n",
    "    history = fit_model(model, 50, X_train_list, y_train_list, X_test_list, y_test_list, verbose=1)\n",
    "    y_predict = model.predict_generator(mygenerator(X_test_list), steps=len(X_test_list))\n",
    "    y_predict = np.concatenate(y_predict)\n",
    "    y_true = np.concatenate(y_test_list)\n",
    "    auroc_list.append(auroc(y_predict, y_true))\n",
    "    f1, th = find_best_f1(y_predict, y_true)\n",
    "    f1_list.append(f1)\n",
    "    th_list.append(th)\n",
    "    precision, recall, accuracy, specificity = other_metrics(y_predict, y_true, th)\n",
    "    precision_list.append(precision)\n",
    "    recall_list.append(recall)\n",
    "    accuracy_list.append(accuracy)\n",
    "    specificity_list.append(specificity)\n",
    "print('avg auroc: ', np.mean(auroc_list))\n",
    "print('avg precision: ', np.mean(precision_list))\n",
    "print('avg recall: ', np.mean(recall_list))\n",
    "print('avg accuracy: ', np.mean(accuracy_list))\n",
    "print('avg specificity: ', np.mean(specificity_list))\n",
    "print('avg f1: ', np.mean(f1_list))\n",
    "print('auroc: ', auroc_list)\n",
    "print('precision: ', precision_list)\n",
    "print('recall: ', recall_list)\n",
    "print('accuracy: ', accuracy_list)\n",
    "print('specificity: ', specificity_list)\n",
    "print('f1: ', f1_list)\n",
    "print('threshold: ', th_list)"
   ]
  },
  {
   "cell_type": "code",
   "execution_count": 44,
   "metadata": {},
   "outputs": [],
   "source": [
    "# from sklearn.calibration import calibration_curve\n",
    "# # fraction_of_positives, mean_predicted_value = calibration_curve(y_true, y_predict, n_bins=10)\n",
    "# fraction_of_positives, mean_predicted_value = calibration_curve(y_true, y_predict, normalize=True, n_bins=10)\n",
    "# with open(\"exp_3_cal.csv\", \"w\") as writeFile:\n",
    "#     writer  = csv.writer(writeFile)\n",
    "#     writer.writerows([fraction_of_positives, mean_predicted_value])\n",
    "    \n",
    "# plt.figure()\n",
    "# plt.plot(mean_predicted_value, fraction_of_positives, 's-')\n",
    "# plt.plot([0, 1], [0, 1], '--', color='gray')\n",
    "# plt.show()"
   ]
  },
  {
   "cell_type": "code",
   "execution_count": 45,
   "metadata": {},
   "outputs": [],
   "source": [
    "# import csv \n",
    "# fpr, tpr, thresholds = roc_curve(y_true, y_predict, pos_label=1)\n",
    "# plot_roc_curve(fpr, tpr)\n",
    "# with open(\"exp_3.csv\", \"w\") as writeFile:\n",
    "#     writer  = csv.writer(writeFile)\n",
    "#     writer.writerows([fpr, tpr, [recall, 1-specificity]])"
   ]
  },
  {
   "cell_type": "code",
   "execution_count": 47,
   "metadata": {},
   "outputs": [
    {
     "name": "stdout",
     "output_type": "stream",
     "text": [
      "auroc:  0.7618582518927813\n",
      "precision:  0.3779628443305573\n",
      "recall:  0.6152241918665277\n",
      "accuracy:  0.7472175061309186\n",
      "specificity:  0.7763703362505757\n",
      "f1:  0.46825396825396826\n",
      "threshold:  0.20866337\n"
     ]
    }
   ],
   "source": [
    "# training set performance\n",
    "y_predict_t = model.predict_generator(mygenerator(X_train_list), steps=len(X_train_list))\n",
    "y_predict_t = np.concatenate(y_predict_t)\n",
    "y_true_t = np.concatenate(y_train_list)\n",
    "\n",
    "f1_t, th_t = find_best_f1(y_predict_t, y_true_t)\n",
    "precision_t, recall_t, accuracy_t, specificity_t = other_metrics(y_predict_t, y_true_t, th_t)\n",
    "\n",
    "print('auroc: ', auroc(y_predict_t, y_true_t))\n",
    "print('precision: ', precision_t)\n",
    "print('recall: ', recall_t)\n",
    "print('accuracy: ', accuracy_t)\n",
    "print('specificity: ', specificity_t)\n",
    "print('f1: ', f1_t);\n",
    "print('threshold: ', th_t)"
   ]
  },
  {
   "cell_type": "code",
   "execution_count": null,
   "metadata": {
    "scrolled": true
   },
   "outputs": [],
   "source": [
    "%%time\n",
    "seed(1)\n",
    "set_random_seed(2)\n",
    "auroc_list = []\n",
    "precision_list = []\n",
    "recall_list = []\n",
    "accuracy_list = []\n",
    "specificity_list = []\n",
    "f1_list = []\n",
    "th_list = []\n",
    "for i in range(0,5):\n",
    "    model = build_model(16, 0.5, 1, X_train_list[0][0].shape[0])\n",
    "    history = fit_model(model, 40, X_train_list, y_train_list, X_test_list, y_test_list, verbose=1)\n",
    "    y_predict = model.predict_generator(mygenerator(X_test_list), steps=len(X_test_list))\n",
    "    y_predict = np.concatenate(y_predict)\n",
    "    y_true = np.concatenate(y_test_list)\n",
    "    auroc_list.append(auroc(y_predict, y_true))\n",
    "    f1, th = find_best_f1(y_predict, y_true)\n",
    "    f1_list.append(f1)\n",
    "    th_list.append(th)\n",
    "    precision, recall, accuracy, specificity = other_metrics(y_predict, y_true, th)\n",
    "    precision_list.append(precision)\n",
    "    recall_list.append(recall)\n",
    "    accuracy_list.append(accuracy)\n",
    "    specificity_list.append(specificity)\n",
    "print('avg auroc: ', np.mean(auroc_list))\n",
    "print('avg precision: ', np.mean(precision_list))\n",
    "print('avg recall: ', np.mean(recall_list))\n",
    "print('avg accuracy: ', np.mean(accuracy_list))\n",
    "print('avg specificity: ', np.mean(specificity_list))\n",
    "print('avg f1: ', np.mean(f1_list))\n",
    "print('auroc: ', auroc_list)\n",
    "print('precision: ', precision_list)\n",
    "print('recall: ', recall_list)\n",
    "print('accuracy: ', accuracy_list)\n",
    "print('specificity: ', specificity_list)\n",
    "print('f1: ', f1_list)\n",
    "print('threshold: ', th_list)"
   ]
  },
  {
   "cell_type": "code",
   "execution_count": null,
   "metadata": {
    "scrolled": true
   },
   "outputs": [
    {
     "name": "stdout",
     "output_type": "stream",
     "text": [
      "Epoch 1/46\n",
      "1755/1755 [==============================] - 61s 35ms/step - loss: 0.3639 - binary_accuracy: 0.8746 - val_loss: 0.4343 - val_binary_accuracy: 0.8228\n",
      "Epoch 2/46\n",
      "1755/1755 [==============================] - 12s 7ms/step - loss: 0.3473 - binary_accuracy: 0.8751 - val_loss: 0.4279 - val_binary_accuracy: 0.8228\n",
      "Epoch 3/46\n",
      " 851/1755 [=============>................] - ETA: 5s - loss: 0.3474 - binary_accuracy: 0.8731"
     ]
    }
   ],
   "source": [
    "%%time\n",
    "# K-Fold Cross Validation\n",
    "result = []\n",
    "pdic = [(24, [46, 49, 51, 54], [0.5])]\n",
    "for unit, epoch_list, ratio_list in pdic:\n",
    "    for epoch in epoch_list:\n",
    "        for ratio in ratio_list:\n",
    "            auroc_list = kfold_validation(unit, ratio, epoch, X_train_transformed, y_train, 'patient-id', verbose=1)\n",
    "            result.append((unit, epoch, auroc_list))\n",
    "            print(\"unit: %d\\tepoch: %d\\tauroc_mean: %f\\tauroc_std: %f\"  % (unit, epoch, np.mean(auroc_list), np.std(auroc_list)))"
   ]
  },
  {
   "cell_type": "markdown",
   "metadata": {},
   "source": [
    "##### Cross validation result\n",
    "dropout: 0.5\n",
    "\n",
    "| unit | epoch | auroc_mean | auroc_std |\n",
    "| ---- | ----- | ---------- | --------- |\n",
    "| 8  | 50  | 0.721873 | 0.009027 | \n",
    "||||| \n",
    "| 16 | 40  | 0.723611 | 0.008495 |\n",
    "| 16 | 50  | 0.723615 | 0.008487 |\n",
    "| 16 | 60  | 0.723603 | 0.008190 |\n",
    "| 16 | 100 | 0.722465 | 0.007907 |\n",
    "| 16 | 150 | 0.721578 | 0.006885 |\n",
    "||||| \n",
    "| 20 | 40  | 0.723538 | 0.008536 |\n",
    "| 20 | 45  | 0.723602 | 0.008151 |\n",
    "| 20 | 50  | 0.723486 | 0.008103 |\n",
    "| 20 | 55  | 0.723425 | 0.008226 |\n",
    "|||||\n",
    "| 22 | 45  | 0.720571 | 0.007125 |\n",
    "| 22 | 50  | 0.720368 | 0.007478 |\n",
    "|||||\n",
    "| 23 | 45  | 0.722670 | 0.008939 |\n",
    "| 23 | 50  | 0.722861 | 0.008404 |\n",
    "| 23 | 55  | 0.723255 | 0.008433 |\n",
    "| 23 | 60  | 0.722757 | 0.008299 |\n",
    "|||||\n",
    "| 24 | 40  | 0.723725 | 0.008015 |\n",
    "| 24 | 45  | 0.723849 | 0.007709 |\n",
    "| 24 | 46  | 0.724079 | 0.007833 |\n",
    "| 24 | 49  | 0.724036 | 0.007696 |\n",
    "| 24 | 50  | <span style=\"color:red\">0.724266</span> | 0.007796 |\n",
    "| 24 | 51  | 0.724078 | 0.007735 |\n",
    "| 24 | 54  | 0.723840 | 0.007925 |\n",
    "| 24 | 55  | 0.723561 | 0.007786 |\n",
    "| 24 | 60  | 0.723940 | 0.007388 |\n",
    "| 24 | 70  | 0.723928 | 0.007216 |\n",
    "|||||\n",
    "| 25 | 45  | 0.721495 | 0.008823 |\n",
    "| 25 | 50  | 0.721201 | 0.008923 |\n",
    "| 25 | 55  | 0.721260 | 0.008556 |\n",
    "|||||\n",
    "| 26 | 50  | 0.720262 | 0.007663 |\n",
    "|||||\n",
    "| 28 | 35  | 0.722367 | 0.008125 |\n",
    "| 28 | 40  | 0.722133 | 0.007186 |\n",
    "| 28 | 45  | 0.721718 | 0.006804 |\n",
    "| 28 | 50  | 0.721535 | 0.007059 |\n",
    "|||||\n",
    "| 32 | 35  | 0.723089 | 0.008089 |\n",
    "| 32 | 40  | 0.723359 | 0.008084 |\n",
    "| 32 | 45  | 0.722863 | 0.007675 |\n",
    "| 32 | 50  | 0.722635 | 0.007420 |\n",
    "| 32 | 60  | 0.722288 | 0.006874 |"
   ]
  }
 ],
 "metadata": {
  "kernelspec": {
   "display_name": "Python 3",
   "language": "python",
   "name": "python3"
  },
  "language_info": {
   "codemirror_mode": {
    "name": "ipython",
    "version": 3
   },
   "file_extension": ".py",
   "mimetype": "text/x-python",
   "name": "python",
   "nbconvert_exporter": "python",
   "pygments_lexer": "ipython3",
   "version": "3.7.3"
  }
 },
 "nbformat": 4,
 "nbformat_minor": 2
}
