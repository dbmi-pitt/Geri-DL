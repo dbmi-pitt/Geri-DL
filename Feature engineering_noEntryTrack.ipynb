{
 "cells": [
  {
   "cell_type": "code",
   "execution_count": 5,
   "metadata": {},
   "outputs": [],
   "source": [
    "from pandas.core.frame import DataFrame"
   ]
  },
  {
   "cell_type": "code",
   "execution_count": 6,
   "metadata": {},
   "outputs": [],
   "source": [
    "from sklearn.neighbors import KNeighborsClassifier\n",
    "from sklearn.svm import SVC, LinearSVC\n",
    "from sklearn.ensemble import (GradientBoostingClassifier, GradientBoostingRegressor,RandomForestClassifier, RandomForestRegressor)\n",
    "from sklearn.linear_model import LogisticRegression\n",
    "from sklearn.linear_model import Perceptron\n",
    "from sklearn.linear_model import SGDClassifier\n",
    "from sklearn.model_selection import GridSearchCV\n",
    "from sklearn.model_selection import train_test_split\n",
    "from sklearn.model_selection import learning_curve\n",
    "from sklearn.model_selection import GridSearchCV, cross_val_score, StratifiedKFold, learning_curve\n",
    "from sklearn.naive_bayes import GaussianNB\n",
    "from sklearn.tree import DecisionTreeClassifier\n",
    "# from xgboost import XGBClassifier\n",
    "from sklearn.metrics import precision_score"
   ]
  },
  {
   "cell_type": "code",
   "execution_count": 7,
   "metadata": {},
   "outputs": [],
   "source": [
    "import pandas as pd\n",
    "import numpy as np\n",
    "import matplotlib.pyplot as plt\n",
    "import seaborn as sns"
   ]
  },
  {
   "cell_type": "code",
   "execution_count": 9,
   "metadata": {},
   "outputs": [],
   "source": [
    "import pandas as pd\n",
    "excelFile = r'Geri-DL-data/data-dictionary.xlsx'\n",
    "MeasuresData = pd.DataFrame(pd.read_excel(excelFile,sheet_name='Measures'))"
   ]
  },
  {
   "cell_type": "code",
   "execution_count": 10,
   "metadata": {},
   "outputs": [
    {
     "name": "stdout",
     "output_type": "stream",
     "text": [
      "191\n",
      "13422\n"
     ]
    }
   ],
   "source": [
    "print(MeasuresData.columns.size) # how many colums\n",
    "print(MeasuresData.iloc[:,0].size) # how many rows"
   ]
  },
  {
   "cell_type": "code",
   "execution_count": 11,
   "metadata": {},
   "outputs": [
    {
     "name": "stdout",
     "output_type": "stream",
     "text": [
      "191\n",
      "7584\n"
     ]
    }
   ],
   "source": [
    "MeasuresData=MeasuresData[MeasuresData['Entry-discharge-type']=='Not entry/discharge record'].reset_index(drop=True)\n",
    "print(MeasuresData.columns.size) # how many colums\n",
    "print(MeasuresData.iloc[:,0].size) # how many rows"
   ]
  },
  {
   "cell_type": "code",
   "execution_count": 12,
   "metadata": {},
   "outputs": [],
   "source": [
    "import time  \n",
    "import datetime\n",
    "def caltimes (date1, date2):\n",
    "    date1=time.strptime(date1,\"%m/%d/%Y\")\n",
    "    date2=time.strptime(date2,\"%m/%d/%Y\") \n",
    "    date1=datetime.datetime(date1[0],date1[1],date1[2])  \n",
    "    date2=datetime.datetime(date2[0],date2[1],date2[2])\n",
    "    return (date1-date2).days"
   ]
  },
  {
   "cell_type": "code",
   "execution_count": 13,
   "metadata": {},
   "outputs": [
    {
     "data": {
      "text/plain": [
       "31"
      ]
     },
     "execution_count": 13,
     "metadata": {},
     "output_type": "execute_result"
    }
   ],
   "source": [
    "a1=caltimes('8/19/2013','7/19/2013')\n",
    "a1"
   ]
  },
  {
   "cell_type": "code",
   "execution_count": 14,
   "metadata": {},
   "outputs": [],
   "source": [
    "rows=MeasuresData.iloc[:,0]\n",
    "eps=MeasuresData[\"episode-start-date\"]\n",
    "epe=MeasuresData[\"episode-end-date\"]\n",
    "epiday=[]\n",
    "for i in range(MeasuresData.iloc[:,0].size):\n",
    "            date=caltimes(epe[i],eps[i])\n",
    "            epiday.append(date)\n",
    "                               "
   ]
  },
  {
   "cell_type": "code",
   "execution_count": 15,
   "metadata": {},
   "outputs": [],
   "source": [
    "epidays=DataFrame(epiday)"
   ]
  },
  {
   "cell_type": "code",
   "execution_count": 16,
   "metadata": {},
   "outputs": [],
   "source": [
    "epidays.columns= ['episodeTime']"
   ]
  },
  {
   "cell_type": "code",
   "execution_count": 18,
   "metadata": {},
   "outputs": [],
   "source": [
    "# epidays"
   ]
  },
  {
   "cell_type": "code",
   "execution_count": 19,
   "metadata": {},
   "outputs": [],
   "source": [
    "stayDay=[]\n",
    "sts=MeasuresData[\"stay-start-date\"]\n",
    "ste=MeasuresData[\"stay-end-date\"]\n",
    "for i in range(MeasuresData.iloc[:,0].size):\n",
    "    day=caltimes(ste[i],sts[i])\n",
    "    stayDay.append(day)"
   ]
  },
  {
   "cell_type": "code",
   "execution_count": 20,
   "metadata": {},
   "outputs": [],
   "source": [
    "stayDays=DataFrame(stayDay)"
   ]
  },
  {
   "cell_type": "code",
   "execution_count": 21,
   "metadata": {},
   "outputs": [],
   "source": [
    "stayDays.columns=['stayDays']"
   ]
  },
  {
   "cell_type": "code",
   "execution_count": 24,
   "metadata": {},
   "outputs": [],
   "source": [
    "cmslongstay=MeasuresData['cms-long-stay'].map({'No':0,'Yes':1})"
   ]
  },
  {
   "cell_type": "code",
   "execution_count": 26,
   "metadata": {},
   "outputs": [],
   "source": [
    "shortTLong=MeasuresData['mds-stay-trans-short-to-long'].map({'No':0,'Yes':1})"
   ]
  },
  {
   "cell_type": "code",
   "execution_count": 27,
   "metadata": {},
   "outputs": [],
   "source": [
    "dataset=pd.concat([pd.DataFrame(MeasuresData['patient-id']),epidays,stayDays,pd.DataFrame(MeasuresData['current-stay-days']),pd.DataFrame(MeasuresData['cumulative-days-in-facility']),pd.DataFrame(cmslongstay),pd.DataFrame(shortTLong)], axis=1)"
   ]
  },
  {
   "cell_type": "code",
   "execution_count": 30,
   "metadata": {},
   "outputs": [],
   "source": [
    "gender=MeasuresData['gender'].map({'Male':0,'Female':1})"
   ]
  },
  {
   "cell_type": "code",
   "execution_count": 31,
   "metadata": {},
   "outputs": [],
   "source": [
    "dataset=pd.concat([dataset,pd.DataFrame(MeasuresData['age']),gender], axis=1)"
   ]
  },
  {
   "cell_type": "code",
   "execution_count": 33,
   "metadata": {},
   "outputs": [
    {
     "data": {
      "text/plain": [
       "White    6130\n",
       "Black    1296\n",
       "Other     158\n",
       "Name: race, dtype: int64"
      ]
     },
     "execution_count": 33,
     "metadata": {},
     "output_type": "execute_result"
    }
   ],
   "source": [
    "MeasuresData['race'].value_counts()"
   ]
  },
  {
   "cell_type": "code",
   "execution_count": 34,
   "metadata": {},
   "outputs": [],
   "source": [
    "# from keras.utils import to_categorical\n",
    "# from sklearn import preprocessing"
   ]
  },
  {
   "cell_type": "code",
   "execution_count": 35,
   "metadata": {},
   "outputs": [],
   "source": [
    "onehot_race = pd.get_dummies(MeasuresData['race'])\n",
    "dataset=dataset.join(onehot_race)"
   ]
  },
  {
   "cell_type": "code",
   "execution_count": 37,
   "metadata": {},
   "outputs": [
    {
     "data": {
      "text/plain": [
       "Cranberry Place     1998\n",
       "Senaca Place        1987\n",
       "Heritage Place      1640\n",
       "Canterbury Place    1041\n",
       "Sugar Creek          918\n",
       "Name: facility, dtype: int64"
      ]
     },
     "execution_count": 37,
     "metadata": {},
     "output_type": "execute_result"
    }
   ],
   "source": [
    "MeasuresData['facility'].value_counts()"
   ]
  },
  {
   "cell_type": "code",
   "execution_count": 38,
   "metadata": {},
   "outputs": [],
   "source": [
    "onehot_facility = pd.get_dummies(MeasuresData['facility'])\n",
    "dataset=dataset.join(onehot_facility)"
   ]
  },
  {
   "cell_type": "code",
   "execution_count": 39,
   "metadata": {},
   "outputs": [
    {
     "data": {
      "text/plain": [
       "No     6398\n",
       "Yes    1186\n",
       "Name: mds-antianxiety-medication, dtype: int64"
      ]
     },
     "execution_count": 39,
     "metadata": {},
     "output_type": "execute_result"
    }
   ],
   "source": [
    "MeasuresData['mds-antianxiety-medication'].value_counts()"
   ]
  },
  {
   "cell_type": "code",
   "execution_count": 40,
   "metadata": {},
   "outputs": [],
   "source": [
    "antianxiety=MeasuresData['mds-antianxiety-medication'].map({'No':0,'Yes':1})"
   ]
  },
  {
   "cell_type": "code",
   "execution_count": 41,
   "metadata": {},
   "outputs": [],
   "source": [
    "dataset=pd.concat([dataset,pd.DataFrame(antianxiety)], axis=1)"
   ]
  },
  {
   "cell_type": "code",
   "execution_count": 42,
   "metadata": {},
   "outputs": [
    {
     "data": {
      "text/plain": [
       "Yes    4092\n",
       "No     3492\n",
       "Name: mds-antidepressant-medication, dtype: int64"
      ]
     },
     "execution_count": 42,
     "metadata": {},
     "output_type": "execute_result"
    }
   ],
   "source": [
    "MeasuresData['mds-antidepressant-medication'].value_counts()"
   ]
  },
  {
   "cell_type": "code",
   "execution_count": 43,
   "metadata": {},
   "outputs": [],
   "source": [
    "antidepressant=MeasuresData['mds-antidepressant-medication'].map({'No':0,'Yes':1})"
   ]
  },
  {
   "cell_type": "code",
   "execution_count": 44,
   "metadata": {},
   "outputs": [],
   "source": [
    "dataset=pd.concat([dataset,pd.DataFrame(antidepressant)], axis=1)"
   ]
  },
  {
   "cell_type": "code",
   "execution_count": 45,
   "metadata": {},
   "outputs": [
    {
     "data": {
      "text/plain": [
       "No     6259\n",
       "Yes    1325\n",
       "Name: mds-antipsychotic-medication, dtype: int64"
      ]
     },
     "execution_count": 45,
     "metadata": {},
     "output_type": "execute_result"
    }
   ],
   "source": [
    "MeasuresData['mds-antipsychotic-medication'].value_counts()"
   ]
  },
  {
   "cell_type": "code",
   "execution_count": 46,
   "metadata": {},
   "outputs": [],
   "source": [
    "antipsychotic=MeasuresData['mds-antipsychotic-medication'].map({'No':0,'Yes':1})\n",
    "dataset=pd.concat([dataset,pd.DataFrame(antipsychotic)], axis=1)"
   ]
  },
  {
   "cell_type": "code",
   "execution_count": 47,
   "metadata": {},
   "outputs": [
    {
     "data": {
      "text/plain": [
       "No     6095\n",
       "Yes    1489\n",
       "Name: mds-antibiotic-medication, dtype: int64"
      ]
     },
     "execution_count": 47,
     "metadata": {},
     "output_type": "execute_result"
    }
   ],
   "source": [
    "MeasuresData['mds-antibiotic-medication'].value_counts()"
   ]
  },
  {
   "cell_type": "code",
   "execution_count": 48,
   "metadata": {},
   "outputs": [],
   "source": [
    "antibiotic=MeasuresData['mds-antibiotic-medication'].map({'No':0,'Yes':1})\n",
    "dataset=pd.concat([dataset,pd.DataFrame(antibiotic)], axis=1)"
   ]
  },
  {
   "cell_type": "code",
   "execution_count": 49,
   "metadata": {},
   "outputs": [
    {
     "data": {
      "text/plain": [
       "No     5478\n",
       "Yes    2106\n",
       "Name: mds-anticoagulant-medication, dtype: int64"
      ]
     },
     "execution_count": 49,
     "metadata": {},
     "output_type": "execute_result"
    }
   ],
   "source": [
    "MeasuresData['mds-anticoagulant-medication'].value_counts()"
   ]
  },
  {
   "cell_type": "code",
   "execution_count": 50,
   "metadata": {},
   "outputs": [],
   "source": [
    "anticoagulant=MeasuresData['mds-anticoagulant-medication'].map({'No':0,'Yes':1})\n",
    "dataset=pd.concat([dataset,pd.DataFrame(anticoagulant)], axis=1)"
   ]
  },
  {
   "cell_type": "code",
   "execution_count": 51,
   "metadata": {},
   "outputs": [
    {
     "data": {
      "text/plain": [
       "No     5159\n",
       "Yes    2425\n",
       "Name: mds-diuretic-medication, dtype: int64"
      ]
     },
     "execution_count": 51,
     "metadata": {},
     "output_type": "execute_result"
    }
   ],
   "source": [
    "MeasuresData['mds-diuretic-medication'].value_counts()"
   ]
  },
  {
   "cell_type": "code",
   "execution_count": 53,
   "metadata": {},
   "outputs": [],
   "source": [
    "diuretic=MeasuresData['mds-diuretic-medication'].map({'No':0,'Yes':1})\n",
    "dataset=pd.concat([dataset,pd.DataFrame(diuretic)], axis=1)"
   ]
  },
  {
   "cell_type": "code",
   "execution_count": 54,
   "metadata": {},
   "outputs": [
    {
     "data": {
      "text/plain": [
       "No     7285\n",
       "Yes     299\n",
       "Name: mds-hypnotic-medication, dtype: int64"
      ]
     },
     "execution_count": 54,
     "metadata": {},
     "output_type": "execute_result"
    }
   ],
   "source": [
    "MeasuresData['mds-hypnotic-medication'].value_counts()"
   ]
  },
  {
   "cell_type": "code",
   "execution_count": 55,
   "metadata": {},
   "outputs": [],
   "source": [
    "hypnotic=MeasuresData['mds-hypnotic-medication'].map({'No':0,'Yes':1})\n",
    "dataset=pd.concat([dataset,pd.DataFrame(hypnotic)], axis=1)"
   ]
  },
  {
   "cell_type": "code",
   "execution_count": 56,
   "metadata": {},
   "outputs": [
    {
     "data": {
      "text/plain": [
       "No     7506\n",
       "Yes      78\n",
       "Name: mds-behavioral-symptoms, dtype: int64"
      ]
     },
     "execution_count": 56,
     "metadata": {},
     "output_type": "execute_result"
    }
   ],
   "source": [
    "MeasuresData['mds-behavioral-symptoms'].value_counts()"
   ]
  },
  {
   "cell_type": "code",
   "execution_count": 57,
   "metadata": {},
   "outputs": [],
   "source": [
    "behavioral=MeasuresData['mds-behavioral-symptoms'].map({'No':0,'Yes':1})\n",
    "dataset=pd.concat([dataset,pd.DataFrame(behavioral)], axis=1)"
   ]
  },
  {
   "cell_type": "code",
   "execution_count": 58,
   "metadata": {},
   "outputs": [
    {
     "data": {
      "text/plain": [
       "No     6621\n",
       "Yes     963\n",
       "Name: mds-behavioral-symptoms-to-others, dtype: int64"
      ]
     },
     "execution_count": 58,
     "metadata": {},
     "output_type": "execute_result"
    }
   ],
   "source": [
    "MeasuresData['mds-behavioral-symptoms-to-others'].value_counts()"
   ]
  },
  {
   "cell_type": "code",
   "execution_count": 59,
   "metadata": {},
   "outputs": [],
   "source": [
    "behavioral_o=MeasuresData['mds-behavioral-symptoms-to-others'].map({'No':0,'Yes':1})\n",
    "dataset=pd.concat([dataset,pd.DataFrame(behavioral_o)], axis=1)"
   ]
  },
  {
   "cell_type": "code",
   "execution_count": 60,
   "metadata": {},
   "outputs": [
    {
     "data": {
      "text/plain": [
       "Intact or Moderately Intact    6685\n",
       "Moderate Impairment             899\n",
       "Name: mds-bims-summary-ranking, dtype: int64"
      ]
     },
     "execution_count": 60,
     "metadata": {},
     "output_type": "execute_result"
    }
   ],
   "source": [
    "MeasuresData['mds-bims-summary-ranking'].value_counts()"
   ]
  },
  {
   "cell_type": "code",
   "execution_count": 61,
   "metadata": {},
   "outputs": [],
   "source": [
    "onehot_bims = pd.get_dummies(MeasuresData['mds-bims-summary-ranking'])\n",
    "dataset=dataset.join(onehot_bims)"
   ]
  },
  {
   "cell_type": "code",
   "execution_count": 62,
   "metadata": {},
   "outputs": [
    {
     "data": {
      "text/plain": [
       "No     7541\n",
       "Yes      43\n",
       "Name: mds-dehydrated, dtype: int64"
      ]
     },
     "execution_count": 62,
     "metadata": {},
     "output_type": "execute_result"
    }
   ],
   "source": [
    "MeasuresData['mds-dehydrated'].value_counts()"
   ]
  },
  {
   "cell_type": "code",
   "execution_count": 63,
   "metadata": {},
   "outputs": [],
   "source": [
    "dehydrated=MeasuresData['mds-dehydrated'].map({'No':0,'Yes':1})\n",
    "dataset=pd.concat([dataset,pd.DataFrame(dehydrated)], axis=1)"
   ]
  },
  {
   "cell_type": "code",
   "execution_count": 64,
   "metadata": {},
   "outputs": [
    {
     "data": {
      "text/plain": [
       "No     7315\n",
       "Yes     269\n",
       "Name: mds-depression, dtype: int64"
      ]
     },
     "execution_count": 64,
     "metadata": {},
     "output_type": "execute_result"
    }
   ],
   "source": [
    "MeasuresData['mds-depression'].value_counts()"
   ]
  },
  {
   "cell_type": "code",
   "execution_count": 65,
   "metadata": {},
   "outputs": [],
   "source": [
    "depression=MeasuresData['mds-depression'].map({'No':0,'Yes':1})\n",
    "dataset=pd.concat([dataset,pd.DataFrame(depression)], axis=1)"
   ]
  },
  {
   "cell_type": "code",
   "execution_count": 66,
   "metadata": {},
   "outputs": [
    {
     "data": {
      "text/plain": [
       "No     7445\n",
       "Yes     139\n",
       "Name: mds-fever, dtype: int64"
      ]
     },
     "execution_count": 66,
     "metadata": {},
     "output_type": "execute_result"
    }
   ],
   "source": [
    "MeasuresData['mds-fever'].value_counts()"
   ]
  },
  {
   "cell_type": "code",
   "execution_count": 67,
   "metadata": {},
   "outputs": [],
   "source": [
    "fever=MeasuresData['mds-fever'].map({'No':0,'Yes':1})\n",
    "dataset=pd.concat([dataset,pd.DataFrame(fever)], axis=1)"
   ]
  },
  {
   "cell_type": "code",
   "execution_count": 68,
   "metadata": {},
   "outputs": [
    {
     "data": {
      "text/plain": [
       "Yes    6805\n",
       "No      779\n",
       "Name: mds-impaired-mobility, dtype: int64"
      ]
     },
     "execution_count": 68,
     "metadata": {},
     "output_type": "execute_result"
    }
   ],
   "source": [
    "MeasuresData['mds-impaired-mobility'].value_counts()"
   ]
  },
  {
   "cell_type": "code",
   "execution_count": 69,
   "metadata": {},
   "outputs": [],
   "source": [
    "impairedM=MeasuresData['mds-impaired-mobility'].map({'No':0,'Yes':1})\n",
    "dataset=pd.concat([dataset,pd.DataFrame(impairedM)], axis=1)"
   ]
  },
  {
   "cell_type": "code",
   "execution_count": 70,
   "metadata": {},
   "outputs": [
    {
     "data": {
      "text/plain": [
       "Yes    6506\n",
       "No     1078\n",
       "Name: mds-impaired-transfer, dtype: int64"
      ]
     },
     "execution_count": 70,
     "metadata": {},
     "output_type": "execute_result"
    }
   ],
   "source": [
    "MeasuresData['mds-impaired-transfer'].value_counts()"
   ]
  },
  {
   "cell_type": "code",
   "execution_count": 71,
   "metadata": {},
   "outputs": [],
   "source": [
    "impairedT=MeasuresData['mds-impaired-transfer'].map({'No':0,'Yes':1})\n",
    "dataset=pd.concat([dataset,pd.DataFrame(impairedT)], axis=1)"
   ]
  },
  {
   "cell_type": "code",
   "execution_count": 72,
   "metadata": {},
   "outputs": [
    {
     "data": {
      "text/plain": [
       "No     7475\n",
       "Yes     109\n",
       "Name: mds-internal-bleeding, dtype: int64"
      ]
     },
     "execution_count": 72,
     "metadata": {},
     "output_type": "execute_result"
    }
   ],
   "source": [
    "MeasuresData['mds-internal-bleeding'].value_counts()"
   ]
  },
  {
   "cell_type": "code",
   "execution_count": 73,
   "metadata": {},
   "outputs": [],
   "source": [
    "bleed=MeasuresData['mds-internal-bleeding'].map({'No':0,'Yes':1})\n",
    "dataset=pd.concat([dataset,pd.DataFrame(bleed)], axis=1)"
   ]
  },
  {
   "cell_type": "code",
   "execution_count": 74,
   "metadata": {},
   "outputs": [
    {
     "data": {
      "text/plain": [
       "None/Mild          7098\n",
       "Moderate/Severe     486\n",
       "Name: mds-pain-non-verbal, dtype: int64"
      ]
     },
     "execution_count": 74,
     "metadata": {},
     "output_type": "execute_result"
    }
   ],
   "source": [
    "MeasuresData['mds-pain-non-verbal'].value_counts()"
   ]
  },
  {
   "cell_type": "code",
   "execution_count": 75,
   "metadata": {},
   "outputs": [],
   "source": [
    "pain=MeasuresData['mds-pain-non-verbal'].map({'None/Mild':0,'Moderate/Severe':1})\n",
    "dataset=pd.concat([dataset,pd.DataFrame(pain)], axis=1)"
   ]
  },
  {
   "cell_type": "code",
   "execution_count": 76,
   "metadata": {},
   "outputs": [],
   "source": [
    "# dataset"
   ]
  },
  {
   "cell_type": "code",
   "execution_count": 77,
   "metadata": {},
   "outputs": [
    {
     "data": {
      "text/plain": [
       "No     7333\n",
       "Yes     251\n",
       "Name: mds-malnutrition, dtype: int64"
      ]
     },
     "execution_count": 77,
     "metadata": {},
     "output_type": "execute_result"
    }
   ],
   "source": [
    "MeasuresData['mds-malnutrition'].value_counts()"
   ]
  },
  {
   "cell_type": "code",
   "execution_count": 78,
   "metadata": {},
   "outputs": [],
   "source": [
    "malnutrition=MeasuresData['mds-malnutrition'].map({'No':0,'Yes':1})\n",
    "dataset=pd.concat([dataset,pd.DataFrame(malnutrition)], axis=1)"
   ]
  },
  {
   "cell_type": "code",
   "execution_count": 79,
   "metadata": {},
   "outputs": [
    {
     "data": {
      "text/plain": [
       "Yes    7035\n",
       "No      549\n",
       "Name: mds-no-problem-conditions, dtype: int64"
      ]
     },
     "execution_count": 79,
     "metadata": {},
     "output_type": "execute_result"
    }
   ],
   "source": [
    "MeasuresData['mds-no-problem-conditions'].value_counts()"
   ]
  },
  {
   "cell_type": "code",
   "execution_count": 80,
   "metadata": {},
   "outputs": [],
   "source": [
    "npconditions=MeasuresData['mds-no-problem-conditions'].map({'No':0,'Yes':1})\n",
    "dataset=pd.concat([dataset,pd.DataFrame(npconditions)], axis=1)"
   ]
  },
  {
   "cell_type": "code",
   "execution_count": 81,
   "metadata": {},
   "outputs": [
    {
     "data": {
      "text/plain": [
       "No     7383\n",
       "Yes     201\n",
       "Name: mds-vomiting, dtype: int64"
      ]
     },
     "execution_count": 81,
     "metadata": {},
     "output_type": "execute_result"
    }
   ],
   "source": [
    "MeasuresData['mds-vomiting'].value_counts()"
   ]
  },
  {
   "cell_type": "code",
   "execution_count": 82,
   "metadata": {},
   "outputs": [],
   "source": [
    "vomiting=MeasuresData['mds-vomiting'].map({'No':0,'Yes':1})\n",
    "dataset=pd.concat([dataset,pd.DataFrame(vomiting)], axis=1)"
   ]
  },
  {
   "cell_type": "code",
   "execution_count": 83,
   "metadata": {},
   "outputs": [
    {
     "data": {
      "text/plain": [
       "No     7318\n",
       "Yes     266\n",
       "Name: ws-antibiotic-anticoag-coexposure, dtype: int64"
      ]
     },
     "execution_count": 83,
     "metadata": {},
     "output_type": "execute_result"
    }
   ],
   "source": [
    "MeasuresData['ws-antibiotic-anticoag-coexposure'].value_counts()"
   ]
  },
  {
   "cell_type": "code",
   "execution_count": 84,
   "metadata": {},
   "outputs": [],
   "source": [
    "antibiotic=MeasuresData['ws-antibiotic-anticoag-coexposure'].map({'No':0,'Yes':1})\n",
    "dataset=pd.concat([dataset,pd.DataFrame(antibiotic)], axis=1)"
   ]
  },
  {
   "cell_type": "code",
   "execution_count": 85,
   "metadata": {},
   "outputs": [
    {
     "data": {
      "text/plain": [
       "No     7098\n",
       "Yes     486\n",
       "Name: ws-psychotropic-with-not-ordered-weight-loss, dtype: int64"
      ]
     },
     "execution_count": 85,
     "metadata": {},
     "output_type": "execute_result"
    }
   ],
   "source": [
    "MeasuresData['ws-psychotropic-with-not-ordered-weight-loss'].value_counts()"
   ]
  },
  {
   "cell_type": "code",
   "execution_count": 86,
   "metadata": {},
   "outputs": [],
   "source": [
    "psychotropic=MeasuresData['ws-psychotropic-with-not-ordered-weight-loss'].map({'No':0,'Yes':1})\n",
    "dataset=pd.concat([dataset,pd.DataFrame(psychotropic)], axis=1)"
   ]
  },
  {
   "cell_type": "code",
   "execution_count": 87,
   "metadata": {},
   "outputs": [
    {
     "data": {
      "text/plain": [
       "No     5382\n",
       "Yes    2202\n",
       "Name: ws-diuretic-adl, dtype: int64"
      ]
     },
     "execution_count": 87,
     "metadata": {},
     "output_type": "execute_result"
    }
   ],
   "source": [
    "MeasuresData['ws-diuretic-adl'].value_counts()"
   ]
  },
  {
   "cell_type": "code",
   "execution_count": 88,
   "metadata": {},
   "outputs": [],
   "source": [
    "diuretic=MeasuresData['ws-diuretic-adl'].map({'No':0,'Yes':1})\n",
    "dataset=pd.concat([dataset,pd.DataFrame(diuretic)], axis=1)"
   ]
  },
  {
   "cell_type": "code",
   "execution_count": 89,
   "metadata": {},
   "outputs": [
    {
     "data": {
      "text/plain": [
       "No                        7553\n",
       "meclAndPsychOlderStart      15\n",
       "meclAndPsychStartSameR      10\n",
       "psychPrecedesMeclR           3\n",
       "meclPrecedesPsychR           3\n",
       "Name: ws-meclizine-psych-coexposure, dtype: int64"
      ]
     },
     "execution_count": 89,
     "metadata": {},
     "output_type": "execute_result"
    }
   ],
   "source": [
    "MeasuresData['ws-meclizine-psych-coexposure'].value_counts()"
   ]
  },
  {
   "cell_type": "code",
   "execution_count": 90,
   "metadata": {},
   "outputs": [],
   "source": [
    "onehot_psych = pd.get_dummies(MeasuresData['ws-meclizine-psych-coexposure'])\n",
    "dataset=dataset.join(onehot_psych)"
   ]
  },
  {
   "cell_type": "code",
   "execution_count": 91,
   "metadata": {},
   "outputs": [
    {
     "data": {
      "text/plain": [
       "No     7512\n",
       "Yes      72\n",
       "Name: ws-tramadol-antidepressant-coexposure, dtype: int64"
      ]
     },
     "execution_count": 91,
     "metadata": {},
     "output_type": "execute_result"
    }
   ],
   "source": [
    "MeasuresData['ws-tramadol-antidepressant-coexposure'].value_counts()"
   ]
  },
  {
   "cell_type": "code",
   "execution_count": 92,
   "metadata": {},
   "outputs": [],
   "source": [
    "tramadol=MeasuresData['ws-tramadol-antidepressant-coexposure'].map({'No':0,'Yes':1})\n",
    "dataset=pd.concat([dataset,pd.DataFrame(tramadol)], axis=1)"
   ]
  },
  {
   "cell_type": "code",
   "execution_count": 93,
   "metadata": {},
   "outputs": [
    {
     "data": {
      "text/plain": [
       "0    2471\n",
       "1    2430\n",
       "2    1592\n",
       "3     735\n",
       "4     266\n",
       "5      63\n",
       "6      23\n",
       "7       3\n",
       "8       1\n",
       "Name: cns-drug-exposure, dtype: int64"
      ]
     },
     "execution_count": 93,
     "metadata": {},
     "output_type": "execute_result"
    }
   ],
   "source": [
    "MeasuresData['cns-drug-exposure'].value_counts()"
   ]
  },
  {
   "cell_type": "code",
   "execution_count": 94,
   "metadata": {},
   "outputs": [],
   "source": [
    "dataset=pd.concat([dataset,pd.DataFrame(MeasuresData['cns-drug-exposure'])], axis=1)"
   ]
  },
  {
   "cell_type": "code",
   "execution_count": 95,
   "metadata": {},
   "outputs": [
    {
     "data": {
      "text/plain": [
       "0    2881\n",
       "1    2501\n",
       "2    1426\n",
       "3     557\n",
       "4     168\n",
       "5      31\n",
       "6      18\n",
       "7       1\n",
       "8       1\n",
       "Name: psychotropic-exposure, dtype: int64"
      ]
     },
     "execution_count": 95,
     "metadata": {},
     "output_type": "execute_result"
    }
   ],
   "source": [
    "MeasuresData['psychotropic-exposure'].value_counts()"
   ]
  },
  {
   "cell_type": "code",
   "execution_count": 96,
   "metadata": {},
   "outputs": [],
   "source": [
    "dataset=pd.concat([dataset,pd.DataFrame(MeasuresData['psychotropic-exposure'])], axis=1)"
   ]
  },
  {
   "cell_type": "code",
   "execution_count": 97,
   "metadata": {},
   "outputs": [
    {
     "data": {
      "text/plain": [
       "0    7400\n",
       "1     176\n",
       "2       8\n",
       "Name: pk-interaction, dtype: int64"
      ]
     },
     "execution_count": 97,
     "metadata": {},
     "output_type": "execute_result"
    }
   ],
   "source": [
    "MeasuresData['pk-interaction'].value_counts()"
   ]
  },
  {
   "cell_type": "code",
   "execution_count": 98,
   "metadata": {},
   "outputs": [],
   "source": [
    "dataset=pd.concat([dataset,pd.DataFrame(MeasuresData['pk-interaction'])], axis=1)"
   ]
  },
  {
   "cell_type": "code",
   "execution_count": 99,
   "metadata": {},
   "outputs": [
    {
     "data": {
      "text/plain": [
       "None    6192\n",
       "Yes     1392\n",
       "Name: outcome-Mds-fall-since-prior-assessment, dtype: int64"
      ]
     },
     "execution_count": 99,
     "metadata": {},
     "output_type": "execute_result"
    }
   ],
   "source": [
    "MeasuresData['outcome-Mds-fall-since-prior-assessment'].value_counts()"
   ]
  },
  {
   "cell_type": "code",
   "execution_count": 100,
   "metadata": {},
   "outputs": [],
   "source": [
    "assessment=MeasuresData['outcome-Mds-fall-since-prior-assessment'].map({'None':0,'Yes':1})"
   ]
  },
  {
   "cell_type": "code",
   "execution_count": 101,
   "metadata": {},
   "outputs": [
    {
     "data": {
      "text/plain": [
       "No     7567\n",
       "Yes      17\n",
       "Name: outcome-riskmaster-fall-incident, dtype: int64"
      ]
     },
     "execution_count": 101,
     "metadata": {},
     "output_type": "execute_result"
    }
   ],
   "source": [
    "MeasuresData['outcome-riskmaster-fall-incident'].value_counts()"
   ]
  },
  {
   "cell_type": "code",
   "execution_count": 102,
   "metadata": {},
   "outputs": [],
   "source": [
    "riskmaster=MeasuresData['outcome-riskmaster-fall-incident'].map({'No':0,'Yes':1})\n",
    "outcomes=pd.concat([pd.DataFrame(assessment),pd.DataFrame(riskmaster)], axis=1)"
   ]
  },
  {
   "cell_type": "code",
   "execution_count": 103,
   "metadata": {},
   "outputs": [
    {
     "data": {
      "text/plain": [
       "None required                                                                                                       5601\n",
       "5-day scheduled assessment                                                                                          1714\n",
       "Unscheduled assessment used for PPS (OMRA, significant or clinical change, or significant correction assessment)     109\n",
       "14-day scheduled assessment                                                                                           54\n",
       "30-day scheduled assessment                                                                                           41\n",
       "Readmission/return assessment                                                                                         34\n",
       "90-day scheduled assessment                                                                                           18\n",
       "60-day scheduled assessment                                                                                           13\n",
       "Name: PPS-assessment, dtype: int64"
      ]
     },
     "execution_count": 103,
     "metadata": {},
     "output_type": "execute_result"
    }
   ],
   "source": [
    "MeasuresData['PPS-assessment'].value_counts()  ### which encode?"
   ]
  },
  {
   "cell_type": "code",
   "execution_count": 104,
   "metadata": {},
   "outputs": [],
   "source": [
    "onehot_PPS = pd.get_dummies(MeasuresData['PPS-assessment'])\n",
    "dataset=dataset.join(onehot_PPS)"
   ]
  },
  {
   "cell_type": "code",
   "execution_count": 106,
   "metadata": {},
   "outputs": [
    {
     "data": {
      "text/plain": [
       "Admission assessment (required by day 14)    3092\n",
       "Quarterly review assessment                  3018\n",
       "Annual assessment                             616\n",
       "None required                                 578\n",
       "Significant change in status assessment       280\n",
       "Name: Federal-assessment, dtype: int64"
      ]
     },
     "execution_count": 106,
     "metadata": {},
     "output_type": "execute_result"
    }
   ],
   "source": [
    "MeasuresData['Federal-assessment'].value_counts()"
   ]
  },
  {
   "cell_type": "code",
   "execution_count": 107,
   "metadata": {},
   "outputs": [],
   "source": [
    "onehot_Federal=MeasuresData['Federal-assessment'].map({'None required':0,'Admission assessment (required by day 14)':1,'Quarterly review assessment':2,'Annual assessment':3,'Significant change in status assessment':4})\n",
    "dataset=dataset.join(onehot_Federal)"
   ]
  },
  {
   "cell_type": "code",
   "execution_count": 108,
   "metadata": {},
   "outputs": [],
   "source": [
    "# MeasuresData['Entry-discharge-type'].value_counts()"
   ]
  },
  {
   "cell_type": "code",
   "execution_count": 109,
   "metadata": {},
   "outputs": [],
   "source": [
    "# onehot_type = pd.get_dummies(MeasuresData['Entry-discharge-type'])\n",
    "# dataset=dataset.join(onehot_type)"
   ]
  },
  {
   "cell_type": "code",
   "execution_count": 110,
   "metadata": {},
   "outputs": [
    {
     "data": {
      "text/plain": [
       "Yes    5695\n",
       "No     1889\n",
       "Name: mds-impaired-walk-in-room, dtype: int64"
      ]
     },
     "execution_count": 110,
     "metadata": {},
     "output_type": "execute_result"
    }
   ],
   "source": [
    "MeasuresData['mds-impaired-walk-in-room'].value_counts()"
   ]
  },
  {
   "cell_type": "code",
   "execution_count": 111,
   "metadata": {},
   "outputs": [],
   "source": [
    "room=MeasuresData['mds-impaired-walk-in-room'].map({'No':0,'Yes':1})\n",
    "dataset=pd.concat([dataset,pd.DataFrame(room)], axis=1)"
   ]
  },
  {
   "cell_type": "code",
   "execution_count": 112,
   "metadata": {},
   "outputs": [
    {
     "data": {
      "text/plain": [
       "Yes    5945\n",
       "No     1639\n",
       "Name: mds-impaired-walk-in-corridor, dtype: int64"
      ]
     },
     "execution_count": 112,
     "metadata": {},
     "output_type": "execute_result"
    }
   ],
   "source": [
    "MeasuresData['mds-impaired-walk-in-corridor'].value_counts()"
   ]
  },
  {
   "cell_type": "code",
   "execution_count": 113,
   "metadata": {},
   "outputs": [],
   "source": [
    "corridor=MeasuresData['mds-impaired-walk-in-corridor'].map({'No':0,'Yes':1})\n",
    "dataset=pd.concat([dataset,pd.DataFrame(corridor)], axis=1)"
   ]
  },
  {
   "cell_type": "code",
   "execution_count": 115,
   "metadata": {},
   "outputs": [
    {
     "data": {
      "text/plain": [
       "Yes    5744\n",
       "No     1840\n",
       "Name: mds-impaired-locomot-unit, dtype: int64"
      ]
     },
     "execution_count": 115,
     "metadata": {},
     "output_type": "execute_result"
    }
   ],
   "source": [
    "MeasuresData['mds-impaired-locomot-unit'].value_counts()"
   ]
  },
  {
   "cell_type": "code",
   "execution_count": 116,
   "metadata": {},
   "outputs": [],
   "source": [
    "locomot=MeasuresData['mds-impaired-locomot-unit'].map({'No':0,'Yes':1})\n",
    "dataset=pd.concat([dataset,pd.DataFrame(locomot)], axis=1)"
   ]
  },
  {
   "cell_type": "code",
   "execution_count": 117,
   "metadata": {},
   "outputs": [
    {
     "data": {
      "text/plain": [
       "Yes    6107\n",
       "No     1477\n",
       "Name: mds-impaired-locomot-other, dtype: int64"
      ]
     },
     "execution_count": 117,
     "metadata": {},
     "output_type": "execute_result"
    }
   ],
   "source": [
    "MeasuresData['mds-impaired-locomot-other'].value_counts()"
   ]
  },
  {
   "cell_type": "code",
   "execution_count": 118,
   "metadata": {},
   "outputs": [],
   "source": [
    "other=MeasuresData['mds-impaired-locomot-other'].map({'No':0,'Yes':1})\n",
    "dataset=pd.concat([dataset,pd.DataFrame(other)], axis=1)"
   ]
  },
  {
   "cell_type": "code",
   "execution_count": 119,
   "metadata": {},
   "outputs": [
    {
     "data": {
      "text/plain": [
       "None           6500\n",
       "One             678\n",
       "Two or more     406\n",
       "Name: outcome-mds-fall-no-injury, dtype: int64"
      ]
     },
     "execution_count": 119,
     "metadata": {},
     "output_type": "execute_result"
    }
   ],
   "source": [
    "MeasuresData['outcome-mds-fall-no-injury'].value_counts()"
   ]
  },
  {
   "cell_type": "code",
   "execution_count": 120,
   "metadata": {},
   "outputs": [],
   "source": [
    "noInjury=MeasuresData['outcome-mds-fall-no-injury'].map({'None':0,'One':1,'Two or more':1})\n",
    "# dataset=pd.concat([dataset,pd.DataFrame(noInjury)], axis=1)\n",
    "outcomes=pd.concat([outcomes,pd.DataFrame(noInjury)], axis=1)"
   ]
  },
  {
   "cell_type": "code",
   "execution_count": 122,
   "metadata": {},
   "outputs": [],
   "source": [
    "minorInjury=MeasuresData['outcome-mds-fall-minor-injury'].map({'None':0,'One':1,'Two or more':1}) ## change to none and one or more\n",
    "# dataset=pd.concat([dataset,pd.DataFrame(minorInjury)], axis=1)\n",
    "outcomes=pd.concat([outcomes,pd.DataFrame(minorInjury)], axis=1)"
   ]
  },
  {
   "cell_type": "code",
   "execution_count": 123,
   "metadata": {},
   "outputs": [
    {
     "data": {
      "text/plain": [
       "None    7531\n",
       "One       53\n",
       "Name: outcome-mds-fall-major-injury, dtype: int64"
      ]
     },
     "execution_count": 123,
     "metadata": {},
     "output_type": "execute_result"
    }
   ],
   "source": [
    "MeasuresData['outcome-mds-fall-major-injury'].value_counts()"
   ]
  },
  {
   "cell_type": "code",
   "execution_count": 124,
   "metadata": {},
   "outputs": [],
   "source": [
    "majorInjury=MeasuresData['outcome-mds-fall-major-injury'].map({'None':0,'One':1})\n",
    "outcomes=pd.concat([outcomes,pd.DataFrame(majorInjury)], axis=1)"
   ]
  },
  {
   "cell_type": "code",
   "execution_count": 125,
   "metadata": {},
   "outputs": [],
   "source": [
    "## save encoding features and outcomes into excel files\n",
    "\n",
    "dataset.to_excel(r'Geri-DL-data/EncodingFeature_NoMissing.xlsx')\n",
    "outcomes.to_excel(r'Geri-DL-data/EncodingOutcomes_NoMissing.xlsx')"
   ]
  },
  {
   "cell_type": "code",
   "execution_count": null,
   "metadata": {},
   "outputs": [],
   "source": []
  }
 ],
 "metadata": {
  "kernelspec": {
   "display_name": "Python 2",
   "language": "python",
   "name": "python2"
  },
  "language_info": {
   "codemirror_mode": {
    "name": "ipython",
    "version": 2
   },
   "file_extension": ".py",
   "mimetype": "text/x-python",
   "name": "python",
   "nbconvert_exporter": "python",
   "pygments_lexer": "ipython2",
   "version": "2.7.15"
  }
 },
 "nbformat": 4,
 "nbformat_minor": 2
}
