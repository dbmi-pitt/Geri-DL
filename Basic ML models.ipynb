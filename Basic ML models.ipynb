{
 "cells": [
  {
   "cell_type": "code",
   "execution_count": 42,
   "metadata": {},
   "outputs": [],
   "source": [
    "from pandas.core.frame import DataFrame\n",
    "from sklearn.neighbors import KNeighborsClassifier\n",
    "from sklearn.svm import SVC, LinearSVC\n",
    "from sklearn.ensemble import (GradientBoostingClassifier, GradientBoostingRegressor,RandomForestClassifier, RandomForestRegressor)\n",
    "from sklearn.linear_model import LogisticRegression\n",
    "from sklearn.linear_model import Perceptron\n",
    "from sklearn.linear_model import SGDClassifier\n",
    "from sklearn.model_selection import GridSearchCV\n",
    "from sklearn.model_selection import train_test_split\n",
    "from sklearn.model_selection import learning_curve\n",
    "from sklearn.model_selection import GridSearchCV, cross_val_score, StratifiedKFold, learning_curve\n",
    "from sklearn.naive_bayes import GaussianNB\n",
    "from sklearn.tree import DecisionTreeClassifier\n",
    "# from xgboost import XGBClassifier\n",
    "from sklearn.metrics import precision_score\n",
    "import pandas as pd\n",
    "import numpy as np\n",
    "import matplotlib.pyplot as plt\n",
    "import seaborn as sns\n",
    "import random"
   ]
  },
  {
   "cell_type": "code",
   "execution_count": 43,
   "metadata": {},
   "outputs": [],
   "source": [
    "excelFile = r'Geri-DL-data/EncodingFeature_NoMissing.xlsx'\n",
    "features = pd.DataFrame(pd.read_excel(excelFile))"
   ]
  },
  {
   "cell_type": "code",
   "execution_count": 45,
   "metadata": {},
   "outputs": [
    {
     "data": {
      "text/plain": [
       "(7584, 63)"
      ]
     },
     "execution_count": 45,
     "metadata": {},
     "output_type": "execute_result"
    }
   ],
   "source": [
    "features.shape"
   ]
  },
  {
   "cell_type": "code",
   "execution_count": 6,
   "metadata": {},
   "outputs": [],
   "source": [
    "excelFile = r'Geri-DL-data/EncodingOutcomes_NoMissing.xlsx'\n",
    "Outcomes = pd.DataFrame(pd.read_excel(excelFile))"
   ]
  },
  {
   "cell_type": "code",
   "execution_count": 7,
   "metadata": {},
   "outputs": [],
   "source": [
    "fallAssessment=Outcomes['outcome-Mds-fall-since-prior-assessment']\n",
    "dataset=features\n",
    "dataset['target']=fallAssessment"
   ]
  },
  {
   "cell_type": "code",
   "execution_count": 170,
   "metadata": {},
   "outputs": [
    {
     "data": {
      "text/plain": [
       "patient-id                                                                                                          False\n",
       "episodeTime                                                                                                         False\n",
       "stayDays                                                                                                            False\n",
       "current-stay-days                                                                                                   False\n",
       "cumulative-days-in-facility                                                                                         False\n",
       "cms-long-stay                                                                                                       False\n",
       "mds-stay-trans-short-to-long                                                                                        False\n",
       "age                                                                                                                 False\n",
       "gender                                                                                                              False\n",
       "Black                                                                                                               False\n",
       "Other                                                                                                               False\n",
       "White                                                                                                               False\n",
       "Canterbury Place                                                                                                    False\n",
       "Cranberry Place                                                                                                     False\n",
       "Heritage Place                                                                                                      False\n",
       "Senaca Place                                                                                                        False\n",
       "Sugar Creek                                                                                                         False\n",
       "mds-antianxiety-medication                                                                                          False\n",
       "mds-antidepressant-medication                                                                                       False\n",
       "mds-antipsychotic-medication                                                                                        False\n",
       "mds-antibiotic-medication                                                                                           False\n",
       "mds-anticoagulant-medication                                                                                        False\n",
       "mds-diuretic-medication                                                                                             False\n",
       "mds-hypnotic-medication                                                                                             False\n",
       "mds-behavioral-symptoms                                                                                             False\n",
       "mds-behavioral-symptoms-to-others                                                                                   False\n",
       "Intact or Moderately Intact                                                                                         False\n",
       "Moderate Impairment                                                                                                 False\n",
       "mds-dehydrated                                                                                                      False\n",
       "mds-depression                                                                                                      False\n",
       "mds-fever                                                                                                           False\n",
       "mds-impaired-mobility                                                                                               False\n",
       "mds-impaired-transfer                                                                                               False\n",
       "mds-internal-bleeding                                                                                               False\n",
       "mds-pain-non-verbal                                                                                                 False\n",
       "mds-malnutrition                                                                                                    False\n",
       "mds-no-problem-conditions                                                                                           False\n",
       "mds-vomiting                                                                                                        False\n",
       "ws-antibiotic-anticoag-coexposure                                                                                   False\n",
       "ws-psychotropic-with-not-ordered-weight-loss                                                                        False\n",
       "ws-diuretic-adl                                                                                                     False\n",
       "No                                                                                                                  False\n",
       "meclAndPsychOlderStart                                                                                              False\n",
       "meclAndPsychStartSameR                                                                                              False\n",
       "meclPrecedesPsychR                                                                                                  False\n",
       "psychPrecedesMeclR                                                                                                  False\n",
       "ws-tramadol-antidepressant-coexposure                                                                               False\n",
       "cns-drug-exposure                                                                                                   False\n",
       "psychotropic-exposure                                                                                               False\n",
       "pk-interaction                                                                                                      False\n",
       "14-day scheduled assessment                                                                                         False\n",
       "30-day scheduled assessment                                                                                         False\n",
       "5-day scheduled assessment                                                                                          False\n",
       "60-day scheduled assessment                                                                                         False\n",
       "90-day scheduled assessment                                                                                         False\n",
       "None required                                                                                                       False\n",
       "Readmission/return assessment                                                                                       False\n",
       "Unscheduled assessment used for PPS (OMRA, significant or clinical change, or significant correction assessment)    False\n",
       "Federal-assessment                                                                                                  False\n",
       "mds-impaired-walk-in-room                                                                                           False\n",
       "mds-impaired-walk-in-corridor                                                                                       False\n",
       "mds-impaired-locomot-unit                                                                                           False\n",
       "mds-impaired-locomot-other                                                                                          False\n",
       "target                                                                                                              False\n",
       "dtype: bool"
      ]
     },
     "execution_count": 170,
     "metadata": {},
     "output_type": "execute_result"
    }
   ],
   "source": [
    "dataset.isnull().any()"
   ]
  },
  {
   "cell_type": "code",
   "execution_count": 260,
   "metadata": {},
   "outputs": [],
   "source": [
    "# o=groupById(dataset)\n",
    "# print(o.size())   # check how many records for each patient id\n",
    "# print(o.size().index)\n",
    "# Pid_count=pd.DataFrame(o.size())\n",
    "# Pid_count\n",
    "# groupById(dataset).size().index\n",
    "# ymat"
   ]
  },
  {
   "cell_type": "code",
   "execution_count": 10,
   "metadata": {},
   "outputs": [],
   "source": [
    "def groupById(data, col='patient-id'):\n",
    "    g = data.groupby(col)\n",
    "    print 'Number of unique IDs: %d\\n' % len(g)\n",
    "    return g"
   ]
  },
  {
   "cell_type": "code",
   "execution_count": 188,
   "metadata": {},
   "outputs": [],
   "source": [
    "def generate_frame(df):\n",
    "    x, y = list(), list()\n",
    "    index = groupById(df).size().index\n",
    "    for idx in index:\n",
    "        dff = df[df['patient-id']==idx]\n",
    "        dff.drop('patient-id', axis=1, inplace=True)\n",
    "        y.append(dff['target'])\n",
    "        dff.drop('target', axis=1, inplace=True)\n",
    "        x.append([value for value in dff.values])\n",
    "    return x, y"
   ]
  },
  {
   "cell_type": "code",
   "execution_count": 189,
   "metadata": {},
   "outputs": [
    {
     "name": "stdout",
     "output_type": "stream",
     "text": [
      "Number of unique IDs: 3133\n",
      "\n"
     ]
    }
   ],
   "source": [
    "xmat, ymat = generate_frame(dataset)"
   ]
  },
  {
   "cell_type": "code",
   "execution_count": 327,
   "metadata": {},
   "outputs": [],
   "source": [
    "def train_test_split(xmat, ymat, radio, seed):\n",
    "    random.seed(seed)\n",
    "    n_total = sum(y.shape[0] for y in ymat)\n",
    "    print('total number of samples: %d' % n_total)\n",
    "    X_train, X_test, Y_train, Y_test = ([], ) * 4\n",
    "    idx = random.sample(range(len(ymat)), len(ymat))\n",
    "    n_train = 0\n",
    "    for i,val in enumerate(idx):\n",
    "        n_train += len(ymat[val])\n",
    "        if(n_train >= n_total * radio):\n",
    "            X_train, Y_train = [xmat[j] for j in idx[:i]], [ymat[j] for j in idx[:i]]\n",
    "            X_test, Y_test = [xmat[j] for j in idx[i:]], [ymat[j] for j in idx[i:]]\n",
    "            print('total number of samples in training set: %d' % n_train)\n",
    "            break\n",
    "    return X_train, X_test, Y_train, Y_test"
   ]
  },
  {
   "cell_type": "code",
   "execution_count": 332,
   "metadata": {},
   "outputs": [],
   "source": [
    "# Method 1\n",
    "# def train_test_split_by_patient(xmat, ymat, radio, seed):\n",
    "#     random.seed(seed)\n",
    "#     idx = random.sample(range(len(ymat)), len(ymat))\n",
    "#     i = int(len(ymat) * radio)\n",
    "#     X_train, Y_train = [xmat[j] for j in idx[:i]], [ymat[j] for j in idx[:i]]\n",
    "#     X_test, Y_test = [xmat[j] for j in idx[i:]], [ymat[j] for j in idx[i:]]\n",
    "#     return X_train, X_test, Y_train, Y_test\n",
    "\n",
    "# Method 2\n",
    "def train_test_split_by_patient(xmat, ymat, radio, seed):\n",
    "    random.seed(seed)\n",
    "    n_patientTotal=len(ymat)\n",
    "    print('total number of patient samples: %d' % n_patientTotal)\n",
    "    idx = random.sample(range(len(ymat)), len(ymat))\n",
    "    n_patient = 0\n",
    "    for i,val in enumerate(idx):\n",
    "        n_patient +=1\n",
    "        if(n_patient >= n_patientTotal * radio):\n",
    "            X_train, Y_train = [xmat[j] for j in idx[:i]], [ymat[j] for j in idx[:i]]\n",
    "            X_test, Y_test = [xmat[j] for j in idx[i:]], [ymat[j] for j in idx[i:]]\n",
    "            print('total number of patients in training set: %d' % n_patient)\n",
    "            break\n",
    "    return X_train, X_test, Y_train, Y_test"
   ]
  },
  {
   "cell_type": "code",
   "execution_count": 328,
   "metadata": {
    "scrolled": true
   },
   "outputs": [
    {
     "name": "stdout",
     "output_type": "stream",
     "text": [
      "total number of samples: 7584\n",
      "total number of samples in training set: 5309\n"
     ]
    }
   ],
   "source": [
    "X_train, X_test, Y_train, Y_test = train_test_split(xmat, ymat, 0.7, 1)"
   ]
  },
  {
   "cell_type": "code",
   "execution_count": 335,
   "metadata": {},
   "outputs": [
    {
     "name": "stdout",
     "output_type": "stream",
     "text": [
      "total number of patient samples: 3133\n",
      "total number of patients in training set: 2194\n"
     ]
    }
   ],
   "source": [
    "X_train, X_test, Y_train, Y_test = train_test_split_by_patient(xmat, ymat, 0.7, 1)"
   ]
  },
  {
   "cell_type": "code",
   "execution_count": 336,
   "metadata": {},
   "outputs": [],
   "source": [
    "from pprint import pprint\n",
    "from itertools import chain"
   ]
  },
  {
   "cell_type": "code",
   "execution_count": 337,
   "metadata": {},
   "outputs": [],
   "source": [
    "# Method 1\n",
    "# pprint([[item] for item in chain.from_iterable(xmat)])\n",
    "# list_arrays=list(chain.from_iterable(X_train))\n",
    "# X_train_df=pd.DataFrame(np.row_stack(list_arrays))\n",
    "\n",
    "# Method 2\n",
    "# list_arrays = [layer3 for layer2 in layer1 for layer3 in layer2]\n",
    "# pd.DataFrame(np.row_stack(list_arrays))\n",
    "\n",
    "# unwrap lists and store records in dataframe  \n",
    "def patientListToDF (lists):\n",
    "    list_arrays=list(chain.from_iterable(lists))\n",
    "    return pd.DataFrame(np.row_stack(list_arrays))\n",
    "    "
   ]
  },
  {
   "cell_type": "code",
   "execution_count": 338,
   "metadata": {},
   "outputs": [],
   "source": [
    "X_train_df=patientListToDF(X_train)\n",
    "Y_train_df=patientListToDF(Y_train)\n",
    "X_test_df=patientListToDF(X_test)\n",
    "Y_test_df=patientListToDF(Y_test)"
   ]
  },
  {
   "cell_type": "code",
   "execution_count": 339,
   "metadata": {},
   "outputs": [],
   "source": [
    "## set column names for the output dataframe\n",
    "# data=dataset.drop(columns=['patient-id','target'])\n",
    "X_train_df.columns=data.columns\n",
    "X_test_df.columns=data.columns\n",
    "Y_test_df.columns=['target']\n",
    "Y_train_df.columns=['target']"
   ]
  },
  {
   "cell_type": "code",
   "execution_count": null,
   "metadata": {},
   "outputs": [],
   "source": [
    "#############################################\n",
    "# models"
   ]
  },
  {
   "cell_type": "code",
   "execution_count": 340,
   "metadata": {},
   "outputs": [],
   "source": [
    "from sklearn import preprocessing ## for standarScaler\n",
    "import sklearn\n",
    "from sklearn.metrics import accuracy_score\n",
    "from sklearn.metrics import confusion_matrix\n",
    "from sklearn.metrics import recall_score"
   ]
  },
  {
   "cell_type": "code",
   "execution_count": null,
   "metadata": {},
   "outputs": [],
   "source": [
    "# Logistic regression "
   ]
  },
  {
   "cell_type": "code",
   "execution_count": 354,
   "metadata": {},
   "outputs": [],
   "source": [
    "scaler=preprocessing.StandardScaler().fit(X_train_df) \n",
    "X_train_transformed=scaler.transform(X_train_df) #apply scaling on training set\n",
    "X_test_transformed=scaler.transform(X_test_df) #apply scaling on test set"
   ]
  },
  {
   "cell_type": "code",
   "execution_count": 355,
   "metadata": {},
   "outputs": [
    {
     "name": "stdout",
     "output_type": "stream",
     "text": [
      "('After doing the scaling, the accuracy of the model is:', 0.798513986013986)\n"
     ]
    }
   ],
   "source": [
    "# Logistic regression \n",
    "## fit the model\n",
    "FittedLogRegModel2= LogisticRegression(C=1).fit(X_train_transformed,Y_train_df.values.ravel())\n",
    "predictions2=FittedLogRegModel2.predict(X_test_transformed)\n",
    "\n",
    "## make predcitions with scaled features and get the accuracy\n",
    "accuracy2=accuracy_score(Y_test_df,predictions2)\n",
    "print('After doing the scaling, the accuracy of the model is:',accuracy2)"
   ]
  },
  {
   "cell_type": "code",
   "execution_count": 342,
   "metadata": {},
   "outputs": [
    {
     "data": {
      "text/plain": [
       "array([[1815,   13],\n",
       "       [ 448,   12]])"
      ]
     },
     "execution_count": 342,
     "metadata": {},
     "output_type": "execute_result"
    }
   ],
   "source": [
    "confusion_matrix(Y_test_df, predictions2)"
   ]
  },
  {
   "cell_type": "code",
   "execution_count": 343,
   "metadata": {},
   "outputs": [
    {
     "name": "stdout",
     "output_type": "stream",
     "text": [
      "('Precision', 0.48)\n",
      "('Recall', 0.02608695652173913)\n",
      "('f1_score', 0.04948453608247423)\n"
     ]
    }
   ],
   "source": [
    "print(\"Precision\", sklearn.metrics.precision_score(Y_test_df, predictions2))\n",
    "print( \"Recall\", sklearn.metrics.recall_score(Y_test_df, predictions2))\n",
    "print( \"f1_score\", sklearn.metrics.f1_score(Y_test_df, predictions2))"
   ]
  },
  {
   "cell_type": "code",
   "execution_count": 344,
   "metadata": {},
   "outputs": [
    {
     "name": "stdout",
     "output_type": "stream",
     "text": [
      "('fpr', array([0.       , 0.0071116, 1.       ]))\n",
      "('tpr', array([0.        , 0.02608696, 1.        ]))\n",
      "('tresholds', array([2, 1, 0]))\n",
      "('auc', 0.5094876795737799)\n"
     ]
    }
   ],
   "source": [
    "fpr, tpr, tresholds = sklearn.metrics.roc_curve(Y_test_df, predictions2)\n",
    "print('fpr',fpr) # True Positive Rate , TPR=TP/(TP+FN),sensitivity \n",
    "print('tpr',tpr) # False Positive Rate , FPR=FP /（FP + TN）\n",
    "print('tresholds',tresholds)\n",
    "roc_auc = sklearn.metrics.auc(fpr,tpr)\n",
    "print('auc', roc_auc)"
   ]
  },
  {
   "cell_type": "code",
   "execution_count": 345,
   "metadata": {},
   "outputs": [
    {
     "data": {
      "text/plain": [
       "<Figure size 432x288 with 0 Axes>"
      ]
     },
     "metadata": {},
     "output_type": "display_data"
    },
    {
     "data": {
      "image/png": "[encoded data removed]",
      "text/plain": [
       "<Figure size 720x720 with 1 Axes>"
      ]
     },
     "metadata": {
      "needs_background": "light"
     },
     "output_type": "display_data"
    }
   ],
   "source": [
    "plt.figure()\n",
    "lw = 2\n",
    "plt.figure(figsize=(10,10))\n",
    "plt.plot(fpr, tpr, color='darkorange',\n",
    "         lw=lw, label='ROC curve (area = %0.2f)' % roc_auc)\n",
    "plt.plot([0, 1], [0, 1], color='navy', lw=lw, linestyle='--')\n",
    "plt.xlim([0.0, 1.0])\n",
    "plt.ylim([0.0, 1.05])\n",
    "plt.xlabel('False Positive Rate')\n",
    "plt.ylabel('True Positive Rate')\n",
    "plt.title('Receiver operating characteristic example')\n",
    "plt.legend(loc=\"lower right\")\n",
    "plt.show()"
   ]
  },
  {
   "cell_type": "code",
   "execution_count": null,
   "metadata": {},
   "outputs": [],
   "source": [
    "## SVC model"
   ]
  },
  {
   "cell_type": "code",
   "execution_count": 346,
   "metadata": {},
   "outputs": [],
   "source": [
    "from sklearn.svm import SVC\n",
    "from sklearn.datasets import load_breast_cancer\n",
    "#from sklearn.datasets import load_iris\n",
    "from sklearn.model_selection import train_test_split\n",
    "from sklearn.preprocessing import MinMaxScaler \n",
    "from sklearn.model_selection import cross_val_score"
   ]
  },
  {
   "cell_type": "code",
   "execution_count": 347,
   "metadata": {},
   "outputs": [
    {
     "name": "stdout",
     "output_type": "stream",
     "text": [
      "(array([0.82358491, 0.82358491, 0.82436261, 0.82436261, 0.8241966 ]), 'C is', 0.1, 'gamma is', 0.1)\n",
      "(array([0.81603774, 0.80283019, 0.81964117, 0.82341832, 0.82230624]), 'C is', 1, 'gamma is', 0.1)\n",
      "(array([0.79339623, 0.77169811, 0.79508971, 0.79697828, 0.80245747]), 'C is', 5, 'gamma is', 0.1)\n",
      "(array([0.82358491, 0.82358491, 0.82436261, 0.82436261, 0.8241966 ]), 'C is', 0.1, 'gamma is', 1)\n",
      "(array([0.82264151, 0.82169811, 0.82247403, 0.82058546, 0.8241966 ]), 'C is', 1, 'gamma is', 1)\n",
      "(array([0.81886792, 0.81886792, 0.81869688, 0.81869688, 0.8194707 ]), 'C is', 5, 'gamma is', 1)\n",
      "(array([0.82358491, 0.82358491, 0.82436261, 0.82436261, 0.8241966 ]), 'C is', 0.1, 'gamma is', 5)\n",
      "(array([0.82358491, 0.82358491, 0.82247403, 0.82247403, 0.8241966 ]), 'C is', 1, 'gamma is', 5)\n",
      "(array([0.82264151, 0.82169811, 0.82152975, 0.82058546, 0.8241966 ]), 'C is', 5, 'gamma is', 5)\n",
      "('Best score on validation set is:', 0.8240183242277682)\n",
      "('Best parameter c is:', 0.1, '   ', 'Best parameter gamma is:', 0.1)\n",
      "('accuracy with best c parameter and best garama parameter is:', 0.798951048951049)\n"
     ]
    }
   ],
   "source": [
    "best_score = 0 #initialize the best_score to zero\n",
    "kfolds=5 #set the number of folds\n",
    "\n",
    "\n",
    "for g in [0.1, 1, 5]:\n",
    "    for c in [ 0.1, 1, 5]:\n",
    "        svmModel=SVC(kernel='rbf',gamma=g,C=c) \n",
    "        scores = cross_val_score(svmModel, X_train_transformed, Y_train_df.values.ravel(), cv=kfolds)\n",
    "        score = np.mean(scores)\n",
    "        print(scores,'C is',c,'gamma is', g)\n",
    "        \n",
    "        if score > best_score:\n",
    "            best_score = score\n",
    "            best_C = c\n",
    "            best_gamma=g\n",
    "\n",
    "\n",
    "SelectsvmModel = SVC(kernel='rbf',gamma=best_gamma,C=best_C).fit(X_train_transformed, Y_train_df.values.ravel())\n",
    "prediction=SelectsvmModel.predict(X_test_transformed)\n",
    "accuracy=accuracy_score(Y_test_df,prediction)\n",
    "print (\"Best score on validation set is:\", best_score)\n",
    "print(\"Best parameter c is:\", best_C,\"   \",\"Best parameter gamma is:\",best_gamma)\n",
    "print(\"accuracy with best c parameter and best garama parameter is:\", accuracy)   "
   ]
  },
  {
   "cell_type": "code",
   "execution_count": 348,
   "metadata": {},
   "outputs": [
    {
     "data": {
      "text/plain": [
       "array([[1828,    0],\n",
       "       [ 460,    0]])"
      ]
     },
     "execution_count": 348,
     "metadata": {},
     "output_type": "execute_result"
    }
   ],
   "source": [
    "confusion_matrix(Y_test_df, prediction)"
   ]
  },
  {
   "cell_type": "code",
   "execution_count": 349,
   "metadata": {},
   "outputs": [
    {
     "name": "stdout",
     "output_type": "stream",
     "text": [
      "('Precision', 0.0)\n",
      "('Recall', 0.0)\n",
      "('f1_score', 0.0)\n"
     ]
    },
    {
     "name": "stderr",
     "output_type": "stream",
     "text": [
      "/usr/local/share/anaconda2/lib/python2.7/site-packages/sklearn/metrics/classification.py:1135: UndefinedMetricWarning: Precision is ill-defined and being set to 0.0 due to no predicted samples.\n",
      "  'precision', 'predicted', average, warn_for)\n",
      "/usr/local/share/anaconda2/lib/python2.7/site-packages/sklearn/metrics/classification.py:1135: UndefinedMetricWarning: F-score is ill-defined and being set to 0.0 due to no predicted samples.\n",
      "  'precision', 'predicted', average, warn_for)\n"
     ]
    }
   ],
   "source": [
    "print(\"Precision\", sklearn.metrics.precision_score(Y_test_df, prediction))\n",
    "print( \"Recall\", sklearn.metrics.recall_score(Y_test_df, prediction))\n",
    "print( \"f1_score\", sklearn.metrics.f1_score(Y_test_df, prediction))"
   ]
  },
  {
   "cell_type": "code",
   "execution_count": 350,
   "metadata": {},
   "outputs": [
    {
     "name": "stdout",
     "output_type": "stream",
     "text": [
      "('fpr', array([0., 1.]))\n",
      "('tpr', array([0., 1.]))\n",
      "('tresholds', array([1, 0]))\n",
      "('auc', 0.5)\n"
     ]
    }
   ],
   "source": [
    "fpr, tpr, tresholds = sklearn.metrics.roc_curve(Y_test_df, prediction)\n",
    "print('fpr',fpr) # False Positive Rate , FPR=FP /（FP + TN）   \n",
    "print('tpr',tpr) # True Positive Rate , TPR=TP/(TP+FN),sensitivity \n",
    "print('tresholds',tresholds)\n",
    "roc_auc = sklearn.metrics.auc(fpr,tpr)\n",
    "print('auc', roc_auc)"
   ]
  },
  {
   "cell_type": "code",
   "execution_count": 351,
   "metadata": {},
   "outputs": [],
   "source": [
    "# import modules\n",
    "import pandas as pd\n",
    "import numpy as np\n",
    "import matplotlib.pyplot as plt\n",
    "import seaborn as sns\n",
    "%matplotlib inline\n",
    "\n",
    "from sklearn import preprocessing\n",
    "from sklearn.linear_model import LogisticRegression\n",
    "from sklearn.svm import SVC\n",
    "from sklearn.naive_bayes import GaussianNB\n",
    "from sklearn.tree import DecisionTreeClassifier\n",
    "from sklearn.ensemble import RandomForestClassifier\n",
    "from sklearn.neighbors import KNeighborsClassifier\n",
    "from sklearn.metrics import *\n",
    "from sklearn.cross_validation import *"
   ]
  },
  {
   "cell_type": "code",
   "execution_count": 360,
   "metadata": {},
   "outputs": [],
   "source": [
    "scores = [accuracy_score, precision_score, recall_score, f1_score]\n",
    "\n",
    "def get_metrics(X_train, X_test):\n",
    "    \n",
    "    # create empty lists\n",
    "    LogisticReg = []\n",
    "    SVMC = []\n",
    "    GaussNB = []\n",
    "    DecisionTree = []\n",
    "    RandomForest = []\n",
    "    kNN8 = []\n",
    "    SGBClassifier=[]\n",
    "    GradientBoostingClassifier=[]\n",
    "    \n",
    "    # list of lists\n",
    "    lists = [LogisticReg, SVMC, GaussNB, DecisionTree, RandomForest, kNN8,SGBClassifier,GradientBoostingClassifier]\n",
    "    \n",
    "    # fill model lists with scores of each evaluation metrics\n",
    "    for i, model in enumerate(estimators):\n",
    "        for score in scores:\n",
    "            estimator = model\n",
    "            estimator.fit(X_train, Y_train.values.ravel())\n",
    "            pred = estimator.predict(X_test)\n",
    "            lists[i].append(score(Y_test, pred))\n",
    "        \n",
    "    # create a dataframe to aggregate the lists\n",
    "    scores_df = pd.DataFrame(data = [LogisticReg, SVMC, GaussNB, DecisionTree, RandomForest, kNN8,SGBClassifier,GradientBoostingClassifier])\n",
    "    scores_df.index = [\"LogisticReg\", \"SVMC\", \"GaussNB\", \"DecisionTree\", \"RandomForest\", \"kNN8\",\"SGBClassifier\",\"GradientBoostingClassifier\"]\n",
    "    scores_df.columns = [\"Accuracy\", \"Precision\", \"Recall\", \"F1\"]\n",
    "    return scores_df"
   ]
  },
  {
   "cell_type": "code",
   "execution_count": 361,
   "metadata": {},
   "outputs": [
    {
     "data": {
      "text/html": [
       "<div>\n",
       "<style scoped>\n",
       "    .dataframe tbody tr th:only-of-type {\n",
       "        vertical-align: middle;\n",
       "    }\n",
       "\n",
       "    .dataframe tbody tr th {\n",
       "        vertical-align: top;\n",
       "    }\n",
       "\n",
       "    .dataframe thead th {\n",
       "        text-align: right;\n",
       "    }\n",
       "</style>\n",
       "<table border=\"1\" class=\"dataframe\">\n",
       "  <thead>\n",
       "    <tr style=\"text-align: right;\">\n",
       "      <th></th>\n",
       "      <th>Accuracy</th>\n",
       "      <th>Precision</th>\n",
       "      <th>Recall</th>\n",
       "      <th>F1</th>\n",
       "    </tr>\n",
       "  </thead>\n",
       "  <tbody>\n",
       "    <tr>\n",
       "      <th>LogisticReg</th>\n",
       "      <td>0.798514</td>\n",
       "      <td>0.478261</td>\n",
       "      <td>0.023913</td>\n",
       "      <td>0.045549</td>\n",
       "    </tr>\n",
       "    <tr>\n",
       "      <th>SVMC</th>\n",
       "      <td>0.797640</td>\n",
       "      <td>0.200000</td>\n",
       "      <td>0.002174</td>\n",
       "      <td>0.004301</td>\n",
       "    </tr>\n",
       "    <tr>\n",
       "      <th>GaussNB</th>\n",
       "      <td>0.600962</td>\n",
       "      <td>0.285714</td>\n",
       "      <td>0.656522</td>\n",
       "      <td>0.398154</td>\n",
       "    </tr>\n",
       "    <tr>\n",
       "      <th>DecisionTree</th>\n",
       "      <td>0.798077</td>\n",
       "      <td>0.464286</td>\n",
       "      <td>0.028261</td>\n",
       "      <td>0.053279</td>\n",
       "    </tr>\n",
       "    <tr>\n",
       "      <th>RandomForest</th>\n",
       "      <td>0.797203</td>\n",
       "      <td>0.388889</td>\n",
       "      <td>0.047826</td>\n",
       "      <td>0.074951</td>\n",
       "    </tr>\n",
       "    <tr>\n",
       "      <th>kNN8</th>\n",
       "      <td>0.798077</td>\n",
       "      <td>0.468750</td>\n",
       "      <td>0.032609</td>\n",
       "      <td>0.060976</td>\n",
       "    </tr>\n",
       "    <tr>\n",
       "      <th>SGBClassifier</th>\n",
       "      <td>0.781031</td>\n",
       "      <td>0.230088</td>\n",
       "      <td>0.000000</td>\n",
       "      <td>0.052209</td>\n",
       "    </tr>\n",
       "    <tr>\n",
       "      <th>GradientBoostingClassifier</th>\n",
       "      <td>0.798514</td>\n",
       "      <td>0.333333</td>\n",
       "      <td>0.002174</td>\n",
       "      <td>0.004320</td>\n",
       "    </tr>\n",
       "  </tbody>\n",
       "</table>\n",
       "</div>"
      ],
      "text/plain": [
       "                            Accuracy  Precision    Recall        F1\n",
       "LogisticReg                 0.798514   0.478261  0.023913  0.045549\n",
       "SVMC                        0.797640   0.200000  0.002174  0.004301\n",
       "GaussNB                     0.600962   0.285714  0.656522  0.398154\n",
       "DecisionTree                0.798077   0.464286  0.028261  0.053279\n",
       "RandomForest                0.797203   0.388889  0.047826  0.074951\n",
       "kNN8                        0.798077   0.468750  0.032609  0.060976\n",
       "SGBClassifier               0.781031   0.230088  0.000000  0.052209\n",
       "GradientBoostingClassifier  0.798514   0.333333  0.002174  0.004320"
      ]
     },
     "execution_count": 361,
     "metadata": {},
     "output_type": "execute_result"
    }
   ],
   "source": [
    "estimators = [LogisticRegression(), SVC(probability = True), GaussianNB(), DecisionTreeClassifier(max_depth = 4), \n",
    "          RandomForestClassifier(), KNeighborsClassifier(n_neighbors = 8),SGDClassifier(loss='log', penalty='l2',tol=None),\n",
    "              GradientBoostingClassifier(learning_rate=0.1, n_estimators=60,max_depth=9,min_samples_split=1200, min_samples_leaf=50, subsample=0.8, random_state=5,max_features=6)]\n",
    "\n",
    "X_train=X_train_df\n",
    "X_test=X_test_df\n",
    "Y_train=Y_train_df\n",
    "Y_test=Y_test_df\n",
    "get_metrics(X_train, X_test)"
   ]
  },
  {
   "cell_type": "code",
   "execution_count": null,
   "metadata": {},
   "outputs": [],
   "source": []
  }
 ],
 "metadata": {
  "kernelspec": {
   "display_name": "Python 2",
   "language": "python",
   "name": "python2"
  },
  "language_info": {
   "codemirror_mode": {
    "name": "ipython",
    "version": 2
   },
   "file_extension": ".py",
   "mimetype": "text/x-python",
   "name": "python",
   "nbconvert_exporter": "python",
   "pygments_lexer": "ipython2",
   "version": "2.7.15"
  }
 },
 "nbformat": 4,
 "nbformat_minor": 2
}
