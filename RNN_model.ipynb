{
 "cells": [
  {
   "cell_type": "code",
   "execution_count": 1,
   "metadata": {
    "scrolled": true
   },
   "outputs": [
    {
     "name": "stdout",
     "output_type": "stream",
     "text": [
      "('python version: ', '2.7.15 | packaged by conda-forge | (default, Oct 12 2018, 14:10:51) \\n[GCC 7.3.0]')\n",
      "('pandas version: ', u'0.23.4')\n",
      "('numpy version: ', '1.15.4')\n",
      "('scipy version: ', '1.1.0')\n",
      "('sklearn version: ', '0.19.2')\n"
     ]
    },
    {
     "name": "stderr",
     "output_type": "stream",
     "text": [
      "Using TensorFlow backend.\n"
     ]
    },
    {
     "name": "stdout",
     "output_type": "stream",
     "text": [
      "('keras version: ', '2.2.4')\n",
      "('keras backend: ', u'tensorflow')\n",
      "('tensorflow version: ', '1.10.0')\n",
      "('theano version: ', '0.8.2')\n"
     ]
    }
   ],
   "source": [
    "import sys\n",
    "print(\"python version: \", sys.version)\n",
    "\n",
    "import pandas as pd\n",
    "print(\"pandas version: \", pd.__version__)\n",
    "\n",
    "import numpy as np\n",
    "print('numpy version: ', np.__version__)\n",
    "\n",
    "import scipy as sp\n",
    "print('scipy version: ', sp.__version__)\n",
    "\n",
    "import sklearn as skl\n",
    "print('sklearn version: ', skl.__version__)\n",
    "\n",
    "import matplotlib.pyplot as plt\n",
    "\n",
    "import seaborn as sns\n",
    "\n",
    "import keras as ks\n",
    "print('keras version: ', ks.__version__)\n",
    "print('keras backend: ', ks.backend.backend())\n",
    "\n",
    "import tensorflow as tf\n",
    "print('tensorflow version: ', tf.__version__)\n",
    "\n",
    "import theano as th\n",
    "print('theano version: ', th.__version__)\n",
    "\n",
    "import warnings\n",
    "warnings.filterwarnings('ignore')\n",
    "\n",
    "from sklearn.preprocessing import LabelEncoder\n",
    "from keras.models import Sequential\n",
    "from keras.layers import LSTM, Dense, Dropout\n",
    "from keras import backend as K\n",
    "from sklearn.metrics import confusion_matrix, precision_score, recall_score\n",
    "from sklearn.metrics import roc_curve, auc, f1_score, accuracy_score, precision_recall_curve\n",
    "\n",
    "import os\n",
    "import random\n",
    "from datetime import datetime"
   ]
  },
  {
   "cell_type": "code",
   "execution_count": 303,
   "metadata": {},
   "outputs": [
    {
     "name": "stderr",
     "output_type": "stream",
     "text": [
      "Using Theano backend.\n"
     ]
    }
   ],
   "source": [
    "def set_keras_backend(backend):\n",
    "    if K.backend() != backend:\n",
    "        os.environ['KERAS_BACKEND'] = backend\n",
    "        reload(K)\n",
    "        assert K.backend() == backend\n",
    "\n",
    "set_keras_backend(\"theano\")"
   ]
  },
  {
   "cell_type": "code",
   "execution_count": 2,
   "metadata": {},
   "outputs": [
    {
     "name": "stdout",
     "output_type": "stream",
     "text": [
      "(13422, 191)\n"
     ]
    }
   ],
   "source": [
    "excel_file = r'../Geri-DL-data/data-dictionary.xlsx'\n",
    "data = pd.DataFrame(pd.read_excel(excel_file,sheet_name='Measures'))\n",
    "data_copy = data.copy()\n",
    "print(data.shape)\n",
    "# data.head()"
   ]
  },
  {
   "cell_type": "code",
   "execution_count": 3,
   "metadata": {},
   "outputs": [
    {
     "name": "stdout",
     "output_type": "stream",
     "text": [
      "(7584, 191)\n",
      "Number of unique IDs: 3133\n",
      "\n",
      "(5702, 191)\n",
      "Number of unique IDs: 1251\n",
      "\n",
      "Number of unique IDs: 709\n",
      "\n"
     ]
    },
    {
     "data": {
      "text/plain": [
       "<pandas.core.groupby.groupby.DataFrameGroupBy object at 0x7f350eefbc10>"
      ]
     },
     "execution_count": 3,
     "metadata": {},
     "output_type": "execute_result"
    }
   ],
   "source": [
    "def groupById(data, col='patient-id'):\n",
    "    g = data.groupby(col)\n",
    "    print 'Number of unique IDs: %d\\n' % len(g)\n",
    "    return g\n",
    "\n",
    "data_not_ed = data[data['Entry-discharge-type']=='Not entry/discharge record']\n",
    "print(data_not_ed.shape)\n",
    "group_not_ed = groupById(data_not_ed)\n",
    "\n",
    "group_size = group_not_ed.size()\n",
    "data_lt_one = data_not_ed[ data_not_ed['patient-id'].isin(group_size[group_size > 1].index) ]\n",
    "print(data_lt_one.shape)\n",
    "groupById(data_lt_one)\n",
    "\n",
    "data_no_fall = data_not_ed.loc[data['outcome-Mds-fall-since-prior-assessment']=='Yes']\n",
    "groupById(data_no_fall)"
   ]
  },
  {
   "cell_type": "code",
   "execution_count": 4,
   "metadata": {
    "scrolled": false
   },
   "outputs": [],
   "source": [
    "missing_cnt = data_lt_one.isna().sum()\n",
    "missing_data = pd.concat([missing_cnt, missing_cnt/data_lt_one.shape[0]], axis=1, keys=['count', 'percentage'])\n",
    "# missing_data = missing_data.loc[missing_data['count']!=0].sort_values('percentage', ascending=False)\n",
    "missing_zero = missing_data[missing_data['count'] == 0]\n",
    "# print(missing_zero)"
   ]
  },
  {
   "cell_type": "code",
   "execution_count": 5,
   "metadata": {},
   "outputs": [
    {
     "name": "stdout",
     "output_type": "stream",
     "text": [
      "(5702, 39)\n",
      "(5702,)\n"
     ]
    }
   ],
   "source": [
    "df = data_lt_one[missing_zero[missing_zero.index.str.contains('^(?!.*(-date|ws-|outcome-|Entry)).*$')].index.tolist()]\n",
    "print(df.shape)\n",
    "target = data_lt_one['outcome-Mds-fall-since-prior-assessment']\n",
    "print(target.shape)"
   ]
  },
  {
   "cell_type": "code",
   "execution_count": 6,
   "metadata": {},
   "outputs": [
    {
     "name": "stdout",
     "output_type": "stream",
     "text": [
      "Index([u'cms-long-stay', u'mds-stay-trans-short-to-long', u'gender', u'race',\n",
      "       u'facility', u'mds-antianxiety-medication',\n",
      "       u'mds-antidepressant-medication', u'mds-antipsychotic-medication',\n",
      "       u'mds-antibiotic-medication', u'mds-anticoagulant-medication',\n",
      "       u'mds-diuretic-medication', u'mds-hypnotic-medication',\n",
      "       u'mds-behavioral-symptoms', u'mds-behavioral-symptoms-to-others',\n",
      "       u'mds-bims-summary-ranking', u'mds-dehydrated', u'mds-depression',\n",
      "       u'mds-fever', u'mds-impaired-mobility', u'mds-impaired-transfer',\n",
      "       u'mds-internal-bleeding', u'mds-pain-non-verbal', u'mds-malnutrition',\n",
      "       u'mds-no-problem-conditions', u'mds-vomiting', u'PPS-assessment',\n",
      "       u'Federal-assessment', u'mds-impaired-walk-in-room',\n",
      "       u'mds-impaired-walk-in-corridor', u'mds-impaired-locomot-unit',\n",
      "       u'mds-impaired-locomot-other'],\n",
      "      dtype='object')\n"
     ]
    }
   ],
   "source": [
    "f_obj = df.dtypes[df.dtypes == 'object'].index\n",
    "print(f_obj)"
   ]
  },
  {
   "cell_type": "code",
   "execution_count": 7,
   "metadata": {
    "scrolled": true
   },
   "outputs": [
    {
     "name": "stdout",
     "output_type": "stream",
     "text": [
      "Index([u'patient-id', u'current-stay-days', u'cumulative-days-in-facility',\n",
      "       u'age', u'cns-drug-exposure', u'psychotropic-exposure',\n",
      "       u'pk-interaction', u'mds-adl-scale'],\n",
      "      dtype='object')\n"
     ]
    }
   ],
   "source": [
    "f_numeric = df.dtypes[df.dtypes != 'object'].index\n",
    "print(f_numeric)"
   ]
  },
  {
   "cell_type": "code",
   "execution_count": 8,
   "metadata": {},
   "outputs": [
    {
     "name": "stdout",
     "output_type": "stream",
     "text": [
      "Index([], dtype='object')\n"
     ]
    }
   ],
   "source": [
    "f_not_bin = ['mds-bims-summary-ranking', 'PPS-assessment', 'Federal-assessment', 'gender', 'race', 'facility']\n",
    "df = pd.get_dummies(df, columns=f_not_bin, prefix=f_not_bin)\n",
    "df['mds-pain-non-verbal'] = df['mds-pain-non-verbal'].map({'None/Mild': 0, 'Moderate/Severe': 1})\n",
    "f_obj = f_obj.drop(f_not_bin + ['mds-pain-non-verbal'])\n",
    "for f in f_obj:\n",
    "    df[f] = df[f].map({'No': 0, 'Yes': 1})\n",
    "target = target.map({'None': 0, 'Yes': 1})\n",
    "print(df.dtypes[df.dtypes == 'object'].index)"
   ]
  },
  {
   "cell_type": "markdown",
   "metadata": {},
   "source": [
    "boolean:\n",
    "'cms-long-stay', 'mds-stay-trans-short-to-long', '*-medication'\n",
    "'mds-pain-non-verbal'\n",
    "\n",
    "not-boolean:\n",
    "'mds-bims-summary-ranking', 'PPS-assessment', 'Federal-assessment', \n",
    "\n",
    "drop:\n",
    "'Entry-discharge-type'"
   ]
  },
  {
   "cell_type": "code",
   "execution_count": 9,
   "metadata": {
    "scrolled": true
   },
   "outputs": [],
   "source": [
    "df['target'] = target"
   ]
  },
  {
   "cell_type": "code",
   "execution_count": 10,
   "metadata": {},
   "outputs": [],
   "source": [
    "'''\n",
    " Generate input list for generator\n",
    " \n",
    " Returns:\n",
    "    x: [Patient 1, Patient 2, ...]\n",
    "       in Patient X: [Record 1, Record 2, ...]\n",
    "       type of record is ndarray    \n",
    "    y: [Patient 1, Patient 2, ...]\n",
    "       Patient X is series of target (compatible with ndarray)\n",
    "'''\n",
    "def generate_nested_list(df):\n",
    "    x, y = [], [] \n",
    "    index = df['patient-id'].unique()\n",
    "    for idx in index:\n",
    "        dff = df[df['patient-id']==idx]\n",
    "        \n",
    "        # Method 1, T-1 feature(redunant) & T-1 target & T feature as INPUT, \n",
    "#         cols, names = list(), list()\n",
    "#         cols.append(dff.shift(1))\n",
    "#         names += [('%s_1' % col_name) for col_name in dff.columns]\n",
    "#         cols.append(dff.shift(0))\n",
    "#         names += [('%s' % col_name) for col_name in dff.columns]\n",
    "#         agg = pd.concat(cols, axis=1)\n",
    "#         agg.columns = names\n",
    "#         agg.dropna(inplace=True)\n",
    "#         y.append(agg['target'])\n",
    "#         agg.drop('target', axis=1, inplace=True)\n",
    "#         x.append([xx for xx in agg.values])\n",
    "\n",
    "        # Method 2, T feature as INPUT, lack T-1 actual value\n",
    "#         y.append(dff['target'])\n",
    "#         dff.drop('target', axis=1, inplace=True)\n",
    "#         x.append([value for value in dff.values])\n",
    "\n",
    "        # Method 3, T-1 target & T feature as INPUT\n",
    "        dff['target_1'] = dff['target'].shift(1)\n",
    "        dff = dff[1:]\n",
    "        y.append(dff['target'])\n",
    "        dff = dff.drop(['patient-id', 'target'], axis=1)\n",
    "        x.append([record for record in dff.values])\n",
    "    return x, y"
   ]
  },
  {
   "cell_type": "code",
   "execution_count": 11,
   "metadata": {
    "scrolled": true
   },
   "outputs": [
    {
     "name": "stdout",
     "output_type": "stream",
     "text": [
      "CPU times: user 1min 25s, sys: 24 ms, total: 1min 25s\n",
      "Wall time: 1min 25s\n"
     ]
    }
   ],
   "source": [
    "%%time\n",
    "xmat, ymat = generate_nested_list(df)"
   ]
  },
  {
   "cell_type": "code",
   "execution_count": 12,
   "metadata": {},
   "outputs": [
    {
     "name": "stdout",
     "output_type": "stream",
     "text": [
      "1251\n",
      "1\n",
      "58\n",
      "1251\n",
      "1\n"
     ]
    }
   ],
   "source": [
    "print(len(xmat))\n",
    "print(len(xmat[0]))\n",
    "print(xmat[0][0].shape[0])\n",
    "print(len(ymat))\n",
    "print(ymat[0].shape[0])"
   ]
  },
  {
   "cell_type": "code",
   "execution_count": 13,
   "metadata": {},
   "outputs": [],
   "source": [
    "def check_dim(x, y):\n",
    "    result = [ (len(x[i]) == y[i].shape[0]) for i in range(len(y)) ]\n",
    "    if(False not in result):\n",
    "        print('All dimensions match.')\n",
    "        return True;\n",
    "    else:\n",
    "        print('Some dimensions do not match.')\n",
    "        return result;"
   ]
  },
  {
   "cell_type": "code",
   "execution_count": 14,
   "metadata": {},
   "outputs": [],
   "source": [
    "def train_test_split(xmat, ymat, radio, seed):\n",
    "    random.seed(seed)\n",
    "    n_total = sum(y.shape[0] for y in ymat)\n",
    "    print('total number of samples: %d' % n_total)\n",
    "    X_train, X_test, Y_train, Y_test = ([], ) * 4\n",
    "    idx = random.sample(range(len(ymat)), len(ymat))\n",
    "    n_train = 0\n",
    "    for i, val in enumerate(idx):\n",
    "        n_train += len(ymat[val])\n",
    "        if(n_train >= n_total * radio):\n",
    "            X_train, Y_train = [xmat[j] for j in idx[:i]], [ymat[j] for j in idx[:i]]\n",
    "            X_test, Y_test = [xmat[j] for j in idx[i:]], [ymat[j] for j in idx[i:]]\n",
    "            print('total number of samples in training set: %d' % n_train)\n",
    "            break\n",
    "    return X_train, X_test, Y_train, Y_test"
   ]
  },
  {
   "cell_type": "code",
   "execution_count": 15,
   "metadata": {},
   "outputs": [],
   "source": [
    "def train_test_split_by_patient(xmat, ymat, radio, seed):\n",
    "    random.seed(seed)\n",
    "    idx = random.sample(range(len(ymat)), len(ymat))\n",
    "    i = int(len(ymat) * radio)\n",
    "    X_train, Y_train = [xmat[j] for j in idx[:i]], [ymat[j] for j in idx[:i]]\n",
    "    X_test, Y_test = [xmat[j] for j in idx[i:]], [ymat[j] for j in idx[i:]]\n",
    "    return X_train, X_test, Y_train, Y_test"
   ]
  },
  {
   "cell_type": "code",
   "execution_count": 16,
   "metadata": {},
   "outputs": [],
   "source": [
    "def nested_list_to_df(layer1, col_names):\n",
    "    li = [layer3 for layer2 in layer1 for layer3 in layer2]\n",
    "    return pd.DataFrame(np.row_stack(li), columns=col_names)"
   ]
  },
  {
   "cell_type": "code",
   "execution_count": 17,
   "metadata": {},
   "outputs": [
    {
     "name": "stdout",
     "output_type": "stream",
     "text": [
      "total number of samples: 4451\n",
      "total number of samples in training set: 3117\n"
     ]
    }
   ],
   "source": [
    "X_train, X_test, Y_train, Y_test = train_test_split(xmat, ymat, 0.7, 1)"
   ]
  },
  {
   "cell_type": "code",
   "execution_count": 274,
   "metadata": {},
   "outputs": [],
   "source": [
    "X_train, X_test, Y_train, Y_test = train_test_split_by_patient(xmat, ymat, 0.7, 1)"
   ]
  },
  {
   "cell_type": "code",
   "execution_count": 18,
   "metadata": {},
   "outputs": [
    {
     "name": "stdout",
     "output_type": "stream",
     "text": [
      "904\n",
      "1\n",
      "58\n",
      "904\n",
      "1\n"
     ]
    }
   ],
   "source": [
    "print(len(X_train))\n",
    "print(len(X_train[0]))\n",
    "print(X_train[0][0].shape[0])\n",
    "print(len(Y_train))\n",
    "print(Y_train[0].shape[0])"
   ]
  },
  {
   "cell_type": "code",
   "execution_count": 19,
   "metadata": {},
   "outputs": [
    {
     "name": "stdout",
     "output_type": "stream",
     "text": [
      "All dimensions match.\n"
     ]
    },
    {
     "data": {
      "text/plain": [
       "True"
      ]
     },
     "execution_count": 19,
     "metadata": {},
     "output_type": "execute_result"
    }
   ],
   "source": [
    "check_dim(X_train, Y_train)"
   ]
  },
  {
   "cell_type": "code",
   "execution_count": 20,
   "metadata": {},
   "outputs": [],
   "source": [
    "col_names = df.columns.tolist()[1:-1]\n",
    "col_names.append('target_1')\n",
    "# print(col_names)"
   ]
  },
  {
   "cell_type": "code",
   "execution_count": 278,
   "metadata": {
    "scrolled": false
   },
   "outputs": [
    {
     "data": {
      "text/plain": [
       "(3031, 58)"
      ]
     },
     "execution_count": 278,
     "metadata": {},
     "output_type": "execute_result"
    }
   ],
   "source": [
    "nested_list_to_df(X_train, col_names).shape"
   ]
  },
  {
   "cell_type": "code",
   "execution_count": 21,
   "metadata": {},
   "outputs": [],
   "source": [
    "from sklearn.preprocessing import MinMaxScaler\n",
    "scaler = MinMaxScaler(feature_range=(0, 1))\n",
    "scaler.fit(pd.DataFrame(np.concatenate(X_train)))\n",
    "X_train_transformed = list()\n",
    "for X in X_train:\n",
    "    X_train_transformed.append(scaler.transform(X))\n",
    "scaler.fit(pd.DataFrame(np.concatenate(X_test)))\n",
    "X_test_transformed = list()\n",
    "for X in X_test:\n",
    "    X_test_transformed.append(scaler.transform(X))"
   ]
  },
  {
   "cell_type": "code",
   "execution_count": 22,
   "metadata": {},
   "outputs": [],
   "source": [
    "def mygenerator(obj):\n",
    "    if(isinstance(obj, tuple)):\n",
    "        xmat, ymat = obj\n",
    "        while True:\n",
    "            for x, y in zip(xmat, ymat):\n",
    "                yield (np.array(x).reshape((len(x), 1, x[0].shape[0])), y)\n",
    "    else:\n",
    "        xmat = obj\n",
    "        while True:\n",
    "            for x in xmat:\n",
    "                yield (np.array(x).reshape((len(x), 1, x[0].shape[0])))"
   ]
  },
  {
   "cell_type": "code",
   "execution_count": 23,
   "metadata": {},
   "outputs": [],
   "source": [
    "model = Sequential()\n",
    "n_timesteps = 1\n",
    "n_dimensions = xmat[0][0].shape[0]\n",
    "model.add(LSTM(20, input_shape=(n_timesteps, n_dimensions)))\n",
    "model.add(Dropout(0.5))\n",
    "model.add(Dense(1, activation='sigmoid'))\n",
    "model.compile(loss='binary_crossentropy', optimizer='adagrad', metrics=['binary_accuracy'])"
   ]
  },
  {
   "cell_type": "code",
   "execution_count": 24,
   "metadata": {
    "scrolled": true
   },
   "outputs": [
    {
     "name": "stdout",
     "output_type": "stream",
     "text": [
      "Epoch 1/100\n",
      "904/904 [==============================] - 2s 3ms/step - loss: 0.4791 - binary_accuracy: 0.8186 - val_loss: 0.5137 - val_binary_accuracy: 0.7867\n",
      "Epoch 2/100\n",
      "904/904 [==============================] - 2s 2ms/step - loss: 0.4612 - binary_accuracy: 0.8203 - val_loss: 0.5052 - val_binary_accuracy: 0.7867\n",
      "Epoch 3/100\n",
      "904/904 [==============================] - 2s 2ms/step - loss: 0.4519 - binary_accuracy: 0.8203 - val_loss: 0.5000 - val_binary_accuracy: 0.7867\n",
      "Epoch 4/100\n",
      "904/904 [==============================] - 2s 2ms/step - loss: 0.4485 - binary_accuracy: 0.8201 - val_loss: 0.4957 - val_binary_accuracy: 0.7882\n",
      "Epoch 5/100\n",
      "904/904 [==============================] - 2s 2ms/step - loss: 0.4426 - binary_accuracy: 0.8213 - val_loss: 0.4921 - val_binary_accuracy: 0.7874\n",
      "Epoch 6/100\n",
      "904/904 [==============================] - 2s 2ms/step - loss: 0.4411 - binary_accuracy: 0.8225 - val_loss: 0.4894 - val_binary_accuracy: 0.7874\n",
      "Epoch 7/100\n",
      "904/904 [==============================] - 2s 2ms/step - loss: 0.4295 - binary_accuracy: 0.8237 - val_loss: 0.4871 - val_binary_accuracy: 0.7889\n",
      "Epoch 8/100\n",
      "904/904 [==============================] - 2s 2ms/step - loss: 0.4355 - binary_accuracy: 0.8238 - val_loss: 0.4851 - val_binary_accuracy: 0.7934\n",
      "Epoch 9/100\n",
      "904/904 [==============================] - 2s 2ms/step - loss: 0.4327 - binary_accuracy: 0.8214 - val_loss: 0.4834 - val_binary_accuracy: 0.7927\n",
      "Epoch 10/100\n",
      "904/904 [==============================] - 2s 2ms/step - loss: 0.4263 - binary_accuracy: 0.8217 - val_loss: 0.4821 - val_binary_accuracy: 0.7897\n",
      "Epoch 11/100\n",
      "904/904 [==============================] - 2s 2ms/step - loss: 0.4253 - binary_accuracy: 0.8239 - val_loss: 0.4808 - val_binary_accuracy: 0.7897\n",
      "Epoch 12/100\n",
      "904/904 [==============================] - 2s 2ms/step - loss: 0.4308 - binary_accuracy: 0.8237 - val_loss: 0.4800 - val_binary_accuracy: 0.7889\n",
      "Epoch 13/100\n",
      "904/904 [==============================] - 2s 2ms/step - loss: 0.4247 - binary_accuracy: 0.8222 - val_loss: 0.4790 - val_binary_accuracy: 0.7904\n",
      "Epoch 14/100\n",
      "904/904 [==============================] - 2s 2ms/step - loss: 0.4248 - binary_accuracy: 0.8251 - val_loss: 0.4779 - val_binary_accuracy: 0.7867\n",
      "Epoch 15/100\n",
      "904/904 [==============================] - 2s 2ms/step - loss: 0.4282 - binary_accuracy: 0.8248 - val_loss: 0.4773 - val_binary_accuracy: 0.7852\n",
      "Epoch 16/100\n",
      "904/904 [==============================] - 2s 2ms/step - loss: 0.4277 - binary_accuracy: 0.8254 - val_loss: 0.4764 - val_binary_accuracy: 0.7867\n",
      "Epoch 17/100\n",
      "904/904 [==============================] - 2s 2ms/step - loss: 0.4267 - binary_accuracy: 0.8250 - val_loss: 0.4759 - val_binary_accuracy: 0.7889\n",
      "Epoch 18/100\n",
      "904/904 [==============================] - 2s 2ms/step - loss: 0.4274 - binary_accuracy: 0.8233 - val_loss: 0.4754 - val_binary_accuracy: 0.7889\n",
      "Epoch 19/100\n",
      "904/904 [==============================] - 2s 2ms/step - loss: 0.4235 - binary_accuracy: 0.8275 - val_loss: 0.4749 - val_binary_accuracy: 0.7882\n",
      "Epoch 20/100\n",
      "904/904 [==============================] - 2s 2ms/step - loss: 0.4212 - binary_accuracy: 0.8272 - val_loss: 0.4745 - val_binary_accuracy: 0.7882\n",
      "Epoch 21/100\n",
      "904/904 [==============================] - 2s 2ms/step - loss: 0.4143 - binary_accuracy: 0.8288 - val_loss: 0.4744 - val_binary_accuracy: 0.7882\n",
      "Epoch 22/100\n",
      "904/904 [==============================] - 2s 2ms/step - loss: 0.4221 - binary_accuracy: 0.8270 - val_loss: 0.4740 - val_binary_accuracy: 0.7889\n",
      "Epoch 23/100\n",
      "904/904 [==============================] - 2s 2ms/step - loss: 0.4198 - binary_accuracy: 0.8274 - val_loss: 0.4737 - val_binary_accuracy: 0.7897\n",
      "Epoch 24/100\n",
      "904/904 [==============================] - 2s 2ms/step - loss: 0.4229 - binary_accuracy: 0.8246 - val_loss: 0.4734 - val_binary_accuracy: 0.7889\n",
      "Epoch 25/100\n",
      "904/904 [==============================] - 2s 2ms/step - loss: 0.4189 - binary_accuracy: 0.8274 - val_loss: 0.4732 - val_binary_accuracy: 0.7882\n",
      "Epoch 26/100\n",
      "904/904 [==============================] - 2s 2ms/step - loss: 0.4214 - binary_accuracy: 0.8290 - val_loss: 0.4729 - val_binary_accuracy: 0.7882\n",
      "Epoch 27/100\n",
      "904/904 [==============================] - 2s 2ms/step - loss: 0.4228 - binary_accuracy: 0.8265 - val_loss: 0.4725 - val_binary_accuracy: 0.7912\n",
      "Epoch 28/100\n",
      "904/904 [==============================] - 2s 2ms/step - loss: 0.4145 - binary_accuracy: 0.8298 - val_loss: 0.4721 - val_binary_accuracy: 0.7912\n",
      "Epoch 29/100\n",
      "904/904 [==============================] - 2s 2ms/step - loss: 0.4193 - binary_accuracy: 0.8271 - val_loss: 0.4720 - val_binary_accuracy: 0.7904\n",
      "Epoch 30/100\n",
      "904/904 [==============================] - 2s 2ms/step - loss: 0.4190 - binary_accuracy: 0.8233 - val_loss: 0.4720 - val_binary_accuracy: 0.7882\n",
      "Epoch 31/100\n",
      "904/904 [==============================] - 2s 2ms/step - loss: 0.4163 - binary_accuracy: 0.8313 - val_loss: 0.4718 - val_binary_accuracy: 0.7882\n",
      "Epoch 32/100\n",
      "904/904 [==============================] - 2s 2ms/step - loss: 0.4171 - binary_accuracy: 0.8278 - val_loss: 0.4717 - val_binary_accuracy: 0.7889\n",
      "Epoch 33/100\n",
      "904/904 [==============================] - 2s 2ms/step - loss: 0.4175 - binary_accuracy: 0.8287 - val_loss: 0.4714 - val_binary_accuracy: 0.7897\n",
      "Epoch 34/100\n",
      "904/904 [==============================] - 2s 2ms/step - loss: 0.4169 - binary_accuracy: 0.8270 - val_loss: 0.4711 - val_binary_accuracy: 0.7912\n",
      "Epoch 35/100\n",
      "904/904 [==============================] - 2s 2ms/step - loss: 0.4151 - binary_accuracy: 0.8309 - val_loss: 0.4711 - val_binary_accuracy: 0.7904\n",
      "Epoch 36/100\n",
      "904/904 [==============================] - 2s 2ms/step - loss: 0.4178 - binary_accuracy: 0.8293 - val_loss: 0.4707 - val_binary_accuracy: 0.7919\n",
      "Epoch 37/100\n",
      "904/904 [==============================] - 2s 2ms/step - loss: 0.4160 - binary_accuracy: 0.8244 - val_loss: 0.4706 - val_binary_accuracy: 0.7919\n",
      "Epoch 38/100\n",
      "904/904 [==============================] - 2s 2ms/step - loss: 0.4174 - binary_accuracy: 0.8297 - val_loss: 0.4706 - val_binary_accuracy: 0.7912\n",
      "Epoch 39/100\n",
      "904/904 [==============================] - 2s 2ms/step - loss: 0.4110 - binary_accuracy: 0.8264 - val_loss: 0.4703 - val_binary_accuracy: 0.7912\n",
      "Epoch 40/100\n",
      "904/904 [==============================] - 2s 2ms/step - loss: 0.4153 - binary_accuracy: 0.8278 - val_loss: 0.4702 - val_binary_accuracy: 0.7919\n",
      "Epoch 41/100\n",
      "904/904 [==============================] - 2s 2ms/step - loss: 0.4171 - binary_accuracy: 0.8262 - val_loss: 0.4702 - val_binary_accuracy: 0.7912\n",
      "Epoch 42/100\n",
      "904/904 [==============================] - 2s 2ms/step - loss: 0.4155 - binary_accuracy: 0.8280 - val_loss: 0.4700 - val_binary_accuracy: 0.7912\n",
      "Epoch 43/100\n",
      "904/904 [==============================] - 2s 2ms/step - loss: 0.4147 - binary_accuracy: 0.8315 - val_loss: 0.4697 - val_binary_accuracy: 0.7897\n",
      "Epoch 44/100\n",
      "904/904 [==============================] - 2s 2ms/step - loss: 0.4144 - binary_accuracy: 0.8287 - val_loss: 0.4698 - val_binary_accuracy: 0.7912\n",
      "Epoch 45/100\n",
      "904/904 [==============================] - 2s 2ms/step - loss: 0.4184 - binary_accuracy: 0.8285 - val_loss: 0.4694 - val_binary_accuracy: 0.7912\n",
      "Epoch 46/100\n",
      "904/904 [==============================] - 2s 2ms/step - loss: 0.4168 - binary_accuracy: 0.8278 - val_loss: 0.4694 - val_binary_accuracy: 0.7912\n",
      "Epoch 47/100\n",
      "904/904 [==============================] - 2s 2ms/step - loss: 0.4204 - binary_accuracy: 0.8265 - val_loss: 0.4693 - val_binary_accuracy: 0.7912\n",
      "Epoch 48/100\n",
      "904/904 [==============================] - 2s 2ms/step - loss: 0.4159 - binary_accuracy: 0.8294 - val_loss: 0.4693 - val_binary_accuracy: 0.7919\n",
      "Epoch 49/100\n",
      "904/904 [==============================] - 2s 2ms/step - loss: 0.4141 - binary_accuracy: 0.8285 - val_loss: 0.4691 - val_binary_accuracy: 0.7904\n",
      "Epoch 50/100\n",
      "904/904 [==============================] - 2s 2ms/step - loss: 0.4112 - binary_accuracy: 0.8318 - val_loss: 0.4690 - val_binary_accuracy: 0.7897\n",
      "Epoch 51/100\n",
      "904/904 [==============================] - 2s 2ms/step - loss: 0.4173 - binary_accuracy: 0.8310 - val_loss: 0.4693 - val_binary_accuracy: 0.7912\n",
      "Epoch 52/100\n",
      "904/904 [==============================] - 2s 2ms/step - loss: 0.4162 - binary_accuracy: 0.8273 - val_loss: 0.4691 - val_binary_accuracy: 0.7919\n"
     ]
    },
    {
     "name": "stdout",
     "output_type": "stream",
     "text": [
      "Epoch 53/100\n",
      "904/904 [==============================] - 2s 2ms/step - loss: 0.4136 - binary_accuracy: 0.8294 - val_loss: 0.4689 - val_binary_accuracy: 0.7904\n",
      "Epoch 54/100\n",
      "904/904 [==============================] - 2s 2ms/step - loss: 0.4170 - binary_accuracy: 0.8286 - val_loss: 0.4689 - val_binary_accuracy: 0.7904\n",
      "Epoch 55/100\n",
      "904/904 [==============================] - 2s 2ms/step - loss: 0.4242 - binary_accuracy: 0.8303 - val_loss: 0.4687 - val_binary_accuracy: 0.7904\n",
      "Epoch 56/100\n",
      "904/904 [==============================] - 2s 2ms/step - loss: 0.4143 - binary_accuracy: 0.8279 - val_loss: 0.4687 - val_binary_accuracy: 0.7904\n",
      "Epoch 57/100\n",
      "904/904 [==============================] - 2s 2ms/step - loss: 0.4134 - binary_accuracy: 0.8326 - val_loss: 0.4687 - val_binary_accuracy: 0.7912\n",
      "Epoch 58/100\n",
      "904/904 [==============================] - 2s 2ms/step - loss: 0.4124 - binary_accuracy: 0.8322 - val_loss: 0.4686 - val_binary_accuracy: 0.7904\n",
      "Epoch 59/100\n",
      "904/904 [==============================] - 2s 2ms/step - loss: 0.4143 - binary_accuracy: 0.8269 - val_loss: 0.4686 - val_binary_accuracy: 0.7904\n",
      "Epoch 60/100\n",
      "904/904 [==============================] - 2s 2ms/step - loss: 0.4153 - binary_accuracy: 0.8296 - val_loss: 0.4688 - val_binary_accuracy: 0.7912\n",
      "Epoch 61/100\n",
      "904/904 [==============================] - 2s 2ms/step - loss: 0.4180 - binary_accuracy: 0.8258 - val_loss: 0.4686 - val_binary_accuracy: 0.7912\n",
      "Epoch 62/100\n",
      "904/904 [==============================] - 2s 2ms/step - loss: 0.4136 - binary_accuracy: 0.8316 - val_loss: 0.4685 - val_binary_accuracy: 0.7912\n",
      "Epoch 63/100\n",
      "904/904 [==============================] - 2s 2ms/step - loss: 0.4106 - binary_accuracy: 0.8257 - val_loss: 0.4685 - val_binary_accuracy: 0.7904\n",
      "Epoch 64/100\n",
      "904/904 [==============================] - 2s 2ms/step - loss: 0.4136 - binary_accuracy: 0.8327 - val_loss: 0.4684 - val_binary_accuracy: 0.7904\n",
      "Epoch 65/100\n",
      "904/904 [==============================] - 2s 2ms/step - loss: 0.4153 - binary_accuracy: 0.8268 - val_loss: 0.4685 - val_binary_accuracy: 0.7912\n",
      "Epoch 66/100\n",
      "904/904 [==============================] - 2s 2ms/step - loss: 0.4106 - binary_accuracy: 0.8293 - val_loss: 0.4685 - val_binary_accuracy: 0.7912\n",
      "Epoch 67/100\n",
      "904/904 [==============================] - 2s 2ms/step - loss: 0.4057 - binary_accuracy: 0.8306 - val_loss: 0.4685 - val_binary_accuracy: 0.7904\n",
      "Epoch 68/100\n",
      "904/904 [==============================] - 2s 2ms/step - loss: 0.4129 - binary_accuracy: 0.8307 - val_loss: 0.4684 - val_binary_accuracy: 0.7904\n",
      "Epoch 69/100\n",
      "904/904 [==============================] - 2s 2ms/step - loss: 0.4174 - binary_accuracy: 0.8298 - val_loss: 0.4683 - val_binary_accuracy: 0.7912\n",
      "Epoch 70/100\n",
      "904/904 [==============================] - 2s 2ms/step - loss: 0.4140 - binary_accuracy: 0.8298 - val_loss: 0.4684 - val_binary_accuracy: 0.7912\n",
      "Epoch 71/100\n",
      "904/904 [==============================] - 2s 2ms/step - loss: 0.4130 - binary_accuracy: 0.8316 - val_loss: 0.4683 - val_binary_accuracy: 0.7912\n",
      "Epoch 72/100\n",
      "904/904 [==============================] - 2s 2ms/step - loss: 0.4096 - binary_accuracy: 0.8354 - val_loss: 0.4684 - val_binary_accuracy: 0.7904\n",
      "Epoch 73/100\n",
      "904/904 [==============================] - 2s 2ms/step - loss: 0.4083 - binary_accuracy: 0.8368 - val_loss: 0.4683 - val_binary_accuracy: 0.7904\n",
      "Epoch 74/100\n",
      "904/904 [==============================] - 2s 2ms/step - loss: 0.4103 - binary_accuracy: 0.8302 - val_loss: 0.4684 - val_binary_accuracy: 0.7904\n",
      "Epoch 75/100\n",
      "904/904 [==============================] - 2s 2ms/step - loss: 0.4138 - binary_accuracy: 0.8337 - val_loss: 0.4685 - val_binary_accuracy: 0.7912\n",
      "Epoch 76/100\n",
      "904/904 [==============================] - 2s 2ms/step - loss: 0.4041 - binary_accuracy: 0.8291 - val_loss: 0.4686 - val_binary_accuracy: 0.7912\n",
      "Epoch 77/100\n",
      "904/904 [==============================] - 2s 2ms/step - loss: 0.4176 - binary_accuracy: 0.8316 - val_loss: 0.4683 - val_binary_accuracy: 0.7904\n",
      "Epoch 78/100\n",
      "904/904 [==============================] - 2s 2ms/step - loss: 0.4100 - binary_accuracy: 0.8309 - val_loss: 0.4684 - val_binary_accuracy: 0.7912\n",
      "Epoch 79/100\n",
      "904/904 [==============================] - 2s 2ms/step - loss: 0.4102 - binary_accuracy: 0.8324 - val_loss: 0.4684 - val_binary_accuracy: 0.7897\n",
      "Epoch 80/100\n",
      "904/904 [==============================] - 2s 2ms/step - loss: 0.4072 - binary_accuracy: 0.8331 - val_loss: 0.4683 - val_binary_accuracy: 0.7897\n",
      "Epoch 81/100\n",
      "904/904 [==============================] - 2s 2ms/step - loss: 0.4084 - binary_accuracy: 0.8317 - val_loss: 0.4683 - val_binary_accuracy: 0.7897\n",
      "Epoch 82/100\n",
      "904/904 [==============================] - 2s 2ms/step - loss: 0.4084 - binary_accuracy: 0.8319 - val_loss: 0.4683 - val_binary_accuracy: 0.7897\n",
      "Epoch 83/100\n",
      "904/904 [==============================] - 2s 2ms/step - loss: 0.4117 - binary_accuracy: 0.8310 - val_loss: 0.4681 - val_binary_accuracy: 0.7897\n",
      "Epoch 84/100\n",
      "904/904 [==============================] - 2s 2ms/step - loss: 0.4105 - binary_accuracy: 0.8301 - val_loss: 0.4681 - val_binary_accuracy: 0.7904\n",
      "Epoch 85/100\n",
      "904/904 [==============================] - 2s 2ms/step - loss: 0.4114 - binary_accuracy: 0.8343 - val_loss: 0.4681 - val_binary_accuracy: 0.7897\n",
      "Epoch 86/100\n",
      "904/904 [==============================] - 2s 2ms/step - loss: 0.4094 - binary_accuracy: 0.8320 - val_loss: 0.4681 - val_binary_accuracy: 0.7897\n",
      "Epoch 87/100\n",
      "904/904 [==============================] - 2s 2ms/step - loss: 0.4068 - binary_accuracy: 0.8301 - val_loss: 0.4683 - val_binary_accuracy: 0.7912\n",
      "Epoch 88/100\n",
      "904/904 [==============================] - 2s 2ms/step - loss: 0.4078 - binary_accuracy: 0.8304 - val_loss: 0.4681 - val_binary_accuracy: 0.7897\n",
      "Epoch 89/100\n",
      "904/904 [==============================] - 2s 2ms/step - loss: 0.4096 - binary_accuracy: 0.8289 - val_loss: 0.4683 - val_binary_accuracy: 0.7904\n",
      "Epoch 90/100\n",
      "904/904 [==============================] - 2s 2ms/step - loss: 0.4066 - binary_accuracy: 0.8299 - val_loss: 0.4683 - val_binary_accuracy: 0.7912\n",
      "Epoch 91/100\n",
      "904/904 [==============================] - 2s 2ms/step - loss: 0.4118 - binary_accuracy: 0.8316 - val_loss: 0.4680 - val_binary_accuracy: 0.7904\n",
      "Epoch 92/100\n",
      "904/904 [==============================] - 2s 2ms/step - loss: 0.4106 - binary_accuracy: 0.8318 - val_loss: 0.4681 - val_binary_accuracy: 0.7912\n",
      "Epoch 93/100\n",
      "904/904 [==============================] - 2s 2ms/step - loss: 0.4055 - binary_accuracy: 0.8327 - val_loss: 0.4681 - val_binary_accuracy: 0.7912\n",
      "Epoch 94/100\n",
      "904/904 [==============================] - 2s 2ms/step - loss: 0.4075 - binary_accuracy: 0.8310 - val_loss: 0.4680 - val_binary_accuracy: 0.7912\n",
      "Epoch 95/100\n",
      "904/904 [==============================] - 2s 2ms/step - loss: 0.4053 - binary_accuracy: 0.8303 - val_loss: 0.4679 - val_binary_accuracy: 0.7919\n",
      "Epoch 96/100\n",
      "904/904 [==============================] - 2s 2ms/step - loss: 0.4042 - binary_accuracy: 0.8328 - val_loss: 0.4681 - val_binary_accuracy: 0.7912\n",
      "Epoch 97/100\n",
      "904/904 [==============================] - 2s 2ms/step - loss: 0.4052 - binary_accuracy: 0.8310 - val_loss: 0.4681 - val_binary_accuracy: 0.7904\n",
      "Epoch 98/100\n",
      "904/904 [==============================] - 2s 2ms/step - loss: 0.4131 - binary_accuracy: 0.8307 - val_loss: 0.4679 - val_binary_accuracy: 0.7919\n",
      "Epoch 99/100\n",
      "904/904 [==============================] - 2s 2ms/step - loss: 0.4116 - binary_accuracy: 0.8308 - val_loss: 0.4679 - val_binary_accuracy: 0.7919\n",
      "Epoch 100/100\n",
      "904/904 [==============================] - 2s 2ms/step - loss: 0.4146 - binary_accuracy: 0.8345 - val_loss: 0.4677 - val_binary_accuracy: 0.7927\n"
     ]
    },
    {
     "data": {
      "image/png": "[encoded data removed]",
      "text/plain": [
       "<Figure size 432x288 with 1 Axes>"
      ]
     },
     "metadata": {
      "needs_background": "light"
     },
     "output_type": "display_data"
    },
    {
     "name": "stdout",
     "output_type": "stream",
     "text": [
      "CPU times: user 7min 40s, sys: 1min 30s, total: 9min 10s\n",
      "Wall time: 3min 1s\n"
     ]
    }
   ],
   "source": [
    "%%time\n",
    "history = model.fit_generator(mygenerator((X_train_transformed, Y_train)), steps_per_epoch=len(X_train_transformed), \\\n",
    "                              epochs=100, validation_data=mygenerator((X_test_transformed, Y_test)), \\\n",
    "                              validation_steps=len(X_test_transformed))\n",
    "\n",
    "plt.plot(history.history['loss'])\n",
    "plt.plot(history.history['val_loss'])\n",
    "plt.title('model loss')\n",
    "plt.ylabel('loss')\n",
    "plt.xlabel('epoch')\n",
    "plt.legend(['train', 'test'], loc='upper right')\n",
    "plt.show()"
   ]
  },
  {
   "cell_type": "code",
   "execution_count": 25,
   "metadata": {},
   "outputs": [
    {
     "name": "stdout",
     "output_type": "stream",
     "text": [
      "Confusion Matrix:\n",
      "[[1014   37]\n",
      " [ 240   45]]\n",
      "('Precision score: ', 0.5487804878048781)\n",
      "('Recall score: ', 0.15789473684210525)\n",
      "('Accuracy: ', 0.7926646706586826)\n",
      "('F1 score: ', 0.24523160762942775)\n"
     ]
    },
    {
     "data": {
      "image/png": "[encoded data removed]",
      "text/plain": [
       "<Figure size 432x288 with 1 Axes>"
      ]
     },
     "metadata": {
      "needs_background": "light"
     },
     "output_type": "display_data"
    },
    {
     "data": {
      "image/png": "[encoded data removed]",
      "text/plain": [
       "<Figure size 432x288 with 1 Axes>"
      ]
     },
     "metadata": {
      "needs_background": "light"
     },
     "output_type": "display_data"
    }
   ],
   "source": [
    "Y_predicted = model.predict_generator(mygenerator(X_test_transformed), steps=len(X_test_transformed))\n",
    "Y_predicted_c = np.concatenate(Y_predicted)\n",
    "Y_test_c = np.concatenate(Y_test)\n",
    "Y_pred_0_5 = (Y_predicted_c > 0.5)\n",
    "print('Confusion Matrix:')\n",
    "print(confusion_matrix(Y_test_c, Y_pred_0_5))\n",
    "print('Precision score: ', precision_score(Y_test_c, Y_pred_0_5))\n",
    "print('Recall score: ', recall_score(Y_test_c, Y_pred_0_5))\n",
    "fpr, tpr, thresholds = roc_curve(Y_test_c, Y_predicted_c, pos_label=1)\n",
    "print('Accuracy: ', accuracy_score(Y_test_c, Y_pred_0_5))\n",
    "print('F1 score: ', f1_score(Y_test_c, Y_pred_0_5))\n",
    "\n",
    "def plot_roc_curve(fpr, tpr, saveplt=False, comment=''):\n",
    "    plt.figure()\n",
    "    plt.plot(fpr, tpr, color='darkorange',\n",
    "             label='ROC curve (area = %0.2f)' % auc(fpr, tpr))\n",
    "    plt.plot([0, 1], [0, 1], color='navy', linestyle='--')\n",
    "    plt.xlim([0.0, 1.0])\n",
    "    plt.ylim([0.0, 1.05])\n",
    "    plt.xlabel('False Positive Rate')\n",
    "    plt.ylabel('True Positive Rate')\n",
    "    plt.legend(loc=\"lower right\")\n",
    "    if(saveplt):\n",
    "        plt.savefig('./results/' + datetime.now().strftime('%Y%m%d_%H%M%S') + '_ROC'+ comment)\n",
    "    plt.show()\n",
    "    \n",
    "def plot_precision_recall_curve(Y_test, Y_predicted, saveplt=False, comment=''):\n",
    "    plt.figure()\n",
    "    precision, recall, _ = precision_recall_curve(Y_test, Y_predicted)\n",
    "    plt.plot(recall, precision)\n",
    "    plt.xlim([0.0, 1.0])\n",
    "    plt.ylim([0.0, 1.05])\n",
    "    plt.xlabel('Recall')\n",
    "    plt.ylabel('Precision')\n",
    "    if(saveplt):\n",
    "        plt.savefig('./results/' + datetime.now().strftime('%Y%m%d_%H%M%S') + '_Precision_Recall' + comment)\n",
    "    plt.show()\n",
    "        \n",
    "plot_roc_curve(fpr, tpr)\n",
    "plot_precision_recall_curve(Y_test_c, Y_predicted_c)\n",
    "# plot_roc_curve(fpr, tpr, True, '_m3_r1_lstm20_e100_by_patient')\n",
    "# plot_precision_recall_curve(Y_test_c, Y_predicted_c, True, '_m3_r1_lstm20_e100_by_patient')"
   ]
  },
  {
   "cell_type": "code",
   "execution_count": null,
   "metadata": {},
   "outputs": [],
   "source": []
  }
 ],
 "metadata": {
  "kernelspec": {
   "display_name": "Python 2",
   "language": "python",
   "name": "python2"
  },
  "language_info": {
   "codemirror_mode": {
    "name": "ipython",
    "version": 2
   },
   "file_extension": ".py",
   "mimetype": "text/x-python",
   "name": "python",
   "nbconvert_exporter": "python",
   "pygments_lexer": "ipython2",
   "version": "2.7.15"
  }
 },
 "nbformat": 4,
 "nbformat_minor": 2
}
