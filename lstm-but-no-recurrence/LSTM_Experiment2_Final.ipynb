{
 "cells": [
  {
   "cell_type": "code",
   "execution_count": 1,
   "metadata": {},
   "outputs": [
    {
     "name": "stdout",
     "output_type": "stream",
     "text": [
      "('python version: ', '2.7.15 |Anaconda, Inc.| (default, Dec 14 2018, 19:04:19) \\n[GCC 7.3.0]')\n",
      "('pandas version: ', u'0.23.4')\n",
      "('numpy version: ', '1.15.4')\n",
      "('scipy version: ', '1.1.0')\n",
      "('sklearn version: ', '0.19.2')\n"
     ]
    },
    {
     "name": "stderr",
     "output_type": "stream",
     "text": [
      "Using TensorFlow backend.\n"
     ]
    },
    {
     "name": "stdout",
     "output_type": "stream",
     "text": [
      "('keras version: ', '2.1.6')\n",
      "('keras backend: ', u'tensorflow')\n",
      "('tensorflow version: ', '1.10.0')\n",
      "('theano version: ', '0.8.2')\n"
     ]
    }
   ],
   "source": [
    "import sys\n",
    "print(\"python version: \", sys.version)\n",
    "\n",
    "import pandas as pd\n",
    "print(\"pandas version: \", pd.__version__)\n",
    "\n",
    "import numpy as np\n",
    "print('numpy version: ', np.__version__)\n",
    "\n",
    "import scipy as sp\n",
    "print('scipy version: ', sp.__version__)\n",
    "\n",
    "import sklearn as skl\n",
    "print('sklearn version: ', skl.__version__)\n",
    "\n",
    "import matplotlib.pyplot as plt\n",
    "\n",
    "import seaborn as sns\n",
    "\n",
    "import keras as ks\n",
    "print('keras version: ', ks.__version__)\n",
    "print('keras backend: ', ks.backend.backend())\n",
    "\n",
    "import tensorflow as tf\n",
    "print('tensorflow version: ', tf.__version__)\n",
    "\n",
    "import theano as th\n",
    "print('theano version: ', th.__version__)\n",
    "\n",
    "import warnings\n",
    "warnings.filterwarnings('ignore')\n",
    "\n",
    "\n",
    "from keras import backend as K\n",
    "from sklearn.metrics import confusion_matrix, precision_score, recall_score\n",
    "from sklearn.metrics import roc_curve, auc, f1_score, accuracy_score, precision_recall_curve\n",
    "\n",
    "import os\n",
    "import random"
   ]
  },
  {
   "cell_type": "code",
   "execution_count": 2,
   "metadata": {},
   "outputs": [],
   "source": [
    "def set_keras_backend(backend):\n",
    "    if K.backend() != backend:\n",
    "        os.environ['KERAS_BACKEND'] = backend\n",
    "        reload(K)\n",
    "        assert K.backend() == backend\n",
    "\n",
    "set_keras_backend(\"tensorflow\")"
   ]
  },
  {
   "cell_type": "code",
   "execution_count": 3,
   "metadata": {},
   "outputs": [
    {
     "name": "stdout",
     "output_type": "stream",
     "text": [
      "(7584, 208)\n"
     ]
    }
   ],
   "source": [
    "excel_file = r'PATH_TO_DATASET'\n",
    "df = pd.DataFrame(pd.read_csv(excel_file, sep='\\t'))\n",
    "print(df.shape)"
   ]
  },
  {
   "cell_type": "markdown",
   "metadata": {},
   "source": [
    "# Missing value means not relevant\n",
    "### One Hot Encoding (All zero stands for NA)\n",
    "* \"Mds-fall-2-6-months-to-admission\", \"Mds-fall-last-month-to-admission\", \"mds-pain-last-five-days\" (Y/N/U/NA)\n",
    "* \"mds-long-term-memory-ok\", \"mds-short-term-memory-ok\", \"mds-staff-assess-pain\", \"mds-delirium-scale\", \"recent-start-other-fall-risk-rx\" (Y/N/NA)\n",
    "* \"mds-pressure-ulcer-stage-X\", (X=1, 2, 3, 4) (Y/NA)\n",
    "\n",
    "### Label Encoding & Sin, Cos Transform (NA: (0, 0))\n",
    "* \"mds-cognitive-scale\": \n",
    "  - 'Independent': 0, \n",
    "  - 'Modified Independence': 1, \n",
    "  - 'Moderately Impaired': 2, \n",
    "  - 'Severely Impaired': 3\n",
    "* \"mds-pain-freq-last-five-days\": \n",
    "  - 'Continuous': 4, \n",
    "  - 'Frequent': 3, \n",
    "  - 'Occasional': 2, \n",
    "  - 'Rare': 1, \n",
    "  - 'Unable to respond': 0,\n",
    "* \"mds-pain-intensity\": \n",
    "  - 'None': 0, \n",
    "  - 'Mild': 1, \n",
    "  - 'Moderate': 2, \n",
    "  - 'Severe': 3, \n",
    "  - 'Very severe, horrible': 4\n",
    "* \"Psychotropic-X\": Number\n",
    "* (Added) \"Psychotropic-X-Period\": Number\n",
    "\n",
    "\n",
    "# Drop features\n",
    "\n",
    "* ~~\"Unnamed: 51\"~~, \n",
    "* ~~\"pk-interaction\", \"pk-interaction-type\"~~ \n",
    "* ~~\"object-drug-1\", \"object-drug-1-dose\", \"object-drug-1-effective-dose-increase\", \"object-drug-1-effective-dose\", \"interaction-1-stop-date\"~~, \n",
    "* ~~\"object-drug-2\", \"object-drug-2-dose\", \"object-drug-2-effective-dose-increase\", \"object-drug-2-effective-dose\", \"interaction-2-stop-date\"~~\n",
    "* \"ws-sudden-stop\", \"ws-sudden-stop-drugs\", \"ws-prolonged-psychotropics\", \"mds-toilet-prgm-atmptd\"\n",
    "* \"Blank-1\", \"Deleted-X\" (X from 1 to 12), \"Psychotropic-X-average-daily-dose\", \"Psychotropic-X-Start/End-date\"\n",
    "* \"Entry-discharge-type\""
   ]
  },
  {
   "cell_type": "markdown",
   "metadata": {},
   "source": [
    "# Encode features (originally) with no missing values\n",
    "\n",
    "### Date-related Transform\n",
    "\n",
    "* episodePeriod = episode-end-date - episode-start-date\n",
    "* stayPeriod = stay-end-date - stay-start-date\n",
    "\n",
    "### Drop Date-related Features\n",
    "\n",
    "* \"episode-start-date\", \"episode-end-date\", \"stay-start-date\", \"stay-end-date\", \"predictor-date\", \"projected-date\"\n",
    "\n",
    "### Binary Encoding (Y/N)\n",
    "\n",
    "* \"cms-long-stay\", \"mds-stay-trans-short-to-long\",\n",
    "* \"mds-antianxiety-medication\", \"mds-antidepressant-medication\", \"mds-antipsychotic-medication\", \"mds-antibiotic-medication\",\n",
    "* \"mds-anticoagulant-medication\", \"mds-diuretic-medication\", \"mds-hypnotic-medication\",\n",
    "* \"mds-behavioral-symptoms\", \"mds-behavioral-symptoms-to-others\", \"mds-dehydrated\", \"mds-depression\", \"mds-fever\",\n",
    "* \"mds-impaired-mobility\", \"mds-impaired-transfer\", \"mds-internal-bleeding\", \"mds-malnutrition\", \"mds-no-problem-conditions\",\n",
    "* \"mds-vomiting\", \"mds-impaired-walk-in-room\", \"mds-impaired-walk-in-corridor\", \"mds-impaired-locomot-unit\", \"mds-impaired-locomot-other\",\n",
    "* \"ws-antibiotic-anticoag-coexposure\",\n",
    "* \"ws-psychotropic-with-not-ordered-weight-loss\", \"ws-diuretic-adl\"\n",
    "\n",
    "### One Hot Encoding\n",
    "\n",
    "* \"race\", \"facility\", \"gender\", \"mds-bims-summary-ranking\", \"ws-meclizine-psych-coexposure\", \n",
    "\n",
    "### Drop Feature\n",
    "* \"PPS-assessment\", \"Federal-assessment\"\n",
    "\n",
    "### Mapping\n",
    "\n",
    "* mds-pain-non-verbal {'None/Mild':0,'Moderate/Severe':1}"
   ]
  },
  {
   "cell_type": "markdown",
   "metadata": {},
   "source": [
    "# Features need imputation\n",
    "### One Hot Encoding\n",
    "\n",
    "1. Binary categories (Yes/No/NA)\n",
    "   * \"pneumonia\", \"uti\", \"mdro\", \"anemia\", \"septicemia\", \"constipation\", \n",
    "   * \"wound\", \"hyponatremia\", \"hyperkalemia\", \"embolisms\", \n",
    "   * \"alzheimers\", \"anxiety\", \"depression\", \"non-alz-dimentia\", \n",
    "   * \"bipolar\", \"parkinsons\", \"psychosis\", \"schizophrenia\", \"seizure\", \"aphasia\", \"emphysema\", \n",
    "   * \"arthritis\", \"ashd\", \"bph\", \"cancer\", \"cerebralpalsy\", \"stroke\", \"cirrhosis\", \"comatose\", \n",
    "   * \"diabetes\", \"dysrhythmias\", \"gerd\", \"heart-failure\", \"hemiplegia/hemiparesis\", \"hepatitis\", \n",
    "   * \"huntingtons\", \"hyperlipidemia\", \"hyperthyroidism\", \"hypothyroidism\", \"hypertension\", \n",
    "   * \"hypotension\", \"multiple-sclerosis\", \"neurogenic-bladder\", \"obstructive-uropathy\", \n",
    "   * \"osteoporosis\", \"paraplegia\", \"ptsd\", \"pvd\", \"quadriplegia\", \"thyroid-disorder\", \n",
    "   * \"tourettes\", \"transient-ischemic-attack\", \"traumatic-brain-injury\", \"tuberculosis\", \"renal-failure\", \n",
    "\n",
    "   * \"mds-delirium-scale\", \"mds-pain-medication\", \"mds-received-pain-tx-non-pharm \", \"mds-received-prn-pain-medication\",\n",
    "   * \"mds-conduct-staff-assessment-mental-status\", \"mds-pressure-ulcer-prsnt\", \"conduct_bims\", \"acute_mental_change\",\n",
    "   * \"conduct_pain_assmnt\", \"cane_or_crutch_past_7_days\", \"walker_past_7_days\", \"wheelchair_past_7_days\", \n",
    "   * \"limb_prosthesis_past_7_days\", \"no_listed_mobility_device\", \n",
    "\n",
    "\n",
    "2. Other categories\n",
    "\n",
    "   * \"marital-status\": \n",
    "     - \"Never Married\", \"Married\", \"Widowed\", \"Separated\", \"Divorced\"\n",
    "   * \"mds-entered-from\": \n",
    "     - \"Acute Hospital\", \"Psychiatric Hospital\", \"Another nursing home or swing bed\", \"Hospice\", \"Inpatient rehabilitation facility\"\n",
    "     - \"Community (private home/apt., board/care, assisted living, group home)\",  \"Other\", \n",
    "   * \"mds-excess-weight-loss\": \n",
    "     - \"Yes - prescribed\", \"Yes - not prescribed\", \"No or unknown\"\n",
    "   * \"balance_while_standing\", \"balance_while_walking\", \"balance_turning_around\", \"balance_toileting\", \"balance_bed_to_chair\"\n",
    "     - \"Steady at all times\", \"able to stabilize without assistance\", \"able to stabilize with assistance\", \"Activity did not occur\"\n",
    "    \n",
    "### Label Encoding\n",
    "* \"mds-urinary-incontinence\"\n",
    "  - \"Always continent\": 0, \n",
    "  - \"Occasionally incontinent\": 1,\n",
    "  - \"Frequently incontinent\": 2,\n",
    "  - \"Always incontinent\": 3,\n",
    "  - \"Catheter - not rated\": (0, 0)\n",
    "\n",
    "\n",
    "* \"cam_inattention\",\n",
    "* \"cam_disorganized_thought\",\n",
    "* \"cam_altered_conc\",\n",
    "* \"cam_motor_retardation\"\n",
    "  - \"Behavior not present\": 0,\n",
    "  - \"Behavior present, fluctuates\": 1, \n",
    "  - \"Behavior continuously present\": 2, \n",
    "\n",
    "   \n",
    "* \"functlimit_rom_upper\", \n",
    "* \"functlimit_rom_lower\"\n",
    "   - \"No impairment\": 0, \n",
    "   - \"Impairment on one side\": 1, \n",
    "   - \"Impairment on both sides\": 2 \n",
    "\n",
    "\n",
    "* \"does_resident_wander\"\n",
    "   - \"Behavior not exhibited\": 0, \n",
    "   - \"1 to 3 days\": 1, \n",
    "   - \"4 to 6 days\": 2, \n",
    "   - \"occurred daily\": 3,"
   ]
  },
  {
   "cell_type": "markdown",
   "metadata": {},
   "source": [
    "# Features from new dataset\n",
    "* \"atc_X\" (X from 1 to 5) - one hot encoding\n",
    "* \"number_of_behavior_changes\" - keep\n",
    "* \"min_effective_dose_X\" - drop\n",
    "* \"psych_sdd_X\" - sin/cos transform"
   ]
  },
  {
   "cell_type": "code",
   "execution_count": 4,
   "metadata": {},
   "outputs": [],
   "source": [
    "# drop feature\n",
    "def drop_features(df, f):\n",
    "    df.drop(f, axis=1, inplace=True)"
   ]
  },
  {
   "cell_type": "code",
   "execution_count": 5,
   "metadata": {},
   "outputs": [],
   "source": [
    "# one hot encoding\n",
    "def one_hot_encoding(df, features, categories):\n",
    "    for f, c in zip(features, categories):\n",
    "        df[f] = df[f].astype('category', categories=c)\n",
    "    return pd.get_dummies(df, columns=features, prefix=features)"
   ]
  },
  {
   "cell_type": "code",
   "execution_count": 6,
   "metadata": {},
   "outputs": [],
   "source": [
    "# compute date difference\n",
    "def date_diff(start, end):\n",
    "    return (pd.to_datetime(end) - pd.to_datetime(start)) / np.timedelta64(1, 'D')"
   ]
  },
  {
   "cell_type": "code",
   "execution_count": 7,
   "metadata": {},
   "outputs": [],
   "source": [
    "# generate date diff features\n",
    "def generate_period(df, f):\n",
    "    for start, end, period in f:\n",
    "        df[period] = date_diff(df[start], df[end])\n",
    "        df.drop([start, end], axis=1, inplace=True)"
   ]
  },
  {
   "cell_type": "code",
   "execution_count": 8,
   "metadata": {},
   "outputs": [],
   "source": [
    "# label encoding\n",
    "def label_encoding(df, features, dictionaries):\n",
    "    for f, dic in zip(features, dictionaries):\n",
    "        df[f] = df[f].map(dic)"
   ]
  },
  {
   "cell_type": "code",
   "execution_count": 9,
   "metadata": {},
   "outputs": [],
   "source": [
    "# sin&cos transform\n",
    "def col_transform(df, col, mmax, mmin, df_ref=None):\n",
    "    if(mmax <= mmin):\n",
    "        # for test set, if max&min not set, use training set value\n",
    "        if(df_ref is not None): \n",
    "            mmax = df_ref[col].max()\n",
    "            mmin = df_ref[col].max()\n",
    "        else:\n",
    "            mmax = df[col].max()\n",
    "            mmin = df[col].min()\n",
    "    angle = 0.25 * np.pi * (df[col] - mmin) / (mmax - mmin) + 0.125 * np.pi\n",
    "    return (np.cos(angle), np.sin(angle))\n",
    "\n",
    "def df_transform(df, f, df_ref=None):\n",
    "    for col, mmax, mmin in f:\n",
    "        df[col + '_x'], df[col + '_y'] = col_transform(df, col, mmax, mmin, df_ref)\n",
    "        df[col + '_x'].fillna(0, inplace=True)\n",
    "        df[col + '_y'].fillna(0, inplace=True)\n",
    "        df.drop(col, axis=1, inplace=True)"
   ]
  },
  {
   "cell_type": "code",
   "execution_count": 10,
   "metadata": {},
   "outputs": [],
   "source": [
    "# train test split\n",
    "from sklearn.model_selection import GroupShuffleSplit\n",
    "def train_test_split(df, target, groupby, radio, random_state):\n",
    "    train_idx, test_idx = GroupShuffleSplit(train_size=radio, random_state=random_state).split(df, target, df[groupby]).next()\n",
    "    return df.iloc[train_idx], df.iloc[test_idx], target.iloc[train_idx], target.iloc[test_idx]"
   ]
  },
  {
   "cell_type": "code",
   "execution_count": 11,
   "metadata": {},
   "outputs": [],
   "source": [
    "# missing data describe\n",
    "def missing_summary(df):\n",
    "    missing_cnt = df.isna().sum()\n",
    "    missing_data = pd.concat([missing_cnt, missing_cnt/df.shape[0]], axis=1, keys=['count', 'percentage'])\n",
    "    return missing_data[missing_data['percentage'] != 0].sort_values(by='percentage', ascending=False)"
   ]
  },
  {
   "cell_type": "code",
   "execution_count": 12,
   "metadata": {},
   "outputs": [],
   "source": [
    "# Drop features\n",
    "f_drop = [\"Blank-1\", \"ws-sudden-stop\", \"ws-sudden-stop-drugs\", \"ws-prolonged-psychotropics\", \"mds-toilet-prgm-atmptd\"] + \\\n",
    "         ['Deleted-%d' % i for i in range(1, 13)] + ['Psychotropic-%d' % i for i in range(1, 6)] + \\\n",
    "         ['Psychotropic-%d-average-daily-dose' % i for i in range(1, 6)] + [\"Entry-discharge-type\"]\n",
    "\n",
    "# Missing value means not relevant\n",
    "f_one_hot = [\"Mds-fall-2-6-months-to-admission\", \"Mds-fall-last-month-to-admission\", \"mds-pain-last-five-days\", \\\n",
    "             \"mds-delirium-scale\", \"mds-long-term-memory-ok\", \"mds-short-term-memory-ok\", \"mds-staff-assess-pain\", \\\n",
    "             \"recent-start-other-fall-risk-rx\"] + [\"mds-pressure-ulcer-stage-%d\" % i for i in range(1, 5)]\n",
    "cate_one_hot = [['Yes', 'No', 'Unable to answer']] * 3 + [['Yes', 'No']] * 9\n",
    "\n",
    "f_period = [(\"Psychotropic-%d-Start-date\" % i, 'Psychotropic-%d-End-date' % i, 'Psychotropic-%d-Period' % i) for i in range(1, 6)]\n",
    "\n",
    "f_label = ['mds-cognitive-scale', 'mds-pain-freq-last-five-days', 'mds-pain-intensity']\n",
    "dic_label = [{'Independent': 0, 'Modified Independence': 1, 'Moderately Impaired': 2, 'Severely Impaired': 3}, \\\n",
    "             {'Continuous': 4, 'Frequent': 3, 'Occasional': 2, 'Rare': 1, 'Unable to respond': 0}, \\\n",
    "             {'None': 0, 'Mild': 1, 'Moderate': 2, 'Severe': 3, 'Very severe, horrible': 4}]\n",
    "\n",
    "f_transform = [('mds-cognitive-scale', 3, 0), ('mds-pain-freq-last-five-days', 4, 0), ('mds-pain-intensity', 4, 0)] + \\\n",
    "              [('Psychotropic-%d-Period' % i, 0, 0) for i in range(1, 6)]"
   ]
  },
  {
   "cell_type": "code",
   "execution_count": 13,
   "metadata": {},
   "outputs": [],
   "source": [
    "# Encode features (originally) with no missing values\n",
    "f_drop += [\"predictor-date\", \"projected-date\", \"PPS-assessment\", \"Federal-assessment\"]\n",
    "\n",
    "f_period += [('episode-start-date', 'episode-end-date', 'episode-period'),\\\n",
    "             ('stay-start-date', 'stay-end-date', 'stay-period')]\n",
    "\n",
    "f_label += [\"cms-long-stay\", \"mds-stay-trans-short-to-long\", \"mds-antianxiety-medication\", \\\n",
    "            \"mds-antidepressant-medication\", \"mds-antipsychotic-medication\", \"mds-antibiotic-medication\",\n",
    "            \"mds-anticoagulant-medication\", \"mds-diuretic-medication\", \\\n",
    "            \"mds-hypnotic-medication\", \"mds-behavioral-symptoms\", \"mds-behavioral-symptoms-to-others\", \\\n",
    "            \"mds-dehydrated\", \"mds-depression\", \"mds-fever\", \"mds-impaired-mobility\", \"mds-impaired-transfer\", \\\n",
    "            \"mds-internal-bleeding\", \"mds-malnutrition\", \"mds-no-problem-conditions\", \"mds-vomiting\", \\\n",
    "            \"mds-impaired-walk-in-room\", \"mds-impaired-walk-in-corridor\", \"mds-impaired-locomot-unit\", \\\n",
    "            \"mds-impaired-locomot-other\", \"ws-antibiotic-anticoag-coexposure\", \\\n",
    "            \"ws-psychotropic-with-not-ordered-weight-loss\", \\\n",
    "            \"ws-diuretic-adl\", \"ws-tramadol-antidepressant-coexposure\"] + [\"mds-pain-non-verbal\"]\n",
    "dic_label += [{'Yes': 1, 'No': 0}] * 28 + [{'None/Mild':0,'Moderate/Severe':1}]\n",
    "\n",
    "f_one_hot += [\"race\", \"facility\", \"gender\", \"mds-bims-summary-ranking\", \"ws-meclizine-psych-coexposure\"]\n",
    "cate_one_hot += [['White', 'Black', 'Other'], \\\n",
    "                 ['Sugar Creek', 'Heritage Place', 'Canterbury Place', 'Senaca Place', 'Cranberry Place'], \\\n",
    "                 ['Female', 'Male'], ['Intact or Moderately Intact', 'Moderate Impairment'], \\\n",
    "                 ['No', 'meclAndPsychStartSameR', 'meclPrecedesPsychR', 'psychPrecedesMeclR', 'meclAndPsychOlderStart']]"
   ]
  },
  {
   "cell_type": "code",
   "execution_count": 14,
   "metadata": {},
   "outputs": [],
   "source": [
    "# Features need imputation\n",
    "f_one_hot += [\"pneumonia\", \"uti\", \"mdro\", \"anemia\", \"septicemia\", \"constipation\", \"wound\", \"hyponatremia\", \\\n",
    "              \"hyperkalemia\", \"embolisms\", \"alzheimers\", \"anxiety\", \"depression\", \"non-alz-dimentia\", \"bipolar\", \\\n",
    "              \"parkinsons\", \"psychosis\", \"schizophrenia\", \"seizure\", \"aphasia\", \"emphysema\", \"arthritis\", \"ashd\", \\\n",
    "              \"bph\", \"cancer\", \"cerebralpalsy\", \"stroke\", \"cirrhosis\", \"comatose\", \"diabetes\", \"dysrhythmias\", \"gerd\", \\\n",
    "              \"heart-failure\", \"hemiplegia/hemiparesis\", \"hepatitis\", \"huntingtons\", \"hyperlipidemia\", \"hyperthyroidism\", \\\n",
    "              \"hypothyroidism\", \"hypertension\", \"hypotension\", \"multiple-sclerosis\", \"neurogenic-bladder\", \\\n",
    "              \"obstructive-uropathy\", \"osteoporosis\", \"paraplegia\", \"ptsd\", \"pvd\", \"quadriplegia\", \"thyroid-disorder\",\\\n",
    "              \"tourettes\", \"transient-ischemic-attack\", \"traumatic-brain-injury\", \"tuberculosis\", \"renal-failure\",\\\n",
    "              \"mds-delirium-scale\", \"mds-pain-medication\", \"mds-received-pain-tx-non-pharm\", \\\n",
    "              \"mds-received-prn-pain-medication\", \"mds-conduct-staff-assessment-mental-status\", \\\n",
    "              \"mds-pressure-ulcer-prsnt\", \"conduct_bims\", \"acute_mental_change\", \"conduct_pain_assmnt\", \\\n",
    "              \"cane_or_crutch_past_7_days\", \"walker_past_7_days\", \"wheelchair_past_7_days\", \\\n",
    "              \"limb_prosthesis_past_7_days\", \"no_listed_mobility_device\"] + \\\n",
    "              [\"balance_while_standing\", \"balance_while_walking\", \"balance_turning_around\", \\\n",
    "               \"balance_toileting\", \"balance_bed_to_chair\"] + \\\n",
    "              [\"marital-status\", \"mds-entered-from\", \"mds-excess-weight-loss\"]\n",
    "cate_one_hot += [['Yes', 'No']] * 69 + \\\n",
    "                [[\"Steady at all times\", \"able to stabilize without assistance\", \\\n",
    "                  \"able to stabilize with assistance\", \"Activity did not occur\"]] * 5 + \\\n",
    "                [[\"Never Married\", \"Married\", \"Widowed\", \"Separated\", \"Divorced\"], \\\n",
    "                 [\"Acute Hospital\", \"Psychiatric Hospital\", \"Another nursing home or swing bed\", \"Hospice\", \\\n",
    "                  \"Inpatient rehabilitation facility\",\n",
    "                  \"Community (private home/apt., board/care, assisted living, group home)\", \"Other\"],\n",
    "                 [\"Yes - prescribed\", \"Yes - not prescribed\", \"No or unknown\"]]\n",
    "\n",
    "f_label += [\"mds-urinary-incontinence\", \"functlimit_rom_upper\", \"functlimit_rom_lower\", \"does_resident_wander\"] + \\\n",
    "           [\"cam_inattention\", \"cam_disorganized_thought\", \"cam_altered_conc\", \"cam_motor_retardation\"]\n",
    "dic_label += [{\"Always continent\": 0, \"Occasionally incontinent\": 1, \"Frequently incontinent\": 2,\\\n",
    "               \"Always incontinent\": 3, \"Catheter - not rated\": np.nan}] + \\\n",
    "             [{\"No impairment\": 0, \"Impairment on one side\": 1, \"Impairment on both sides\": 2}] * 2 + \\\n",
    "             [{\"Behavior not exhibited\": 0, \"1 to 3 days\": 1, \"4 to 6 days\": 2, \"occurred daily\": 3}] + \\\n",
    "             [{\"Behavior not present\": 0, \"Behavior present, fluctuates\": 1, \"Behavior continuously present\": 2}] * 4\n",
    "\n",
    "f_transform += [(\"mds-urinary-incontinence\", 3, 0), (\"cam_inattention\", 2, 0), (\"cam_disorganized_thought\", 2, 0), \\\n",
    "                (\"cam_altered_conc\", 2, 0), (\"cam_motor_retardation\", 2, 0), (\"functlimit_rom_upper\", 2, 0), \\\n",
    "                (\"functlimit_rom_lower\", 2, 0), (\"does_resident_wander\", 3, 0)]"
   ]
  },
  {
   "cell_type": "code",
   "execution_count": 15,
   "metadata": {},
   "outputs": [],
   "source": [
    "# Get atc codes\n",
    "atc_list = []\n",
    "for i in range(1, 6):\n",
    "    atc_list.append(df.groupby('atc_%d' % i)['min_effective_dose_%d' % i].first())\n",
    "atc_codes = pd.concat(atc_list)\n",
    "atc_codes = atc_codes[~atc_codes.index.duplicated()].index.tolist()\n",
    "\n",
    "# Set sdd=0 to NA\n",
    "for i in range(1, 6):\n",
    "    df.loc[df['psych_sdd_%d' % i] == 0, 'psych_sdd_%d' % i] = np.nan"
   ]
  },
  {
   "cell_type": "code",
   "execution_count": 16,
   "metadata": {},
   "outputs": [],
   "source": [
    "# Features from new dataset\n",
    "f_drop += [\"min_effective_dose_%d\" % i for i in range(1, 6)]\n",
    "\n",
    "f_one_hot += [\"atc_%d\" % i for i in range(1, 6)]\n",
    "cate_one_hot += [atc_codes] * 5\n",
    "\n",
    "f_transform += [('psych_sdd_%d' % i, 0, 0) for i in range(1, 6)]"
   ]
  },
  {
   "cell_type": "code",
   "execution_count": 17,
   "metadata": {},
   "outputs": [],
   "source": [
    "# generate target\n",
    "target = df['outcome-Mds-fall-since-prior-assessment'].map({'None': 0, 'Yes': 1})\n",
    "dff = df.drop(['outcome-mds-fall-no-injury', 'outcome-mds-fall-minor-injury', 'outcome-mds-fall-major-injury', \\\n",
    "               'outcome-Mds-fall-since-prior-assessment', 'outcome-riskmaster-fall-incident'], axis=1)"
   ]
  },
  {
   "cell_type": "code",
   "execution_count": 18,
   "metadata": {},
   "outputs": [
    {
     "name": "stdout",
     "output_type": "stream",
     "text": [
      "Total number of patients: 3133\n",
      "Number of patients in training set: 2193\n"
     ]
    }
   ],
   "source": [
    "X_train, X_test, y_train, y_test = train_test_split(dff, target, 'patient-id', 0.7, 0)\n",
    "print 'Total number of patients: %d' % len(df.groupby('patient-id'))\n",
    "print 'Number of patients in training set: %d' % len(X_train.groupby('patient-id'))"
   ]
  },
  {
   "cell_type": "code",
   "execution_count": 19,
   "metadata": {
    "scrolled": true
   },
   "outputs": [
    {
     "name": "stdout",
     "output_type": "stream",
     "text": [
      "CPU times: user 35.3 s, sys: 768 ms, total: 36 s\n",
      "Wall time: 25.2 s\n"
     ]
    }
   ],
   "source": [
    "%%time\n",
    "generate_period(X_train, f_period)\n",
    "label_encoding(X_train, f_label, dic_label)\n",
    "X_train_original = X_train.copy() # store value range\n",
    "df_transform(X_train, f_transform)\n",
    "X_train = one_hot_encoding(X_train, f_one_hot, cate_one_hot)\n",
    "drop_features(X_train, f_drop)"
   ]
  },
  {
   "cell_type": "code",
   "execution_count": 20,
   "metadata": {},
   "outputs": [],
   "source": [
    "X_train_use = X_train.copy()"
   ]
  },
  {
   "cell_type": "code",
   "execution_count": 21,
   "metadata": {},
   "outputs": [
    {
     "name": "stdout",
     "output_type": "stream",
     "text": [
      "Index([], dtype='object')\n"
     ]
    }
   ],
   "source": [
    "print(X_train.dtypes[X_train.dtypes == 'object'].index)"
   ]
  },
  {
   "cell_type": "code",
   "execution_count": 22,
   "metadata": {},
   "outputs": [
    {
     "data": {
      "text/html": [
       "<div>\n",
       "<style scoped>\n",
       "    .dataframe tbody tr th:only-of-type {\n",
       "        vertical-align: middle;\n",
       "    }\n",
       "\n",
       "    .dataframe tbody tr th {\n",
       "        vertical-align: top;\n",
       "    }\n",
       "\n",
       "    .dataframe thead th {\n",
       "        text-align: right;\n",
       "    }\n",
       "</style>\n",
       "<table border=\"1\" class=\"dataframe\">\n",
       "  <thead>\n",
       "    <tr style=\"text-align: right;\">\n",
       "      <th></th>\n",
       "      <th>count</th>\n",
       "      <th>percentage</th>\n",
       "    </tr>\n",
       "  </thead>\n",
       "  <tbody>\n",
       "  </tbody>\n",
       "</table>\n",
       "</div>"
      ],
      "text/plain": [
       "Empty DataFrame\n",
       "Columns: [count, percentage]\n",
       "Index: []"
      ]
     },
     "execution_count": 22,
     "metadata": {},
     "output_type": "execute_result"
    }
   ],
   "source": [
    "missing_summary(X_train_use)"
   ]
  },
  {
   "cell_type": "code",
   "execution_count": 23,
   "metadata": {},
   "outputs": [
    {
     "name": "stdout",
     "output_type": "stream",
     "text": [
      "CPU times: user 22 s, sys: 8 ms, total: 22 s\n",
      "Wall time: 22 s\n"
     ]
    }
   ],
   "source": [
    "%%time\n",
    "generate_period(X_test, f_period)\n",
    "label_encoding(X_test, f_label, dic_label)\n",
    "df_transform(X_test, f_transform, X_train_original)\n",
    "X_test = one_hot_encoding(X_test, f_one_hot, cate_one_hot)\n",
    "drop_features(X_test, f_drop)"
   ]
  },
  {
   "cell_type": "code",
   "execution_count": 24,
   "metadata": {},
   "outputs": [],
   "source": [
    "X_test_use = X_test.copy()"
   ]
  },
  {
   "cell_type": "code",
   "execution_count": 25,
   "metadata": {},
   "outputs": [
    {
     "name": "stdout",
     "output_type": "stream",
     "text": [
      "Index([], dtype='object')\n"
     ]
    }
   ],
   "source": [
    "print(X_train.dtypes[X_train.dtypes == 'object'].index)"
   ]
  },
  {
   "cell_type": "code",
   "execution_count": 26,
   "metadata": {},
   "outputs": [
    {
     "data": {
      "text/html": [
       "<div>\n",
       "<style scoped>\n",
       "    .dataframe tbody tr th:only-of-type {\n",
       "        vertical-align: middle;\n",
       "    }\n",
       "\n",
       "    .dataframe tbody tr th {\n",
       "        vertical-align: top;\n",
       "    }\n",
       "\n",
       "    .dataframe thead th {\n",
       "        text-align: right;\n",
       "    }\n",
       "</style>\n",
       "<table border=\"1\" class=\"dataframe\">\n",
       "  <thead>\n",
       "    <tr style=\"text-align: right;\">\n",
       "      <th></th>\n",
       "      <th>count</th>\n",
       "      <th>percentage</th>\n",
       "    </tr>\n",
       "  </thead>\n",
       "  <tbody>\n",
       "  </tbody>\n",
       "</table>\n",
       "</div>"
      ],
      "text/plain": [
       "Empty DataFrame\n",
       "Columns: [count, percentage]\n",
       "Index: []"
      ]
     },
     "execution_count": 26,
     "metadata": {},
     "output_type": "execute_result"
    }
   ],
   "source": [
    "missing_summary(X_train_use)"
   ]
  },
  {
   "cell_type": "code",
   "execution_count": 27,
   "metadata": {},
   "outputs": [
    {
     "data": {
      "text/plain": [
       "(5311, 524)"
      ]
     },
     "execution_count": 27,
     "metadata": {},
     "output_type": "execute_result"
    }
   ],
   "source": [
    "X_train_use.shape"
   ]
  },
  {
   "cell_type": "code",
   "execution_count": 28,
   "metadata": {},
   "outputs": [
    {
     "data": {
      "text/plain": [
       "(1512, 524)"
      ]
     },
     "execution_count": 28,
     "metadata": {},
     "output_type": "execute_result"
    }
   ],
   "source": [
    "X_test_use.shape"
   ]
  },
  {
   "cell_type": "markdown",
   "metadata": {},
   "source": [
    "### RNN"
   ]
  },
  {
   "cell_type": "code",
   "execution_count": 29,
   "metadata": {},
   "outputs": [],
   "source": [
    "from sklearn.preprocessing import MinMaxScaler\n",
    "from keras.models import Sequential\n",
    "from keras.layers import LSTM, GRU, Dense, Dropout\n",
    "from numpy.random import seed\n",
    "from tensorflow import set_random_seed"
   ]
  },
  {
   "cell_type": "code",
   "execution_count": 30,
   "metadata": {},
   "outputs": [],
   "source": [
    "def scaler_transform(X_train_use, X_test_use):    \n",
    "    scaler = MinMaxScaler(feature_range=(0, 1)).fit(X_train_use.drop('patient-id', axis=1))\n",
    "    X_train_transformed = pd.DataFrame(scaler.transform(X_train_use.drop('patient-id', axis=1)), \\\n",
    "                                       columns=X_train_use.columns[1:], index=X_train_use.index)                                   \n",
    "    X_train_transformed['patient-id'] = X_train_use['patient-id']\n",
    "    X_test_transformed = pd.DataFrame(scaler.transform(X_test_use.drop('patient-id', axis=1)), \\\n",
    "                                       columns=X_test_use.columns[1:], index=X_test_use.index) \n",
    "    X_test_transformed['patient-id'] = X_test_use['patient-id']\n",
    "    return X_train_transformed, X_test_transformed"
   ]
  },
  {
   "cell_type": "code",
   "execution_count": 31,
   "metadata": {},
   "outputs": [],
   "source": [
    "def generate_nested_list(X, Y):\n",
    "    X = X.copy()\n",
    "    Y = Y.copy()\n",
    "    x_list, y_list = [], [] \n",
    "    x1, x2 = [], []\n",
    "    pids = X['patient-id'].unique()\n",
    "    for pid in pids:\n",
    "        df = Y[X[X['patient-id']==pid].index]\n",
    "        if(df.shape[0] == 1):\n",
    "            x1.append(pd.Series([0]))\n",
    "            x2.append(pd.Series([0]))\n",
    "        else:\n",
    "            # input 1=(1, 0), 0=(0, 1), NA=(0, 0)\n",
    "            x1.append(pd.Series([0]))\n",
    "            x1.append(df[:-1])\n",
    "            x2.append(pd.Series([0]))\n",
    "            x2.append(df[:-1].map({0: 1, 1: 0}))\n",
    "    X['input_outcome_x'] = pd.Series(pd.concat(x1, ignore_index=True).tolist(), index=X.index)\n",
    "    X['input_outcome_y'] = pd.Series(pd.concat(x2, ignore_index=True).tolist(), index=X.index)\n",
    "    for pid in pids:\n",
    "        df = X[X['patient-id']==pid]\n",
    "        y_list.append(Y[df.index].values)\n",
    "        x_list.append([record for record in df.drop('patient-id', axis=1).values])\n",
    "    return x_list, y_list"
   ]
  },
  {
   "cell_type": "code",
   "execution_count": 32,
   "metadata": {},
   "outputs": [],
   "source": [
    "def mygenerator(x_list, y_list=None):\n",
    "    if(y_list is not None):\n",
    "        while True:\n",
    "            for x, y in zip(x_list, y_list):\n",
    "                yield np.array(x).reshape((len(x), 1, x[0].shape[0])), y\n",
    "    else:\n",
    "        while True:\n",
    "            for x in x_list:\n",
    "                yield np.array(x).reshape((len(x), 1, x[0].shape[0])) "
   ]
  },
  {
   "cell_type": "code",
   "execution_count": 33,
   "metadata": {},
   "outputs": [],
   "source": [
    "def fit_model(model, epoch, X_train, y_train, X_valid=None, y_valid=None, verbose=0):\n",
    "    if(verbose == 0):\n",
    "        model.fit_generator(mygenerator(X_train, y_train), steps_per_epoch=len(X_train), epochs=epoch, verbose=0)\n",
    "    else:\n",
    "        history = model.fit_generator(mygenerator(X_train, y_train), steps_per_epoch=len(X_train), \\\n",
    "                                      validation_data=mygenerator(X_valid, y_valid), validation_steps=len(X_valid), \\\n",
    "                                      epochs=epoch, verbose=verbose)\n",
    "        plot_history(history)\n",
    "    return history"
   ]
  },
  {
   "cell_type": "code",
   "execution_count": 34,
   "metadata": {},
   "outputs": [],
   "source": [
    "def plot_roc_curve(fpr, tpr):\n",
    "    plt.figure()\n",
    "    plt.plot(fpr, tpr, color='darkorange', label='ROC curve (area = %0.2f)' % auc(fpr, tpr))\n",
    "    plt.plot([0, 1], [0, 1], color='navy', linestyle='--')\n",
    "    plt.xlim([0.0, 1.0])\n",
    "    plt.ylim([0.0, 1.05])\n",
    "    plt.xlabel('False Positive Rate')\n",
    "    plt.ylabel('True Positive Rate')\n",
    "    plt.legend(loc=\"lower right\")\n",
    "    plt.show()"
   ]
  },
  {
   "cell_type": "code",
   "execution_count": 35,
   "metadata": {},
   "outputs": [],
   "source": [
    "def plot_history(history):\n",
    "    plt.figure()\n",
    "    plt.plot(history.history['loss'])\n",
    "    plt.plot(history.history['val_loss'])\n",
    "    plt.title('model loss')\n",
    "    plt.ylabel('loss')\n",
    "    plt.xlabel('epoch')\n",
    "    plt.legend(['train', 'test'], loc='upper right')\n",
    "    plt.show()"
   ]
  },
  {
   "cell_type": "code",
   "execution_count": 36,
   "metadata": {},
   "outputs": [],
   "source": [
    "from sklearn.model_selection import GroupKFold\n",
    "def kfold_validation(unit, ratio, epoch, X, y, groupby, k=5, verbose=0):\n",
    "    auroc_list = []\n",
    "    for train_idx, valid_idx in GroupKFold(n_splits=5).split(X, y, X[groupby]):\n",
    "        X_train, X_valid, y_train, y_valid = X.iloc[train_idx], X.iloc[valid_idx], y.iloc[train_idx], y.iloc[valid_idx]\n",
    "        X_train, y_train = generate_nested_list(X_train, y_train)\n",
    "        X_valid, y_valid = generate_nested_list(X_valid, y_valid)\n",
    "        seed(1)\n",
    "        set_random_seed(2)\n",
    "        model = build_model(unit, ratio, 1, X_train[0][0].shape[0])\n",
    "        if (verbose == 0):\n",
    "            fit_model(model, epoch, X_train, y_train)\n",
    "        else:\n",
    "            fit_model(model, epoch, X_train, y_train, X_valid, y_valid, verbose)\n",
    "        y_predict = model.predict_generator(mygenerator(X_valid), steps=len(X_valid))\n",
    "        y_predict = np.concatenate(y_predict)\n",
    "        y_true = np.concatenate(y_valid)\n",
    "        auroc_list.append(auroc(y_predict, y_true))\n",
    "    return auroc_list "
   ]
  },
  {
   "cell_type": "code",
   "execution_count": 37,
   "metadata": {},
   "outputs": [],
   "source": [
    "def auroc(y_predict, y_true, plot=False):\n",
    "    fpr, tpr, thresholds = roc_curve(y_true, y_predict, pos_label=1)    \n",
    "    if(plot):\n",
    "        plot_roc_curve(fpr, tpr)\n",
    "    return auc(fpr, tpr)"
   ]
  },
  {
   "cell_type": "code",
   "execution_count": 60,
   "metadata": {},
   "outputs": [],
   "source": [
    "def find_best_f1(y_predict, y_true):\n",
    "    fpr, tpr, thresholds = roc_curve(y_true, y_predict, pos_label=1) \n",
    "    max_f1, th = 0, 0\n",
    "    for threshold in thresholds:\n",
    "        f1 = f1_score(y_true, y_predict > threshold)\n",
    "        if(f1 > max_f1):\n",
    "            max_f1 = f1\n",
    "            th = threshold\n",
    "    return max_f1, th"
   ]
  },
  {
   "cell_type": "code",
   "execution_count": 39,
   "metadata": {},
   "outputs": [],
   "source": [
    "def other_metrics(y_predict, y_true, threshold):\n",
    "    y_threshold = y_predict > threshold\n",
    "    tn, fp, fn, tp = confusion_matrix(y_true, y_threshold).ravel()\n",
    "    return precision_score(y_true, y_threshold), recall_score(y_true, y_threshold),\\\n",
    "            accuracy_score(y_true, y_threshold), float(tn) / (tn + fp)"
   ]
  },
  {
   "cell_type": "code",
   "execution_count": 40,
   "metadata": {},
   "outputs": [],
   "source": [
    "X_train_transformed, X_test_transformed = scaler_transform(X_train_use, X_test_use)"
   ]
  },
  {
   "cell_type": "code",
   "execution_count": 41,
   "metadata": {},
   "outputs": [],
   "source": [
    "# %%time\n",
    "X_train_list, y_train_list = generate_nested_list(X_train_transformed, y_train)\n",
    "X_test_list, y_test_list = generate_nested_list(X_test_transformed, y_test)"
   ]
  },
  {
   "cell_type": "code",
   "execution_count": 42,
   "metadata": {},
   "outputs": [],
   "source": [
    "from keras import regularizers\n",
    "from keras.optimizers import Adagrad, Adadelta \n",
    "def build_model(cell_size, dropout_ratio, n_timesteps, n_dimensions):\n",
    "    model = Sequential()\n",
    "    model.add(LSTM(cell_size, input_shape=(n_timesteps, n_dimensions), recurrent_dropout=0.1, dropout=dropout_ratio))\n",
    "#     model.add(LSTM(cell_size, input_shape=(n_timesteps, n_dimensions), recurrent_dropout=0.4, recurrent_regularizer=regularizers.l2(dropout_ratio)))\n",
    "#     model.add(LSTM(cell_size, input_shape=(n_timesteps, n_dimensions)))\n",
    "#     model.add(GRU(cell_size, input_shape=(n_timesteps, n_dimensions), recurrent_dropout=dropout_ratio))\n",
    "#     model.add(Dropout(dropout_ratio))\n",
    "    model.add(Dense(1, activation='sigmoid'))\n",
    "#     model.compile(loss='binary_crossentropy', optimizer=Adagrad(lr=0.009), metrics=['binary_accuracy'])\n",
    "    model.compile(loss='binary_crossentropy', optimizer='adagrad', metrics=['binary_accuracy'])\n",
    "    return model"
   ]
  },
  {
   "cell_type": "code",
   "execution_count": 61,
   "metadata": {
    "scrolled": true
   },
   "outputs": [
    {
     "name": "stdout",
     "output_type": "stream",
     "text": [
      "Epoch 1/40\n",
      "2193/2193 [==============================] - 13s 6ms/step - loss: 0.3707 - binary_accuracy: 0.8707 - val_loss: 0.4601 - val_binary_accuracy: 0.8128\n",
      "Epoch 2/40\n",
      "2193/2193 [==============================] - 10s 5ms/step - loss: 0.3518 - binary_accuracy: 0.8712 - val_loss: 0.4534 - val_binary_accuracy: 0.8128\n",
      "Epoch 3/40\n",
      "2193/2193 [==============================] - 10s 5ms/step - loss: 0.3497 - binary_accuracy: 0.8720 - val_loss: 0.4515 - val_binary_accuracy: 0.8128\n",
      "Epoch 4/40\n",
      "2193/2193 [==============================] - 11s 5ms/step - loss: 0.3439 - binary_accuracy: 0.8727 - val_loss: 0.4500 - val_binary_accuracy: 0.8128\n",
      "Epoch 5/40\n",
      "2193/2193 [==============================] - 12s 5ms/step - loss: 0.3399 - binary_accuracy: 0.8712 - val_loss: 0.4506 - val_binary_accuracy: 0.8108\n",
      "Epoch 6/40\n",
      "2193/2193 [==============================] - 14s 6ms/step - loss: 0.3433 - binary_accuracy: 0.8720 - val_loss: 0.4487 - val_binary_accuracy: 0.8115\n",
      "Epoch 7/40\n",
      "2193/2193 [==============================] - 14s 6ms/step - loss: 0.3423 - binary_accuracy: 0.8707 - val_loss: 0.4482 - val_binary_accuracy: 0.8115\n",
      "Epoch 8/40\n",
      "2193/2193 [==============================] - 16s 7ms/step - loss: 0.3364 - binary_accuracy: 0.8723 - val_loss: 0.4474 - val_binary_accuracy: 0.8108\n",
      "Epoch 9/40\n",
      "2193/2193 [==============================] - 12s 6ms/step - loss: 0.3389 - binary_accuracy: 0.8712 - val_loss: 0.4484 - val_binary_accuracy: 0.8108\n",
      "Epoch 10/40\n",
      "2193/2193 [==============================] - 15s 7ms/step - loss: 0.3351 - binary_accuracy: 0.8740 - val_loss: 0.4475 - val_binary_accuracy: 0.8108\n",
      "Epoch 11/40\n",
      "2193/2193 [==============================] - 15s 7ms/step - loss: 0.3327 - binary_accuracy: 0.8748 - val_loss: 0.4485 - val_binary_accuracy: 0.8115\n",
      "Epoch 12/40\n",
      "2193/2193 [==============================] - 13s 6ms/step - loss: 0.3346 - binary_accuracy: 0.8740 - val_loss: 0.4497 - val_binary_accuracy: 0.8115\n",
      "Epoch 13/40\n",
      "2193/2193 [==============================] - 12s 6ms/step - loss: 0.3329 - binary_accuracy: 0.8731 - val_loss: 0.4490 - val_binary_accuracy: 0.8115\n",
      "Epoch 14/40\n",
      "2193/2193 [==============================] - 13s 6ms/step - loss: 0.3311 - binary_accuracy: 0.8759 - val_loss: 0.4501 - val_binary_accuracy: 0.8115\n",
      "Epoch 15/40\n",
      "2193/2193 [==============================] - 12s 6ms/step - loss: 0.3297 - binary_accuracy: 0.8760 - val_loss: 0.4489 - val_binary_accuracy: 0.8115\n",
      "Epoch 16/40\n",
      "2193/2193 [==============================] - 12s 6ms/step - loss: 0.3275 - binary_accuracy: 0.8755 - val_loss: 0.4506 - val_binary_accuracy: 0.8128\n",
      "Epoch 17/40\n",
      "2193/2193 [==============================] - 12s 5ms/step - loss: 0.3251 - binary_accuracy: 0.8740 - val_loss: 0.4466 - val_binary_accuracy: 0.8142\n",
      "Epoch 18/40\n",
      "2193/2193 [==============================] - 12s 5ms/step - loss: 0.3301 - binary_accuracy: 0.8751 - val_loss: 0.4485 - val_binary_accuracy: 0.8115\n",
      "Epoch 19/40\n",
      "2193/2193 [==============================] - 12s 6ms/step - loss: 0.3253 - binary_accuracy: 0.8762 - val_loss: 0.4471 - val_binary_accuracy: 0.8128\n",
      "Epoch 20/40\n",
      "2193/2193 [==============================] - 12s 6ms/step - loss: 0.3249 - binary_accuracy: 0.8758 - val_loss: 0.4504 - val_binary_accuracy: 0.8128\n",
      "Epoch 21/40\n",
      "2193/2193 [==============================] - 12s 6ms/step - loss: 0.3266 - binary_accuracy: 0.8728 - val_loss: 0.4487 - val_binary_accuracy: 0.8135\n",
      "Epoch 22/40\n",
      "2193/2193 [==============================] - 12s 5ms/step - loss: 0.3205 - binary_accuracy: 0.8753 - val_loss: 0.4483 - val_binary_accuracy: 0.8128\n",
      "Epoch 23/40\n",
      "2193/2193 [==============================] - 12s 5ms/step - loss: 0.3222 - binary_accuracy: 0.8783 - val_loss: 0.4481 - val_binary_accuracy: 0.8135\n",
      "Epoch 24/40\n",
      "2193/2193 [==============================] - 12s 6ms/step - loss: 0.3219 - binary_accuracy: 0.8759 - val_loss: 0.4486 - val_binary_accuracy: 0.8142\n",
      "Epoch 25/40\n",
      "2193/2193 [==============================] - 12s 6ms/step - loss: 0.3222 - binary_accuracy: 0.8758 - val_loss: 0.4478 - val_binary_accuracy: 0.8155\n",
      "Epoch 26/40\n",
      "2193/2193 [==============================] - 13s 6ms/step - loss: 0.3229 - binary_accuracy: 0.8768 - val_loss: 0.4496 - val_binary_accuracy: 0.8161\n",
      "Epoch 27/40\n",
      "2193/2193 [==============================] - 12s 5ms/step - loss: 0.3167 - binary_accuracy: 0.8785 - val_loss: 0.4494 - val_binary_accuracy: 0.8161\n",
      "Epoch 28/40\n",
      "2193/2193 [==============================] - 12s 5ms/step - loss: 0.3218 - binary_accuracy: 0.8775 - val_loss: 0.4480 - val_binary_accuracy: 0.8161\n",
      "Epoch 29/40\n",
      "2193/2193 [==============================] - 12s 5ms/step - loss: 0.3194 - binary_accuracy: 0.8760 - val_loss: 0.4484 - val_binary_accuracy: 0.8155\n",
      "Epoch 30/40\n",
      "2193/2193 [==============================] - 12s 5ms/step - loss: 0.3218 - binary_accuracy: 0.8771 - val_loss: 0.4485 - val_binary_accuracy: 0.8161\n",
      "Epoch 31/40\n",
      "2193/2193 [==============================] - 12s 5ms/step - loss: 0.3167 - binary_accuracy: 0.8759 - val_loss: 0.4517 - val_binary_accuracy: 0.8161\n",
      "Epoch 32/40\n",
      "2193/2193 [==============================] - 12s 5ms/step - loss: 0.3148 - binary_accuracy: 0.8779 - val_loss: 0.4505 - val_binary_accuracy: 0.8161\n",
      "Epoch 33/40\n",
      "2193/2193 [==============================] - 12s 5ms/step - loss: 0.3206 - binary_accuracy: 0.8769 - val_loss: 0.4492 - val_binary_accuracy: 0.8155\n",
      "Epoch 34/40\n",
      "2193/2193 [==============================] - 11s 5ms/step - loss: 0.3163 - binary_accuracy: 0.8789 - val_loss: 0.4525 - val_binary_accuracy: 0.8161\n",
      "Epoch 35/40\n",
      "2193/2193 [==============================] - 12s 5ms/step - loss: 0.3157 - binary_accuracy: 0.8754 - val_loss: 0.4528 - val_binary_accuracy: 0.8161\n",
      "Epoch 36/40\n",
      "2193/2193 [==============================] - 12s 5ms/step - loss: 0.3155 - binary_accuracy: 0.8758 - val_loss: 0.4531 - val_binary_accuracy: 0.8161\n",
      "Epoch 37/40\n",
      "2193/2193 [==============================] - 12s 5ms/step - loss: 0.3155 - binary_accuracy: 0.8801 - val_loss: 0.4519 - val_binary_accuracy: 0.8161\n",
      "Epoch 38/40\n",
      "2193/2193 [==============================] - 12s 5ms/step - loss: 0.3156 - binary_accuracy: 0.8788 - val_loss: 0.4521 - val_binary_accuracy: 0.8155\n",
      "Epoch 39/40\n",
      "2193/2193 [==============================] - 12s 5ms/step - loss: 0.3095 - binary_accuracy: 0.8771 - val_loss: 0.4512 - val_binary_accuracy: 0.8161\n",
      "Epoch 40/40\n",
      "2193/2193 [==============================] - 11s 5ms/step - loss: 0.3132 - binary_accuracy: 0.8771 - val_loss: 0.4512 - val_binary_accuracy: 0.8168\n"
     ]
    },
    {
     "data": {
      "image/png": "[encoded data removed]",
      "text/plain": [
       "<Figure size 432x288 with 1 Axes>"
      ]
     },
     "metadata": {
      "needs_background": "light"
     },
     "output_type": "display_data"
    },
    {
     "name": "stdout",
     "output_type": "stream",
     "text": [
      "('avg auroc: ', 0.7069495438562191)\n",
      "('avg precision: ', 0.34291581108829566)\n",
      "('avg recall: ', 0.5901060070671378)\n",
      "('avg accuracy: ', 0.7116402116402116)\n",
      "('avg specificity: ', 0.7396257119609438)\n",
      "('avg f1: ', 0.43376623376623374)\n",
      "('auroc: ', [0.7069495438562191])\n",
      "('precision: ', [0.34291581108829566])\n",
      "('recall: ', [0.5901060070671378])\n",
      "('accuracy: ', [0.7116402116402116])\n",
      "('specificity: ', [0.7396257119609438])\n",
      "('f1: ', [0.43376623376623374])\n",
      "('threshold: ', [0.15654738])\n",
      "CPU times: user 11min 56s, sys: 1min, total: 12min 56s\n",
      "Wall time: 8min 13s\n"
     ]
    }
   ],
   "source": [
    "%%time\n",
    "seed(1)\n",
    "set_random_seed(2)\n",
    "auroc_list = []\n",
    "precision_list = []\n",
    "recall_list = []\n",
    "accuracy_list = []\n",
    "specificity_list = []\n",
    "f1_list = []\n",
    "th_list = []\n",
    "for i in range(0,1):\n",
    "    model = build_model(32, 0.4, 1, X_train_list[0][0].shape[0])\n",
    "    history = fit_model(model, 40, X_train_list, y_train_list, X_test_list, y_test_list, verbose=1)\n",
    "    y_predict = model.predict_generator(mygenerator(X_test_list), steps=len(X_test_list))\n",
    "    y_predict = np.concatenate(y_predict)\n",
    "    y_true = np.concatenate(y_test_list)\n",
    "    auroc_list.append(auroc(y_predict, y_true))\n",
    "    f1, th = find_best_f1(y_predict, y_true)\n",
    "    f1_list.append(f1)\n",
    "    th_list.append(th)\n",
    "    precision, recall, accuracy, specificity = other_metrics(y_predict, y_true, th)\n",
    "    precision_list.append(precision)\n",
    "    recall_list.append(recall)\n",
    "    accuracy_list.append(accuracy)\n",
    "    specificity_list.append(specificity)\n",
    "print('avg auroc: ', np.mean(auroc_list))\n",
    "print('avg precision: ', np.mean(precision_list))\n",
    "print('avg recall: ', np.mean(recall_list))\n",
    "print('avg accuracy: ', np.mean(accuracy_list))\n",
    "print('avg specificity: ', np.mean(specificity_list))\n",
    "print('avg f1: ', np.mean(f1_list));\n",
    "print('auroc: ', auroc_list)\n",
    "print('precision: ', precision_list)\n",
    "print('recall: ', recall_list)\n",
    "print('accuracy: ', accuracy_list)\n",
    "print('specificity: ', specificity_list)\n",
    "print('f1: ', f1_list);\n",
    "print('threshold: ', th_list)"
   ]
  },
  {
   "cell_type": "code",
   "execution_count": 68,
   "metadata": {},
   "outputs": [],
   "source": [
    "# from sklearn.calibration import calibration_curve\n",
    "# # fraction_of_positives, mean_predicted_value = calibration_curve(y_true, y_predict, n_bins=10)\n",
    "# fraction_of_positives, mean_predicted_value = calibration_curve(y_true, y_predict, normalize=True, n_bins=10)\n",
    "# with open(\"exp_2_cal.csv\", \"w\") as writeFile:\n",
    "#     writer  = csv.writer(writeFile)\n",
    "#     writer.writerows([fraction_of_positives, mean_predicted_value])\n",
    "    \n",
    "# plt.figure()\n",
    "# plt.plot(mean_predicted_value, fraction_of_positives, 's-')\n",
    "# plt.plot([0, 1], [0, 1], '--', color='gray')\n",
    "# plt.show()"
   ]
  },
  {
   "cell_type": "code",
   "execution_count": 69,
   "metadata": {},
   "outputs": [],
   "source": [
    "# import csv \n",
    "# fpr, tpr, thresholds = roc_curve(y_true, y_predict, pos_label=1)\n",
    "# plot_roc_curve(fpr, tpr)\n",
    "# with open(\"exp_2.csv\", \"w\") as writeFile:\n",
    "#     writer  = csv.writer(writeFile)\n",
    "#     writer.writerows([fpr, tpr, [recall, 1-specificity]])"
   ]
  },
  {
   "cell_type": "code",
   "execution_count": 45,
   "metadata": {},
   "outputs": [
    {
     "name": "stdout",
     "output_type": "stream",
     "text": [
      "('auroc: ', 0.786106953956345)\n",
      "('precision: ', 0.3793496862521392)\n",
      "('recall: ', 0.679959100204499)\n",
      "('accuracy: ', 0.736207870457541)\n",
      "('specificity: ', 0.7489037618278329)\n",
      "('f1: ', 0.4870010984987185)\n",
      "('threshold: ', 0.20496099)\n"
     ]
    }
   ],
   "source": [
    "y_predict_t = model.predict_generator(mygenerator(X_train_list), steps=len(X_train_list))\n",
    "y_predict_t = np.concatenate(y_predict_t)\n",
    "y_true_t = np.concatenate(y_train_list)\n",
    "\n",
    "f1_t, th_t = find_best_f1(y_predict_t, y_true_t)\n",
    "precision_t, recall_t, accuracy_t, specificity_t = other_metrics(y_predict_t, y_true_t, th_t)\n",
    "\n",
    "print('auroc: ', auroc(y_predict_t, y_true_t))\n",
    "print('precision: ', precision_t)\n",
    "print('recall: ', recall_t)\n",
    "print('accuracy: ', accuracy_t)\n",
    "print('specificity: ', specificity_t)\n",
    "print('f1: ', f1_t);\n",
    "print('threshold: ', th_t)"
   ]
  },
  {
   "cell_type": "code",
   "execution_count": 56,
   "metadata": {
    "scrolled": true
   },
   "outputs": [
    {
     "name": "stdout",
     "output_type": "stream",
     "text": [
      "Epoch 1/40\n",
      "2193/2193 [==============================] - 9s 4ms/step - loss: 0.3707 - binary_accuracy: 0.8707 - val_loss: 0.4601 - val_binary_accuracy: 0.8128\n",
      "Epoch 2/40\n",
      "2193/2193 [==============================] - 8s 3ms/step - loss: 0.3518 - binary_accuracy: 0.8713 - val_loss: 0.4534 - val_binary_accuracy: 0.8128\n",
      "Epoch 3/40\n",
      "2193/2193 [==============================] - 8s 3ms/step - loss: 0.3497 - binary_accuracy: 0.8720 - val_loss: 0.4515 - val_binary_accuracy: 0.8128\n",
      "Epoch 4/40\n",
      "2193/2193 [==============================] - 7s 3ms/step - loss: 0.3440 - binary_accuracy: 0.8728 - val_loss: 0.4500 - val_binary_accuracy: 0.8128\n",
      "Epoch 5/40\n",
      "2193/2193 [==============================] - 8s 3ms/step - loss: 0.3398 - binary_accuracy: 0.8713 - val_loss: 0.4507 - val_binary_accuracy: 0.8108\n",
      "Epoch 6/40\n",
      "2193/2193 [==============================] - 8s 3ms/step - loss: 0.3432 - binary_accuracy: 0.8720 - val_loss: 0.4487 - val_binary_accuracy: 0.8115\n",
      "Epoch 7/40\n",
      "2193/2193 [==============================] - 8s 3ms/step - loss: 0.3423 - binary_accuracy: 0.8710 - val_loss: 0.4484 - val_binary_accuracy: 0.8115\n",
      "Epoch 8/40\n",
      "2193/2193 [==============================] - 7s 3ms/step - loss: 0.3364 - binary_accuracy: 0.8724 - val_loss: 0.4475 - val_binary_accuracy: 0.8108\n",
      "Epoch 9/40\n",
      "2193/2193 [==============================] - 7s 3ms/step - loss: 0.3388 - binary_accuracy: 0.8713 - val_loss: 0.4485 - val_binary_accuracy: 0.8108\n",
      "Epoch 10/40\n",
      "2193/2193 [==============================] - 7s 3ms/step - loss: 0.3351 - binary_accuracy: 0.8738 - val_loss: 0.4476 - val_binary_accuracy: 0.8108\n",
      "Epoch 11/40\n",
      "2193/2193 [==============================] - 7s 3ms/step - loss: 0.3326 - binary_accuracy: 0.8745 - val_loss: 0.4485 - val_binary_accuracy: 0.8115\n",
      "Epoch 12/40\n",
      "2193/2193 [==============================] - 7s 3ms/step - loss: 0.3345 - binary_accuracy: 0.8738 - val_loss: 0.4496 - val_binary_accuracy: 0.8115\n",
      "Epoch 13/40\n",
      "2193/2193 [==============================] - 7s 3ms/step - loss: 0.3329 - binary_accuracy: 0.8731 - val_loss: 0.4492 - val_binary_accuracy: 0.8115\n",
      "Epoch 14/40\n",
      "2193/2193 [==============================] - 7s 3ms/step - loss: 0.3310 - binary_accuracy: 0.8757 - val_loss: 0.4501 - val_binary_accuracy: 0.8115\n",
      "Epoch 15/40\n",
      "2193/2193 [==============================] - 7s 3ms/step - loss: 0.3296 - binary_accuracy: 0.8760 - val_loss: 0.4488 - val_binary_accuracy: 0.8122\n",
      "Epoch 16/40\n",
      "2193/2193 [==============================] - 8s 3ms/step - loss: 0.3273 - binary_accuracy: 0.8755 - val_loss: 0.4507 - val_binary_accuracy: 0.8128\n",
      "Epoch 17/40\n",
      "2193/2193 [==============================] - 7s 3ms/step - loss: 0.3251 - binary_accuracy: 0.8738 - val_loss: 0.4467 - val_binary_accuracy: 0.8142\n",
      "Epoch 18/40\n",
      "2193/2193 [==============================] - 7s 3ms/step - loss: 0.3299 - binary_accuracy: 0.8753 - val_loss: 0.4486 - val_binary_accuracy: 0.8115\n",
      "Epoch 19/40\n",
      "2193/2193 [==============================] - 8s 4ms/step - loss: 0.3252 - binary_accuracy: 0.8761 - val_loss: 0.4470 - val_binary_accuracy: 0.8128\n",
      "Epoch 20/40\n",
      "2193/2193 [==============================] - 7s 3ms/step - loss: 0.3248 - binary_accuracy: 0.8754 - val_loss: 0.4504 - val_binary_accuracy: 0.8122\n",
      "Epoch 21/40\n",
      "2193/2193 [==============================] - 8s 3ms/step - loss: 0.3265 - binary_accuracy: 0.8734 - val_loss: 0.4487 - val_binary_accuracy: 0.8128\n",
      "Epoch 22/40\n",
      "2193/2193 [==============================] - 7s 3ms/step - loss: 0.3204 - binary_accuracy: 0.8752 - val_loss: 0.4482 - val_binary_accuracy: 0.8128\n",
      "Epoch 23/40\n",
      "2193/2193 [==============================] - 7s 3ms/step - loss: 0.3221 - binary_accuracy: 0.8784 - val_loss: 0.4481 - val_binary_accuracy: 0.8135\n",
      "Epoch 24/40\n",
      "2193/2193 [==============================] - 7s 3ms/step - loss: 0.3217 - binary_accuracy: 0.8760 - val_loss: 0.4487 - val_binary_accuracy: 0.8135\n",
      "Epoch 25/40\n",
      "2193/2193 [==============================] - 8s 3ms/step - loss: 0.3222 - binary_accuracy: 0.8758 - val_loss: 0.4478 - val_binary_accuracy: 0.8155\n",
      "Epoch 26/40\n",
      "2193/2193 [==============================] - 7s 3ms/step - loss: 0.3229 - binary_accuracy: 0.8769 - val_loss: 0.4496 - val_binary_accuracy: 0.8161\n",
      "Epoch 27/40\n",
      "2193/2193 [==============================] - 8s 3ms/step - loss: 0.3166 - binary_accuracy: 0.8781 - val_loss: 0.4495 - val_binary_accuracy: 0.8161\n",
      "Epoch 28/40\n",
      "2193/2193 [==============================] - 8s 3ms/step - loss: 0.3217 - binary_accuracy: 0.8777 - val_loss: 0.4479 - val_binary_accuracy: 0.8161\n",
      "Epoch 29/40\n",
      "2193/2193 [==============================] - 7s 3ms/step - loss: 0.3194 - binary_accuracy: 0.8760 - val_loss: 0.4485 - val_binary_accuracy: 0.8155\n",
      "Epoch 30/40\n",
      "2193/2193 [==============================] - 7s 3ms/step - loss: 0.3218 - binary_accuracy: 0.8767 - val_loss: 0.4486 - val_binary_accuracy: 0.8155\n",
      "Epoch 31/40\n",
      "2193/2193 [==============================] - 7s 3ms/step - loss: 0.3168 - binary_accuracy: 0.8758 - val_loss: 0.4519 - val_binary_accuracy: 0.8161\n",
      "Epoch 32/40\n",
      "2193/2193 [==============================] - 7s 3ms/step - loss: 0.3146 - binary_accuracy: 0.8785 - val_loss: 0.4506 - val_binary_accuracy: 0.8155\n",
      "Epoch 33/40\n",
      "2193/2193 [==============================] - 8s 3ms/step - loss: 0.3207 - binary_accuracy: 0.8771 - val_loss: 0.4493 - val_binary_accuracy: 0.8155\n",
      "Epoch 34/40\n",
      "2193/2193 [==============================] - 7s 3ms/step - loss: 0.3163 - binary_accuracy: 0.8784 - val_loss: 0.4526 - val_binary_accuracy: 0.8161\n",
      "Epoch 35/40\n",
      "2193/2193 [==============================] - 7s 3ms/step - loss: 0.3156 - binary_accuracy: 0.8749 - val_loss: 0.4529 - val_binary_accuracy: 0.8161\n",
      "Epoch 36/40\n",
      "2193/2193 [==============================] - 7s 3ms/step - loss: 0.3154 - binary_accuracy: 0.8762 - val_loss: 0.4531 - val_binary_accuracy: 0.8155\n",
      "Epoch 37/40\n",
      "2193/2193 [==============================] - 8s 3ms/step - loss: 0.3155 - binary_accuracy: 0.8806 - val_loss: 0.4520 - val_binary_accuracy: 0.8161\n",
      "Epoch 38/40\n",
      "2193/2193 [==============================] - 8s 4ms/step - loss: 0.3156 - binary_accuracy: 0.8785 - val_loss: 0.4522 - val_binary_accuracy: 0.8155\n",
      "Epoch 39/40\n",
      "2193/2193 [==============================] - 8s 4ms/step - loss: 0.3094 - binary_accuracy: 0.8771 - val_loss: 0.4513 - val_binary_accuracy: 0.8168\n",
      "Epoch 40/40\n",
      "2193/2193 [==============================] - 8s 4ms/step - loss: 0.3132 - binary_accuracy: 0.8772 - val_loss: 0.4512 - val_binary_accuracy: 0.8175\n"
     ]
    },
    {
     "data": {
      "image/png": "[encoded data removed]",
      "text/plain": [
       "<Figure size 432x288 with 1 Axes>"
      ]
     },
     "metadata": {
      "needs_background": "light"
     },
     "output_type": "display_data"
    },
    {
     "name": "stdout",
     "output_type": "stream",
     "text": [
      "Epoch 1/40\n",
      "2193/2193 [==============================] - 9s 4ms/step - loss: 0.3706 - binary_accuracy: 0.8711 - val_loss: 0.4572 - val_binary_accuracy: 0.8128\n",
      "Epoch 2/40\n",
      "2193/2193 [==============================] - 7s 3ms/step - loss: 0.3558 - binary_accuracy: 0.8711 - val_loss: 0.4551 - val_binary_accuracy: 0.8128\n",
      "Epoch 3/40\n",
      "2193/2193 [==============================] - 8s 4ms/step - loss: 0.3495 - binary_accuracy: 0.8714 - val_loss: 0.4518 - val_binary_accuracy: 0.8128\n",
      "Epoch 4/40\n",
      "2193/2193 [==============================] - 7s 3ms/step - loss: 0.3457 - binary_accuracy: 0.8714 - val_loss: 0.4493 - val_binary_accuracy: 0.8128\n",
      "Epoch 5/40\n",
      "2193/2193 [==============================] - 8s 3ms/step - loss: 0.3437 - binary_accuracy: 0.8726 - val_loss: 0.4461 - val_binary_accuracy: 0.8128\n",
      "Epoch 6/40\n",
      "2193/2193 [==============================] - 7s 3ms/step - loss: 0.3393 - binary_accuracy: 0.8731 - val_loss: 0.4476 - val_binary_accuracy: 0.8128\n",
      "Epoch 7/40\n",
      "2193/2193 [==============================] - 7s 3ms/step - loss: 0.3411 - binary_accuracy: 0.8718 - val_loss: 0.4469 - val_binary_accuracy: 0.8128\n",
      "Epoch 8/40\n",
      "2193/2193 [==============================] - 7s 3ms/step - loss: 0.3375 - binary_accuracy: 0.8723 - val_loss: 0.4457 - val_binary_accuracy: 0.8128\n",
      "Epoch 9/40\n",
      "2193/2193 [==============================] - 8s 4ms/step - loss: 0.3349 - binary_accuracy: 0.8726 - val_loss: 0.4468 - val_binary_accuracy: 0.8128\n",
      "Epoch 10/40\n",
      "2193/2193 [==============================] - 8s 4ms/step - loss: 0.3369 - binary_accuracy: 0.8729 - val_loss: 0.4474 - val_binary_accuracy: 0.8122\n",
      "Epoch 11/40\n",
      "2193/2193 [==============================] - 8s 4ms/step - loss: 0.3361 - binary_accuracy: 0.8737 - val_loss: 0.4473 - val_binary_accuracy: 0.8128\n",
      "Epoch 12/40\n",
      "2193/2193 [==============================] - 8s 3ms/step - loss: 0.3313 - binary_accuracy: 0.8739 - val_loss: 0.4466 - val_binary_accuracy: 0.8142\n",
      "Epoch 13/40\n",
      "2193/2193 [==============================] - 8s 4ms/step - loss: 0.3326 - binary_accuracy: 0.8758 - val_loss: 0.4468 - val_binary_accuracy: 0.8142\n",
      "Epoch 14/40\n",
      "2193/2193 [==============================] - 8s 3ms/step - loss: 0.3345 - binary_accuracy: 0.8737 - val_loss: 0.4441 - val_binary_accuracy: 0.8148\n",
      "Epoch 15/40\n",
      "2193/2193 [==============================] - 8s 4ms/step - loss: 0.3310 - binary_accuracy: 0.8752 - val_loss: 0.4462 - val_binary_accuracy: 0.8148\n",
      "Epoch 16/40\n",
      "2193/2193 [==============================] - 8s 4ms/step - loss: 0.3288 - binary_accuracy: 0.8743 - val_loss: 0.4487 - val_binary_accuracy: 0.8142\n",
      "Epoch 17/40\n",
      "2193/2193 [==============================] - 7s 3ms/step - loss: 0.3294 - binary_accuracy: 0.8752 - val_loss: 0.4470 - val_binary_accuracy: 0.8142\n",
      "Epoch 18/40\n",
      "2193/2193 [==============================] - 7s 3ms/step - loss: 0.3286 - binary_accuracy: 0.8749 - val_loss: 0.4472 - val_binary_accuracy: 0.8142\n",
      "Epoch 19/40\n",
      "2193/2193 [==============================] - 7s 3ms/step - loss: 0.3256 - binary_accuracy: 0.8743 - val_loss: 0.4465 - val_binary_accuracy: 0.8128\n",
      "Epoch 20/40\n",
      "2193/2193 [==============================] - 8s 4ms/step - loss: 0.3239 - binary_accuracy: 0.8766 - val_loss: 0.4474 - val_binary_accuracy: 0.8135\n",
      "Epoch 21/40\n",
      "2193/2193 [==============================] - 8s 4ms/step - loss: 0.3236 - binary_accuracy: 0.8768 - val_loss: 0.4484 - val_binary_accuracy: 0.8135\n",
      "Epoch 22/40\n",
      "2193/2193 [==============================] - 8s 4ms/step - loss: 0.3252 - binary_accuracy: 0.8759 - val_loss: 0.4463 - val_binary_accuracy: 0.8135\n",
      "Epoch 23/40\n",
      "2193/2193 [==============================] - 7s 3ms/step - loss: 0.3275 - binary_accuracy: 0.8747 - val_loss: 0.4456 - val_binary_accuracy: 0.8135\n",
      "Epoch 24/40\n",
      "2193/2193 [==============================] - 7s 3ms/step - loss: 0.3232 - binary_accuracy: 0.8750 - val_loss: 0.4458 - val_binary_accuracy: 0.8135\n",
      "Epoch 25/40\n",
      "2193/2193 [==============================] - 7s 3ms/step - loss: 0.3247 - binary_accuracy: 0.8768 - val_loss: 0.4481 - val_binary_accuracy: 0.8135\n",
      "Epoch 26/40\n",
      "2193/2193 [==============================] - 8s 3ms/step - loss: 0.3202 - binary_accuracy: 0.8776 - val_loss: 0.4478 - val_binary_accuracy: 0.8128\n",
      "Epoch 27/40\n",
      "2193/2193 [==============================] - 8s 4ms/step - loss: 0.3247 - binary_accuracy: 0.8750 - val_loss: 0.4469 - val_binary_accuracy: 0.8128\n",
      "Epoch 28/40\n",
      "2193/2193 [==============================] - 8s 4ms/step - loss: 0.3244 - binary_accuracy: 0.8766 - val_loss: 0.4476 - val_binary_accuracy: 0.8128\n",
      "Epoch 29/40\n",
      "2193/2193 [==============================] - 7s 3ms/step - loss: 0.3219 - binary_accuracy: 0.8789 - val_loss: 0.4500 - val_binary_accuracy: 0.8142\n",
      "Epoch 30/40\n",
      "2193/2193 [==============================] - 7s 3ms/step - loss: 0.3185 - binary_accuracy: 0.8760 - val_loss: 0.4472 - val_binary_accuracy: 0.8128\n",
      "Epoch 31/40\n",
      "2193/2193 [==============================] - 7s 3ms/step - loss: 0.3188 - binary_accuracy: 0.8752 - val_loss: 0.4482 - val_binary_accuracy: 0.8142\n",
      "Epoch 32/40\n",
      "2193/2193 [==============================] - 7s 3ms/step - loss: 0.3221 - binary_accuracy: 0.8742 - val_loss: 0.4473 - val_binary_accuracy: 0.8155\n",
      "Epoch 33/40\n",
      "2193/2193 [==============================] - 7s 3ms/step - loss: 0.3175 - binary_accuracy: 0.8784 - val_loss: 0.4481 - val_binary_accuracy: 0.8161\n",
      "Epoch 34/40\n",
      "2193/2193 [==============================] - 7s 3ms/step - loss: 0.3166 - binary_accuracy: 0.8795 - val_loss: 0.4486 - val_binary_accuracy: 0.8148\n",
      "Epoch 35/40\n",
      "2193/2193 [==============================] - 7s 3ms/step - loss: 0.3170 - binary_accuracy: 0.8788 - val_loss: 0.4461 - val_binary_accuracy: 0.8161\n",
      "Epoch 36/40\n",
      "2193/2193 [==============================] - 7s 3ms/step - loss: 0.3164 - binary_accuracy: 0.8808 - val_loss: 0.4477 - val_binary_accuracy: 0.8161\n",
      "Epoch 37/40\n",
      "2193/2193 [==============================] - 7s 3ms/step - loss: 0.3155 - binary_accuracy: 0.8781 - val_loss: 0.4493 - val_binary_accuracy: 0.8161\n",
      "Epoch 38/40\n",
      "2193/2193 [==============================] - 8s 4ms/step - loss: 0.3135 - binary_accuracy: 0.8778 - val_loss: 0.4490 - val_binary_accuracy: 0.8161\n",
      "Epoch 39/40\n",
      "2193/2193 [==============================] - 7s 3ms/step - loss: 0.3187 - binary_accuracy: 0.8763 - val_loss: 0.4484 - val_binary_accuracy: 0.8168\n",
      "Epoch 40/40\n",
      "2193/2193 [==============================] - 7s 3ms/step - loss: 0.3139 - binary_accuracy: 0.8781 - val_loss: 0.4498 - val_binary_accuracy: 0.8161\n"
     ]
    },
    {
     "data": {
      "image/png": "[encoded data removed]",
      "text/plain": [
       "<Figure size 432x288 with 1 Axes>"
      ]
     },
     "metadata": {
      "needs_background": "light"
     },
     "output_type": "display_data"
    },
    {
     "name": "stdout",
     "output_type": "stream",
     "text": [
      "Epoch 1/40\n",
      "2193/2193 [==============================] - 8s 4ms/step - loss: 0.3715 - binary_accuracy: 0.8707 - val_loss: 0.4578 - val_binary_accuracy: 0.8128\n",
      "Epoch 2/40\n",
      "2193/2193 [==============================] - 7s 3ms/step - loss: 0.3542 - binary_accuracy: 0.8712 - val_loss: 0.4529 - val_binary_accuracy: 0.8128\n",
      "Epoch 3/40\n",
      "2193/2193 [==============================] - 7s 3ms/step - loss: 0.3493 - binary_accuracy: 0.8715 - val_loss: 0.4501 - val_binary_accuracy: 0.8128\n",
      "Epoch 4/40\n",
      "2193/2193 [==============================] - 7s 3ms/step - loss: 0.3448 - binary_accuracy: 0.8718 - val_loss: 0.4483 - val_binary_accuracy: 0.8128\n",
      "Epoch 5/40\n",
      "2193/2193 [==============================] - 7s 3ms/step - loss: 0.3423 - binary_accuracy: 0.8718 - val_loss: 0.4491 - val_binary_accuracy: 0.8122\n",
      "Epoch 6/40\n",
      "2193/2193 [==============================] - 7s 3ms/step - loss: 0.3404 - binary_accuracy: 0.8722 - val_loss: 0.4481 - val_binary_accuracy: 0.8122\n",
      "Epoch 7/40\n",
      "2193/2193 [==============================] - 7s 3ms/step - loss: 0.3392 - binary_accuracy: 0.8722 - val_loss: 0.4469 - val_binary_accuracy: 0.8122\n",
      "Epoch 8/40\n",
      "2193/2193 [==============================] - 7s 3ms/step - loss: 0.3360 - binary_accuracy: 0.8706 - val_loss: 0.4464 - val_binary_accuracy: 0.8115\n",
      "Epoch 9/40\n",
      "2193/2193 [==============================] - 7s 3ms/step - loss: 0.3358 - binary_accuracy: 0.8738 - val_loss: 0.4455 - val_binary_accuracy: 0.8122\n",
      "Epoch 10/40\n",
      "2193/2193 [==============================] - 7s 3ms/step - loss: 0.3380 - binary_accuracy: 0.8732 - val_loss: 0.4468 - val_binary_accuracy: 0.8122\n",
      "Epoch 11/40\n",
      "2193/2193 [==============================] - 7s 3ms/step - loss: 0.3327 - binary_accuracy: 0.8753 - val_loss: 0.4472 - val_binary_accuracy: 0.8128\n",
      "Epoch 12/40\n",
      "2193/2193 [==============================] - 7s 3ms/step - loss: 0.3290 - binary_accuracy: 0.8745 - val_loss: 0.4477 - val_binary_accuracy: 0.8102\n",
      "Epoch 13/40\n",
      "2193/2193 [==============================] - 7s 3ms/step - loss: 0.3323 - binary_accuracy: 0.8733 - val_loss: 0.4472 - val_binary_accuracy: 0.8115\n",
      "Epoch 14/40\n",
      "2193/2193 [==============================] - 7s 3ms/step - loss: 0.3305 - binary_accuracy: 0.8734 - val_loss: 0.4491 - val_binary_accuracy: 0.8122\n",
      "Epoch 15/40\n",
      "2193/2193 [==============================] - 7s 3ms/step - loss: 0.3286 - binary_accuracy: 0.8733 - val_loss: 0.4468 - val_binary_accuracy: 0.8108\n",
      "Epoch 16/40\n",
      "2193/2193 [==============================] - 7s 3ms/step - loss: 0.3279 - binary_accuracy: 0.8746 - val_loss: 0.4474 - val_binary_accuracy: 0.8108\n",
      "Epoch 17/40\n",
      "2193/2193 [==============================] - 7s 3ms/step - loss: 0.3269 - binary_accuracy: 0.8718 - val_loss: 0.4493 - val_binary_accuracy: 0.8122\n",
      "Epoch 18/40\n",
      "2193/2193 [==============================] - 7s 3ms/step - loss: 0.3245 - binary_accuracy: 0.8741 - val_loss: 0.4489 - val_binary_accuracy: 0.8115\n",
      "Epoch 19/40\n",
      "2193/2193 [==============================] - 7s 3ms/step - loss: 0.3245 - binary_accuracy: 0.8753 - val_loss: 0.4488 - val_binary_accuracy: 0.8108\n",
      "Epoch 20/40\n",
      "2193/2193 [==============================] - 7s 3ms/step - loss: 0.3269 - binary_accuracy: 0.8735 - val_loss: 0.4510 - val_binary_accuracy: 0.8122\n",
      "Epoch 21/40\n",
      "2193/2193 [==============================] - 7s 3ms/step - loss: 0.3271 - binary_accuracy: 0.8760 - val_loss: 0.4502 - val_binary_accuracy: 0.8122\n",
      "Epoch 22/40\n",
      "2193/2193 [==============================] - 7s 3ms/step - loss: 0.3267 - binary_accuracy: 0.8745 - val_loss: 0.4502 - val_binary_accuracy: 0.8122\n",
      "Epoch 23/40\n",
      "2193/2193 [==============================] - 7s 3ms/step - loss: 0.3260 - binary_accuracy: 0.8751 - val_loss: 0.4503 - val_binary_accuracy: 0.8122\n",
      "Epoch 24/40\n",
      "2193/2193 [==============================] - 8s 3ms/step - loss: 0.3247 - binary_accuracy: 0.8744 - val_loss: 0.4489 - val_binary_accuracy: 0.8142\n",
      "Epoch 25/40\n",
      "2193/2193 [==============================] - 7s 3ms/step - loss: 0.3222 - binary_accuracy: 0.8749 - val_loss: 0.4478 - val_binary_accuracy: 0.8142\n",
      "Epoch 26/40\n",
      "2193/2193 [==============================] - 7s 3ms/step - loss: 0.3212 - binary_accuracy: 0.8763 - val_loss: 0.4495 - val_binary_accuracy: 0.8148\n",
      "Epoch 27/40\n",
      "2193/2193 [==============================] - 7s 3ms/step - loss: 0.3204 - binary_accuracy: 0.8730 - val_loss: 0.4508 - val_binary_accuracy: 0.8142\n",
      "Epoch 28/40\n",
      "2193/2193 [==============================] - 7s 3ms/step - loss: 0.3220 - binary_accuracy: 0.8738 - val_loss: 0.4501 - val_binary_accuracy: 0.8148\n",
      "Epoch 29/40\n",
      "2193/2193 [==============================] - 7s 3ms/step - loss: 0.3213 - binary_accuracy: 0.8757 - val_loss: 0.4523 - val_binary_accuracy: 0.8135\n",
      "Epoch 30/40\n",
      "2193/2193 [==============================] - 9s 4ms/step - loss: 0.3192 - binary_accuracy: 0.8775 - val_loss: 0.4533 - val_binary_accuracy: 0.8135\n",
      "Epoch 31/40\n",
      "2193/2193 [==============================] - 6s 3ms/step - loss: 0.3246 - binary_accuracy: 0.8757 - val_loss: 0.4512 - val_binary_accuracy: 0.8142\n",
      "Epoch 32/40\n",
      "2193/2193 [==============================] - 6s 3ms/step - loss: 0.3177 - binary_accuracy: 0.8772 - val_loss: 0.4497 - val_binary_accuracy: 0.8148\n",
      "Epoch 33/40\n",
      "2193/2193 [==============================] - 6s 3ms/step - loss: 0.3162 - binary_accuracy: 0.8769 - val_loss: 0.4529 - val_binary_accuracy: 0.8148\n",
      "Epoch 34/40\n",
      "2193/2193 [==============================] - 6s 3ms/step - loss: 0.3193 - binary_accuracy: 0.8771 - val_loss: 0.4516 - val_binary_accuracy: 0.8148\n",
      "Epoch 35/40\n",
      "2193/2193 [==============================] - 6s 3ms/step - loss: 0.3192 - binary_accuracy: 0.8775 - val_loss: 0.4506 - val_binary_accuracy: 0.8142\n",
      "Epoch 36/40\n",
      "2193/2193 [==============================] - 6s 3ms/step - loss: 0.3169 - binary_accuracy: 0.8774 - val_loss: 0.4543 - val_binary_accuracy: 0.8142\n",
      "Epoch 37/40\n",
      "2193/2193 [==============================] - 6s 3ms/step - loss: 0.3195 - binary_accuracy: 0.8758 - val_loss: 0.4520 - val_binary_accuracy: 0.8155\n",
      "Epoch 38/40\n",
      "2193/2193 [==============================] - 6s 3ms/step - loss: 0.3156 - binary_accuracy: 0.8795 - val_loss: 0.4523 - val_binary_accuracy: 0.8148\n",
      "Epoch 39/40\n",
      "2193/2193 [==============================] - 6s 3ms/step - loss: 0.3181 - binary_accuracy: 0.8777 - val_loss: 0.4514 - val_binary_accuracy: 0.8142\n",
      "Epoch 40/40\n",
      "2193/2193 [==============================] - 6s 3ms/step - loss: 0.3142 - binary_accuracy: 0.8796 - val_loss: 0.4529 - val_binary_accuracy: 0.8155\n"
     ]
    },
    {
     "data": {
      "image/png": "[encoded data removed]",
      "text/plain": [
       "<Figure size 432x288 with 1 Axes>"
      ]
     },
     "metadata": {
      "needs_background": "light"
     },
     "output_type": "display_data"
    },
    {
     "name": "stdout",
     "output_type": "stream",
     "text": [
      "Epoch 1/40\n",
      "2193/2193 [==============================] - 8s 4ms/step - loss: 0.3717 - binary_accuracy: 0.8711 - val_loss: 0.4591 - val_binary_accuracy: 0.8128\n",
      "Epoch 2/40\n",
      "2193/2193 [==============================] - 6s 3ms/step - loss: 0.3579 - binary_accuracy: 0.8713 - val_loss: 0.4547 - val_binary_accuracy: 0.8128\n",
      "Epoch 3/40\n",
      "2193/2193 [==============================] - 6s 3ms/step - loss: 0.3506 - binary_accuracy: 0.8710 - val_loss: 0.4511 - val_binary_accuracy: 0.8122\n",
      "Epoch 4/40\n",
      "2193/2193 [==============================] - 6s 3ms/step - loss: 0.3443 - binary_accuracy: 0.8707 - val_loss: 0.4493 - val_binary_accuracy: 0.8115\n",
      "Epoch 5/40\n",
      "2193/2193 [==============================] - 6s 3ms/step - loss: 0.3441 - binary_accuracy: 0.8717 - val_loss: 0.4467 - val_binary_accuracy: 0.8115\n",
      "Epoch 6/40\n",
      "2193/2193 [==============================] - 6s 3ms/step - loss: 0.3410 - binary_accuracy: 0.8725 - val_loss: 0.4487 - val_binary_accuracy: 0.8115\n",
      "Epoch 7/40\n",
      "2193/2193 [==============================] - 6s 3ms/step - loss: 0.3410 - binary_accuracy: 0.8725 - val_loss: 0.4477 - val_binary_accuracy: 0.8115\n",
      "Epoch 8/40\n",
      "2193/2193 [==============================] - 6s 3ms/step - loss: 0.3383 - binary_accuracy: 0.8724 - val_loss: 0.4461 - val_binary_accuracy: 0.8102\n",
      "Epoch 9/40\n",
      "2193/2193 [==============================] - 6s 3ms/step - loss: 0.3355 - binary_accuracy: 0.8725 - val_loss: 0.4465 - val_binary_accuracy: 0.8102\n",
      "Epoch 10/40\n",
      "2193/2193 [==============================] - 6s 3ms/step - loss: 0.3364 - binary_accuracy: 0.8733 - val_loss: 0.4473 - val_binary_accuracy: 0.8102\n",
      "Epoch 11/40\n",
      "2193/2193 [==============================] - 6s 3ms/step - loss: 0.3356 - binary_accuracy: 0.8727 - val_loss: 0.4454 - val_binary_accuracy: 0.8102\n",
      "Epoch 12/40\n",
      "2193/2193 [==============================] - 6s 3ms/step - loss: 0.3367 - binary_accuracy: 0.8743 - val_loss: 0.4468 - val_binary_accuracy: 0.8095\n",
      "Epoch 13/40\n",
      "2193/2193 [==============================] - 6s 3ms/step - loss: 0.3310 - binary_accuracy: 0.8741 - val_loss: 0.4469 - val_binary_accuracy: 0.8095\n",
      "Epoch 14/40\n",
      "2193/2193 [==============================] - 6s 3ms/step - loss: 0.3314 - binary_accuracy: 0.8744 - val_loss: 0.4457 - val_binary_accuracy: 0.8095\n",
      "Epoch 15/40\n",
      "2193/2193 [==============================] - 6s 3ms/step - loss: 0.3308 - binary_accuracy: 0.8746 - val_loss: 0.4455 - val_binary_accuracy: 0.8128\n",
      "Epoch 16/40\n",
      "2193/2193 [==============================] - 6s 3ms/step - loss: 0.3313 - binary_accuracy: 0.8751 - val_loss: 0.4476 - val_binary_accuracy: 0.8102\n",
      "Epoch 17/40\n",
      "2193/2193 [==============================] - 6s 3ms/step - loss: 0.3280 - binary_accuracy: 0.8726 - val_loss: 0.4451 - val_binary_accuracy: 0.8128\n",
      "Epoch 18/40\n",
      "2193/2193 [==============================] - 6s 3ms/step - loss: 0.3268 - binary_accuracy: 0.8744 - val_loss: 0.4448 - val_binary_accuracy: 0.8155\n",
      "Epoch 19/40\n",
      "2193/2193 [==============================] - 6s 3ms/step - loss: 0.3302 - binary_accuracy: 0.8734 - val_loss: 0.4458 - val_binary_accuracy: 0.8115\n",
      "Epoch 20/40\n",
      "2193/2193 [==============================] - 6s 3ms/step - loss: 0.3251 - binary_accuracy: 0.8766 - val_loss: 0.4444 - val_binary_accuracy: 0.8142\n",
      "Epoch 21/40\n",
      "2193/2193 [==============================] - 6s 3ms/step - loss: 0.3263 - binary_accuracy: 0.8766 - val_loss: 0.4433 - val_binary_accuracy: 0.8142\n",
      "Epoch 22/40\n",
      "2193/2193 [==============================] - 6s 3ms/step - loss: 0.3257 - binary_accuracy: 0.8771 - val_loss: 0.4450 - val_binary_accuracy: 0.8135\n",
      "Epoch 23/40\n",
      "2193/2193 [==============================] - 6s 3ms/step - loss: 0.3241 - binary_accuracy: 0.8765 - val_loss: 0.4459 - val_binary_accuracy: 0.8142\n",
      "Epoch 24/40\n",
      "2193/2193 [==============================] - 6s 3ms/step - loss: 0.3241 - binary_accuracy: 0.8767 - val_loss: 0.4446 - val_binary_accuracy: 0.8142\n",
      "Epoch 25/40\n",
      "2193/2193 [==============================] - 6s 3ms/step - loss: 0.3242 - binary_accuracy: 0.8742 - val_loss: 0.4460 - val_binary_accuracy: 0.8148\n",
      "Epoch 26/40\n",
      "2193/2193 [==============================] - 6s 3ms/step - loss: 0.3202 - binary_accuracy: 0.8783 - val_loss: 0.4465 - val_binary_accuracy: 0.8142\n",
      "Epoch 27/40\n",
      "2193/2193 [==============================] - 6s 3ms/step - loss: 0.3217 - binary_accuracy: 0.8739 - val_loss: 0.4453 - val_binary_accuracy: 0.8142\n",
      "Epoch 28/40\n",
      "2193/2193 [==============================] - 6s 3ms/step - loss: 0.3234 - binary_accuracy: 0.8757 - val_loss: 0.4489 - val_binary_accuracy: 0.8135\n",
      "Epoch 29/40\n",
      "2193/2193 [==============================] - 7s 3ms/step - loss: 0.3210 - binary_accuracy: 0.8750 - val_loss: 0.4462 - val_binary_accuracy: 0.8148\n",
      "Epoch 30/40\n",
      "2193/2193 [==============================] - 6s 3ms/step - loss: 0.3205 - binary_accuracy: 0.8770 - val_loss: 0.4477 - val_binary_accuracy: 0.8148\n",
      "Epoch 31/40\n",
      "2193/2193 [==============================] - 6s 3ms/step - loss: 0.3175 - binary_accuracy: 0.8761 - val_loss: 0.4482 - val_binary_accuracy: 0.8155\n",
      "Epoch 32/40\n",
      "2193/2193 [==============================] - 6s 3ms/step - loss: 0.3173 - binary_accuracy: 0.8765 - val_loss: 0.4489 - val_binary_accuracy: 0.8155\n",
      "Epoch 33/40\n",
      "2193/2193 [==============================] - 7s 3ms/step - loss: 0.3190 - binary_accuracy: 0.8751 - val_loss: 0.4448 - val_binary_accuracy: 0.8161\n",
      "Epoch 34/40\n",
      "2193/2193 [==============================] - 6s 3ms/step - loss: 0.3187 - binary_accuracy: 0.8785 - val_loss: 0.4472 - val_binary_accuracy: 0.8155\n",
      "Epoch 35/40\n",
      "2193/2193 [==============================] - 7s 3ms/step - loss: 0.3167 - binary_accuracy: 0.8774 - val_loss: 0.4477 - val_binary_accuracy: 0.8155\n",
      "Epoch 36/40\n",
      "2193/2193 [==============================] - 7s 3ms/step - loss: 0.3166 - binary_accuracy: 0.8765 - val_loss: 0.4460 - val_binary_accuracy: 0.8161\n",
      "Epoch 37/40\n",
      "2193/2193 [==============================] - 6s 3ms/step - loss: 0.3159 - binary_accuracy: 0.8749 - val_loss: 0.4469 - val_binary_accuracy: 0.8155\n",
      "Epoch 38/40\n",
      "2193/2193 [==============================] - 7s 3ms/step - loss: 0.3170 - binary_accuracy: 0.8784 - val_loss: 0.4494 - val_binary_accuracy: 0.8155\n",
      "Epoch 39/40\n",
      "2193/2193 [==============================] - 7s 3ms/step - loss: 0.3168 - binary_accuracy: 0.8779 - val_loss: 0.4503 - val_binary_accuracy: 0.8161\n",
      "Epoch 40/40\n",
      "2193/2193 [==============================] - 7s 3ms/step - loss: 0.3122 - binary_accuracy: 0.8802 - val_loss: 0.4479 - val_binary_accuracy: 0.8161\n"
     ]
    },
    {
     "data": {
      "image/png": "[encoded data removed]",
      "text/plain": [
       "<Figure size 432x288 with 1 Axes>"
      ]
     },
     "metadata": {
      "needs_background": "light"
     },
     "output_type": "display_data"
    },
    {
     "name": "stdout",
     "output_type": "stream",
     "text": [
      "Epoch 1/40\n",
      "2193/2193 [==============================] - 8s 4ms/step - loss: 0.3714 - binary_accuracy: 0.8711 - val_loss: 0.4618 - val_binary_accuracy: 0.8128\n",
      "Epoch 2/40\n",
      "2193/2193 [==============================] - 6s 3ms/step - loss: 0.3571 - binary_accuracy: 0.8711 - val_loss: 0.4537 - val_binary_accuracy: 0.8128\n",
      "Epoch 3/40\n",
      "2193/2193 [==============================] - 6s 3ms/step - loss: 0.3490 - binary_accuracy: 0.8713 - val_loss: 0.4510 - val_binary_accuracy: 0.8128\n",
      "Epoch 4/40\n",
      "2193/2193 [==============================] - 6s 3ms/step - loss: 0.3471 - binary_accuracy: 0.8718 - val_loss: 0.4468 - val_binary_accuracy: 0.8128\n",
      "Epoch 5/40\n",
      "2193/2193 [==============================] - 6s 3ms/step - loss: 0.3436 - binary_accuracy: 0.8722 - val_loss: 0.4472 - val_binary_accuracy: 0.8128\n",
      "Epoch 6/40\n",
      "2193/2193 [==============================] - 7s 3ms/step - loss: 0.3427 - binary_accuracy: 0.8716 - val_loss: 0.4470 - val_binary_accuracy: 0.8128\n",
      "Epoch 7/40\n",
      "2193/2193 [==============================] - 6s 3ms/step - loss: 0.3421 - binary_accuracy: 0.8722 - val_loss: 0.4484 - val_binary_accuracy: 0.8128\n",
      "Epoch 8/40\n",
      "2193/2193 [==============================] - 6s 3ms/step - loss: 0.3376 - binary_accuracy: 0.8724 - val_loss: 0.4476 - val_binary_accuracy: 0.8128\n",
      "Epoch 9/40\n",
      "2193/2193 [==============================] - 6s 3ms/step - loss: 0.3368 - binary_accuracy: 0.8718 - val_loss: 0.4455 - val_binary_accuracy: 0.8122\n",
      "Epoch 10/40\n",
      "2193/2193 [==============================] - 6s 3ms/step - loss: 0.3381 - binary_accuracy: 0.8722 - val_loss: 0.4471 - val_binary_accuracy: 0.8115\n",
      "Epoch 11/40\n",
      "2193/2193 [==============================] - 6s 3ms/step - loss: 0.3354 - binary_accuracy: 0.8733 - val_loss: 0.4454 - val_binary_accuracy: 0.8115\n",
      "Epoch 12/40\n",
      "2193/2193 [==============================] - 6s 3ms/step - loss: 0.3370 - binary_accuracy: 0.8732 - val_loss: 0.4478 - val_binary_accuracy: 0.8115\n",
      "Epoch 13/40\n",
      "2193/2193 [==============================] - 6s 3ms/step - loss: 0.3355 - binary_accuracy: 0.8746 - val_loss: 0.4458 - val_binary_accuracy: 0.8128\n",
      "Epoch 14/40\n",
      "2193/2193 [==============================] - 6s 3ms/step - loss: 0.3363 - binary_accuracy: 0.8731 - val_loss: 0.4467 - val_binary_accuracy: 0.8128\n",
      "Epoch 15/40\n",
      "2193/2193 [==============================] - 6s 3ms/step - loss: 0.3318 - binary_accuracy: 0.8731 - val_loss: 0.4458 - val_binary_accuracy: 0.8135\n",
      "Epoch 16/40\n",
      "2193/2193 [==============================] - 7s 3ms/step - loss: 0.3327 - binary_accuracy: 0.8745 - val_loss: 0.4481 - val_binary_accuracy: 0.8128\n",
      "Epoch 17/40\n",
      "2193/2193 [==============================] - 7s 3ms/step - loss: 0.3327 - binary_accuracy: 0.8734 - val_loss: 0.4472 - val_binary_accuracy: 0.8135\n",
      "Epoch 18/40\n",
      "2193/2193 [==============================] - 6s 3ms/step - loss: 0.3300 - binary_accuracy: 0.8745 - val_loss: 0.4463 - val_binary_accuracy: 0.8135\n",
      "Epoch 19/40\n",
      "2193/2193 [==============================] - 6s 3ms/step - loss: 0.3311 - binary_accuracy: 0.8734 - val_loss: 0.4468 - val_binary_accuracy: 0.8128\n",
      "Epoch 20/40\n",
      "2193/2193 [==============================] - 6s 3ms/step - loss: 0.3303 - binary_accuracy: 0.8748 - val_loss: 0.4466 - val_binary_accuracy: 0.8135\n",
      "Epoch 21/40\n",
      "2193/2193 [==============================] - 6s 3ms/step - loss: 0.3269 - binary_accuracy: 0.8742 - val_loss: 0.4478 - val_binary_accuracy: 0.8128\n",
      "Epoch 22/40\n",
      "2193/2193 [==============================] - 6s 3ms/step - loss: 0.3279 - binary_accuracy: 0.8743 - val_loss: 0.4493 - val_binary_accuracy: 0.8135\n",
      "Epoch 23/40\n",
      "2193/2193 [==============================] - 7s 3ms/step - loss: 0.3262 - binary_accuracy: 0.8767 - val_loss: 0.4493 - val_binary_accuracy: 0.8142\n",
      "Epoch 24/40\n",
      "2193/2193 [==============================] - 13s 6ms/step - loss: 0.3284 - binary_accuracy: 0.8774 - val_loss: 0.4473 - val_binary_accuracy: 0.8142\n",
      "Epoch 25/40\n",
      "2193/2193 [==============================] - 13s 6ms/step - loss: 0.3246 - binary_accuracy: 0.8766 - val_loss: 0.4510 - val_binary_accuracy: 0.8135\n",
      "Epoch 26/40\n",
      "2193/2193 [==============================] - 13s 6ms/step - loss: 0.3239 - binary_accuracy: 0.8731 - val_loss: 0.4477 - val_binary_accuracy: 0.8148\n",
      "Epoch 27/40\n",
      "2193/2193 [==============================] - 13s 6ms/step - loss: 0.3279 - binary_accuracy: 0.8758 - val_loss: 0.4479 - val_binary_accuracy: 0.8142\n",
      "Epoch 28/40\n",
      "2193/2193 [==============================] - 13s 6ms/step - loss: 0.3245 - binary_accuracy: 0.8745 - val_loss: 0.4510 - val_binary_accuracy: 0.8135\n",
      "Epoch 29/40\n",
      "2193/2193 [==============================] - 13s 6ms/step - loss: 0.3239 - binary_accuracy: 0.8763 - val_loss: 0.4484 - val_binary_accuracy: 0.8142\n",
      "Epoch 30/40\n",
      "2193/2193 [==============================] - 13s 6ms/step - loss: 0.3234 - binary_accuracy: 0.8753 - val_loss: 0.4477 - val_binary_accuracy: 0.8128\n",
      "Epoch 31/40\n",
      "2193/2193 [==============================] - 13s 6ms/step - loss: 0.3238 - binary_accuracy: 0.8751 - val_loss: 0.4474 - val_binary_accuracy: 0.8135\n",
      "Epoch 32/40\n",
      "2193/2193 [==============================] - 13s 6ms/step - loss: 0.3220 - binary_accuracy: 0.8759 - val_loss: 0.4486 - val_binary_accuracy: 0.8142\n",
      "Epoch 33/40\n",
      "2193/2193 [==============================] - 13s 6ms/step - loss: 0.3214 - binary_accuracy: 0.8771 - val_loss: 0.4480 - val_binary_accuracy: 0.8155\n",
      "Epoch 34/40\n",
      "2193/2193 [==============================] - 13s 6ms/step - loss: 0.3153 - binary_accuracy: 0.8766 - val_loss: 0.4484 - val_binary_accuracy: 0.8155\n",
      "Epoch 35/40\n",
      "2193/2193 [==============================] - 13s 6ms/step - loss: 0.3219 - binary_accuracy: 0.8782 - val_loss: 0.4499 - val_binary_accuracy: 0.8155\n",
      "Epoch 36/40\n",
      "2193/2193 [==============================] - 13s 6ms/step - loss: 0.3167 - binary_accuracy: 0.8771 - val_loss: 0.4497 - val_binary_accuracy: 0.8168\n",
      "Epoch 37/40\n",
      "2193/2193 [==============================] - 13s 6ms/step - loss: 0.3174 - binary_accuracy: 0.8782 - val_loss: 0.4502 - val_binary_accuracy: 0.8175\n",
      "Epoch 38/40\n",
      "2193/2193 [==============================] - 13s 6ms/step - loss: 0.3206 - binary_accuracy: 0.8777 - val_loss: 0.4500 - val_binary_accuracy: 0.8161\n",
      "Epoch 39/40\n",
      "2193/2193 [==============================] - 11s 5ms/step - loss: 0.3198 - binary_accuracy: 0.8777 - val_loss: 0.4490 - val_binary_accuracy: 0.8155\n",
      "Epoch 40/40\n",
      "2193/2193 [==============================] - 6s 3ms/step - loss: 0.3194 - binary_accuracy: 0.8769 - val_loss: 0.4493 - val_binary_accuracy: 0.8155\n"
     ]
    },
    {
     "data": {
      "image/png": "[encoded data removed]",
      "text/plain": [
       "<Figure size 432x288 with 1 Axes>"
      ]
     },
     "metadata": {
      "needs_background": "light"
     },
     "output_type": "display_data"
    },
    {
     "name": "stdout",
     "output_type": "stream",
     "text": [
      "('avg auroc: ', 0.707503299243546)\n",
      "('avg precision: ', 0.37680382604486756)\n",
      "('avg recall: ', 0.511660777385159)\n",
      "('avg accuracy: ', 0.746957671957672)\n",
      "('avg specificity: ', 0.8011391375101707)\n",
      "('avg f1: ', 0.43085199376924077)\n",
      "('auroc: ', [0.7070961769027075, 0.7083123686412292, 0.7037839951467336, 0.7092180433401283, 0.7091059121869313])\n",
      "('precision: ', [0.34004024144869216, 0.3944954128440367, 0.40425531914893614, 0.3475336322869955, 0.3976945244956772])\n",
      "('recall: ', [0.5971731448763251, 0.4558303886925795, 0.46996466431095407, 0.5477031802120141, 0.4876325088339223])\n",
      "('accuracy: ', [0.7076719576719577, 0.7671957671957672, 0.7711640211640212, 0.7228835978835979, 0.7658730158730159])\n",
      "('specificity: ', [0.7331163547599675, 0.838893409275834, 0.8405207485760781, 0.7632221318144833, 0.8299430431244914])\n",
      "('f1: ', [0.43333333333333335, 0.4229508196721312, 0.43464052287581695, 0.42524005486968447, 0.4380952380952381])\n",
      "('threshold: ', [0.15327302, 0.21181065, 0.20871636, 0.17836712, 0.2044221])\n",
      "CPU times: user 55min 39s, sys: 7min 2s, total: 1h 2min 41s\n",
      "Wall time: 25min 19s\n"
     ]
    }
   ],
   "source": [
    "%%time\n",
    "seed(1)\n",
    "set_random_seed(2)\n",
    "auroc_list = []\n",
    "precision_list = []\n",
    "recall_list = []\n",
    "accuracy_list = []\n",
    "specificity_list = []\n",
    "f1_list = []\n",
    "th_list = []\n",
    "for i in range(0,5):\n",
    "    model = build_model(32, 0.4, 1, X_train_list[0][0].shape[0])\n",
    "    history = fit_model(model, 40, X_train_list, y_train_list, X_test_list, y_test_list, verbose=1)\n",
    "    y_predict = model.predict_generator(mygenerator(X_test_list), steps=len(X_test_list))\n",
    "    y_predict = np.concatenate(y_predict)\n",
    "    y_true = np.concatenate(y_test_list)\n",
    "    auroc_list.append(auroc(y_predict, y_true))\n",
    "    f1, th = find_best_f1(y_predict, y_true)\n",
    "    f1_list.append(f1)\n",
    "    th_list.append(th)\n",
    "    precision, recall, accuracy, specificity = other_metrics(y_predict, y_true, th)\n",
    "    precision_list.append(precision)\n",
    "    recall_list.append(recall)\n",
    "    accuracy_list.append(accuracy)\n",
    "    specificity_list.append(specificity)\n",
    "print('avg auroc: ', np.mean(auroc_list))\n",
    "print('avg precision: ', np.mean(precision_list))\n",
    "print('avg recall: ', np.mean(recall_list))\n",
    "print('avg accuracy: ', np.mean(accuracy_list))\n",
    "print('avg specificity: ', np.mean(specificity_list))\n",
    "print('avg f1: ', np.mean(f1_list));\n",
    "print('auroc: ', auroc_list)\n",
    "print('precision: ', precision_list)\n",
    "print('recall: ', recall_list)\n",
    "print('accuracy: ', accuracy_list)\n",
    "print('specificity: ', specificity_list)\n",
    "print('f1: ', f1_list);\n",
    "print('threshold: ', th_list)"
   ]
  },
  {
   "cell_type": "markdown",
   "metadata": {},
   "source": [
    "unit: 4 \tepoch: 100\tauroc_mean: 0.711403\tauroc_std: 0.018083\n",
    "unit: 8 \tepoch: 100\tauroc_mean: 0.704040\tauroc_std: 0.014856  ratio=0.15\n",
    "unit: 8 \tepoch: 100\tauroc_mean: 0.713268\tauroc_std: 0.014817  ratio=0.4\n",
    "unit: 8 \tepoch: 100\tauroc_mean: 0.712970\tauroc_std: 0.016040  ratio=0.5\n",
    "unit: 8 \tepoch: 100\tauroc_mean: 0.711125\tauroc_std: 0.018725  ratio=0.7\n",
    "unit: 8 \tepoch: 100\tauroc_mean: 0.705248\tauroc_std: 0.019450  ratio=0.8\n",
    "unit: 16\tepoch: 100\tauroc_mean: 0.711807\tauroc_std: 0.014130\n",
    "unit: 20\tepoch: 100\tauroc_mean: 0.711497\tauroc_std: 0.015249\n",
    "unit: 32\tepoch: 100\tauroc_mean: 0.711760\tauroc_std: 0.014548\n",
    "unit: 32\tepoch: 100\tauroc_mean: 0.707636\tauroc_std: 0.020051  ratio=0.8\n",
    "\n",
    "unit: 20\tepoch: 35\tauroc_mean: 0.712193\tauroc_std: 0.016110\n",
    "unit: 32\tepoch: 35\tauroc_mean: 0.714166\tauroc_std: 0.01698\n",
    "\n",
    "unit: 20\tepoch: 35\tauroc_mean: 0.712193\tauroc_std: 0.016110\n",
    "unit: 20\tepoch: 100\tauroc_mean: 0.711497\tauroc_std: 0.015249\n",
    "\n",
    "unit: 32\tepoch: 100\tauroc_mean: 0.711760\tauroc_std: 0.014548\n",
    "unit: 32\tepoch: 80\tauroc_mean: 0.712121\tauroc_std: 0.014548\n",
    "unit: 32\tepoch: 50\tauroc_mean: 0.713602\tauroc_std: 0.015607\n",
    "unit: 32\tepoch: 45\tauroc_mean: 0.713859\tauroc_std: 0.016112\n",
    "unit: 32\tepoch: 40\tauroc_mean: 0.714916\tauroc_std: 0.016894 *\n",
    "unit: 32\tepoch: 35\tauroc_mean: 0.714166\tauroc_std: 0.016980\n",
    "unit: 32\tepoch: 30\tauroc_mean: 0.713925\tauroc_std: 0.017746\n",
    "unit: 32\tepoch: 20\tauroc_mean: 0.713114\tauroc_std: 0.018183\n",
    "unit: 32\tepoch: 15\tauroc_mean: 0.711412\tauroc_std: 0.018786\n",
    "\n",
    "unit: 4 \tepoch: 50\tauroc_mean: 0.709857\tauroc_std: 0.018303\n",
    "unit: 4 \tepoch: 100\tauroc_mean: 0.711403\tauroc_std: 0.018083\n",
    "\n",
    "unit: 8 \tepoch: 15\tauroc_mean: 0.712352\tauroc_std: 0.019256 ratio=0.4\n",
    "unit: 8 \tepoch: 50\tauroc_mean: 0.712523\tauroc_std: 0.017950\n",
    "unit: 8 \tepoch: 90\tauroc_mean: 0.712820\tauroc_std: 0.016247\n",
    "unit: 8 \tepoch: 100\tauroc_mean: 0.712970\tauroc_std: 0.016040\n",
    "unit: 8 \tepoch: 110\tauroc_mean: 0.712459\tauroc_std: 0.014992 ratio=0.4\n",
    "\n",
    "unit: 20\tepoch: 50\tauroc_mean: 0.712729\tauroc_std: 0.014447\n",
    "unit: 20\tepoch: 65\tauroc_mean: 0.712459\tauroc_std: 0.013775\n",
    "unit: 20\tepoch: 80\tauroc_mean: 0.711512\tauroc_std: 0.014012\n",
    "\n",
    "unit: 16\tepoch: 20\tauroc_mean: 0.711949\tauroc_std: 0.017168\n",
    "unit: 16\tepoch: 30\tauroc_mean: 0.711560\tauroc_std: 0.015725\n",
    "unit: 16\tepoch: 40\tauroc_mean: 0.711600\tauroc_std: 0.015426"
   ]
  },
  {
   "cell_type": "code",
   "execution_count": null,
   "metadata": {
    "scrolled": true
   },
   "outputs": [],
   "source": [
    "# %%time\n",
    "# # K-Fold Cross Validation\n",
    "# ratio = 0.1\n",
    "# result = []\n",
    "# pdic = [(60, [200], [0.4]), (70, [200], [0.4])]\n",
    "# for unit, epoch_list, ratio_list in pdic:\n",
    "#     for epoch in epoch_list:\n",
    "#         for ratio in ratio_list:\n",
    "#             auroc_list = kfold_validation(unit, ratio, epoch, X_train_transformed, y_train, 'patient-id', verbose=1)\n",
    "#             result.append((unit, epoch, auroc_list))\n",
    "#             print(\"unit: %d\\tepoch: %d\\tauroc_mean: %f\\tauroc_std: %f\"  % (unit, epoch, np.mean(auroc_list), np.std(auroc_list)))"
   ]
  },
  {
   "cell_type": "markdown",
   "metadata": {},
   "source": [
    "#learning rate 0.001\n",
    "unit: 60\tepoch: 200\tauroc_mean: 0.711255\tauroc_std: 0.016860\n",
    "\n",
    "unit: 50\tepoch: 220\tauroc_mean: 0.710956\tauroc_std: 0.018219\n",
    "unit: 50\tepoch: 200\tauroc_mean: 0.710385\tauroc_std: 0.018349\n",
    "unit: 50\tepoch: 190\tauroc_mean: 0.710231\tauroc_std: 0.018393\n",
    "unit: 50\tepoch: 180\tauroc_mean: 0.709924\tauroc_std: 0.018453\n",
    "\n",
    "unit: 40\tepoch: 150\tauroc_mean: 0.708431\tauroc_std: 0.017358\n",
    "unit: 40\tepoch: 200\tauroc_mean: 0.710072\tauroc_std: 0.016834\n",
    "unit: 40\tepoch: 250\tauroc_mean: 0.710803\tauroc_std: 0.016484 \n",
    "\n",
    "unit: 32\tepoch: 100\tauroc_mean: 0.704961\tauroc_std: 0.017312\n",
    "unit: 32\tepoch: 200\tauroc_mean: 0.709799\tauroc_std: 0.017281\n",
    "\n",
    "unit: 25\tepoch: 200\tauroc_mean: 0.705900\tauroc_std: 0.020267"
   ]
  }
 ],
 "metadata": {
  "kernelspec": {
   "display_name": "Python 3",
   "language": "python",
   "name": "python3"
  },
  "language_info": {
   "codemirror_mode": {
    "name": "ipython",
    "version": 3
   },
   "file_extension": ".py",
   "mimetype": "text/x-python",
   "name": "python",
   "nbconvert_exporter": "python",
   "pygments_lexer": "ipython3",
   "version": "3.7.3"
  }
 },
 "nbformat": 4,
 "nbformat_minor": 2
}
