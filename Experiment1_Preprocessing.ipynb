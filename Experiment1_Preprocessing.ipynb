{
 "cells": [
  {
   "cell_type": "code",
   "execution_count": 1,
   "metadata": {},
   "outputs": [
    {
     "name": "stdout",
     "output_type": "stream",
     "text": [
      "python version:  3.7.3 (default, Mar 27 2019, 22:11:17) \n",
      "[GCC 7.3.0]\n",
      "pandas version:  0.24.2\n",
      "numpy version:  1.16.4\n",
      "sklearn version:  0.21.2\n"
     ]
    }
   ],
   "source": [
    "import sys\n",
    "print(\"python version: \", sys.version)\n",
    "\n",
    "import pandas as pd\n",
    "print(\"pandas version: \", pd.__version__)\n",
    "\n",
    "import numpy as np\n",
    "print('numpy version: ', np.__version__)\n",
    "\n",
    "import sklearn\n",
    "print('sklearn version: ', sklearn.__version__)\n",
    "\n",
    "import pickle\n",
    "\n",
    "import warnings\n",
    "warnings.filterwarnings('ignore')\n",
    "\n",
    "from sklearn.model_selection import GroupShuffleSplit, GroupKFold\n",
    "from sklearn.preprocessing import MinMaxScaler\n",
    "from keras.preprocessing.sequence import pad_sequences"
   ]
  },
  {
   "cell_type": "code",
   "execution_count": 2,
   "metadata": {},
   "outputs": [
    {
     "name": "stdout",
     "output_type": "stream",
     "text": [
      "(7584, 208)\n"
     ]
    }
   ],
   "source": [
    "excel_file = r'geriomop-data-from-egems-paper-UPDATED-COL-FIX-ATC_2-and-behavior-change-022819.tsv'\n",
    "df = pd.DataFrame(pd.read_csv(excel_file, sep='\\t'))\n",
    "print(df.shape)"
   ]
  },
  {
   "cell_type": "markdown",
   "metadata": {},
   "source": [
    "## Missing value means not relevant\n",
    "#### One Hot Encoding (All zero stands for NA)\n",
    "* \"Mds-fall-2-6-months-to-admission\", \"Mds-fall-last-month-to-admission\", \"mds-pain-last-five-days\" (Y/N/U/NA)\n",
    "* \"mds-long-term-memory-ok\", \"mds-short-term-memory-ok\", \"mds-staff-assess-pain\", \"mds-delirium-scale\", \"recent-start-other-fall-risk-rx\" (Y/N/NA)\n",
    "* \"mds-pressure-ulcer-stage-X\", (X=1, 2, 3, 4) (Y/NA)\n",
    "\n",
    "#### Label Encoding & Sin, Cos Transform (NA: (0, 0))\n",
    "* \"mds-cognitive-scale\": \n",
    "  - 'Independent': 0, \n",
    "  - 'Modified Independence': 1, \n",
    "  - 'Moderately Impaired': 2, \n",
    "  - 'Severely Impaired': 3\n",
    "* \"mds-pain-freq-last-five-days\": \n",
    "  - 'Continuous': 4, \n",
    "  - 'Frequent': 3, \n",
    "  - 'Occasional': 2, \n",
    "  - 'Rare': 1, \n",
    "  - 'Unable to respond': 0,\n",
    "* \"mds-pain-intensity\": \n",
    "  - 'None': 0, \n",
    "  - 'Mild': 1, \n",
    "  - 'Moderate': 2, \n",
    "  - 'Severe': 3, \n",
    "  - 'Very severe, horrible': 4\n",
    "* \"Psychotropic-X\": Number\n",
    "* (Added) \"Psychotropic-X-Period\": Number\n",
    "\n",
    "\n",
    "## Drop features\n",
    "\n",
    "* ~~\"Unnamed: 51\"~~, \n",
    "* ~~\"pk-interaction\", \"pk-interaction-type\"~~ \n",
    "* ~~\"object-drug-1\", \"object-drug-1-dose\", \"object-drug-1-effective-dose-increase\", \"object-drug-1-effective-dose\", \"interaction-1-stop-date\"~~, \n",
    "* ~~\"object-drug-2\", \"object-drug-2-dose\", \"object-drug-2-effective-dose-increase\", \"object-drug-2-effective-dose\", \"interaction-2-stop-date\"~~\n",
    "* \"ws-sudden-stop\", \"ws-sudden-stop-drugs\", \"ws-prolonged-psychotropics\", \"mds-toilet-prgm-atmptd\"\n",
    "* \"Blank-1\", \"Deleted-X\" (X from 1 to 12), \"Psychotropic-X-average-daily-dose\", \"Psychotropic-X-Start/End-date\"\n",
    "* \"Entry-discharge-type\""
   ]
  },
  {
   "cell_type": "markdown",
   "metadata": {},
   "source": [
    "## Encode features (originally) with no missing values\n",
    "\n",
    "#### Date-related Transform\n",
    "\n",
    "* episodePeriod = episode-end-date - episode-start-date\n",
    "* stayPeriod = stay-end-date - stay-start-date\n",
    "\n",
    "#### Drop Date-related Features\n",
    "\n",
    "* \"episode-start-date\", \"episode-end-date\", \"stay-start-date\", \"stay-end-date\", \"predictor-date\", \"projected-date\"\n",
    "\n",
    "#### Binary Encoding (Y/N)\n",
    "\n",
    "* \"cms-long-stay\", \"mds-stay-trans-short-to-long\",\n",
    "* \"mds-antianxiety-medication\", \"mds-antidepressant-medication\", \"mds-antipsychotic-medication\", \"mds-antibiotic-medication\",\n",
    "* \"mds-anticoagulant-medication\", \"mds-diuretic-medication\", \"mds-hypnotic-medication\",\n",
    "* \"mds-behavioral-symptoms\", \"mds-behavioral-symptoms-to-others\", \"mds-dehydrated\", \"mds-depression\", \"mds-fever\",\n",
    "* \"mds-impaired-mobility\", \"mds-impaired-transfer\", \"mds-internal-bleeding\", \"mds-malnutrition\", \"mds-no-problem-conditions\",\n",
    "* \"mds-vomiting\", \"mds-impaired-walk-in-room\", \"mds-impaired-walk-in-corridor\", \"mds-impaired-locomot-unit\", \"mds-impaired-locomot-other\",\n",
    "* \"ws-antibiotic-anticoag-coexposure\",\n",
    "* \"ws-psychotropic-with-not-ordered-weight-loss\", \"ws-diuretic-adl\"\n",
    "\n",
    "#### One Hot Encoding\n",
    "\n",
    "* \"race\", \"facility\", \"gender\", \"mds-bims-summary-ranking\", \"ws-meclizine-psych-coexposure\", \n",
    "\n",
    "#### Drop Feature\n",
    "* \"PPS-assessment\", \"Federal-assessment\"\n",
    "\n",
    "#### Mapping\n",
    "\n",
    "* mds-pain-non-verbal {'None/Mild':0,'Moderate/Severe':1}"
   ]
  },
  {
   "cell_type": "markdown",
   "metadata": {},
   "source": [
    "## Features need imputation\n",
    "#### One Hot Encoding\n",
    "\n",
    "1. Binary categories (Yes/No/NA)\n",
    "   * \"pneumonia\", \"uti\", \"mdro\", \"anemia\", \"septicemia\", \"constipation\", \n",
    "   * \"wound\", \"hyponatremia\", \"hyperkalemia\", \"embolisms\", \n",
    "   * \"alzheimers\", \"anxiety\", \"depression\", \"non-alz-dimentia\", \n",
    "   * \"bipolar\", \"parkinsons\", \"psychosis\", \"schizophrenia\", \"seizure\", \"aphasia\", \"emphysema\", \n",
    "   * \"arthritis\", \"ashd\", \"bph\", \"cancer\", \"cerebralpalsy\", \"stroke\", \"cirrhosis\", \"comatose\", \n",
    "   * \"diabetes\", \"dysrhythmias\", \"gerd\", \"heart-failure\", \"hemiplegia/hemiparesis\", \"hepatitis\", \n",
    "   * \"huntingtons\", \"hyperlipidemia\", \"hyperthyroidism\", \"hypothyroidism\", \"hypertension\", \n",
    "   * \"hypotension\", \"multiple-sclerosis\", \"neurogenic-bladder\", \"obstructive-uropathy\", \n",
    "   * \"osteoporosis\", \"paraplegia\", \"ptsd\", \"pvd\", \"quadriplegia\", \"thyroid-disorder\", \n",
    "   * \"tourettes\", \"transient-ischemic-attack\", \"traumatic-brain-injury\", \"tuberculosis\", \"renal-failure\", \n",
    "\n",
    "   * \"mds-delirium-scale\", \"mds-pain-medication\", \"mds-received-pain-tx-non-pharm \", \"mds-received-prn-pain-medication\",\n",
    "   * \"mds-conduct-staff-assessment-mental-status\", \"mds-pressure-ulcer-prsnt\", \"conduct_bims\", \"acute_mental_change\",\n",
    "   * \"conduct_pain_assmnt\", \"cane_or_crutch_past_7_days\", \"walker_past_7_days\", \"wheelchair_past_7_days\", \n",
    "   * \"limb_prosthesis_past_7_days\", \"no_listed_mobility_device\", \n",
    "\n",
    "\n",
    "2. Other categories\n",
    "\n",
    "   * \"marital-status\": \n",
    "     - \"Never Married\", \"Married\", \"Widowed\", \"Separated\", \"Divorced\"\n",
    "   * \"mds-entered-from\": \n",
    "     - \"Acute Hospital\", \"Psychiatric Hospital\", \"Another nursing home or swing bed\", \"Hospice\", \"Inpatient rehabilitation facility\"\n",
    "     - \"Community (private home/apt., board/care, assisted living, group home)\",  \"Other\", \n",
    "   * \"mds-excess-weight-loss\": \n",
    "     - \"Yes - prescribed\", \"Yes - not prescribed\", \"No or unknown\"\n",
    "   * \"balance_while_standing\", \"balance_while_walking\", \"balance_turning_around\", \"balance_toileting\", \"balance_bed_to_chair\"\n",
    "     - \"Steady at all times\", \"able to stabilize without assistance\", \"able to stabilize with assistance\", \"Activity did not occur\"\n",
    "    \n",
    "#### Label Encoding\n",
    "* \"mds-urinary-incontinence\"\n",
    "  - \"Always continent\": 0, \n",
    "  - \"Occasionally incontinent\": 1,\n",
    "  - \"Frequently incontinent\": 2,\n",
    "  - \"Always incontinent\": 3,\n",
    "  - \"Catheter - not rated\": (0, 0)\n",
    "\n",
    "\n",
    "* \"cam_inattention\",\n",
    "* \"cam_disorganized_thought\",\n",
    "* \"cam_altered_conc\",\n",
    "* \"cam_motor_retardation\"\n",
    "  - \"Behavior not present\": 0,\n",
    "  - \"Behavior present, fluctuates\": 1, \n",
    "  - \"Behavior continuously present\": 2, \n",
    "\n",
    "   \n",
    "* \"functlimit_rom_upper\", \n",
    "* \"functlimit_rom_lower\"\n",
    "   - \"No impairment\": 0, \n",
    "   - \"Impairment on one side\": 1, \n",
    "   - \"Impairment on both sides\": 2 \n",
    "\n",
    "\n",
    "* \"does_resident_wander\"\n",
    "   - \"Behavior not exhibited\": 0, \n",
    "   - \"1 to 3 days\": 1, \n",
    "   - \"4 to 6 days\": 2, \n",
    "   - \"occurred daily\": 3,"
   ]
  },
  {
   "cell_type": "markdown",
   "metadata": {},
   "source": [
    "## Features from new dataset\n",
    "* \"atc_X\" (X from 1 to 5) - drop in strategy 1\n",
    "* \"number_of_behavior_changes\" - keep\n",
    "* \"min_effective_dose_X\" - drop\n",
    "* \"psych_sdd_X\" - drop in strategy 1"
   ]
  },
  {
   "cell_type": "code",
   "execution_count": 3,
   "metadata": {},
   "outputs": [],
   "source": [
    "# drop feature\n",
    "def drop_features(df, f):\n",
    "    df.drop(f, axis=1, inplace=True)"
   ]
  },
  {
   "cell_type": "code",
   "execution_count": 4,
   "metadata": {},
   "outputs": [],
   "source": [
    "# one hot encoding\n",
    "def one_hot_encoding(df, features, categories):\n",
    "    for f, c in zip(features, categories):\n",
    "        df[f] = df[f].astype('category', categories=c)\n",
    "    return pd.get_dummies(df, columns=features, prefix=features)"
   ]
  },
  {
   "cell_type": "code",
   "execution_count": 5,
   "metadata": {},
   "outputs": [],
   "source": [
    "# compute date difference\n",
    "def date_diff(start, end):\n",
    "    return (pd.to_datetime(end) - pd.to_datetime(start)) / np.timedelta64(1, 'D')"
   ]
  },
  {
   "cell_type": "code",
   "execution_count": 6,
   "metadata": {},
   "outputs": [],
   "source": [
    "# generate date diff features\n",
    "def generate_period(df, f):\n",
    "    for start, end, period in f:\n",
    "        df[period] = date_diff(df[start], df[end])\n",
    "        df.drop([start, end], axis=1, inplace=True)"
   ]
  },
  {
   "cell_type": "code",
   "execution_count": 7,
   "metadata": {},
   "outputs": [],
   "source": [
    "# label encoding\n",
    "def label_encoding(df, features, dictionaries):\n",
    "    for f, dic in zip(features, dictionaries):\n",
    "        df[f] = df[f].map(dic)"
   ]
  },
  {
   "cell_type": "code",
   "execution_count": 8,
   "metadata": {},
   "outputs": [],
   "source": [
    "# sin&cos transform\n",
    "def col_transform(df, col, mmax, mmin, df_ref=None):\n",
    "    if(mmax <= mmin):\n",
    "        # for test set, if max&min not set, use training set value\n",
    "        if(df_ref is not None): \n",
    "            mmax = df_ref[col].max()\n",
    "            mmin = df_ref[col].max()\n",
    "        else:\n",
    "            mmax = df[col].max()\n",
    "            mmin = df[col].min()\n",
    "    angle = 0.25 * np.pi * (df[col] - mmin) / (mmax - mmin) + 0.125 * np.pi\n",
    "    return (np.cos(angle), np.sin(angle))\n",
    "\n",
    "def df_transform(df, f, df_ref=None):\n",
    "    for col, mmax, mmin in f:\n",
    "        df[col + '_x'], df[col + '_y'] = col_transform(df, col, mmax, mmin, df_ref)\n",
    "        df[col + '_x'].fillna(0, inplace=True)\n",
    "        df[col + '_y'].fillna(0, inplace=True)\n",
    "        df.drop(col, axis=1, inplace=True)"
   ]
  },
  {
   "cell_type": "code",
   "execution_count": 9,
   "metadata": {},
   "outputs": [],
   "source": [
    "# train test split\n",
    "def train_test_split(df, target, groupby, radio, random_state):\n",
    "    train_idx, test_idx = next(GroupShuffleSplit(train_size=radio, test_size=1-radio, random_state=random_state).split(df, target, df[groupby]))\n",
    "    return df.iloc[train_idx], df.iloc[test_idx], target.iloc[train_idx], target.iloc[test_idx]"
   ]
  },
  {
   "cell_type": "code",
   "execution_count": 10,
   "metadata": {},
   "outputs": [],
   "source": [
    "# missing data describe\n",
    "def missing_summary(df):\n",
    "    missing_cnt = df.isna().sum()\n",
    "    missing_data = pd.concat([missing_cnt, missing_cnt/df.shape[0]], axis=1, keys=['count', 'percentage'])\n",
    "    return missing_data[missing_data['percentage'] != 0].sort_values(by='percentage', ascending=False)"
   ]
  },
  {
   "cell_type": "code",
   "execution_count": 11,
   "metadata": {},
   "outputs": [],
   "source": [
    "# Drop features\n",
    "f_drop = [\"Blank-1\", \"ws-sudden-stop\", \"ws-sudden-stop-drugs\", \"ws-prolonged-psychotropics\", \"mds-toilet-prgm-atmptd\"] + \\\n",
    "         ['Deleted-%d' % i for i in range(1, 13)] + ['Psychotropic-%d' % i for i in range(1, 6)] + \\\n",
    "         ['Psychotropic-%d-average-daily-dose' % i for i in range(1, 6)] + [\"Entry-discharge-type\"]\n",
    "\n",
    "# Missing value means not relevant\n",
    "f_one_hot = [\"Mds-fall-2-6-months-to-admission\", \"Mds-fall-last-month-to-admission\", \"mds-pain-last-five-days\", \\\n",
    "             \"mds-delirium-scale\", \"mds-long-term-memory-ok\", \"mds-short-term-memory-ok\", \"mds-staff-assess-pain\", \\\n",
    "             \"recent-start-other-fall-risk-rx\"] + [\"mds-pressure-ulcer-stage-%d\" % i for i in range(1, 5)]\n",
    "cate_one_hot = [['Yes', 'No', 'Unable to answer']] * 3 + [['Yes', 'No']] * 9\n",
    "\n",
    "f_period = [(\"Psychotropic-%d-Start-date\" % i, 'Psychotropic-%d-End-date' % i, 'Psychotropic-%d-Period' % i) for i in range(1, 6)]\n",
    "\n",
    "f_label = ['mds-cognitive-scale', 'mds-pain-freq-last-five-days', 'mds-pain-intensity']\n",
    "dic_label = [{'Independent': 0, 'Modified Independence': 1, 'Moderately Impaired': 2, 'Severely Impaired': 3}, \\\n",
    "             {'Continuous': 4, 'Frequent': 3, 'Occasional': 2, 'Rare': 1, 'Unable to respond': 0}, \\\n",
    "             {'None': 0, 'Mild': 1, 'Moderate': 2, 'Severe': 3, 'Very severe, horrible': 4}]\n",
    "\n",
    "f_transform = [('mds-cognitive-scale', 3, 0), ('mds-pain-freq-last-five-days', 4, 0), ('mds-pain-intensity', 4, 0)] + \\\n",
    "              [('Psychotropic-%d-Period' % i, 0, 0) for i in range(1, 6)]"
   ]
  },
  {
   "cell_type": "code",
   "execution_count": 12,
   "metadata": {},
   "outputs": [],
   "source": [
    "# Encode features (originally) with no missing values\n",
    "f_drop += [\"predictor-date\", \"projected-date\", \"PPS-assessment\", \"Federal-assessment\"]\n",
    "\n",
    "f_period += [('episode-start-date', 'episode-end-date', 'episode-period'),\\\n",
    "             ('stay-start-date', 'stay-end-date', 'stay-period')]\n",
    "\n",
    "f_label += [\"cms-long-stay\", \"mds-stay-trans-short-to-long\", \"mds-antianxiety-medication\", \\\n",
    "            \"mds-antidepressant-medication\", \"mds-antipsychotic-medication\", \"mds-antibiotic-medication\",\n",
    "            \"mds-anticoagulant-medication\", \"mds-diuretic-medication\", \\\n",
    "            \"mds-hypnotic-medication\", \"mds-behavioral-symptoms\", \"mds-behavioral-symptoms-to-others\", \\\n",
    "            \"mds-dehydrated\", \"mds-depression\", \"mds-fever\", \"mds-impaired-mobility\", \"mds-impaired-transfer\", \\\n",
    "            \"mds-internal-bleeding\", \"mds-malnutrition\", \"mds-no-problem-conditions\", \"mds-vomiting\", \\\n",
    "            \"mds-impaired-walk-in-room\", \"mds-impaired-walk-in-corridor\", \"mds-impaired-locomot-unit\", \\\n",
    "            \"mds-impaired-locomot-other\", \"ws-antibiotic-anticoag-coexposure\", \\\n",
    "            \"ws-psychotropic-with-not-ordered-weight-loss\", \\\n",
    "            \"ws-diuretic-adl\", \"ws-tramadol-antidepressant-coexposure\"] + [\"mds-pain-non-verbal\"]\n",
    "dic_label += [{'Yes': 1, 'No': 0}] * 28 + [{'None/Mild':0,'Moderate/Severe':1}]\n",
    "\n",
    "f_one_hot += [\"race\", \"facility\", \"gender\", \"mds-bims-summary-ranking\", \"ws-meclizine-psych-coexposure\"]\n",
    "cate_one_hot += [['White', 'Black', 'Other'], \\\n",
    "                 ['Sugar Creek', 'Heritage Place', 'Canterbury Place', 'Senaca Place', 'Cranberry Place'], \\\n",
    "                 ['Female', 'Male'], ['Intact or Moderately Intact', 'Moderate Impairment'], \\\n",
    "                 ['No', 'meclAndPsychStartSameR', 'meclPrecedesPsychR', 'psychPrecedesMeclR', 'meclAndPsychOlderStart']]"
   ]
  },
  {
   "cell_type": "code",
   "execution_count": 13,
   "metadata": {},
   "outputs": [],
   "source": [
    "f_drop += [\"min_effective_dose_%d\" % i for i in range(1, 6)] + \\\n",
    "          [\"Psychotropic-%d-average-daily-dose\" % i for i in range(1, 6)] + \\\n",
    "          [\"psych_sdd_%d\" % i for i in range(1, 6)]"
   ]
  },
  {
   "cell_type": "code",
   "execution_count": 14,
   "metadata": {},
   "outputs": [],
   "source": [
    "# generate target\n",
    "target = df['outcome-Mds-fall-since-prior-assessment'].map({'None': 0, 'Yes': 1})\n",
    "dff = df.drop(['outcome-mds-fall-no-injury', 'outcome-mds-fall-minor-injury', 'outcome-mds-fall-major-injury', \\\n",
    "               'outcome-Mds-fall-since-prior-assessment', 'outcome-riskmaster-fall-incident'], axis=1)"
   ]
  },
  {
   "cell_type": "code",
   "execution_count": 15,
   "metadata": {},
   "outputs": [],
   "source": [
    "# in sdd 0 means NA\n",
    "for i in range(1, 6):\n",
    "    df.loc[df['psych_sdd_%d' % i] == 0, 'psych_sdd_%d' % i] = np.nan"
   ]
  },
  {
   "cell_type": "code",
   "execution_count": 16,
   "metadata": {},
   "outputs": [
    {
     "name": "stdout",
     "output_type": "stream",
     "text": [
      "Total number of patients: 3133\n",
      "Number of patients in training set: 2193\n"
     ]
    }
   ],
   "source": [
    "X_train, X_test, y_train, y_test = train_test_split(dff, target, 'patient-id', 0.7, 0)\n",
    "print('Total number of patients: %d' % len(df.groupby('patient-id')))\n",
    "print('Number of patients in training set: %d' % len(X_train.groupby('patient-id')))\n",
    "print('Number of patients in test set: %d' % len(X_test.groupby('patient-id')))"
   ]
  },
  {
   "cell_type": "code",
   "execution_count": 17,
   "metadata": {
    "scrolled": true
   },
   "outputs": [
    {
     "name": "stdout",
     "output_type": "stream",
     "text": [
      "CPU times: user 12.5 s, sys: 171 ms, total: 12.7 s\n",
      "Wall time: 6.8 s\n"
     ]
    }
   ],
   "source": [
    "generate_period(X_train, f_period)\n",
    "label_encoding(X_train, f_label, dic_label)\n",
    "X_train_original = X_train.copy() # store value range for sin/cos tranform\n",
    "df_transform(X_train, f_transform)\n",
    "X_train = one_hot_encoding(X_train, f_one_hot, cate_one_hot)\n",
    "drop_features(X_train, f_drop)"
   ]
  },
  {
   "cell_type": "code",
   "execution_count": 21,
   "metadata": {
    "scrolled": true
   },
   "outputs": [
    {
     "name": "stdout",
     "output_type": "stream",
     "text": [
      "CPU times: user 5.19 s, sys: 7.97 ms, total: 5.19 s\n",
      "Wall time: 5.19 s\n"
     ]
    }
   ],
   "source": [
    "generate_period(X_test, f_period)\n",
    "label_encoding(X_test, f_label, dic_label)\n",
    "df_transform(X_test, f_transform, X_train_original)\n",
    "X_test = one_hot_encoding(X_test, f_one_hot, cate_one_hot)\n",
    "drop_features(X_test, f_drop)"
   ]
  },
  {
   "cell_type": "code",
   "execution_count": 19,
   "metadata": {
    "scrolled": true
   },
   "outputs": [
    {
     "name": "stdout",
     "output_type": "stream",
     "text": [
      "Index(['marital-status', 'mds-entered-from', 'mds-pain-medication',\n",
      "       'mds-received-pain-tx-non-pharm', 'mds-received-prn-pain-medication',\n",
      "       'mds-excess-weight-loss', 'mds-urinary-incontinence', 'pneumonia',\n",
      "       'uti', 'mdro', 'anemia', 'septicemia', 'constipation', 'wound',\n",
      "       'hyponatremia', 'hyperkalemia', 'embolisms', 'alzheimers', 'anxiety',\n",
      "       'depression', 'non-alz-dimentia', 'bipolar', 'parkinsons', 'psychosis',\n",
      "       'schizophrenia', 'seizure', 'aphasia', 'emphysema', 'arthritis', 'ashd',\n",
      "       'bph', 'cancer', 'cerebralpalsy', 'stroke', 'cirrhosis', 'comatose',\n",
      "       'diabetes', 'dysrhythmias', 'gerd', 'heart-failure',\n",
      "       'hemiplegia/hemiparesis', 'hepatitis', 'huntingtons', 'hyperlipidemia',\n",
      "       'hyperthyroidism', 'hypothyroidism', 'hypertension', 'hypotension',\n",
      "       'multiple-sclerosis', 'neurogenic-bladder', 'obstructive-uropathy',\n",
      "       'osteoporosis', 'paraplegia', 'ptsd', 'pvd', 'quadriplegia',\n",
      "       'thyroid-disorder', 'tourettes', 'transient-ischemic-attack',\n",
      "       'traumatic-brain-injury', 'tuberculosis', 'renal-failure',\n",
      "       'mds-conduct-staff-assessment-mental-status',\n",
      "       'mds-pressure-ulcer-prsnt', 'conduct_bims', 'cam_inattention',\n",
      "       'cam_disorganized_thought', 'cam_altered_conc', 'cam_motor_retardation',\n",
      "       'acute_mental_change', 'conduct_pain_assmnt', 'balance_while_standing',\n",
      "       'balance_while_walking', 'balance_turning_around', 'balance_toileting',\n",
      "       'balance_bed_to_chair', 'functlimit_rom_upper', 'functlimit_rom_lower',\n",
      "       'cane_or_crutch_past_7_days', 'walker_past_7_days',\n",
      "       'wheelchair_past_7_days', 'limb_prosthesis_past_7_days',\n",
      "       'no_listed_mobility_device', 'does_resident_wander', 'atc_1', 'atc_2',\n",
      "       'atc_3', 'atc_4', 'atc_5'],\n",
      "      dtype='object')\n"
     ]
    }
   ],
   "source": [
    "# print(X_train.dtypes[X_train.dtypes == 'object'].index)\n",
    "# missing_summary(X_train)"
   ]
  },
  {
   "cell_type": "code",
   "execution_count": 25,
   "metadata": {},
   "outputs": [
    {
     "data": {
      "text/plain": [
       "(5301, 189)"
      ]
     },
     "execution_count": 25,
     "metadata": {},
     "output_type": "execute_result"
    }
   ],
   "source": [
    "print(X_train.shape, X_test.shape)"
   ]
  },
  {
   "cell_type": "code",
   "execution_count": 27,
   "metadata": {},
   "outputs": [],
   "source": [
    "# Drop features with missing values\n",
    "idx = missing_summary(X_train).index.tolist()\n",
    "X_train.drop(columns=idx, axis=1, inplace=True)\n",
    "X_test.drop(columns=idx, axis=1, inplace=True)\n",
    "print(X_train.shape, X_test.shape)"
   ]
  },
  {
   "cell_type": "code",
   "execution_count": null,
   "metadata": {},
   "outputs": [],
   "source": [
    "def add_previous_outcome(X, Y):\n",
    "    X = X.copy()\n",
    "    x1, x2 = [], []\n",
    "    pids = X['patient-id'].unique()\n",
    "    for pid in pids:\n",
    "        df = Y[X[X['patient-id']==pid].index]\n",
    "        if(df.shape[0] == 1):\n",
    "            x1.append(pd.Series([0]))\n",
    "            x2.append(pd.Series([0]))\n",
    "        else:\n",
    "            # input 1=(1, 0), 0=(0, 1), NA=(0, 0)\n",
    "            x1.append(pd.Series([0]))\n",
    "            x1.append(df[:-1])\n",
    "            x2.append(pd.Series([0]))\n",
    "            x2.append(df[:-1].map({0: 1, 1: 0}))\n",
    "    X['input_outcome_x'] = pd.Series(pd.concat(x1, ignore_index=True).tolist(), index=X.index)\n",
    "    X['input_outcome_y'] = pd.Series(pd.concat(x2, ignore_index=True).tolist(), index=X.index)\n",
    "    return X"
   ]
  },
  {
   "cell_type": "code",
   "execution_count": null,
   "metadata": {},
   "outputs": [],
   "source": [
    "def scaler_transform(X_train, X_test):    \n",
    "    scaler = MinMaxScaler(feature_range=(0, 1)).fit(X_train.drop('patient-id', axis=1))\n",
    "    X_train_transformed = pd.DataFrame(scaler.transform(X_train.drop('patient-id', axis=1)), \n",
    "                                       columns=X_train.columns[1:], index=X_train.index)                                   \n",
    "    X_train_transformed['patient-id'] = X_train['patient-id']\n",
    "    X_test_transformed = pd.DataFrame(scaler.transform(X_test.drop('patient-id', axis=1)),\n",
    "                                       columns=X_test.columns[1:], index=X_test.index) \n",
    "    X_test_transformed['patient-id'] = X_test['patient-id']\n",
    "    return X_train_transformed, X_test_transformed"
   ]
  },
  {
   "cell_type": "code",
   "execution_count": null,
   "metadata": {},
   "outputs": [],
   "source": [
    "\"\"\"\n",
    "Generate list of lists, each element is a sequence\n",
    "Input shape: (num_of_records, num_of_features)\n",
    "Output shape: (num_of_records, various, num_of_features)\n",
    "Example:\n",
    " [record1, record2, record3, ...] \n",
    "  --> [ [record1], [record1, record2], [record1, record2, record3], ...]\n",
    "\"\"\"\n",
    "def generate_nested_list(X, Y):\n",
    "    x_list, y_list = [], []\n",
    "    pids = X['patient-id'].unique()\n",
    "    for pid in pids:\n",
    "        df = X[X['patient-id']==pid]\n",
    "        x_array = df.drop('patient-id', axis=1).values\n",
    "        y_array = Y[df.index].values\n",
    "        x_cache = []\n",
    "        for x, y in zip(x_array, y_array):\n",
    "            x_cache.append(x)\n",
    "            x_list.append(x_cache.copy())\n",
    "            y_list.append([y])\n",
    "    return x_list, y_list\n",
    "\n",
    "# pad data to maximum length\n",
    "def pad_data(X, maxlen):\n",
    "    return pad_sequences(X, maxlen=maxlen, dtype='float64', padding='post')\n",
    "\n",
    "def nested_then_pad(X_train, y_train, X_test, y_test):\n",
    "    X_train, y_train = generate_nested_list(X_train, y_train)\n",
    "    X_test, y_test = generate_nested_list(X_test, y_test)\n",
    "    y_train, y_test = np.array(y_train), np.array(y_test)\n",
    "    maxlen = len(max(X_train, key=len))\n",
    "    X_train = pad_data(X_train, maxlen)\n",
    "    X_test = pad_data(X_test, maxlen)\n",
    "    return X_train, y_train, X_test, y_test\n",
    "\n",
    "def generate_K_fold_dataset(X, y, groupby, k=5, for_nn=False):\n",
    "    kfold = []\n",
    "    for train_idx, valid_idx in GroupKFold(n_splits=k).split(X, y, X[groupby]):\n",
    "        X_train, X_valid, y_train, y_valid = X.iloc[train_idx], X.iloc[valid_idx], y.iloc[train_idx], y.iloc[valid_idx]\n",
    "        if for_nn:\n",
    "            X_train, y_train, X_valid, y_valid = nested_then_pad(X_train, y_train, X_valid, y_valid)\n",
    "        kfold.append((X_train, y_train, X_valid, y_valid))\n",
    "    return kfold"
   ]
  },
  {
   "cell_type": "markdown",
   "metadata": {},
   "source": [
    "data ----------------> scaler transform -> generate nested list -> pad data\n",
    "     |                         ^\n",
    "     |                         |\n",
    "     |-> add previous outcome ->"
   ]
  },
  {
   "cell_type": "code",
   "execution_count": null,
   "metadata": {},
   "outputs": [],
   "source": [
    "X_train_transformed, X_test_transformed = scaler_transform(X_train, X_test)\n",
    "file = open('processed_data/experiment1_data_basic', 'wb')\n",
    "pickle.dump((X_train_transformed, y_train, X_test_transformed, y_test), file)\n",
    "file.close()\n",
    "\n",
    "X_train_nn, y_train_nn, X_test_nn, y_test_nn = nested_then_pad(X_train_transformed, y_train, X_test_transformed, y_test)\n",
    "file = open('processed_data/experiment1_data_nn', 'wb')\n",
    "pickle.dump((X_train_nn, y_train_nn, X_test_nn, y_test_nn), file)\n",
    "file.close()\n",
    "\n",
    "kfold = generate_K_fold_dataset(X_train_transformed, y_train, 'patient-id')\n",
    "file = open('processed_data/experiment1_data_basic_cv', 'wb')\n",
    "pickle.dump(kfold)\n",
    "file.close()\n",
    "\n",
    "kfold = generate_K_fold_dataset(X_train_transformed, y_train, 'patient-id', for_nn=True)\n",
    "file = open('processed_data/experiment1_data_nn_cv', 'wb')\n",
    "pickle.dump(kfold)\n",
    "file.close()"
   ]
  },
  {
   "cell_type": "code",
   "execution_count": 30,
   "metadata": {},
   "outputs": [],
   "source": [
    "\n",
    "file = open('processed_data/experiment1_data', 'wb')\n",
    "pickle.dump((X_train, y_train, X_test, y_test), file)\n",
    "file.close()"
   ]
  },
  {
   "cell_type": "code",
   "execution_count": null,
   "metadata": {},
   "outputs": [],
   "source": [
    "# add previous outcome\n",
    "X_train = add_previous_outcome(X_train, y_train)\n",
    "X_test = add_previous_outcome(X_test, y_test)\n",
    "X_train_transformed, X_test_transformed = scaler_transform(X_train, X_test)\n",
    "print(X_train_transformed.shape, X_test_transformed.shape)"
   ]
  },
  {
   "cell_type": "code",
   "execution_count": null,
   "metadata": {},
   "outputs": [],
   "source": [
    "X_train_list, y_train_list = generate_nested_list(X_train_transformed, y_train)\n",
    "X_test_list, y_test_list = generate_nested_list(X_test_transformed, y_test)"
   ]
  },
  {
   "cell_type": "code",
   "execution_count": null,
   "metadata": {},
   "outputs": [],
   "source": [
    "maxlen = len(max(X_train_list, key=len))\n",
    "X_train_pad = pad_data(X_train_list, maxlen)\n",
    "X_test_pad = pad_data(X_test_list, maxlen)\n",
    "print(X_train_pad.shape, X_test_pad.shape)"
   ]
  },
  {
   "cell_type": "code",
   "execution_count": null,
   "metadata": {},
   "outputs": [],
   "source": [
    "# transform y in numpy array\n",
    "y_train_array, y_test_array = np.array(y_train_list), np.array(y_test_list)"
   ]
  }
 ],
 "metadata": {
  "kernelspec": {
   "display_name": "Python 3",
   "language": "python",
   "name": "python3"
  },
  "language_info": {
   "codemirror_mode": {
    "name": "ipython",
    "version": 3
   },
   "file_extension": ".py",
   "mimetype": "text/x-python",
   "name": "python",
   "nbconvert_exporter": "python",
   "pygments_lexer": "ipython3",
   "version": "3.7.3"
  }
 },
 "nbformat": 4,
 "nbformat_minor": 2
}
