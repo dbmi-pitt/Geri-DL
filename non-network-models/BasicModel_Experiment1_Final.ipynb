{
 "cells": [
  {
   "cell_type": "code",
   "execution_count": 3,
   "metadata": {},
   "outputs": [
    {
     "name": "stdout",
     "output_type": "stream",
     "text": [
      "python version:  3.7.3 (default, Mar 27 2019, 22:11:17) \n",
      "[GCC 7.3.0]\n",
      "pandas version:  0.24.2\n",
      "numpy version:  1.16.4\n",
      "scipy version:  1.3.0\n",
      "sklearn version:  0.21.2\n",
      "keras version:  2.2.4\n",
      "keras backend:  tensorflow\n",
      "tensorflow version:  1.14.0\n"
     ]
    }
   ],
   "source": [
    "import sys\n",
    "print(\"python version: \", sys.version)\n",
    "\n",
    "import pandas as pd\n",
    "print(\"pandas version: \", pd.__version__)\n",
    "\n",
    "import numpy as np\n",
    "print('numpy version: ', np.__version__)\n",
    "\n",
    "import scipy as sp\n",
    "print('scipy version: ', sp.__version__)\n",
    "\n",
    "import sklearn as skl\n",
    "print('sklearn version: ', skl.__version__)\n",
    "\n",
    "import matplotlib.pyplot as plt\n",
    "\n",
    "import os\n",
    "os.environ[\"CUDA_DEVICE_ORDER\"] = \"PCI_BUS_ID\"\n",
    "os.environ[\"CUDA_VISIBLE_DEVICES\"] = \"\"\n",
    "\n",
    "import keras as ks\n",
    "print('keras version: ', ks.__version__)\n",
    "print('keras backend: ', ks.backend.backend())\n",
    "\n",
    "import tensorflow as tf\n",
    "print('tensorflow version: ', tf.__version__)\n",
    "\n",
    "import warnings\n",
    "warnings.filterwarnings('ignore')\n",
    "\n",
    "from keras import backend as K\n",
    "from sklearn.metrics import confusion_matrix, precision_score, recall_score\n",
    "from sklearn.metrics import roc_curve, auc, f1_score, accuracy_score, precision_recall_curve\n",
    "\n",
    "import random"
   ]
  },
  {
   "cell_type": "code",
   "execution_count": null,
   "metadata": {},
   "outputs": [],
   "source": [
    "def set_keras_backend(backend):\n",
    "    if K.backend() != backend:\n",
    "        os.environ['KERAS_BACKEND'] = backend\n",
    "        reload(K)\n",
    "        assert K.backend() == backend\n",
    "\n",
    "set_keras_backend(\"tensorflow\")"
   ]
  },
  {
   "cell_type": "code",
   "execution_count": 5,
   "metadata": {},
   "outputs": [
    {
     "name": "stdout",
     "output_type": "stream",
     "text": [
      "(7584, 208)\n"
     ]
    }
   ],
   "source": [
    "excel_file = r'geriomop-data-from-egems-paper-UPDATED-COL-FIX-ATC_2-and-behavior-change-022819.tsv'\n",
    "df = pd.DataFrame(pd.read_csv(excel_file, sep='\\t'))\n",
    "print(df.shape)"
   ]
  },
  {
   "cell_type": "markdown",
   "metadata": {},
   "source": [
    "# Missing value means not relevant\n",
    "### One Hot Encoding (All zero stands for NA)\n",
    "* \"Mds-fall-2-6-months-to-admission\", \"Mds-fall-last-month-to-admission\", \"mds-pain-last-five-days\" (Y/N/U/NA)\n",
    "* \"mds-long-term-memory-ok\", \"mds-short-term-memory-ok\", \"mds-staff-assess-pain\", \"mds-delirium-scale\", \"recent-start-other-fall-risk-rx\" (Y/N/NA)\n",
    "* \"mds-pressure-ulcer-stage-X\", (X=1, 2, 3, 4) (Y/NA)\n",
    "\n",
    "### Label Encoding & Sin, Cos Transform (NA: (0, 0))\n",
    "* \"mds-cognitive-scale\": \n",
    "  - 'Independent': 0, \n",
    "  - 'Modified Independence': 1, \n",
    "  - 'Moderately Impaired': 2, \n",
    "  - 'Severely Impaired': 3\n",
    "* \"mds-pain-freq-last-five-days\": \n",
    "  - 'Continuous': 4, \n",
    "  - 'Frequent': 3, \n",
    "  - 'Occasional': 2, \n",
    "  - 'Rare': 1, \n",
    "  - 'Unable to respond': 0,\n",
    "* \"mds-pain-intensity\": \n",
    "  - 'None': 0, \n",
    "  - 'Mild': 1, \n",
    "  - 'Moderate': 2, \n",
    "  - 'Severe': 3, \n",
    "  - 'Very severe, horrible': 4\n",
    "* \"Psychotropic-X\": Number\n",
    "* (Added) \"Psychotropic-X-Period\": Number\n",
    "\n",
    "\n",
    "# Drop features\n",
    "\n",
    "* ~~\"Unnamed: 51\"~~, \n",
    "* ~~\"pk-interaction\", \"pk-interaction-type\"~~ \n",
    "* ~~\"object-drug-1\", \"object-drug-1-dose\", \"object-drug-1-effective-dose-increase\", \"object-drug-1-effective-dose\", \"interaction-1-stop-date\"~~, \n",
    "* ~~\"object-drug-2\", \"object-drug-2-dose\", \"object-drug-2-effective-dose-increase\", \"object-drug-2-effective-dose\", \"interaction-2-stop-date\"~~\n",
    "* \"ws-sudden-stop\", \"ws-sudden-stop-drugs\", \"ws-prolonged-psychotropics\", \"mds-toilet-prgm-atmptd\"\n",
    "* \"Blank-1\", \"Deleted-X\" (X from 1 to 12), \"Psychotropic-X-average-daily-dose\", \"Psychotropic-X-Start/End-date\"\n",
    "* \"Entry-discharge-type\""
   ]
  },
  {
   "cell_type": "markdown",
   "metadata": {},
   "source": [
    "# Encode features (originally) with no missing values\n",
    "\n",
    "### Date-related Transform\n",
    "\n",
    "* episodePeriod = episode-end-date - episode-start-date\n",
    "* stayPeriod = stay-end-date - stay-start-date\n",
    "\n",
    "### Drop Date-related Features\n",
    "\n",
    "* \"episode-start-date\", \"episode-end-date\", \"stay-start-date\", \"stay-end-date\", \"predictor-date\", \"projected-date\"\n",
    "\n",
    "### Binary Encoding (Y/N)\n",
    "\n",
    "* \"cms-long-stay\", \"mds-stay-trans-short-to-long\",\n",
    "* \"mds-antianxiety-medication\", \"mds-antidepressant-medication\", \"mds-antipsychotic-medication\", \"mds-antibiotic-medication\",\n",
    "* \"mds-anticoagulant-medication\", \"mds-diuretic-medication\", \"mds-hypnotic-medication\",\n",
    "* \"mds-behavioral-symptoms\", \"mds-behavioral-symptoms-to-others\", \"mds-dehydrated\", \"mds-depression\", \"mds-fever\",\n",
    "* \"mds-impaired-mobility\", \"mds-impaired-transfer\", \"mds-internal-bleeding\", \"mds-malnutrition\", \"mds-no-problem-conditions\",\n",
    "* \"mds-vomiting\", \"mds-impaired-walk-in-room\", \"mds-impaired-walk-in-corridor\", \"mds-impaired-locomot-unit\", \"mds-impaired-locomot-other\",\n",
    "* \"ws-antibiotic-anticoag-coexposure\",\n",
    "* \"ws-psychotropic-with-not-ordered-weight-loss\", \"ws-diuretic-adl\"\n",
    "\n",
    "### One Hot Encoding\n",
    "\n",
    "* \"race\", \"facility\", \"gender\", \"mds-bims-summary-ranking\", \"ws-meclizine-psych-coexposure\", \n",
    "\n",
    "### Drop Feature\n",
    "* \"PPS-assessment\", \"Federal-assessment\"\n",
    "\n",
    "### Mapping\n",
    "\n",
    "* mds-pain-non-verbal {'None/Mild':0,'Moderate/Severe':1}"
   ]
  },
  {
   "cell_type": "markdown",
   "metadata": {},
   "source": [
    "# Features need imputation\n",
    "### One Hot Encoding\n",
    "\n",
    "1. Binary categories (Yes/No/NA)\n",
    "   * \"pneumonia\", \"uti\", \"mdro\", \"anemia\", \"septicemia\", \"constipation\", \n",
    "   * \"wound\", \"hyponatremia\", \"hyperkalemia\", \"embolisms\", \n",
    "   * \"alzheimers\", \"anxiety\", \"depression\", \"non-alz-dimentia\", \n",
    "   * \"bipolar\", \"parkinsons\", \"psychosis\", \"schizophrenia\", \"seizure\", \"aphasia\", \"emphysema\", \n",
    "   * \"arthritis\", \"ashd\", \"bph\", \"cancer\", \"cerebralpalsy\", \"stroke\", \"cirrhosis\", \"comatose\", \n",
    "   * \"diabetes\", \"dysrhythmias\", \"gerd\", \"heart-failure\", \"hemiplegia/hemiparesis\", \"hepatitis\", \n",
    "   * \"huntingtons\", \"hyperlipidemia\", \"hyperthyroidism\", \"hypothyroidism\", \"hypertension\", \n",
    "   * \"hypotension\", \"multiple-sclerosis\", \"neurogenic-bladder\", \"obstructive-uropathy\", \n",
    "   * \"osteoporosis\", \"paraplegia\", \"ptsd\", \"pvd\", \"quadriplegia\", \"thyroid-disorder\", \n",
    "   * \"tourettes\", \"transient-ischemic-attack\", \"traumatic-brain-injury\", \"tuberculosis\", \"renal-failure\", \n",
    "\n",
    "   * \"mds-delirium-scale\", \"mds-pain-medication\", \"mds-received-pain-tx-non-pharm \", \"mds-received-prn-pain-medication\",\n",
    "   * \"mds-conduct-staff-assessment-mental-status\", \"mds-pressure-ulcer-prsnt\", \"conduct_bims\", \"acute_mental_change\",\n",
    "   * \"conduct_pain_assmnt\", \"cane_or_crutch_past_7_days\", \"walker_past_7_days\", \"wheelchair_past_7_days\", \n",
    "   * \"limb_prosthesis_past_7_days\", \"no_listed_mobility_device\", \n",
    "\n",
    "\n",
    "2. Other categories\n",
    "\n",
    "   * \"marital-status\": \n",
    "     - \"Never Married\", \"Married\", \"Widowed\", \"Separated\", \"Divorced\"\n",
    "   * \"mds-entered-from\": \n",
    "     - \"Acute Hospital\", \"Psychiatric Hospital\", \"Another nursing home or swing bed\", \"Hospice\", \"Inpatient rehabilitation facility\"\n",
    "     - \"Community (private home/apt., board/care, assisted living, group home)\",  \"Other\", \n",
    "   * \"mds-excess-weight-loss\": \n",
    "     - \"Yes - prescribed\", \"Yes - not prescribed\", \"No or unknown\"\n",
    "   * \"balance_while_standing\", \"balance_while_walking\", \"balance_turning_around\", \"balance_toileting\", \"balance_bed_to_chair\"\n",
    "     - \"Steady at all times\", \"able to stabilize without assistance\", \"able to stabilize with assistance\", \"Activity did not occur\"\n",
    "    \n",
    "### Label Encoding\n",
    "* \"mds-urinary-incontinence\"\n",
    "  - \"Always continent\": 0, \n",
    "  - \"Occasionally incontinent\": 1,\n",
    "  - \"Frequently incontinent\": 2,\n",
    "  - \"Always incontinent\": 3,\n",
    "  - \"Catheter - not rated\": (0, 0)\n",
    "\n",
    "\n",
    "* \"cam_inattention\",\n",
    "* \"cam_disorganized_thought\",\n",
    "* \"cam_altered_conc\",\n",
    "* \"cam_motor_retardation\"\n",
    "  - \"Behavior not present\": 0,\n",
    "  - \"Behavior present, fluctuates\": 1, \n",
    "  - \"Behavior continuously present\": 2, \n",
    "\n",
    "   \n",
    "* \"functlimit_rom_upper\", \n",
    "* \"functlimit_rom_lower\"\n",
    "   - \"No impairment\": 0, \n",
    "   - \"Impairment on one side\": 1, \n",
    "   - \"Impairment on both sides\": 2 \n",
    "\n",
    "\n",
    "* \"does_resident_wander\"\n",
    "   - \"Behavior not exhibited\": 0, \n",
    "   - \"1 to 3 days\": 1, \n",
    "   - \"4 to 6 days\": 2, \n",
    "   - \"occurred daily\": 3,"
   ]
  },
  {
   "cell_type": "markdown",
   "metadata": {},
   "source": [
    "# Features from new dataset\n",
    "* \"atc_X\" (X from 1 to 5) - drop in strategy 1\n",
    "* \"number_of_behavior_changes\" - keep\n",
    "* \"min_effective_dose_X\" - drop\n",
    "* \"psych_sdd_X\" - drop in strategy 1"
   ]
  },
  {
   "cell_type": "code",
   "execution_count": 6,
   "metadata": {},
   "outputs": [],
   "source": [
    "# Get atc codes\n",
    "atc_list = []\n",
    "for i in range(1, 6):\n",
    "    atc_list.append(df.groupby('atc_%d' % i)['min_effective_dose_%d' % i].first())\n",
    "atc_codes = pd.concat(atc_list)\n",
    "atc_codes = atc_codes[~atc_codes.index.duplicated()].index.tolist()\n",
    "\n",
    "# Fill missing min_effective_dose\n",
    "atc_dic = [('N03AE01', 0.5), ('N05AB04', 15), ('N05AX13', 3), ('N05CD04', 1), ('N06AX21', 60), ('N06AX24', 20), \\\n",
    "           ('N06AX23', 50)]\n",
    "for code, dose in atc_dic:\n",
    "    for i in range(1, 6):\n",
    "        df.loc[df['atc_%d' % i] == code, 'psych_sdd_%d' % i] = \\\n",
    "            df.loc[df['atc_%d' % i] == code, 'Psychotropic-%d-average-daily-dose' % i] / dose\n",
    "\n",
    "# Set sdd=0 to NA\n",
    "for i in range(1, 6):\n",
    "    df.loc[df['psych_sdd_%d' % i] == 0, 'psych_sdd_%d' % i] = np.nan"
   ]
  },
  {
   "cell_type": "code",
   "execution_count": 7,
   "metadata": {},
   "outputs": [],
   "source": [
    "# drop feature\n",
    "def drop_features(df, f):\n",
    "    df.drop(f, axis=1, inplace=True)"
   ]
  },
  {
   "cell_type": "code",
   "execution_count": 8,
   "metadata": {},
   "outputs": [],
   "source": [
    "# one hot encoding\n",
    "def one_hot_encoding(df, features, categories):\n",
    "    for f, c in zip(features, categories):\n",
    "        df[f] = df[f].astype('category', categories=c)\n",
    "    return pd.get_dummies(df, columns=features, prefix=features)"
   ]
  },
  {
   "cell_type": "code",
   "execution_count": 9,
   "metadata": {},
   "outputs": [],
   "source": [
    "# compute date difference\n",
    "def date_diff(start, end):\n",
    "    return (pd.to_datetime(end) - pd.to_datetime(start)) / np.timedelta64(1, 'D')"
   ]
  },
  {
   "cell_type": "code",
   "execution_count": 10,
   "metadata": {},
   "outputs": [],
   "source": [
    "# generate date diff features\n",
    "def generate_period(df, f):\n",
    "    for start, end, period in f:\n",
    "        df[period] = date_diff(df[start], df[end])\n",
    "        df.drop([start, end], axis=1, inplace=True)"
   ]
  },
  {
   "cell_type": "code",
   "execution_count": 11,
   "metadata": {},
   "outputs": [],
   "source": [
    "# label encoding\n",
    "def label_encoding(df, features, dictionaries):\n",
    "    for f, dic in zip(features, dictionaries):\n",
    "        df[f] = df[f].map(dic)"
   ]
  },
  {
   "cell_type": "code",
   "execution_count": 12,
   "metadata": {},
   "outputs": [],
   "source": [
    "# sin&cos transform\n",
    "def col_transform(df, col, mmax, mmin, df_ref=None):\n",
    "    if(mmax <= mmin):\n",
    "        # for test set, if max&min not set, use training set value\n",
    "        if(df_ref is not None): \n",
    "            mmax = df_ref[col].max()\n",
    "            mmin = df_ref[col].max()\n",
    "        else:\n",
    "            mmax = df[col].max()\n",
    "            mmin = df[col].min()\n",
    "    angle = 0.25 * np.pi * (df[col] - mmin) / (mmax - mmin) + 0.125 * np.pi\n",
    "    return (np.cos(angle), np.sin(angle))\n",
    "\n",
    "def df_transform(df, f, df_ref=None):\n",
    "    for col, mmax, mmin in f:\n",
    "        df[col + '_x'], df[col + '_y'] = col_transform(df, col, mmax, mmin, df_ref)\n",
    "        df[col + '_x'].fillna(0, inplace=True)\n",
    "        df[col + '_y'].fillna(0, inplace=True)\n",
    "        df.drop(col, axis=1, inplace=True)"
   ]
  },
  {
   "cell_type": "code",
   "execution_count": 15,
   "metadata": {},
   "outputs": [],
   "source": [
    "# train test split\n",
    "from sklearn.model_selection import GroupShuffleSplit\n",
    "def train_test_split(df, target, groupby, radio, random_state):\n",
    "    train_idx, test_idx = next(GroupShuffleSplit(train_size=radio, test_size=1-radio, random_state=random_state).split(df, target, df[groupby]))\n",
    "    return df.iloc[train_idx], df.iloc[test_idx], target.iloc[train_idx], target.iloc[test_idx]"
   ]
  },
  {
   "cell_type": "code",
   "execution_count": 16,
   "metadata": {},
   "outputs": [],
   "source": [
    "# missing data describe\n",
    "def missing_summary(df):\n",
    "    missing_cnt = df.isna().sum()\n",
    "    missing_data = pd.concat([missing_cnt, missing_cnt/df.shape[0]], axis=1, keys=['count', 'percentage'])\n",
    "    return missing_data[missing_data['percentage'] != 0].sort_values(by='percentage', ascending=False)"
   ]
  },
  {
   "cell_type": "code",
   "execution_count": 17,
   "metadata": {},
   "outputs": [],
   "source": [
    "# Drop features\n",
    "f_drop = [\"Blank-1\", \"ws-sudden-stop\", \"ws-sudden-stop-drugs\", \"ws-prolonged-psychotropics\", \"mds-toilet-prgm-atmptd\"] + \\\n",
    "         ['Deleted-%d' % i for i in range(1, 13)] + ['Psychotropic-%d' % i for i in range(1, 6)] + \\\n",
    "         ['Psychotropic-%d-average-daily-dose' % i for i in range(1, 6)] + [\"Entry-discharge-type\"]\n",
    "\n",
    "# Missing value means not relevant\n",
    "f_one_hot = [\"Mds-fall-2-6-months-to-admission\", \"Mds-fall-last-month-to-admission\", \"mds-pain-last-five-days\", \\\n",
    "             \"mds-delirium-scale\", \"mds-long-term-memory-ok\", \"mds-short-term-memory-ok\", \"mds-staff-assess-pain\", \\\n",
    "             \"recent-start-other-fall-risk-rx\"] + [\"mds-pressure-ulcer-stage-%d\" % i for i in range(1, 5)]\n",
    "cate_one_hot = [['Yes', 'No', 'Unable to answer']] * 3 + [['Yes', 'No']] * 9\n",
    "\n",
    "f_period = [(\"Psychotropic-%d-Start-date\" % i, 'Psychotropic-%d-End-date' % i, 'Psychotropic-%d-Period' % i) for i in range(1, 6)]\n",
    "\n",
    "f_label = ['mds-cognitive-scale', 'mds-pain-freq-last-five-days', 'mds-pain-intensity']\n",
    "dic_label = [{'Independent': 0, 'Modified Independence': 1, 'Moderately Impaired': 2, 'Severely Impaired': 3}, \\\n",
    "             {'Continuous': 4, 'Frequent': 3, 'Occasional': 2, 'Rare': 1, 'Unable to respond': 0}, \\\n",
    "             {'None': 0, 'Mild': 1, 'Moderate': 2, 'Severe': 3, 'Very severe, horrible': 4}]\n",
    "\n",
    "f_transform = [('mds-cognitive-scale', 3, 0), ('mds-pain-freq-last-five-days', 4, 0), ('mds-pain-intensity', 4, 0)] + \\\n",
    "              [('Psychotropic-%d-Period' % i, 0, 0) for i in range(1, 6)]"
   ]
  },
  {
   "cell_type": "code",
   "execution_count": 18,
   "metadata": {},
   "outputs": [],
   "source": [
    "# Encode features (originally) with no missing values\n",
    "f_drop += [\"predictor-date\", \"projected-date\", \"PPS-assessment\", \"Federal-assessment\"]\n",
    "\n",
    "f_period += [('episode-start-date', 'episode-end-date', 'episode-period'),\\\n",
    "             ('stay-start-date', 'stay-end-date', 'stay-period')]\n",
    "\n",
    "f_label += [\"cms-long-stay\", \"mds-stay-trans-short-to-long\", \"mds-antianxiety-medication\", \\\n",
    "            \"mds-antidepressant-medication\", \"mds-antipsychotic-medication\", \"mds-antibiotic-medication\",\n",
    "            \"mds-anticoagulant-medication\", \"mds-diuretic-medication\", \\\n",
    "            \"mds-hypnotic-medication\", \"mds-behavioral-symptoms\", \"mds-behavioral-symptoms-to-others\", \\\n",
    "            \"mds-dehydrated\", \"mds-depression\", \"mds-fever\", \"mds-impaired-mobility\", \"mds-impaired-transfer\", \\\n",
    "            \"mds-internal-bleeding\", \"mds-malnutrition\", \"mds-no-problem-conditions\", \"mds-vomiting\", \\\n",
    "            \"mds-impaired-walk-in-room\", \"mds-impaired-walk-in-corridor\", \"mds-impaired-locomot-unit\", \\\n",
    "            \"mds-impaired-locomot-other\", \"ws-antibiotic-anticoag-coexposure\", \\\n",
    "            \"ws-psychotropic-with-not-ordered-weight-loss\", \\\n",
    "            \"ws-diuretic-adl\", \"ws-tramadol-antidepressant-coexposure\"] + [\"mds-pain-non-verbal\"]\n",
    "dic_label += [{'Yes': 1, 'No': 0}] * 28 + [{'None/Mild':0,'Moderate/Severe':1}]\n",
    "\n",
    "f_one_hot += [\"race\", \"facility\", \"gender\", \"mds-bims-summary-ranking\", \"ws-meclizine-psych-coexposure\"]\n",
    "cate_one_hot += [['White', 'Black', 'Other'], \\\n",
    "                 ['Sugar Creek', 'Heritage Place', 'Canterbury Place', 'Senaca Place', 'Cranberry Place'], \\\n",
    "                 ['Female', 'Male'], ['Intact or Moderately Intact', 'Moderate Impairment'], \\\n",
    "                 ['No', 'meclAndPsychStartSameR', 'meclPrecedesPsychR', 'psychPrecedesMeclR', 'meclAndPsychOlderStart']]"
   ]
  },
  {
   "cell_type": "code",
   "execution_count": 19,
   "metadata": {},
   "outputs": [],
   "source": [
    "f_drop += [\"min_effective_dose_%d\" % i for i in range(1, 6)] + [\"Psychotropic-%d-average-daily-dose\" % i for i in range(1, 6)]"
   ]
  },
  {
   "cell_type": "code",
   "execution_count": 20,
   "metadata": {},
   "outputs": [],
   "source": [
    "# generate target\n",
    "target = df['outcome-Mds-fall-since-prior-assessment'].map({'None': 0, 'Yes': 1})\n",
    "dff = df.drop(['outcome-mds-fall-no-injury', 'outcome-mds-fall-minor-injury', 'outcome-mds-fall-major-injury', \\\n",
    "               'outcome-Mds-fall-since-prior-assessment', 'outcome-riskmaster-fall-incident'], axis=1)"
   ]
  },
  {
   "cell_type": "code",
   "execution_count": 30,
   "metadata": {},
   "outputs": [
    {
     "name": "stdout",
     "output_type": "stream",
     "text": [
      "Total number of patients: 3133\n",
      "Number of patients in training set: 2193\n"
     ]
    }
   ],
   "source": [
    "X_train, X_test, y_train, y_test = train_test_split(dff, target, 'patient-id', 0.7, 0)\n",
    "print('Total number of patients: %d' % len(df.groupby('patient-id')))\n",
    "print('Number of patients in training set: %d' % len(X_train.groupby('patient-id')))"
   ]
  },
  {
   "cell_type": "code",
   "execution_count": 31,
   "metadata": {},
   "outputs": [
    {
     "name": "stdout",
     "output_type": "stream",
     "text": [
      "CPU times: user 20.4 s, sys: 229 ms, total: 20.6 s\n",
      "Wall time: 12.2 s\n"
     ]
    }
   ],
   "source": [
    "%%time\n",
    "generate_period(X_train, f_period)\n",
    "label_encoding(X_train, f_label, dic_label)\n",
    "X_train_original = X_train.copy() # store value range\n",
    "df_transform(X_train, f_transform)\n",
    "X_train = one_hot_encoding(X_train, f_one_hot, cate_one_hot)\n",
    "drop_features(X_train, f_drop)"
   ]
  },
  {
   "cell_type": "code",
   "execution_count": 32,
   "metadata": {},
   "outputs": [],
   "source": [
    "X_train_use = X_train.copy()"
   ]
  },
  {
   "cell_type": "code",
   "execution_count": 33,
   "metadata": {},
   "outputs": [
    {
     "data": {
      "text/plain": [
       "Index(['marital-status', 'mds-entered-from', 'mds-pain-medication',\n",
       "       'mds-received-pain-tx-non-pharm', 'mds-received-prn-pain-medication',\n",
       "       'mds-excess-weight-loss', 'mds-urinary-incontinence', 'pneumonia',\n",
       "       'uti', 'mdro', 'anemia', 'septicemia', 'constipation', 'wound',\n",
       "       'hyponatremia', 'hyperkalemia', 'embolisms', 'alzheimers', 'anxiety',\n",
       "       'depression', 'non-alz-dimentia', 'bipolar', 'parkinsons', 'psychosis',\n",
       "       'schizophrenia', 'seizure', 'aphasia', 'emphysema', 'arthritis', 'ashd',\n",
       "       'bph', 'cancer', 'cerebralpalsy', 'stroke', 'cirrhosis', 'comatose',\n",
       "       'diabetes', 'dysrhythmias', 'gerd', 'heart-failure',\n",
       "       'hemiplegia/hemiparesis', 'hepatitis', 'huntingtons', 'hyperlipidemia',\n",
       "       'hyperthyroidism', 'hypothyroidism', 'hypertension', 'hypotension',\n",
       "       'multiple-sclerosis', 'neurogenic-bladder', 'obstructive-uropathy',\n",
       "       'osteoporosis', 'paraplegia', 'ptsd', 'pvd', 'quadriplegia',\n",
       "       'thyroid-disorder', 'tourettes', 'transient-ischemic-attack',\n",
       "       'traumatic-brain-injury', 'tuberculosis', 'renal-failure',\n",
       "       'mds-conduct-staff-assessment-mental-status',\n",
       "       'mds-pressure-ulcer-prsnt', 'conduct_bims', 'cam_inattention',\n",
       "       'cam_disorganized_thought', 'cam_altered_conc', 'cam_motor_retardation',\n",
       "       'acute_mental_change', 'conduct_pain_assmnt', 'balance_while_standing',\n",
       "       'balance_while_walking', 'balance_turning_around', 'balance_toileting',\n",
       "       'balance_bed_to_chair', 'functlimit_rom_upper', 'functlimit_rom_lower',\n",
       "       'cane_or_crutch_past_7_days', 'walker_past_7_days',\n",
       "       'wheelchair_past_7_days', 'limb_prosthesis_past_7_days',\n",
       "       'no_listed_mobility_device', 'does_resident_wander', 'atc_1', 'atc_2',\n",
       "       'atc_3', 'atc_4', 'atc_5'],\n",
       "      dtype='object')"
      ]
     },
     "execution_count": 33,
     "metadata": {},
     "output_type": "execute_result"
    }
   ],
   "source": [
    "X_train.dtypes[X_train.dtypes == 'object'].index"
   ]
  },
  {
   "cell_type": "code",
   "execution_count": 34,
   "metadata": {},
   "outputs": [],
   "source": [
    "# missing_summary(X_train_use)"
   ]
  },
  {
   "cell_type": "code",
   "execution_count": 35,
   "metadata": {},
   "outputs": [
    {
     "name": "stdout",
     "output_type": "stream",
     "text": [
      "CPU times: user 9.99 s, sys: 15.7 ms, total: 10 s\n",
      "Wall time: 10 s\n"
     ]
    }
   ],
   "source": [
    "%%time\n",
    "generate_period(X_test, f_period)\n",
    "label_encoding(X_test, f_label, dic_label)\n",
    "df_transform(X_test, f_transform, X_train_original)\n",
    "X_test = one_hot_encoding(X_test, f_one_hot, cate_one_hot)\n",
    "drop_features(X_test, f_drop)"
   ]
  },
  {
   "cell_type": "code",
   "execution_count": 36,
   "metadata": {},
   "outputs": [],
   "source": [
    "X_test_use = X_test.copy()"
   ]
  },
  {
   "cell_type": "code",
   "execution_count": 37,
   "metadata": {},
   "outputs": [
    {
     "name": "stdout",
     "output_type": "stream",
     "text": [
      "Index(['marital-status', 'mds-entered-from', 'mds-pain-medication',\n",
      "       'mds-received-pain-tx-non-pharm', 'mds-received-prn-pain-medication',\n",
      "       'mds-excess-weight-loss', 'mds-urinary-incontinence', 'pneumonia',\n",
      "       'uti', 'mdro', 'anemia', 'septicemia', 'constipation', 'wound',\n",
      "       'hyponatremia', 'hyperkalemia', 'embolisms', 'alzheimers', 'anxiety',\n",
      "       'depression', 'non-alz-dimentia', 'bipolar', 'parkinsons', 'psychosis',\n",
      "       'schizophrenia', 'seizure', 'aphasia', 'emphysema', 'arthritis', 'ashd',\n",
      "       'bph', 'cancer', 'cerebralpalsy', 'stroke', 'cirrhosis', 'comatose',\n",
      "       'diabetes', 'dysrhythmias', 'gerd', 'heart-failure',\n",
      "       'hemiplegia/hemiparesis', 'hepatitis', 'huntingtons', 'hyperlipidemia',\n",
      "       'hyperthyroidism', 'hypothyroidism', 'hypertension', 'hypotension',\n",
      "       'multiple-sclerosis', 'neurogenic-bladder', 'obstructive-uropathy',\n",
      "       'osteoporosis', 'paraplegia', 'ptsd', 'pvd', 'quadriplegia',\n",
      "       'thyroid-disorder', 'tourettes', 'transient-ischemic-attack',\n",
      "       'traumatic-brain-injury', 'tuberculosis', 'renal-failure',\n",
      "       'mds-conduct-staff-assessment-mental-status',\n",
      "       'mds-pressure-ulcer-prsnt', 'conduct_bims', 'cam_inattention',\n",
      "       'cam_disorganized_thought', 'cam_altered_conc', 'cam_motor_retardation',\n",
      "       'acute_mental_change', 'conduct_pain_assmnt', 'balance_while_standing',\n",
      "       'balance_while_walking', 'balance_turning_around', 'balance_toileting',\n",
      "       'balance_bed_to_chair', 'functlimit_rom_upper', 'functlimit_rom_lower',\n",
      "       'cane_or_crutch_past_7_days', 'walker_past_7_days',\n",
      "       'wheelchair_past_7_days', 'limb_prosthesis_past_7_days',\n",
      "       'no_listed_mobility_device', 'does_resident_wander', 'atc_1', 'atc_2',\n",
      "       'atc_3', 'atc_4', 'atc_5'],\n",
      "      dtype='object')\n"
     ]
    }
   ],
   "source": [
    "print(X_train.dtypes[X_train.dtypes == 'object'].index)"
   ]
  },
  {
   "cell_type": "code",
   "execution_count": 38,
   "metadata": {},
   "outputs": [],
   "source": [
    "# missing_summary(X_test_use)"
   ]
  },
  {
   "cell_type": "code",
   "execution_count": 39,
   "metadata": {},
   "outputs": [
    {
     "data": {
      "text/plain": [
       "(5301, 194)"
      ]
     },
     "execution_count": 39,
     "metadata": {},
     "output_type": "execute_result"
    }
   ],
   "source": [
    "X_train_use.shape"
   ]
  },
  {
   "cell_type": "code",
   "execution_count": 40,
   "metadata": {},
   "outputs": [
    {
     "data": {
      "text/plain": [
       "(2283, 194)"
      ]
     },
     "execution_count": 40,
     "metadata": {},
     "output_type": "execute_result"
    }
   ],
   "source": [
    "X_test_use.shape"
   ]
  },
  {
   "cell_type": "code",
   "execution_count": 41,
   "metadata": {},
   "outputs": [],
   "source": [
    "idx = missing_summary(X_train_use).index.tolist()\n",
    "X_train_use.drop(columns=idx, axis=1, inplace=True)\n",
    "X_test_use.drop(columns=idx, axis=1, inplace=True)"
   ]
  },
  {
   "cell_type": "code",
   "execution_count": 42,
   "metadata": {},
   "outputs": [
    {
     "data": {
      "text/plain": [
       "(5301, 100)"
      ]
     },
     "execution_count": 42,
     "metadata": {},
     "output_type": "execute_result"
    }
   ],
   "source": [
    "X_train_use.shape"
   ]
  },
  {
   "cell_type": "code",
   "execution_count": 43,
   "metadata": {},
   "outputs": [
    {
     "data": {
      "text/plain": [
       "(2283, 100)"
      ]
     },
     "execution_count": 43,
     "metadata": {},
     "output_type": "execute_result"
    }
   ],
   "source": [
    "X_test_use.shape"
   ]
  },
  {
   "cell_type": "markdown",
   "metadata": {},
   "source": [
    "### Use Sklearn MInMaxScaler to do feature scaling."
   ]
  },
  {
   "cell_type": "code",
   "execution_count": 45,
   "metadata": {},
   "outputs": [],
   "source": [
    "def add_previous_outcome(X, Y):\n",
    "    X = X.copy()\n",
    "    x1, x2 = [], []\n",
    "    pids = X['patient-id'].unique()\n",
    "    for pid in pids:\n",
    "        df = Y[X[X['patient-id']==pid].index]\n",
    "        if(df.shape[0] == 1):\n",
    "            x1.append(pd.Series([0]))\n",
    "            x2.append(pd.Series([0]))\n",
    "        else:\n",
    "            # input 1=(1, 0), 0=(0, 1), NA=(0, 0)\n",
    "            x1.append(pd.Series([0]))\n",
    "            x1.append(df[:-1])\n",
    "            x2.append(pd.Series([0]))\n",
    "            x2.append(df[:-1].map({0: 1, 1: 0}))\n",
    "    X['input_outcome_x'] = pd.Series(pd.concat(x1, ignore_index=True).tolist(), index=X.index)\n",
    "    X['input_outcome_y'] = pd.Series(pd.concat(x2, ignore_index=True).tolist(), index=X.index)\n",
    "    return X"
   ]
  },
  {
   "cell_type": "code",
   "execution_count": 46,
   "metadata": {},
   "outputs": [],
   "source": [
    "# drop patient ID for basic models\n",
    "\n",
    "from sklearn.preprocessing import MinMaxScaler\n",
    "\n",
    "def scaler_transform(X_train_use, X_test_use):    \n",
    "    scaler = MinMaxScaler(feature_range=(0, 1)).fit(X_train_use.drop('patient-id', axis=1))\n",
    "    X_train_transformed = pd.DataFrame(scaler.transform(X_train_use.drop('patient-id', axis=1)), \\\n",
    "                                       columns=X_train_use.columns[1:], index=X_train_use.index)                                   \n",
    "#     X_train_transformed['patient-id'] = X_train_use['patient-id']\n",
    "    X_test_transformed = pd.DataFrame(scaler.transform(X_test_use.drop('patient-id', axis=1)), \\\n",
    "                                       columns=X_test_use.columns[1:], index=X_test_use.index) \n",
    "#     X_test_transformed['patient-id'] = X_test_use['patient-id']\n",
    "    return X_train_transformed, X_test_transformed"
   ]
  },
  {
   "cell_type": "code",
   "execution_count": 47,
   "metadata": {},
   "outputs": [],
   "source": [
    "X_train_temp = add_previous_outcome(X_train_use, y_train)\n",
    "X_test_temp = add_previous_outcome(X_test_use, y_test)\n",
    "X_train_transformed, X_test_transformed = scaler_transform(X_train_temp, X_test_temp)"
   ]
  },
  {
   "cell_type": "markdown",
   "metadata": {},
   "source": [
    "### ALl 99 features are non-missing variables."
   ]
  },
  {
   "cell_type": "code",
   "execution_count": 48,
   "metadata": {},
   "outputs": [
    {
     "data": {
      "text/plain": [
       "(5301, 101)"
      ]
     },
     "execution_count": 48,
     "metadata": {},
     "output_type": "execute_result"
    }
   ],
   "source": [
    "X_train_transformed.shape"
   ]
  },
  {
   "cell_type": "markdown",
   "metadata": {},
   "source": [
    "# Basic Model Experiment: Use non-missing values to train model\n",
    "### Prepare Test Set Features\n"
   ]
  },
  {
   "cell_type": "code",
   "execution_count": 49,
   "metadata": {},
   "outputs": [
    {
     "ename": "ModuleNotFoundError",
     "evalue": "No module named 'sklearn.cross_validation'",
     "output_type": "error",
     "traceback": [
      "\u001b[0;31m---------------------------------------------------------------------------\u001b[0m",
      "\u001b[0;31mModuleNotFoundError\u001b[0m                       Traceback (most recent call last)",
      "\u001b[0;32m<ipython-input-49-d6c1ad7cadc8>\u001b[0m in \u001b[0;36m<module>\u001b[0;34m\u001b[0m\n\u001b[1;32m     24\u001b[0m \u001b[0;32mfrom\u001b[0m \u001b[0msklearn\u001b[0m\u001b[0;34m.\u001b[0m\u001b[0mtree\u001b[0m \u001b[0;32mimport\u001b[0m \u001b[0mDecisionTreeClassifier\u001b[0m\u001b[0;34m\u001b[0m\u001b[0;34m\u001b[0m\u001b[0m\n\u001b[1;32m     25\u001b[0m \u001b[0;32mfrom\u001b[0m \u001b[0msklearn\u001b[0m\u001b[0;34m.\u001b[0m\u001b[0mmetrics\u001b[0m \u001b[0;32mimport\u001b[0m \u001b[0;34m*\u001b[0m\u001b[0;34m\u001b[0m\u001b[0;34m\u001b[0m\u001b[0m\n\u001b[0;32m---> 26\u001b[0;31m \u001b[0;32mfrom\u001b[0m \u001b[0msklearn\u001b[0m\u001b[0;34m.\u001b[0m\u001b[0mcross_validation\u001b[0m \u001b[0;32mimport\u001b[0m \u001b[0;34m*\u001b[0m\u001b[0;34m\u001b[0m\u001b[0;34m\u001b[0m\u001b[0m\n\u001b[0m\u001b[1;32m     27\u001b[0m \u001b[0;32mfrom\u001b[0m \u001b[0msklearn\u001b[0m\u001b[0;34m.\u001b[0m\u001b[0msvm\u001b[0m \u001b[0;32mimport\u001b[0m \u001b[0mLinearSVC\u001b[0m\u001b[0;34m\u001b[0m\u001b[0;34m\u001b[0m\u001b[0m\n\u001b[1;32m     28\u001b[0m \u001b[0;32mfrom\u001b[0m \u001b[0msklearn\u001b[0m\u001b[0;34m.\u001b[0m\u001b[0mlearning_curve\u001b[0m \u001b[0;32mimport\u001b[0m \u001b[0mvalidation_curve\u001b[0m\u001b[0;34m\u001b[0m\u001b[0;34m\u001b[0m\u001b[0m\n",
      "\u001b[0;31mModuleNotFoundError\u001b[0m: No module named 'sklearn.cross_validation'"
     ]
    }
   ],
   "source": [
    "from sklearn import preprocessing ## for standarScaler\n",
    "import sklearn\n",
    "from sklearn.metrics import accuracy_score\n",
    "from sklearn.metrics import confusion_matrix\n",
    "from sklearn.metrics import recall_score\n",
    "from sklearn.metrics import roc_curve\n",
    "import pandas as pd\n",
    "import numpy as np\n",
    "import matplotlib.pyplot as plt\n",
    "import seaborn as sns\n",
    "%matplotlib inline\n",
    "from pandas.core.frame import DataFrame\n",
    "from sklearn.neighbors import KNeighborsClassifier\n",
    "from sklearn.svm import SVC, LinearSVC\n",
    "from sklearn.ensemble import (GradientBoostingClassifier, GradientBoostingRegressor,RandomForestClassifier, RandomForestRegressor)\n",
    "from sklearn.linear_model import LogisticRegression\n",
    "from sklearn.linear_model import Perceptron\n",
    "from sklearn.linear_model import SGDClassifier\n",
    "from sklearn.model_selection import GridSearchCV\n",
    "from sklearn.model_selection import train_test_split\n",
    "from sklearn.model_selection import learning_curve\n",
    "from sklearn.model_selection import GridSearchCV, cross_val_score, StratifiedKFold, learning_curve\n",
    "from sklearn.naive_bayes import GaussianNB\n",
    "from sklearn.tree import DecisionTreeClassifier\n",
    "from sklearn.metrics import *\n",
    "from sklearn.cross_validation import *\n",
    "from sklearn.svm import LinearSVC\n",
    "from sklearn.learning_curve import validation_curve\n",
    "from sklearn.metrics import classification_report\n",
    "from sklearn.model_selection import cross_val_score\n",
    "# from sklearn.svm import SVC"
   ]
  },
  {
   "cell_type": "code",
   "execution_count": 50,
   "metadata": {},
   "outputs": [],
   "source": [
    "def find_best_f1(y_predict, y_true):\n",
    "    fpr, tpr, thresholds = roc_curve(y_true, y_predict, pos_label=1) \n",
    "    max_f1, th = 0, 0\n",
    "    for threshold in thresholds:\n",
    "        f1 = f1_score(y_true, y_predict > threshold)\n",
    "        if(f1 > max_f1):\n",
    "            max_f1 = f1\n",
    "            th = threshold\n",
    "    return max_f1, th"
   ]
  },
  {
   "cell_type": "code",
   "execution_count": 36,
   "metadata": {},
   "outputs": [],
   "source": [
    "# def find_best_recall(y_predict, y_true):\n",
    "#     fpr, tpr, thresholds = roc_curve(y_true, y_predict, pos_label=1) \n",
    "#     max_recall, th = 0, 0\n",
    "#     for threshold in thresholds:\n",
    "#         recall = recall_score(y_true, y_predict > threshold)\n",
    "#         if(recall > max_recall):\n",
    "#             max_recall = recall\n",
    "#             th = threshold\n",
    "#     return max_recall, th"
   ]
  },
  {
   "cell_type": "markdown",
   "metadata": {},
   "source": [
    "### metrics_m_prob and metrics_m_pre funcations  are all functions to return metrics and thresholds with best F1 after tuning hyper-parameters for basic models based on optimizing AUROC. metrics_m_pre function is prepared in case of some models and associated hyper-paratemers can't generate results in probabilities format in different classes."
   ]
  },
  {
   "cell_type": "code",
   "execution_count": 51,
   "metadata": {},
   "outputs": [],
   "source": [
    "def metrics_m_prob (model,X_train_transformed,X_test_transformed,y_train,y_test):\n",
    "    Model = model.fit(X_train_transformed, y_train)\n",
    "    prediction=Model.predict(X_test_transformed)\n",
    "    accuracy=accuracy_score(y_test,prediction)\n",
    "    precision=precision_score(y_test, prediction) # get precision score\n",
    "    recall=recall_score(y_test, prediction) # get recall score\n",
    "    F1=f1_score(y_test, prediction) # get F1 score\n",
    "\n",
    "    tn, fp, fn, tp = confusion_matrix(y_test, prediction).ravel()\n",
    "    specificity=float(tn) / (tn+fp) # get specificity score\n",
    "    prediction_prob=Model.predict_proba(X_test_transformed)\n",
    "    prediction_prob=prediction_prob[:,1]\n",
    "    fpr, tpr, tresholds = roc_curve(y_test, prediction_prob)\n",
    "    roc_auc = sklearn.metrics.auc(fpr,tpr) # get auroc score\n",
    "\n",
    "    dic_=  dict([('accuracy', accuracy), ('precision', precision), ('recall', recall),('F1',F1),('specificity', specificity),('AUROC', roc_auc)])\n",
    "    dic_df=pd.DataFrame(pd.Series(dic_),columns=['Score'])\n",
    "    dic_df=dic_df.reset_index().rename(columns={'index':'metrics'})\n",
    "    \n",
    "    \n",
    "    \n",
    "    f1, th = find_best_f1(prediction_prob, y_test)\n",
    "\n",
    "    ## maximum F1\n",
    "    y_threshold = prediction_prob > th\n",
    "    tn, fp, fn, tp = confusion_matrix(y_test, y_threshold).ravel()\n",
    "\n",
    "    \n",
    "    dic_f1= dict([('accuracy', accuracy_score(y_test, y_threshold)), ('precision', precision_score(y_test, y_threshold)), ('recall', recall_score(y_test, y_threshold)),('F1',f1_score(y_test, y_threshold)),('specificity', (float(tn) / (tn+fp)))])\n",
    "    dic_df_f1=pd.DataFrame(pd.Series(dic_f1),columns=['Score'])\n",
    "    dic_df_f1=dic_df_f1.reset_index().rename(columns={'index':'metrics'})\n",
    "   \n",
    "    return dic_df,dic_df_f1,th\n"
   ]
  },
  {
   "cell_type": "code",
   "execution_count": 52,
   "metadata": {},
   "outputs": [],
   "source": [
    "def metrics_m_pre (model,X_train_transformed,X_test_transformed,y_train,y_test):\n",
    "    Model = model.fit(X_train_transformed, y_train)\n",
    "    prediction=Model.predict(X_test_transformed)\n",
    "    accuracy=accuracy_score(y_test,prediction)\n",
    "    precision=precision_score(y_test, prediction) # get precision score\n",
    "    recall=recall_score(y_test, prediction) # get recall score\n",
    "    F1=f1_score(y_test, prediction) # get F1 score\n",
    "\n",
    "    tn, fp, fn, tp = confusion_matrix(y_test, prediction).ravel()\n",
    "    specificity=float(tn) / (tn+fp) # get specificity score\n",
    "#     prediction_prob=Model.predict_proba(X_test_transformed)\n",
    "#     prediction_prob=prediction_prob[:,1]\n",
    "    fpr, tpr, tresholds = roc_curve(y_test, prediction)\n",
    "    roc_auc = sklearn.metrics.auc(fpr,tpr) # get auroc score\n",
    "\n",
    "    dic_=  dict([('accuracy', accuracy), ('precision', precision), ('recall', recall),('F1',F1),('specificity', specificity),('AUROC', roc_auc)])\n",
    "    dic_df=pd.DataFrame(pd.Series(dic_),columns=['Score'])\n",
    "    dic_df=dic_df.reset_index().rename(columns={'index':'metrics'})\n",
    "    \n",
    "    \n",
    "    \n",
    "    f1, th = find_best_f1(prediction, y_test)\n",
    "\n",
    "    ## maximum F1\n",
    "    y_threshold = prediction> th\n",
    "    tn, fp, fn, tp = confusion_matrix(y_test, y_threshold).ravel()\n",
    "\n",
    "    \n",
    "    dic_f1= dict([('accuracy', accuracy_score(y_test, y_threshold)), ('precision', precision_score(y_test, y_threshold)), ('recall', recall_score(y_test, y_threshold)),('F1',f1_score(y_test, y_threshold)),('specificity', (float(tn) / (tn+fp)))])\n",
    "    dic_df_f1=pd.DataFrame(pd.Series(dic_f1),columns=['Score'])\n",
    "    dic_df_f1=dic_df_f1.reset_index().rename(columns={'index':'metrics'})\n",
    "   \n",
    "    return dic_df,dic_df_f1,th\n"
   ]
  },
  {
   "cell_type": "markdown",
   "metadata": {},
   "source": [
    "### AUROC_Tain_prob and AUROC_Tain_pre functions can generate AUROC  scores of training set. UROC_Tain_pre is prepared in case of some models and associated hyper-paratemers can't generate results in probabilities format in different classes.¶"
   ]
  },
  {
   "cell_type": "code",
   "execution_count": 53,
   "metadata": {},
   "outputs": [],
   "source": [
    "def AUROC_Tain_prob(model,X_train_transformed,y_train):\n",
    "    # training set\n",
    "    Model = model.fit(X_train_transformed, y_train)\n",
    "    # prediction=Model.predict(X_train_transformed)\n",
    "    prediction_prob=Model.predict_proba(X_train_transformed)\n",
    "    prediction_prob=prediction_prob[:,1]\n",
    "\n",
    "\n",
    "    fpr, tpr, tresholds = roc_curve(y_train, prediction_prob)\n",
    "    roc_auc = sklearn.metrics.auc(fpr,tpr) # get auroc score \n",
    "    return roc_auc"
   ]
  },
  {
   "cell_type": "code",
   "execution_count": 54,
   "metadata": {},
   "outputs": [],
   "source": [
    "def AUROC_Tain_pre(model,X_train_transformed,y_train):\n",
    "    # training set\n",
    "    Model = model.fit(X_train_transformed, y_train)\n",
    "    prediction=Model.predict(X_train_transformed)\n",
    "#     prediction_prob=Model.predict_proba(X_train_transformed)\n",
    "#     prediction_prob=prediction_prob[:,1]\n",
    "\n",
    "\n",
    "    fpr, tpr, tresholds = roc_curve(y_train, prediction)\n",
    "    roc_auc = sklearn.metrics.auc(fpr,tpr) # get auroc score \n",
    "    return roc_auc"
   ]
  },
  {
   "cell_type": "code",
   "execution_count": 55,
   "metadata": {},
   "outputs": [],
   "source": [
    "def plot_roc_curve(fpr, tpr):\n",
    "    plt.figure()\n",
    "    plt.plot(fpr, tpr, color='darkorange', label='ROC curve (area = %0.2f)' % auc(fpr, tpr))\n",
    "    plt.plot([0, 1], [0, 1], color='navy', linestyle='--')\n",
    "    plt.xlim([0.0, 1.0])\n",
    "    plt.ylim([0.0, 1.05])\n",
    "    plt.xlabel('False Positive Rate')\n",
    "    plt.ylabel('True Positive Rate')\n",
    "    plt.legend(loc=\"lower right\")\n",
    "    plt.show()"
   ]
  },
  {
   "cell_type": "code",
   "execution_count": 56,
   "metadata": {},
   "outputs": [],
   "source": [
    "def drawAUROC (model,figureName):\n",
    "    Model = model.fit(X_train_transformed, y_train)\n",
    "    prediction_prob=Model.predict_proba(X_test_transformed)\n",
    "    prediction_prob=prediction_prob[:,1]\n",
    "    fpr, tpr, tresholds = roc_curve(y_test, prediction_prob)\n",
    "\n",
    "    f1, th = find_best_f1(prediction_prob, y_test)\n",
    "    y_threshold = prediction_prob > th\n",
    "    tn, fp, fn, tp = confusion_matrix(y_test, y_threshold).ravel()\n",
    "    recall=recall_score(y_test, y_threshold)\n",
    "    specificity=(float(tn) / (tn+fp))\n",
    "\n",
    "\n",
    "    import csv \n",
    "    fpr, tpr, thresholds = roc_curve(y_test, prediction_prob, pos_label=1)\n",
    "    plot_roc_curve(fpr, tpr)\n",
    "    with open(figureName, \"w\") as writeFile:\n",
    "        writer  = csv.writer(writeFile)\n",
    "        writer.writerows([fpr, tpr, [recall, 1-specificity]])"
   ]
  },
  {
   "cell_type": "code",
   "execution_count": 57,
   "metadata": {},
   "outputs": [],
   "source": [
    "from sklearn.calibration import calibration_curve\n",
    "import csv \n",
    "\n",
    "def calibPlots (model,figureName):\n",
    "    Model = model.fit(X_train_transformed, y_train)\n",
    "    prediction_prob=Model.predict_proba(X_test_transformed)\n",
    "    prediction_prob=prediction_prob[:,1]\n",
    "    fraction_of_positives, mean_predicted_value = calibration_curve(y_test, prediction_prob, n_bins=10)\n",
    "    with open(figureName, \"w\") as writeFile:\n",
    "        writer  = csv.writer(writeFile)\n",
    "        writer.writerows([fraction_of_positives, mean_predicted_value])\n",
    "\n",
    "    plt.figure()\n",
    "    plt.plot(mean_predicted_value, fraction_of_positives, 's-')\n",
    "    plt.plot([0, 1], [0, 1], '--', color='gray')\n",
    "    plt.show()\n"
   ]
  },
  {
   "cell_type": "code",
   "execution_count": 90,
   "metadata": {},
   "outputs": [],
   "source": [
    "from sklearn.calibration import calibration_curve\n",
    "import csv \n",
    "\n",
    "def calibPlots_normalized (model,figureName):\n",
    "    Model = model.fit(X_train_transformed, y_train)\n",
    "    prediction_prob=Model.predict_proba(X_test_transformed)\n",
    "    prediction_prob=prediction_prob[:,1]\n",
    "    fraction_of_positives, mean_predicted_value = calibration_curve(y_test, prediction_prob, normalize=True, n_bins=10)\n",
    "    with open(figureName, \"w\") as writeFile:\n",
    "        writer  = csv.writer(writeFile)\n",
    "        writer.writerows([fraction_of_positives, mean_predicted_value])\n",
    "\n",
    "    plt.figure()\n",
    "    plt.plot(mean_predicted_value, fraction_of_positives, 's-')\n",
    "    plt.plot([0, 1], [0, 1], '--', color='gray')\n",
    "    plt.show()"
   ]
  },
  {
   "cell_type": "markdown",
   "metadata": {},
   "source": [
    "# tuning hyperparameters for Logistic regression based on \"roc_auc\""
   ]
  },
  {
   "cell_type": "markdown",
   "metadata": {},
   "source": [
    "### For the Logistic regression model, there are two penalty choices, including l1 and l2. However, some solver are not applicable to bother of them, so I separate them in the tuning procedure. After runing for several time,'l2' is more suitable for LR in strategy 1. Thus, we just leave the cell getting current best tuning results."
   ]
  },
  {
   "cell_type": "code",
   "execution_count": 39,
   "metadata": {},
   "outputs": [
    {
     "name": "stdout",
     "output_type": "stream",
     "text": [
      "The parameters of the best model are: \n",
      "{'C': 0.25, 'solver': 'liblinear'}\n",
      "             precision    recall  f1-score   support\n",
      "\n",
      "          0       0.87      0.75      0.80      1229\n",
      "          1       0.32      0.51      0.39       283\n",
      "\n",
      "avg / total       0.77      0.70      0.73      1512\n",
      "\n"
     ]
    }
   ],
   "source": [
    "parameters={'C':[0.25,0.5, 0.75, 1,1.5], 'solver':('liblinear','sag','newton-cg', 'lbfgs')}\n",
    "model = LogisticRegression(penalty='l2',class_weight='balanced',random_state=100)\n",
    "clf = GridSearchCV(model, parameters, n_jobs=-1,scoring='roc_auc', cv=5)\n",
    "clf.fit(X_train_transformed, y_train)\n",
    "print('The parameters of the best model are: ')\n",
    "print(clf.best_params_)\n",
    "y_pred = clf.predict(X_test_transformed)\n",
    "print(classification_report(y_test, y_pred))"
   ]
  },
  {
   "cell_type": "code",
   "execution_count": 58,
   "metadata": {},
   "outputs": [],
   "source": [
    "clf_model=LogisticRegression(penalty='l2',class_weight='balanced',C=0.25, solver='liblinear',random_state=100)\n",
    "results=metrics_m_prob(clf_model,X_train_transformed,X_test_transformed,y_train,y_test)"
   ]
  },
  {
   "cell_type": "code",
   "execution_count": 105,
   "metadata": {},
   "outputs": [
    {
     "data": {
      "text/html": [
       "<div>\n",
       "<style scoped>\n",
       "    .dataframe tbody tr th:only-of-type {\n",
       "        vertical-align: middle;\n",
       "    }\n",
       "\n",
       "    .dataframe tbody tr th {\n",
       "        vertical-align: top;\n",
       "    }\n",
       "\n",
       "    .dataframe thead th {\n",
       "        text-align: right;\n",
       "    }\n",
       "</style>\n",
       "<table border=\"1\" class=\"dataframe\">\n",
       "  <thead>\n",
       "    <tr style=\"text-align: right;\">\n",
       "      <th></th>\n",
       "      <th>metrics</th>\n",
       "      <th>Score</th>\n",
       "    </tr>\n",
       "  </thead>\n",
       "  <tbody>\n",
       "    <tr>\n",
       "      <th>0</th>\n",
       "      <td>AUROC</td>\n",
       "      <td>0.689233</td>\n",
       "    </tr>\n",
       "    <tr>\n",
       "      <th>1</th>\n",
       "      <td>F1</td>\n",
       "      <td>0.392954</td>\n",
       "    </tr>\n",
       "    <tr>\n",
       "      <th>2</th>\n",
       "      <td>accuracy</td>\n",
       "      <td>0.703704</td>\n",
       "    </tr>\n",
       "    <tr>\n",
       "      <th>3</th>\n",
       "      <td>precision</td>\n",
       "      <td>0.318681</td>\n",
       "    </tr>\n",
       "    <tr>\n",
       "      <th>4</th>\n",
       "      <td>recall</td>\n",
       "      <td>0.512367</td>\n",
       "    </tr>\n",
       "    <tr>\n",
       "      <th>5</th>\n",
       "      <td>specificity</td>\n",
       "      <td>0.747762</td>\n",
       "    </tr>\n",
       "  </tbody>\n",
       "</table>\n",
       "</div>"
      ],
      "text/plain": [
       "       metrics     Score\n",
       "0        AUROC  0.689233\n",
       "1           F1  0.392954\n",
       "2     accuracy  0.703704\n",
       "3    precision  0.318681\n",
       "4       recall  0.512367\n",
       "5  specificity  0.747762"
      ]
     },
     "execution_count": 105,
     "metadata": {},
     "output_type": "execute_result"
    }
   ],
   "source": [
    "results[0] ## this returns metrics with default threshold (0.5) for all metrics"
   ]
  },
  {
   "cell_type": "code",
   "execution_count": 59,
   "metadata": {},
   "outputs": [
    {
     "data": {
      "text/html": [
       "<div>\n",
       "<style scoped>\n",
       "    .dataframe tbody tr th:only-of-type {\n",
       "        vertical-align: middle;\n",
       "    }\n",
       "\n",
       "    .dataframe tbody tr th {\n",
       "        vertical-align: top;\n",
       "    }\n",
       "\n",
       "    .dataframe thead th {\n",
       "        text-align: right;\n",
       "    }\n",
       "</style>\n",
       "<table border=\"1\" class=\"dataframe\">\n",
       "  <thead>\n",
       "    <tr style=\"text-align: right;\">\n",
       "      <th></th>\n",
       "      <th>metrics</th>\n",
       "      <th>Score</th>\n",
       "    </tr>\n",
       "  </thead>\n",
       "  <tbody>\n",
       "    <tr>\n",
       "      <th>0</th>\n",
       "      <td>accuracy</td>\n",
       "      <td>0.726237</td>\n",
       "    </tr>\n",
       "    <tr>\n",
       "      <th>1</th>\n",
       "      <td>precision</td>\n",
       "      <td>0.354103</td>\n",
       "    </tr>\n",
       "    <tr>\n",
       "      <th>2</th>\n",
       "      <td>recall</td>\n",
       "      <td>0.538106</td>\n",
       "    </tr>\n",
       "    <tr>\n",
       "      <th>3</th>\n",
       "      <td>F1</td>\n",
       "      <td>0.427131</td>\n",
       "    </tr>\n",
       "    <tr>\n",
       "      <th>4</th>\n",
       "      <td>specificity</td>\n",
       "      <td>0.770270</td>\n",
       "    </tr>\n",
       "    <tr>\n",
       "      <th>5</th>\n",
       "      <td>AUROC</td>\n",
       "      <td>0.714165</td>\n",
       "    </tr>\n",
       "  </tbody>\n",
       "</table>\n",
       "</div>"
      ],
      "text/plain": [
       "       metrics     Score\n",
       "0     accuracy  0.726237\n",
       "1    precision  0.354103\n",
       "2       recall  0.538106\n",
       "3           F1  0.427131\n",
       "4  specificity  0.770270\n",
       "5        AUROC  0.714165"
      ]
     },
     "execution_count": 59,
     "metadata": {},
     "output_type": "execute_result"
    }
   ],
   "source": [
    "results[0] ## this returns metrics with default threshold (0.5) for all metrics"
   ]
  },
  {
   "cell_type": "code",
   "execution_count": 106,
   "metadata": {},
   "outputs": [
    {
     "data": {
      "text/html": [
       "<div>\n",
       "<style scoped>\n",
       "    .dataframe tbody tr th:only-of-type {\n",
       "        vertical-align: middle;\n",
       "    }\n",
       "\n",
       "    .dataframe tbody tr th {\n",
       "        vertical-align: top;\n",
       "    }\n",
       "\n",
       "    .dataframe thead th {\n",
       "        text-align: right;\n",
       "    }\n",
       "</style>\n",
       "<table border=\"1\" class=\"dataframe\">\n",
       "  <thead>\n",
       "    <tr style=\"text-align: right;\">\n",
       "      <th></th>\n",
       "      <th>metrics</th>\n",
       "      <th>Score</th>\n",
       "    </tr>\n",
       "  </thead>\n",
       "  <tbody>\n",
       "    <tr>\n",
       "      <th>0</th>\n",
       "      <td>F1</td>\n",
       "      <td>0.408889</td>\n",
       "    </tr>\n",
       "    <tr>\n",
       "      <th>1</th>\n",
       "      <td>accuracy</td>\n",
       "      <td>0.648148</td>\n",
       "    </tr>\n",
       "    <tr>\n",
       "      <th>2</th>\n",
       "      <td>precision</td>\n",
       "      <td>0.298217</td>\n",
       "    </tr>\n",
       "    <tr>\n",
       "      <th>3</th>\n",
       "      <td>recall</td>\n",
       "      <td>0.650177</td>\n",
       "    </tr>\n",
       "    <tr>\n",
       "      <th>4</th>\n",
       "      <td>specificity</td>\n",
       "      <td>0.647681</td>\n",
       "    </tr>\n",
       "  </tbody>\n",
       "</table>\n",
       "</div>"
      ],
      "text/plain": [
       "       metrics     Score\n",
       "0           F1  0.408889\n",
       "1     accuracy  0.648148\n",
       "2    precision  0.298217\n",
       "3       recall  0.650177\n",
       "4  specificity  0.647681"
      ]
     },
     "execution_count": 106,
     "metadata": {},
     "output_type": "execute_result"
    }
   ],
   "source": [
    "results[1] ## this returns metrics with best F1 threshold, the AUROC is same as the above"
   ]
  },
  {
   "cell_type": "code",
   "execution_count": 60,
   "metadata": {},
   "outputs": [
    {
     "data": {
      "text/html": [
       "<div>\n",
       "<style scoped>\n",
       "    .dataframe tbody tr th:only-of-type {\n",
       "        vertical-align: middle;\n",
       "    }\n",
       "\n",
       "    .dataframe tbody tr th {\n",
       "        vertical-align: top;\n",
       "    }\n",
       "\n",
       "    .dataframe thead th {\n",
       "        text-align: right;\n",
       "    }\n",
       "</style>\n",
       "<table border=\"1\" class=\"dataframe\">\n",
       "  <thead>\n",
       "    <tr style=\"text-align: right;\">\n",
       "      <th></th>\n",
       "      <th>metrics</th>\n",
       "      <th>Score</th>\n",
       "    </tr>\n",
       "  </thead>\n",
       "  <tbody>\n",
       "    <tr>\n",
       "      <th>0</th>\n",
       "      <td>accuracy</td>\n",
       "      <td>0.721857</td>\n",
       "    </tr>\n",
       "    <tr>\n",
       "      <th>1</th>\n",
       "      <td>precision</td>\n",
       "      <td>0.352339</td>\n",
       "    </tr>\n",
       "    <tr>\n",
       "      <th>2</th>\n",
       "      <td>recall</td>\n",
       "      <td>0.556582</td>\n",
       "    </tr>\n",
       "    <tr>\n",
       "      <th>3</th>\n",
       "      <td>F1</td>\n",
       "      <td>0.431513</td>\n",
       "    </tr>\n",
       "    <tr>\n",
       "      <th>4</th>\n",
       "      <td>specificity</td>\n",
       "      <td>0.760541</td>\n",
       "    </tr>\n",
       "  </tbody>\n",
       "</table>\n",
       "</div>"
      ],
      "text/plain": [
       "       metrics     Score\n",
       "0     accuracy  0.721857\n",
       "1    precision  0.352339\n",
       "2       recall  0.556582\n",
       "3           F1  0.431513\n",
       "4  specificity  0.760541"
      ]
     },
     "execution_count": 60,
     "metadata": {},
     "output_type": "execute_result"
    }
   ],
   "source": [
    "results[1] ## this returns metrics with best F1 threshold, the AUROC is same as the above"
   ]
  },
  {
   "cell_type": "code",
   "execution_count": 107,
   "metadata": {},
   "outputs": [
    {
     "data": {
      "text/plain": [
       "0.44564964869857704"
      ]
     },
     "execution_count": 107,
     "metadata": {},
     "output_type": "execute_result"
    }
   ],
   "source": [
    "results[2]  ## this returns the threshold with best F1 "
   ]
  },
  {
   "cell_type": "code",
   "execution_count": 61,
   "metadata": {},
   "outputs": [
    {
     "data": {
      "text/plain": [
       "0.7486783071380301"
      ]
     },
     "execution_count": 61,
     "metadata": {},
     "output_type": "execute_result"
    }
   ],
   "source": [
    "clf_model=LogisticRegression(penalty='l2',class_weight='balanced',C=0.25, solver='liblinear',random_state=100)\n",
    "# training set\n",
    "AUROC_Tain_prob (clf_model,X_train_transformed,y_train)  ## return the training set AUROC score"
   ]
  },
  {
   "cell_type": "markdown",
   "metadata": {},
   "source": [
    "### LR AUROC cureve "
   ]
  },
  {
   "cell_type": "code",
   "execution_count": 62,
   "metadata": {},
   "outputs": [
    {
     "data": {
      "image/png": "[encoded data removed]",
      "text/plain": [
       "<Figure size 432x288 with 1 Axes>"
      ]
     },
     "metadata": {
      "needs_background": "light"
     },
     "output_type": "display_data"
    }
   ],
   "source": [
    "model=LogisticRegression(penalty='l2',class_weight='balanced',C=0.25, solver='liblinear',random_state=100) # LR\n",
    "drawAUROC(model,'LR_exp_1.csv')"
   ]
  },
  {
   "cell_type": "markdown",
   "metadata": {},
   "source": [
    "### LR calibration plots without normalzied"
   ]
  },
  {
   "cell_type": "code",
   "execution_count": 86,
   "metadata": {},
   "outputs": [
    {
     "data": {
      "image/png": "[encoded data removed]",
      "text/plain": [
       "<Figure size 432x288 with 1 Axes>"
      ]
     },
     "metadata": {
      "needs_background": "light"
     },
     "output_type": "display_data"
    }
   ],
   "source": [
    "model=LogisticRegression(penalty='l2',class_weight='balanced',C=0.25, solver='liblinear',random_state=100)\n",
    "calibPlots(model,'LR_exp_1_cal.csv')"
   ]
  },
  {
   "cell_type": "markdown",
   "metadata": {},
   "source": [
    "### LR calibration plots with normalzied"
   ]
  },
  {
   "cell_type": "code",
   "execution_count": 91,
   "metadata": {},
   "outputs": [
    {
     "data": {
      "image/png": "[encoded data removed]",
      "text/plain": [
       "<Figure size 432x288 with 1 Axes>"
      ]
     },
     "metadata": {
      "needs_background": "light"
     },
     "output_type": "display_data"
    }
   ],
   "source": [
    "model=LogisticRegression(penalty='l2',class_weight='balanced',C=0.25, solver='liblinear',random_state=100)\n",
    "calibPlots_normalized(model,'LR_exp_1_NorCal.csv')"
   ]
  },
  {
   "cell_type": "markdown",
   "metadata": {},
   "source": [
    "# tuning hyperparameters for randomForest Tree based on \"roc_auc\"¶"
   ]
  },
  {
   "cell_type": "markdown",
   "metadata": {},
   "source": [
    "### RF using less aggressive hyper-parameters when there is less risk of overfitting"
   ]
  },
  {
   "cell_type": "code",
   "execution_count": 57,
   "metadata": {},
   "outputs": [
    {
     "name": "stdout",
     "output_type": "stream",
     "text": [
      "The parameters of the best model are: \n",
      "{'n_estimators': 121, 'max_leaf_nodes': 20, 'criterion': 'gini', 'max_depth': 7}\n",
      "             precision    recall  f1-score   support\n",
      "\n",
      "          0       0.86      0.75      0.80      1229\n",
      "          1       0.31      0.49      0.38       283\n",
      "\n",
      "avg / total       0.76      0.70      0.72      1512\n",
      "\n"
     ]
    }
   ],
   "source": [
    "parameters={'criterion':('gini','entropy'),'n_estimators':range(11,201,10),'max_depth':range(1,11,2), 'max_leaf_nodes':range(5,30,5)}\n",
    "model = RandomForestClassifier(class_weight='balanced',random_state=100)\n",
    "clf = GridSearchCV(model, parameters,n_jobs=-1,scoring='roc_auc', cv=5)\n",
    "clf.fit(X_train_transformed, y_train)\n",
    "print('The parameters of the best model are: ')\n",
    "print(clf.best_params_)\n",
    "y_pred = clf.predict(X_test_transformed)\n",
    "print(classification_report(y_test, y_pred))"
   ]
  },
  {
   "cell_type": "code",
   "execution_count": 63,
   "metadata": {},
   "outputs": [],
   "source": [
    "clf_model=RandomForestClassifier(class_weight='balanced',n_estimators=121,max_leaf_nodes=20,criterion='gini',max_depth=7,random_state=100)\n",
    "results=metrics_m_prob(clf_model,X_train_transformed,X_test_transformed,y_train,y_test)"
   ]
  },
  {
   "cell_type": "code",
   "execution_count": 64,
   "metadata": {},
   "outputs": [
    {
     "data": {
      "text/html": [
       "<div>\n",
       "<style scoped>\n",
       "    .dataframe tbody tr th:only-of-type {\n",
       "        vertical-align: middle;\n",
       "    }\n",
       "\n",
       "    .dataframe tbody tr th {\n",
       "        vertical-align: top;\n",
       "    }\n",
       "\n",
       "    .dataframe thead th {\n",
       "        text-align: right;\n",
       "    }\n",
       "</style>\n",
       "<table border=\"1\" class=\"dataframe\">\n",
       "  <thead>\n",
       "    <tr style=\"text-align: right;\">\n",
       "      <th></th>\n",
       "      <th>metrics</th>\n",
       "      <th>Score</th>\n",
       "    </tr>\n",
       "  </thead>\n",
       "  <tbody>\n",
       "    <tr>\n",
       "      <th>0</th>\n",
       "      <td>AUROC</td>\n",
       "      <td>0.684191</td>\n",
       "    </tr>\n",
       "    <tr>\n",
       "      <th>1</th>\n",
       "      <td>F1</td>\n",
       "      <td>0.376535</td>\n",
       "    </tr>\n",
       "    <tr>\n",
       "      <th>2</th>\n",
       "      <td>accuracy</td>\n",
       "      <td>0.697751</td>\n",
       "    </tr>\n",
       "    <tr>\n",
       "      <th>3</th>\n",
       "      <td>precision</td>\n",
       "      <td>0.306667</td>\n",
       "    </tr>\n",
       "    <tr>\n",
       "      <th>4</th>\n",
       "      <td>recall</td>\n",
       "      <td>0.487633</td>\n",
       "    </tr>\n",
       "    <tr>\n",
       "      <th>5</th>\n",
       "      <td>specificity</td>\n",
       "      <td>0.746135</td>\n",
       "    </tr>\n",
       "  </tbody>\n",
       "</table>\n",
       "</div>"
      ],
      "text/plain": [
       "       metrics     Score\n",
       "0        AUROC  0.684191\n",
       "1           F1  0.376535\n",
       "2     accuracy  0.697751\n",
       "3    precision  0.306667\n",
       "4       recall  0.487633\n",
       "5  specificity  0.746135"
      ]
     },
     "execution_count": 64,
     "metadata": {},
     "output_type": "execute_result"
    }
   ],
   "source": [
    "results[0]   ## this returns metrics with default threshold (0.5) for all metrics"
   ]
  },
  {
   "cell_type": "code",
   "execution_count": 64,
   "metadata": {},
   "outputs": [
    {
     "data": {
      "text/html": [
       "<div>\n",
       "<style scoped>\n",
       "    .dataframe tbody tr th:only-of-type {\n",
       "        vertical-align: middle;\n",
       "    }\n",
       "\n",
       "    .dataframe tbody tr th {\n",
       "        vertical-align: top;\n",
       "    }\n",
       "\n",
       "    .dataframe thead th {\n",
       "        text-align: right;\n",
       "    }\n",
       "</style>\n",
       "<table border=\"1\" class=\"dataframe\">\n",
       "  <thead>\n",
       "    <tr style=\"text-align: right;\">\n",
       "      <th></th>\n",
       "      <th>metrics</th>\n",
       "      <th>Score</th>\n",
       "    </tr>\n",
       "  </thead>\n",
       "  <tbody>\n",
       "    <tr>\n",
       "      <th>0</th>\n",
       "      <td>accuracy</td>\n",
       "      <td>0.763031</td>\n",
       "    </tr>\n",
       "    <tr>\n",
       "      <th>1</th>\n",
       "      <td>precision</td>\n",
       "      <td>0.400735</td>\n",
       "    </tr>\n",
       "    <tr>\n",
       "      <th>2</th>\n",
       "      <td>recall</td>\n",
       "      <td>0.503464</td>\n",
       "    </tr>\n",
       "    <tr>\n",
       "      <th>3</th>\n",
       "      <td>F1</td>\n",
       "      <td>0.446264</td>\n",
       "    </tr>\n",
       "    <tr>\n",
       "      <th>4</th>\n",
       "      <td>specificity</td>\n",
       "      <td>0.823784</td>\n",
       "    </tr>\n",
       "    <tr>\n",
       "      <th>5</th>\n",
       "      <td>AUROC</td>\n",
       "      <td>0.722708</td>\n",
       "    </tr>\n",
       "  </tbody>\n",
       "</table>\n",
       "</div>"
      ],
      "text/plain": [
       "       metrics     Score\n",
       "0     accuracy  0.763031\n",
       "1    precision  0.400735\n",
       "2       recall  0.503464\n",
       "3           F1  0.446264\n",
       "4  specificity  0.823784\n",
       "5        AUROC  0.722708"
      ]
     },
     "execution_count": 64,
     "metadata": {},
     "output_type": "execute_result"
    }
   ],
   "source": [
    "results[0]   ## this returns metrics with default threshold (0.5) for all metrics"
   ]
  },
  {
   "cell_type": "code",
   "execution_count": 65,
   "metadata": {},
   "outputs": [
    {
     "data": {
      "text/html": [
       "<div>\n",
       "<style scoped>\n",
       "    .dataframe tbody tr th:only-of-type {\n",
       "        vertical-align: middle;\n",
       "    }\n",
       "\n",
       "    .dataframe tbody tr th {\n",
       "        vertical-align: top;\n",
       "    }\n",
       "\n",
       "    .dataframe thead th {\n",
       "        text-align: right;\n",
       "    }\n",
       "</style>\n",
       "<table border=\"1\" class=\"dataframe\">\n",
       "  <thead>\n",
       "    <tr style=\"text-align: right;\">\n",
       "      <th></th>\n",
       "      <th>metrics</th>\n",
       "      <th>Score</th>\n",
       "    </tr>\n",
       "  </thead>\n",
       "  <tbody>\n",
       "    <tr>\n",
       "      <th>0</th>\n",
       "      <td>F1</td>\n",
       "      <td>0.393162</td>\n",
       "    </tr>\n",
       "    <tr>\n",
       "      <th>1</th>\n",
       "      <td>accuracy</td>\n",
       "      <td>0.624339</td>\n",
       "    </tr>\n",
       "    <tr>\n",
       "      <th>2</th>\n",
       "      <td>precision</td>\n",
       "      <td>0.281776</td>\n",
       "    </tr>\n",
       "    <tr>\n",
       "      <th>3</th>\n",
       "      <td>recall</td>\n",
       "      <td>0.650177</td>\n",
       "    </tr>\n",
       "    <tr>\n",
       "      <th>4</th>\n",
       "      <td>specificity</td>\n",
       "      <td>0.618389</td>\n",
       "    </tr>\n",
       "  </tbody>\n",
       "</table>\n",
       "</div>"
      ],
      "text/plain": [
       "       metrics     Score\n",
       "0           F1  0.393162\n",
       "1     accuracy  0.624339\n",
       "2    precision  0.281776\n",
       "3       recall  0.650177\n",
       "4  specificity  0.618389"
      ]
     },
     "execution_count": 65,
     "metadata": {},
     "output_type": "execute_result"
    }
   ],
   "source": [
    "results[1]   ## this returns metrics with best F1 threshold, the AUROC is same as the above"
   ]
  },
  {
   "cell_type": "code",
   "execution_count": 61,
   "metadata": {},
   "outputs": [
    {
     "data": {
      "text/plain": [
       "0.47281621262030893"
      ]
     },
     "execution_count": 61,
     "metadata": {},
     "output_type": "execute_result"
    }
   ],
   "source": [
    "results[2]   ## this returns the threshold with best F1"
   ]
  },
  {
   "cell_type": "code",
   "execution_count": 62,
   "metadata": {},
   "outputs": [
    {
     "data": {
      "text/plain": [
       "0.7573156878042058"
      ]
     },
     "execution_count": 62,
     "metadata": {},
     "output_type": "execute_result"
    }
   ],
   "source": [
    "clf_model=RandomForestClassifier(class_weight='balanced',n_estimators=121,max_leaf_nodes=20,criterion='entropy',max_depth=7,random_state=100)\n",
    "# training set\n",
    "AUROC_Tain_prob (clf_model,X_train_transformed,y_train)  ## return the training set AUROC score"
   ]
  },
  {
   "cell_type": "code",
   "execution_count": null,
   "metadata": {},
   "outputs": [],
   "source": [
    "#########################"
   ]
  },
  {
   "cell_type": "code",
   "execution_count": null,
   "metadata": {},
   "outputs": [],
   "source": [
    "#########################"
   ]
  },
  {
   "cell_type": "markdown",
   "metadata": {},
   "source": [
    "### RF using aggressive hyper-parameters with final results shown in AMIA paper"
   ]
  },
  {
   "cell_type": "code",
   "execution_count": 40,
   "metadata": {},
   "outputs": [
    {
     "name": "stdout",
     "output_type": "stream",
     "text": [
      "The parameters of the best model are: \n",
      "{'n_estimators': 500, 'max_leaf_nodes': 50, 'criterion': 'entropy', 'max_depth': 30}\n",
      "             precision    recall  f1-score   support\n",
      "\n",
      "          0       0.86      0.79      0.82      1229\n",
      "          1       0.32      0.42      0.37       283\n",
      "\n",
      "avg / total       0.76      0.72      0.74      1512\n",
      "\n"
     ]
    }
   ],
   "source": [
    "parameters={'criterion':('gini','entropy'),'n_estimators':[200,500,800,1000,1500,2000],'max_depth':[10,20,30,50,80], 'max_leaf_nodes':[5,50,100,150,180]}\n",
    "model = RandomForestClassifier(class_weight='balanced',random_state=100)\n",
    "clf = GridSearchCV(model, parameters,n_jobs=-1,scoring='roc_auc', cv=5)\n",
    "clf.fit(X_train_transformed, y_train)\n",
    "print('The parameters of the best model are: ')\n",
    "print(clf.best_params_)\n",
    "y_pred = clf.predict(X_test_transformed)\n",
    "print(classification_report(y_test, y_pred))"
   ]
  },
  {
   "cell_type": "code",
   "execution_count": 65,
   "metadata": {},
   "outputs": [],
   "source": [
    "clf_model=RandomForestClassifier(class_weight='balanced',n_estimators=500,max_leaf_nodes=50,criterion='entropy',max_depth=30,random_state=100)\n",
    "results=metrics_m_prob(clf_model,X_train_transformed,X_test_transformed,y_train,y_test)"
   ]
  },
  {
   "cell_type": "code",
   "execution_count": 109,
   "metadata": {},
   "outputs": [
    {
     "data": {
      "text/html": [
       "<div>\n",
       "<style scoped>\n",
       "    .dataframe tbody tr th:only-of-type {\n",
       "        vertical-align: middle;\n",
       "    }\n",
       "\n",
       "    .dataframe tbody tr th {\n",
       "        vertical-align: top;\n",
       "    }\n",
       "\n",
       "    .dataframe thead th {\n",
       "        text-align: right;\n",
       "    }\n",
       "</style>\n",
       "<table border=\"1\" class=\"dataframe\">\n",
       "  <thead>\n",
       "    <tr style=\"text-align: right;\">\n",
       "      <th></th>\n",
       "      <th>metrics</th>\n",
       "      <th>Score</th>\n",
       "    </tr>\n",
       "  </thead>\n",
       "  <tbody>\n",
       "    <tr>\n",
       "      <th>0</th>\n",
       "      <td>AUROC</td>\n",
       "      <td>0.690236</td>\n",
       "    </tr>\n",
       "    <tr>\n",
       "      <th>1</th>\n",
       "      <td>F1</td>\n",
       "      <td>0.365297</td>\n",
       "    </tr>\n",
       "    <tr>\n",
       "      <th>2</th>\n",
       "      <td>accuracy</td>\n",
       "      <td>0.724206</td>\n",
       "    </tr>\n",
       "    <tr>\n",
       "      <th>3</th>\n",
       "      <td>precision</td>\n",
       "      <td>0.320856</td>\n",
       "    </tr>\n",
       "    <tr>\n",
       "      <th>4</th>\n",
       "      <td>recall</td>\n",
       "      <td>0.424028</td>\n",
       "    </tr>\n",
       "    <tr>\n",
       "      <th>5</th>\n",
       "      <td>specificity</td>\n",
       "      <td>0.793328</td>\n",
       "    </tr>\n",
       "  </tbody>\n",
       "</table>\n",
       "</div>"
      ],
      "text/plain": [
       "       metrics     Score\n",
       "0        AUROC  0.690236\n",
       "1           F1  0.365297\n",
       "2     accuracy  0.724206\n",
       "3    precision  0.320856\n",
       "4       recall  0.424028\n",
       "5  specificity  0.793328"
      ]
     },
     "execution_count": 109,
     "metadata": {},
     "output_type": "execute_result"
    }
   ],
   "source": [
    "results[0]  ## this returns metrics with default threshold (0.5) for all metrics"
   ]
  },
  {
   "cell_type": "code",
   "execution_count": 66,
   "metadata": {},
   "outputs": [
    {
     "data": {
      "text/html": [
       "<div>\n",
       "<style scoped>\n",
       "    .dataframe tbody tr th:only-of-type {\n",
       "        vertical-align: middle;\n",
       "    }\n",
       "\n",
       "    .dataframe tbody tr th {\n",
       "        vertical-align: top;\n",
       "    }\n",
       "\n",
       "    .dataframe thead th {\n",
       "        text-align: right;\n",
       "    }\n",
       "</style>\n",
       "<table border=\"1\" class=\"dataframe\">\n",
       "  <thead>\n",
       "    <tr style=\"text-align: right;\">\n",
       "      <th></th>\n",
       "      <th>metrics</th>\n",
       "      <th>Score</th>\n",
       "    </tr>\n",
       "  </thead>\n",
       "  <tbody>\n",
       "    <tr>\n",
       "      <th>0</th>\n",
       "      <td>accuracy</td>\n",
       "      <td>0.773982</td>\n",
       "    </tr>\n",
       "    <tr>\n",
       "      <th>1</th>\n",
       "      <td>precision</td>\n",
       "      <td>0.413721</td>\n",
       "    </tr>\n",
       "    <tr>\n",
       "      <th>2</th>\n",
       "      <td>recall</td>\n",
       "      <td>0.459584</td>\n",
       "    </tr>\n",
       "    <tr>\n",
       "      <th>3</th>\n",
       "      <td>F1</td>\n",
       "      <td>0.435449</td>\n",
       "    </tr>\n",
       "    <tr>\n",
       "      <th>4</th>\n",
       "      <td>specificity</td>\n",
       "      <td>0.847568</td>\n",
       "    </tr>\n",
       "    <tr>\n",
       "      <th>5</th>\n",
       "      <td>AUROC</td>\n",
       "      <td>0.726635</td>\n",
       "    </tr>\n",
       "  </tbody>\n",
       "</table>\n",
       "</div>"
      ],
      "text/plain": [
       "       metrics     Score\n",
       "0     accuracy  0.773982\n",
       "1    precision  0.413721\n",
       "2       recall  0.459584\n",
       "3           F1  0.435449\n",
       "4  specificity  0.847568\n",
       "5        AUROC  0.726635"
      ]
     },
     "execution_count": 66,
     "metadata": {},
     "output_type": "execute_result"
    }
   ],
   "source": [
    "results[0]  ## this returns metrics with default threshold (0.5) for all metrics"
   ]
  },
  {
   "cell_type": "code",
   "execution_count": 110,
   "metadata": {},
   "outputs": [
    {
     "data": {
      "text/html": [
       "<div>\n",
       "<style scoped>\n",
       "    .dataframe tbody tr th:only-of-type {\n",
       "        vertical-align: middle;\n",
       "    }\n",
       "\n",
       "    .dataframe tbody tr th {\n",
       "        vertical-align: top;\n",
       "    }\n",
       "\n",
       "    .dataframe thead th {\n",
       "        text-align: right;\n",
       "    }\n",
       "</style>\n",
       "<table border=\"1\" class=\"dataframe\">\n",
       "  <thead>\n",
       "    <tr style=\"text-align: right;\">\n",
       "      <th></th>\n",
       "      <th>metrics</th>\n",
       "      <th>Score</th>\n",
       "    </tr>\n",
       "  </thead>\n",
       "  <tbody>\n",
       "    <tr>\n",
       "      <th>0</th>\n",
       "      <td>F1</td>\n",
       "      <td>0.403397</td>\n",
       "    </tr>\n",
       "    <tr>\n",
       "      <th>1</th>\n",
       "      <td>accuracy</td>\n",
       "      <td>0.628307</td>\n",
       "    </tr>\n",
       "    <tr>\n",
       "      <th>2</th>\n",
       "      <td>precision</td>\n",
       "      <td>0.288316</td>\n",
       "    </tr>\n",
       "    <tr>\n",
       "      <th>3</th>\n",
       "      <td>recall</td>\n",
       "      <td>0.671378</td>\n",
       "    </tr>\n",
       "    <tr>\n",
       "      <th>4</th>\n",
       "      <td>specificity</td>\n",
       "      <td>0.618389</td>\n",
       "    </tr>\n",
       "  </tbody>\n",
       "</table>\n",
       "</div>"
      ],
      "text/plain": [
       "       metrics     Score\n",
       "0           F1  0.403397\n",
       "1     accuracy  0.628307\n",
       "2    precision  0.288316\n",
       "3       recall  0.671378\n",
       "4  specificity  0.618389"
      ]
     },
     "execution_count": 110,
     "metadata": {},
     "output_type": "execute_result"
    }
   ],
   "source": [
    "results[1]   ## this returns metrics with best F1 threshold, the AUROC is same as the above"
   ]
  },
  {
   "cell_type": "code",
   "execution_count": 111,
   "metadata": {},
   "outputs": [
    {
     "data": {
      "text/plain": [
       "0.44194482997619383"
      ]
     },
     "execution_count": 111,
     "metadata": {},
     "output_type": "execute_result"
    }
   ],
   "source": [
    "results[2]  ## this returns the threshold with best F1"
   ]
  },
  {
   "cell_type": "code",
   "execution_count": 50,
   "metadata": {},
   "outputs": [
    {
     "data": {
      "text/plain": [
       "0.8229642015879468"
      ]
     },
     "execution_count": 50,
     "metadata": {},
     "output_type": "execute_result"
    }
   ],
   "source": [
    "clf_model=RandomForestClassifier(class_weight='balanced',n_estimators=500,max_leaf_nodes=50,criterion='entropy',max_depth=30,random_state=100)\n",
    "# training set\n",
    "AUROC_Tain_prob (clf_model,X_train_transformed,y_train)  ## return the training set AUROC score"
   ]
  },
  {
   "cell_type": "markdown",
   "metadata": {},
   "source": [
    "### Random Forest Tree AUROC curve"
   ]
  },
  {
   "cell_type": "code",
   "execution_count": 77,
   "metadata": {},
   "outputs": [
    {
     "data": {
      "image/png": "[encoded data removed]",
      "text/plain": [
       "<Figure size 432x288 with 1 Axes>"
      ]
     },
     "metadata": {
      "needs_background": "light"
     },
     "output_type": "display_data"
    }
   ],
   "source": [
    "model=RandomForestClassifier(class_weight='balanced',n_estimators=500,max_leaf_nodes=50,criterion='entropy',max_depth=30,random_state=100) # RF\n",
    "drawAUROC(model,'RF_exp_1.csv')"
   ]
  },
  {
   "cell_type": "markdown",
   "metadata": {},
   "source": [
    "### Random Forest Tree calibration plots without normalzied"
   ]
  },
  {
   "cell_type": "code",
   "execution_count": 87,
   "metadata": {},
   "outputs": [
    {
     "data": {
      "image/png": "[encoded data removed]",
      "text/plain": [
       "<Figure size 432x288 with 1 Axes>"
      ]
     },
     "metadata": {
      "needs_background": "light"
     },
     "output_type": "display_data"
    }
   ],
   "source": [
    "model=RandomForestClassifier(class_weight='balanced',n_estimators=500,max_leaf_nodes=50,criterion='entropy',max_depth=30,random_state=100) # RF\n",
    "calibPlots(model,'RF_exp_1_cal.csv')"
   ]
  },
  {
   "cell_type": "markdown",
   "metadata": {},
   "source": [
    "### Random Forest Tree calibration plots with normalzied"
   ]
  },
  {
   "cell_type": "code",
   "execution_count": 92,
   "metadata": {},
   "outputs": [
    {
     "data": {
      "image/png": "[encoded data removed]",
      "text/plain": [
       "<Figure size 432x288 with 1 Axes>"
      ]
     },
     "metadata": {
      "needs_background": "light"
     },
     "output_type": "display_data"
    }
   ],
   "source": [
    "model=RandomForestClassifier(class_weight='balanced',n_estimators=500,max_leaf_nodes=50,criterion='entropy',max_depth=30,random_state=100)\n",
    "calibPlots_normalized(model,'RF_exp_1_NorCal.csv')"
   ]
  },
  {
   "cell_type": "code",
   "execution_count": null,
   "metadata": {},
   "outputs": [],
   "source": []
  },
  {
   "cell_type": "markdown",
   "metadata": {},
   "source": [
    "# tuning hyperparameters for linearSVC based on \"roc_auc\""
   ]
  },
  {
   "cell_type": "code",
   "execution_count": 41,
   "metadata": {},
   "outputs": [
    {
     "name": "stdout",
     "output_type": "stream",
     "text": [
      "The parameters of the best model are: \n",
      "{'loss': 'squared_hinge', 'C': 0.001}\n",
      "             precision    recall  f1-score   support\n",
      "\n",
      "          0       0.86      0.76      0.81      1229\n",
      "          1       0.30      0.45      0.36       283\n",
      "\n",
      "avg / total       0.75      0.70      0.72      1512\n",
      "\n"
     ]
    }
   ],
   "source": [
    "parameters={'loss':('hinge','squared_hinge'),'C':[0.00001,0.0001,0.001,0.01,0.05,0.075]}\n",
    "model = LinearSVC(class_weight='balanced',penalty='l2',random_state=100)\n",
    "clf = GridSearchCV(model, parameters,scoring='roc_auc', cv=5)\n",
    "clf.fit(X_train_transformed, y_train)\n",
    "print('The parameters of the best model are: ')\n",
    "print(clf.best_params_)\n",
    "y_pred = clf.predict(X_test_transformed)\n",
    "print(classification_report(y_test, y_pred))"
   ]
  },
  {
   "cell_type": "code",
   "execution_count": 43,
   "metadata": {},
   "outputs": [
    {
     "name": "stdout",
     "output_type": "stream",
     "text": [
      "The parameters of the best model are: \n",
      "{'C': 0.1}\n",
      "             precision    recall  f1-score   support\n",
      "\n",
      "          0       0.87      0.75      0.80      1229\n",
      "          1       0.32      0.51      0.39       283\n",
      "\n",
      "avg / total       0.77      0.70      0.73      1512\n",
      "\n"
     ]
    }
   ],
   "source": [
    "parameters={'C':[0.001,0.01,0.1,0.3,0.5,1,2]}\n",
    "model = LinearSVC(class_weight='balanced',penalty='l1',loss='squared_hinge',dual=False,random_state=100)\n",
    "clf = GridSearchCV(model, parameters,scoring='roc_auc',cv=5)\n",
    "clf.fit(X_train_transformed, y_train)\n",
    "print('The parameters of the best model are: ')\n",
    "print(clf.best_params_)\n",
    "y_pred = clf.predict(X_test_transformed)\n",
    "print(classification_report(y_test, y_pred))"
   ]
  },
  {
   "cell_type": "code",
   "execution_count": 67,
   "metadata": {},
   "outputs": [],
   "source": [
    "clf_model=LinearSVC(class_weight='balanced',penalty='l1',loss='squared_hinge',C=0.1,dual=False,random_state=100)\n",
    "results=metrics_m_pre(clf_model,X_train_transformed,X_test_transformed,y_train,y_test)"
   ]
  },
  {
   "cell_type": "code",
   "execution_count": 113,
   "metadata": {},
   "outputs": [
    {
     "data": {
      "text/html": [
       "<div>\n",
       "<style scoped>\n",
       "    .dataframe tbody tr th:only-of-type {\n",
       "        vertical-align: middle;\n",
       "    }\n",
       "\n",
       "    .dataframe tbody tr th {\n",
       "        vertical-align: top;\n",
       "    }\n",
       "\n",
       "    .dataframe thead th {\n",
       "        text-align: right;\n",
       "    }\n",
       "</style>\n",
       "<table border=\"1\" class=\"dataframe\">\n",
       "  <thead>\n",
       "    <tr style=\"text-align: right;\">\n",
       "      <th></th>\n",
       "      <th>metrics</th>\n",
       "      <th>Score</th>\n",
       "    </tr>\n",
       "  </thead>\n",
       "  <tbody>\n",
       "    <tr>\n",
       "      <th>0</th>\n",
       "      <td>AUROC</td>\n",
       "      <td>0.628298</td>\n",
       "    </tr>\n",
       "    <tr>\n",
       "      <th>1</th>\n",
       "      <td>F1</td>\n",
       "      <td>0.390773</td>\n",
       "    </tr>\n",
       "    <tr>\n",
       "      <th>2</th>\n",
       "      <td>accuracy</td>\n",
       "      <td>0.703042</td>\n",
       "    </tr>\n",
       "    <tr>\n",
       "      <th>3</th>\n",
       "      <td>precision</td>\n",
       "      <td>0.317181</td>\n",
       "    </tr>\n",
       "    <tr>\n",
       "      <th>4</th>\n",
       "      <td>recall</td>\n",
       "      <td>0.508834</td>\n",
       "    </tr>\n",
       "    <tr>\n",
       "      <th>5</th>\n",
       "      <td>specificity</td>\n",
       "      <td>0.747762</td>\n",
       "    </tr>\n",
       "  </tbody>\n",
       "</table>\n",
       "</div>"
      ],
      "text/plain": [
       "       metrics     Score\n",
       "0        AUROC  0.628298\n",
       "1           F1  0.390773\n",
       "2     accuracy  0.703042\n",
       "3    precision  0.317181\n",
       "4       recall  0.508834\n",
       "5  specificity  0.747762"
      ]
     },
     "execution_count": 113,
     "metadata": {},
     "output_type": "execute_result"
    }
   ],
   "source": [
    "results[0] ## this returns metrics with default threshold (0.5) for all metrics"
   ]
  },
  {
   "cell_type": "code",
   "execution_count": 68,
   "metadata": {},
   "outputs": [
    {
     "data": {
      "text/html": [
       "<div>\n",
       "<style scoped>\n",
       "    .dataframe tbody tr th:only-of-type {\n",
       "        vertical-align: middle;\n",
       "    }\n",
       "\n",
       "    .dataframe tbody tr th {\n",
       "        vertical-align: top;\n",
       "    }\n",
       "\n",
       "    .dataframe thead th {\n",
       "        text-align: right;\n",
       "    }\n",
       "</style>\n",
       "<table border=\"1\" class=\"dataframe\">\n",
       "  <thead>\n",
       "    <tr style=\"text-align: right;\">\n",
       "      <th></th>\n",
       "      <th>metrics</th>\n",
       "      <th>Score</th>\n",
       "    </tr>\n",
       "  </thead>\n",
       "  <tbody>\n",
       "    <tr>\n",
       "      <th>0</th>\n",
       "      <td>accuracy</td>\n",
       "      <td>0.736312</td>\n",
       "    </tr>\n",
       "    <tr>\n",
       "      <th>1</th>\n",
       "      <td>precision</td>\n",
       "      <td>0.361248</td>\n",
       "    </tr>\n",
       "    <tr>\n",
       "      <th>2</th>\n",
       "      <td>recall</td>\n",
       "      <td>0.508083</td>\n",
       "    </tr>\n",
       "    <tr>\n",
       "      <th>3</th>\n",
       "      <td>F1</td>\n",
       "      <td>0.422265</td>\n",
       "    </tr>\n",
       "    <tr>\n",
       "      <th>4</th>\n",
       "      <td>specificity</td>\n",
       "      <td>0.789730</td>\n",
       "    </tr>\n",
       "    <tr>\n",
       "      <th>5</th>\n",
       "      <td>AUROC</td>\n",
       "      <td>0.648906</td>\n",
       "    </tr>\n",
       "  </tbody>\n",
       "</table>\n",
       "</div>"
      ],
      "text/plain": [
       "       metrics     Score\n",
       "0     accuracy  0.736312\n",
       "1    precision  0.361248\n",
       "2       recall  0.508083\n",
       "3           F1  0.422265\n",
       "4  specificity  0.789730\n",
       "5        AUROC  0.648906"
      ]
     },
     "execution_count": 68,
     "metadata": {},
     "output_type": "execute_result"
    }
   ],
   "source": [
    "results[0] ## this returns metrics with default threshold (0.5) for all metrics"
   ]
  },
  {
   "cell_type": "code",
   "execution_count": 114,
   "metadata": {},
   "outputs": [
    {
     "data": {
      "text/html": [
       "<div>\n",
       "<style scoped>\n",
       "    .dataframe tbody tr th:only-of-type {\n",
       "        vertical-align: middle;\n",
       "    }\n",
       "\n",
       "    .dataframe tbody tr th {\n",
       "        vertical-align: top;\n",
       "    }\n",
       "\n",
       "    .dataframe thead th {\n",
       "        text-align: right;\n",
       "    }\n",
       "</style>\n",
       "<table border=\"1\" class=\"dataframe\">\n",
       "  <thead>\n",
       "    <tr style=\"text-align: right;\">\n",
       "      <th></th>\n",
       "      <th>metrics</th>\n",
       "      <th>Score</th>\n",
       "    </tr>\n",
       "  </thead>\n",
       "  <tbody>\n",
       "    <tr>\n",
       "      <th>0</th>\n",
       "      <td>F1</td>\n",
       "      <td>0.390773</td>\n",
       "    </tr>\n",
       "    <tr>\n",
       "      <th>1</th>\n",
       "      <td>accuracy</td>\n",
       "      <td>0.703042</td>\n",
       "    </tr>\n",
       "    <tr>\n",
       "      <th>2</th>\n",
       "      <td>precision</td>\n",
       "      <td>0.317181</td>\n",
       "    </tr>\n",
       "    <tr>\n",
       "      <th>3</th>\n",
       "      <td>recall</td>\n",
       "      <td>0.508834</td>\n",
       "    </tr>\n",
       "    <tr>\n",
       "      <th>4</th>\n",
       "      <td>specificity</td>\n",
       "      <td>0.747762</td>\n",
       "    </tr>\n",
       "  </tbody>\n",
       "</table>\n",
       "</div>"
      ],
      "text/plain": [
       "       metrics     Score\n",
       "0           F1  0.390773\n",
       "1     accuracy  0.703042\n",
       "2    precision  0.317181\n",
       "3       recall  0.508834\n",
       "4  specificity  0.747762"
      ]
     },
     "execution_count": 114,
     "metadata": {},
     "output_type": "execute_result"
    }
   ],
   "source": [
    "results[1]   ## this returns metrics with best F1 threshold, the AUROC is same as the above"
   ]
  },
  {
   "cell_type": "code",
   "execution_count": 115,
   "metadata": {},
   "outputs": [
    {
     "data": {
      "text/plain": [
       "0"
      ]
     },
     "execution_count": 115,
     "metadata": {},
     "output_type": "execute_result"
    }
   ],
   "source": [
    "results[2]  ## this returns the threshold with best F1"
   ]
  },
  {
   "cell_type": "code",
   "execution_count": 88,
   "metadata": {},
   "outputs": [
    {
     "data": {
      "text/plain": [
       "0.6610974558212831"
      ]
     },
     "execution_count": 88,
     "metadata": {},
     "output_type": "execute_result"
    }
   ],
   "source": [
    "\n",
    "# training set\n",
    "Model = LinearSVC(class_weight='balanced',penalty='l1',loss='squared_hinge',C=0.1,dual=False,random_state=100).fit(X_train_transformed, y_train)\n",
    "prediction=Model.predict(X_train_transformed)\n",
    "# prediction_prob=Model.predict_proba(X_train_transformed)\n",
    "# prediction_prob=prediction_prob[:,1]\n",
    "\n",
    "\n",
    "fpr, tpr, tresholds = roc_curve(y_train, prediction)\n",
    "roc_auc = sklearn.metrics.auc(fpr,tpr) # get auroc score \n",
    "roc_auc"
   ]
  },
  {
   "cell_type": "markdown",
   "metadata": {},
   "source": [
    "# tuning hyperparameters for Decision Tree based on \"roc_auc\""
   ]
  },
  {
   "cell_type": "code",
   "execution_count": 44,
   "metadata": {},
   "outputs": [
    {
     "name": "stdout",
     "output_type": "stream",
     "text": [
      "The parameters of the best model are: \n",
      "{'max_leaf_nodes': 6, 'criterion': 'gini', 'max_depth': None}\n",
      "             precision    recall  f1-score   support\n",
      "\n",
      "          0       0.88      0.58      0.70      1229\n",
      "          1       0.27      0.66      0.38       283\n",
      "\n",
      "avg / total       0.77      0.60      0.64      1512\n",
      "\n"
     ]
    }
   ],
   "source": [
    "parameters={'criterion':('gini','entropy'),'max_depth':[None,1,2,3,4,5,6,7,8,9,50,500,1000,5000], 'max_leaf_nodes':[None,2,3,5,6,7,8,9,10,100,200,300,500]}\n",
    "model = DecisionTreeClassifier(class_weight='balanced',random_state=100)\n",
    "clf = GridSearchCV(model, parameters,scoring='roc_auc',cv=5)\n",
    "clf.fit(X_train_transformed, y_train)\n",
    "print('The parameters of the best model are: ')\n",
    "\n",
    "print(clf.best_params_)\n",
    "y_pred = clf.predict(X_test_transformed)\n",
    "print(classification_report(y_test, y_pred))"
   ]
  },
  {
   "cell_type": "code",
   "execution_count": 69,
   "metadata": {},
   "outputs": [],
   "source": [
    "clf_model=DecisionTreeClassifier(class_weight='balanced',max_leaf_nodes=6,criterion='gini',max_depth=None,random_state=100)\n",
    "results=metrics_m_prob(clf_model,X_train_transformed,X_test_transformed,y_train,y_test)"
   ]
  },
  {
   "cell_type": "code",
   "execution_count": 117,
   "metadata": {},
   "outputs": [
    {
     "data": {
      "text/html": [
       "<div>\n",
       "<style scoped>\n",
       "    .dataframe tbody tr th:only-of-type {\n",
       "        vertical-align: middle;\n",
       "    }\n",
       "\n",
       "    .dataframe tbody tr th {\n",
       "        vertical-align: top;\n",
       "    }\n",
       "\n",
       "    .dataframe thead th {\n",
       "        text-align: right;\n",
       "    }\n",
       "</style>\n",
       "<table border=\"1\" class=\"dataframe\">\n",
       "  <thead>\n",
       "    <tr style=\"text-align: right;\">\n",
       "      <th></th>\n",
       "      <th>metrics</th>\n",
       "      <th>Score</th>\n",
       "    </tr>\n",
       "  </thead>\n",
       "  <tbody>\n",
       "    <tr>\n",
       "      <th>0</th>\n",
       "      <td>AUROC</td>\n",
       "      <td>0.650591</td>\n",
       "    </tr>\n",
       "    <tr>\n",
       "      <th>1</th>\n",
       "      <td>F1</td>\n",
       "      <td>0.378433</td>\n",
       "    </tr>\n",
       "    <tr>\n",
       "      <th>2</th>\n",
       "      <td>accuracy</td>\n",
       "      <td>0.595899</td>\n",
       "    </tr>\n",
       "    <tr>\n",
       "      <th>3</th>\n",
       "      <td>precision</td>\n",
       "      <td>0.265714</td>\n",
       "    </tr>\n",
       "    <tr>\n",
       "      <th>4</th>\n",
       "      <td>recall</td>\n",
       "      <td>0.657244</td>\n",
       "    </tr>\n",
       "    <tr>\n",
       "      <th>5</th>\n",
       "      <td>specificity</td>\n",
       "      <td>0.581774</td>\n",
       "    </tr>\n",
       "  </tbody>\n",
       "</table>\n",
       "</div>"
      ],
      "text/plain": [
       "       metrics     Score\n",
       "0        AUROC  0.650591\n",
       "1           F1  0.378433\n",
       "2     accuracy  0.595899\n",
       "3    precision  0.265714\n",
       "4       recall  0.657244\n",
       "5  specificity  0.581774"
      ]
     },
     "execution_count": 117,
     "metadata": {},
     "output_type": "execute_result"
    }
   ],
   "source": [
    "results[0]"
   ]
  },
  {
   "cell_type": "code",
   "execution_count": 70,
   "metadata": {},
   "outputs": [
    {
     "data": {
      "text/html": [
       "<div>\n",
       "<style scoped>\n",
       "    .dataframe tbody tr th:only-of-type {\n",
       "        vertical-align: middle;\n",
       "    }\n",
       "\n",
       "    .dataframe tbody tr th {\n",
       "        vertical-align: top;\n",
       "    }\n",
       "\n",
       "    .dataframe thead th {\n",
       "        text-align: right;\n",
       "    }\n",
       "</style>\n",
       "<table border=\"1\" class=\"dataframe\">\n",
       "  <thead>\n",
       "    <tr style=\"text-align: right;\">\n",
       "      <th></th>\n",
       "      <th>metrics</th>\n",
       "      <th>Score</th>\n",
       "    </tr>\n",
       "  </thead>\n",
       "  <tbody>\n",
       "    <tr>\n",
       "      <th>0</th>\n",
       "      <td>accuracy</td>\n",
       "      <td>0.639509</td>\n",
       "    </tr>\n",
       "    <tr>\n",
       "      <th>1</th>\n",
       "      <td>precision</td>\n",
       "      <td>0.294304</td>\n",
       "    </tr>\n",
       "    <tr>\n",
       "      <th>2</th>\n",
       "      <td>recall</td>\n",
       "      <td>0.644342</td>\n",
       "    </tr>\n",
       "    <tr>\n",
       "      <th>3</th>\n",
       "      <td>F1</td>\n",
       "      <td>0.404055</td>\n",
       "    </tr>\n",
       "    <tr>\n",
       "      <th>4</th>\n",
       "      <td>specificity</td>\n",
       "      <td>0.638378</td>\n",
       "    </tr>\n",
       "    <tr>\n",
       "      <th>5</th>\n",
       "      <td>AUROC</td>\n",
       "      <td>0.678195</td>\n",
       "    </tr>\n",
       "  </tbody>\n",
       "</table>\n",
       "</div>"
      ],
      "text/plain": [
       "       metrics     Score\n",
       "0     accuracy  0.639509\n",
       "1    precision  0.294304\n",
       "2       recall  0.644342\n",
       "3           F1  0.404055\n",
       "4  specificity  0.638378\n",
       "5        AUROC  0.678195"
      ]
     },
     "execution_count": 70,
     "metadata": {},
     "output_type": "execute_result"
    }
   ],
   "source": [
    "results[0]"
   ]
  },
  {
   "cell_type": "code",
   "execution_count": 118,
   "metadata": {},
   "outputs": [
    {
     "data": {
      "text/html": [
       "<div>\n",
       "<style scoped>\n",
       "    .dataframe tbody tr th:only-of-type {\n",
       "        vertical-align: middle;\n",
       "    }\n",
       "\n",
       "    .dataframe tbody tr th {\n",
       "        vertical-align: top;\n",
       "    }\n",
       "\n",
       "    .dataframe thead th {\n",
       "        text-align: right;\n",
       "    }\n",
       "</style>\n",
       "<table border=\"1\" class=\"dataframe\">\n",
       "  <thead>\n",
       "    <tr style=\"text-align: right;\">\n",
       "      <th></th>\n",
       "      <th>metrics</th>\n",
       "      <th>Score</th>\n",
       "    </tr>\n",
       "  </thead>\n",
       "  <tbody>\n",
       "    <tr>\n",
       "      <th>0</th>\n",
       "      <td>F1</td>\n",
       "      <td>0.378433</td>\n",
       "    </tr>\n",
       "    <tr>\n",
       "      <th>1</th>\n",
       "      <td>accuracy</td>\n",
       "      <td>0.595899</td>\n",
       "    </tr>\n",
       "    <tr>\n",
       "      <th>2</th>\n",
       "      <td>precision</td>\n",
       "      <td>0.265714</td>\n",
       "    </tr>\n",
       "    <tr>\n",
       "      <th>3</th>\n",
       "      <td>recall</td>\n",
       "      <td>0.657244</td>\n",
       "    </tr>\n",
       "    <tr>\n",
       "      <th>4</th>\n",
       "      <td>specificity</td>\n",
       "      <td>0.581774</td>\n",
       "    </tr>\n",
       "  </tbody>\n",
       "</table>\n",
       "</div>"
      ],
      "text/plain": [
       "       metrics     Score\n",
       "0           F1  0.378433\n",
       "1     accuracy  0.595899\n",
       "2    precision  0.265714\n",
       "3       recall  0.657244\n",
       "4  specificity  0.581774"
      ]
     },
     "execution_count": 118,
     "metadata": {},
     "output_type": "execute_result"
    }
   ],
   "source": [
    "results[1]"
   ]
  },
  {
   "cell_type": "code",
   "execution_count": 119,
   "metadata": {},
   "outputs": [
    {
     "data": {
      "text/plain": [
       "0.3836530398595806"
      ]
     },
     "execution_count": 119,
     "metadata": {},
     "output_type": "execute_result"
    }
   ],
   "source": [
    "results[2]"
   ]
  },
  {
   "cell_type": "code",
   "execution_count": 89,
   "metadata": {},
   "outputs": [
    {
     "data": {
      "text/plain": [
       "0.69397881951278"
      ]
     },
     "execution_count": 89,
     "metadata": {},
     "output_type": "execute_result"
    }
   ],
   "source": [
    "\n",
    "# training set\n",
    "Model = DecisionTreeClassifier(class_weight='balanced',max_leaf_nodes=6,criterion='gini',max_depth=None,random_state=100).fit(X_train_transformed, y_train)\n",
    "# prediction=Model.predict(X_train_transformed)\n",
    "prediction_prob=Model.predict_proba(X_train_transformed)\n",
    "prediction_prob=prediction_prob[:,1]\n",
    "\n",
    "\n",
    "fpr, tpr, tresholds = roc_curve(y_train, prediction_prob)\n",
    "roc_auc = sklearn.metrics.auc(fpr,tpr) # get auroc score \n",
    "roc_auc"
   ]
  },
  {
   "cell_type": "markdown",
   "metadata": {},
   "source": [
    "### Decision Tree AUROC curve"
   ]
  },
  {
   "cell_type": "code",
   "execution_count": 76,
   "metadata": {},
   "outputs": [
    {
     "data": {
      "image/png": "[encoded data removed]",
      "text/plain": [
       "<Figure size 432x288 with 1 Axes>"
      ]
     },
     "metadata": {
      "needs_background": "light"
     },
     "output_type": "display_data"
    }
   ],
   "source": [
    "model=DecisionTreeClassifier(class_weight='balanced',max_leaf_nodes=6,criterion='gini',max_depth=None,random_state=100) # DT\n",
    "drawAUROC(model,'DT_exp_1.csv')"
   ]
  },
  {
   "cell_type": "markdown",
   "metadata": {},
   "source": [
    "### Deccision Tree calibration plots without normalzied"
   ]
  },
  {
   "cell_type": "code",
   "execution_count": 88,
   "metadata": {},
   "outputs": [
    {
     "data": {
      "image/png": "[encoded data removed]",
      "text/plain": [
       "<Figure size 432x288 with 1 Axes>"
      ]
     },
     "metadata": {
      "needs_background": "light"
     },
     "output_type": "display_data"
    }
   ],
   "source": [
    "model=DecisionTreeClassifier(class_weight='balanced',max_leaf_nodes=6,criterion='gini',max_depth=None,random_state=100)\n",
    "calibPlots(model,'DT_exp_1_cal.csv')"
   ]
  },
  {
   "cell_type": "markdown",
   "metadata": {},
   "source": [
    "### Deccision Tree calibration plots with normalzied"
   ]
  },
  {
   "cell_type": "code",
   "execution_count": 93,
   "metadata": {},
   "outputs": [
    {
     "data": {
      "image/png": "[encoded data removed]",
      "text/plain": [
       "<Figure size 432x288 with 1 Axes>"
      ]
     },
     "metadata": {
      "needs_background": "light"
     },
     "output_type": "display_data"
    }
   ],
   "source": [
    "model=DecisionTreeClassifier(class_weight='balanced',max_leaf_nodes=6,criterion='gini',max_depth=None,random_state=100)\n",
    "calibPlots_normalized(model,'DT_exp_1_NorCal.csv')"
   ]
  },
  {
   "cell_type": "code",
   "execution_count": null,
   "metadata": {},
   "outputs": [],
   "source": []
  },
  {
   "cell_type": "markdown",
   "metadata": {},
   "source": [
    "# tuning hyperparameters for SGD Classifier based on \"roc_auc\""
   ]
  },
  {
   "cell_type": "code",
   "execution_count": 260,
   "metadata": {},
   "outputs": [],
   "source": [
    "# import lightgbm as lgb"
   ]
  },
  {
   "cell_type": "code",
   "execution_count": 69,
   "metadata": {},
   "outputs": [
    {
     "name": "stdout",
     "output_type": "stream",
     "text": [
      "The parameters of the best model are: \n",
      "{'penalty': 'l2', 'alpha': 0.01, 'learning_rate': 'optimal', 'eta0': 0.001, 'loss': 'log'}\n",
      "             precision    recall  f1-score   support\n",
      "\n",
      "          0       0.85      0.83      0.84      1229\n",
      "          1       0.32      0.35      0.34       283\n",
      "\n",
      "avg / total       0.75      0.74      0.75      1512\n",
      "\n"
     ]
    }
   ],
   "source": [
    "### SGBClassifier\n",
    "\n",
    "parameters={'learning_rate':('constant','optimal','invscaling'),'eta0':(0.001,0.0001,0.00001),'loss':('hinge','log','modified_huber','huber','squared_loss','squared_hinge','perceptron','epsilon_insensitive','squared_epsilon_insensitive'),'penalty':('l2', 'l1', 'elasticnet'),'alpha':(0.0001,0.001,0.01,0.1)}\n",
    "model = SGDClassifier(class_weight='balanced',random_state=100)\n",
    "clf = GridSearchCV(model, parameters, n_jobs=-1,scoring='roc_auc', cv=5)\n",
    "clf.fit(X_train_transformed, y_train)\n",
    "print('The parameters of the best model are: ')\n",
    "print(clf.best_params_)\n",
    "y_pred = clf.predict(X_test_transformed)\n",
    "print(classification_report(y_test, y_pred))"
   ]
  },
  {
   "cell_type": "code",
   "execution_count": 71,
   "metadata": {},
   "outputs": [],
   "source": [
    "clf_model=SGDClassifier(penalty='l2',class_weight='balanced',alpha=0.01,loss='log',learning_rate='optimal',eta0=0.001,random_state=100)\n",
    "results=metrics_m_prob(clf_model,X_train_transformed,X_test_transformed,y_train,y_test)"
   ]
  },
  {
   "cell_type": "code",
   "execution_count": 121,
   "metadata": {
    "scrolled": true
   },
   "outputs": [
    {
     "data": {
      "text/html": [
       "<div>\n",
       "<style scoped>\n",
       "    .dataframe tbody tr th:only-of-type {\n",
       "        vertical-align: middle;\n",
       "    }\n",
       "\n",
       "    .dataframe tbody tr th {\n",
       "        vertical-align: top;\n",
       "    }\n",
       "\n",
       "    .dataframe thead th {\n",
       "        text-align: right;\n",
       "    }\n",
       "</style>\n",
       "<table border=\"1\" class=\"dataframe\">\n",
       "  <thead>\n",
       "    <tr style=\"text-align: right;\">\n",
       "      <th></th>\n",
       "      <th>metrics</th>\n",
       "      <th>Score</th>\n",
       "    </tr>\n",
       "  </thead>\n",
       "  <tbody>\n",
       "    <tr>\n",
       "      <th>0</th>\n",
       "      <td>AUROC</td>\n",
       "      <td>0.678514</td>\n",
       "    </tr>\n",
       "    <tr>\n",
       "      <th>1</th>\n",
       "      <td>F1</td>\n",
       "      <td>0.335043</td>\n",
       "    </tr>\n",
       "    <tr>\n",
       "      <th>2</th>\n",
       "      <td>accuracy</td>\n",
       "      <td>0.742725</td>\n",
       "    </tr>\n",
       "    <tr>\n",
       "      <th>3</th>\n",
       "      <td>precision</td>\n",
       "      <td>0.324503</td>\n",
       "    </tr>\n",
       "    <tr>\n",
       "      <th>4</th>\n",
       "      <td>recall</td>\n",
       "      <td>0.346290</td>\n",
       "    </tr>\n",
       "    <tr>\n",
       "      <th>5</th>\n",
       "      <td>specificity</td>\n",
       "      <td>0.834011</td>\n",
       "    </tr>\n",
       "  </tbody>\n",
       "</table>\n",
       "</div>"
      ],
      "text/plain": [
       "       metrics     Score\n",
       "0        AUROC  0.678514\n",
       "1           F1  0.335043\n",
       "2     accuracy  0.742725\n",
       "3    precision  0.324503\n",
       "4       recall  0.346290\n",
       "5  specificity  0.834011"
      ]
     },
     "execution_count": 121,
     "metadata": {},
     "output_type": "execute_result"
    }
   ],
   "source": [
    "results[0]"
   ]
  },
  {
   "cell_type": "code",
   "execution_count": 72,
   "metadata": {
    "scrolled": true
   },
   "outputs": [
    {
     "data": {
      "text/html": [
       "<div>\n",
       "<style scoped>\n",
       "    .dataframe tbody tr th:only-of-type {\n",
       "        vertical-align: middle;\n",
       "    }\n",
       "\n",
       "    .dataframe tbody tr th {\n",
       "        vertical-align: top;\n",
       "    }\n",
       "\n",
       "    .dataframe thead th {\n",
       "        text-align: right;\n",
       "    }\n",
       "</style>\n",
       "<table border=\"1\" class=\"dataframe\">\n",
       "  <thead>\n",
       "    <tr style=\"text-align: right;\">\n",
       "      <th></th>\n",
       "      <th>metrics</th>\n",
       "      <th>Score</th>\n",
       "    </tr>\n",
       "  </thead>\n",
       "  <tbody>\n",
       "    <tr>\n",
       "      <th>0</th>\n",
       "      <td>accuracy</td>\n",
       "      <td>0.749452</td>\n",
       "    </tr>\n",
       "    <tr>\n",
       "      <th>1</th>\n",
       "      <td>precision</td>\n",
       "      <td>0.375671</td>\n",
       "    </tr>\n",
       "    <tr>\n",
       "      <th>2</th>\n",
       "      <td>recall</td>\n",
       "      <td>0.484988</td>\n",
       "    </tr>\n",
       "    <tr>\n",
       "      <th>3</th>\n",
       "      <td>F1</td>\n",
       "      <td>0.423387</td>\n",
       "    </tr>\n",
       "    <tr>\n",
       "      <th>4</th>\n",
       "      <td>specificity</td>\n",
       "      <td>0.811351</td>\n",
       "    </tr>\n",
       "    <tr>\n",
       "      <th>5</th>\n",
       "      <td>AUROC</td>\n",
       "      <td>0.712432</td>\n",
       "    </tr>\n",
       "  </tbody>\n",
       "</table>\n",
       "</div>"
      ],
      "text/plain": [
       "       metrics     Score\n",
       "0     accuracy  0.749452\n",
       "1    precision  0.375671\n",
       "2       recall  0.484988\n",
       "3           F1  0.423387\n",
       "4  specificity  0.811351\n",
       "5        AUROC  0.712432"
      ]
     },
     "execution_count": 72,
     "metadata": {},
     "output_type": "execute_result"
    }
   ],
   "source": [
    "results[0]"
   ]
  },
  {
   "cell_type": "code",
   "execution_count": 122,
   "metadata": {},
   "outputs": [
    {
     "data": {
      "text/html": [
       "<div>\n",
       "<style scoped>\n",
       "    .dataframe tbody tr th:only-of-type {\n",
       "        vertical-align: middle;\n",
       "    }\n",
       "\n",
       "    .dataframe tbody tr th {\n",
       "        vertical-align: top;\n",
       "    }\n",
       "\n",
       "    .dataframe thead th {\n",
       "        text-align: right;\n",
       "    }\n",
       "</style>\n",
       "<table border=\"1\" class=\"dataframe\">\n",
       "  <thead>\n",
       "    <tr style=\"text-align: right;\">\n",
       "      <th></th>\n",
       "      <th>metrics</th>\n",
       "      <th>Score</th>\n",
       "    </tr>\n",
       "  </thead>\n",
       "  <tbody>\n",
       "    <tr>\n",
       "      <th>0</th>\n",
       "      <td>F1</td>\n",
       "      <td>0.395274</td>\n",
       "    </tr>\n",
       "    <tr>\n",
       "      <th>1</th>\n",
       "      <td>accuracy</td>\n",
       "      <td>0.627646</td>\n",
       "    </tr>\n",
       "    <tr>\n",
       "      <th>2</th>\n",
       "      <td>precision</td>\n",
       "      <td>0.283951</td>\n",
       "    </tr>\n",
       "    <tr>\n",
       "      <th>3</th>\n",
       "      <td>recall</td>\n",
       "      <td>0.650177</td>\n",
       "    </tr>\n",
       "    <tr>\n",
       "      <th>4</th>\n",
       "      <td>specificity</td>\n",
       "      <td>0.622457</td>\n",
       "    </tr>\n",
       "  </tbody>\n",
       "</table>\n",
       "</div>"
      ],
      "text/plain": [
       "       metrics     Score\n",
       "0           F1  0.395274\n",
       "1     accuracy  0.627646\n",
       "2    precision  0.283951\n",
       "3       recall  0.650177\n",
       "4  specificity  0.622457"
      ]
     },
     "execution_count": 122,
     "metadata": {},
     "output_type": "execute_result"
    }
   ],
   "source": [
    "results[1]"
   ]
  },
  {
   "cell_type": "code",
   "execution_count": 123,
   "metadata": {},
   "outputs": [
    {
     "data": {
      "text/plain": [
       "0.393795540474873"
      ]
     },
     "execution_count": 123,
     "metadata": {},
     "output_type": "execute_result"
    }
   ],
   "source": [
    "results[2]"
   ]
  },
  {
   "cell_type": "code",
   "execution_count": 124,
   "metadata": {},
   "outputs": [
    {
     "data": {
      "text/plain": [
       "0.7077054535105816"
      ]
     },
     "execution_count": 124,
     "metadata": {},
     "output_type": "execute_result"
    }
   ],
   "source": [
    "\n",
    "# training set\n",
    "Model = SGDClassifier(penalty='l2',class_weight='balanced',alpha=0.01,loss='log',learning_rate='optimal',eta0=0.001,random_state=100).fit(X_train_transformed, y_train)\n",
    "# prediction=Model.predict(X_train_transformed)\n",
    "prediction_prob=Model.predict_proba(X_train_transformed)\n",
    "prediction_prob=prediction_prob[:,1]\n",
    "\n",
    "\n",
    "fpr, tpr, tresholds = roc_curve(y_train, prediction_prob)\n",
    "roc_auc = sklearn.metrics.auc(fpr,tpr) # get auroc score \n",
    "roc_auc"
   ]
  },
  {
   "cell_type": "markdown",
   "metadata": {},
   "source": [
    "# tuning hyperparameters for GrandientBoosting based on \"roc_auc\""
   ]
  },
  {
   "cell_type": "code",
   "execution_count": 76,
   "metadata": {},
   "outputs": [
    {
     "name": "stdout",
     "output_type": "stream",
     "text": [
      "The parameters of the best model are: \n",
      "{'min_samples_split': 350, 'subsample': 0.3, 'learning_rate': 0.01, 'max_depth': 11}\n",
      "             precision    recall  f1-score   support\n",
      "\n",
      "          0       0.81      1.00      0.90      1229\n",
      "          1       0.00      0.00      0.00       283\n",
      "\n",
      "avg / total       0.66      0.81      0.73      1512\n",
      "\n"
     ]
    }
   ],
   "source": [
    "### \n",
    "parameters={'max_depth':range(5,16,2), 'min_samples_split':range(50,500,50),'learning_rate':(0.01,1e-05,0.1),'subsample':(0.1,0.2,0.3,0.5,0.8,0.9)}\n",
    "model = GradientBoostingClassifier(random_state=100)\n",
    "clf = GridSearchCV(model, parameters, n_jobs=-1,scoring='roc_auc', cv=5)\n",
    "clf.fit(X_train_transformed, y_train)\n",
    "print('The parameters of the best model are: ')\n",
    "print(clf.best_params_)\n",
    "y_pred = clf.predict(X_test_transformed)\n",
    "print(classification_report(y_test, y_pred))"
   ]
  },
  {
   "cell_type": "code",
   "execution_count": 73,
   "metadata": {},
   "outputs": [],
   "source": [
    "clf_model = GradientBoostingClassifier(min_samples_split=350,subsample=0.3,learning_rate=0.01,max_depth=11,random_state=100)\n",
    "results=metrics_m_prob(clf_model,X_train_transformed,X_test_transformed,y_train,y_test)"
   ]
  },
  {
   "cell_type": "code",
   "execution_count": 126,
   "metadata": {},
   "outputs": [
    {
     "data": {
      "text/html": [
       "<div>\n",
       "<style scoped>\n",
       "    .dataframe tbody tr th:only-of-type {\n",
       "        vertical-align: middle;\n",
       "    }\n",
       "\n",
       "    .dataframe tbody tr th {\n",
       "        vertical-align: top;\n",
       "    }\n",
       "\n",
       "    .dataframe thead th {\n",
       "        text-align: right;\n",
       "    }\n",
       "</style>\n",
       "<table border=\"1\" class=\"dataframe\">\n",
       "  <thead>\n",
       "    <tr style=\"text-align: right;\">\n",
       "      <th></th>\n",
       "      <th>metrics</th>\n",
       "      <th>Score</th>\n",
       "    </tr>\n",
       "  </thead>\n",
       "  <tbody>\n",
       "    <tr>\n",
       "      <th>0</th>\n",
       "      <td>AUROC</td>\n",
       "      <td>0.681678</td>\n",
       "    </tr>\n",
       "    <tr>\n",
       "      <th>1</th>\n",
       "      <td>F1</td>\n",
       "      <td>0.000000</td>\n",
       "    </tr>\n",
       "    <tr>\n",
       "      <th>2</th>\n",
       "      <td>accuracy</td>\n",
       "      <td>0.812831</td>\n",
       "    </tr>\n",
       "    <tr>\n",
       "      <th>3</th>\n",
       "      <td>precision</td>\n",
       "      <td>0.000000</td>\n",
       "    </tr>\n",
       "    <tr>\n",
       "      <th>4</th>\n",
       "      <td>recall</td>\n",
       "      <td>0.000000</td>\n",
       "    </tr>\n",
       "    <tr>\n",
       "      <th>5</th>\n",
       "      <td>specificity</td>\n",
       "      <td>1.000000</td>\n",
       "    </tr>\n",
       "  </tbody>\n",
       "</table>\n",
       "</div>"
      ],
      "text/plain": [
       "       metrics     Score\n",
       "0        AUROC  0.681678\n",
       "1           F1  0.000000\n",
       "2     accuracy  0.812831\n",
       "3    precision  0.000000\n",
       "4       recall  0.000000\n",
       "5  specificity  1.000000"
      ]
     },
     "execution_count": 126,
     "metadata": {},
     "output_type": "execute_result"
    }
   ],
   "source": [
    "results[0]"
   ]
  },
  {
   "cell_type": "code",
   "execution_count": 74,
   "metadata": {},
   "outputs": [
    {
     "data": {
      "text/html": [
       "<div>\n",
       "<style scoped>\n",
       "    .dataframe tbody tr th:only-of-type {\n",
       "        vertical-align: middle;\n",
       "    }\n",
       "\n",
       "    .dataframe tbody tr th {\n",
       "        vertical-align: top;\n",
       "    }\n",
       "\n",
       "    .dataframe thead th {\n",
       "        text-align: right;\n",
       "    }\n",
       "</style>\n",
       "<table border=\"1\" class=\"dataframe\">\n",
       "  <thead>\n",
       "    <tr style=\"text-align: right;\">\n",
       "      <th></th>\n",
       "      <th>metrics</th>\n",
       "      <th>Score</th>\n",
       "    </tr>\n",
       "  </thead>\n",
       "  <tbody>\n",
       "    <tr>\n",
       "      <th>0</th>\n",
       "      <td>accuracy</td>\n",
       "      <td>0.810337</td>\n",
       "    </tr>\n",
       "    <tr>\n",
       "      <th>1</th>\n",
       "      <td>precision</td>\n",
       "      <td>0.000000</td>\n",
       "    </tr>\n",
       "    <tr>\n",
       "      <th>2</th>\n",
       "      <td>recall</td>\n",
       "      <td>0.000000</td>\n",
       "    </tr>\n",
       "    <tr>\n",
       "      <th>3</th>\n",
       "      <td>F1</td>\n",
       "      <td>0.000000</td>\n",
       "    </tr>\n",
       "    <tr>\n",
       "      <th>4</th>\n",
       "      <td>specificity</td>\n",
       "      <td>1.000000</td>\n",
       "    </tr>\n",
       "    <tr>\n",
       "      <th>5</th>\n",
       "      <td>AUROC</td>\n",
       "      <td>0.725875</td>\n",
       "    </tr>\n",
       "  </tbody>\n",
       "</table>\n",
       "</div>"
      ],
      "text/plain": [
       "       metrics     Score\n",
       "0     accuracy  0.810337\n",
       "1    precision  0.000000\n",
       "2       recall  0.000000\n",
       "3           F1  0.000000\n",
       "4  specificity  1.000000\n",
       "5        AUROC  0.725875"
      ]
     },
     "execution_count": 74,
     "metadata": {},
     "output_type": "execute_result"
    }
   ],
   "source": [
    "results[0]"
   ]
  },
  {
   "cell_type": "code",
   "execution_count": 127,
   "metadata": {},
   "outputs": [
    {
     "data": {
      "text/html": [
       "<div>\n",
       "<style scoped>\n",
       "    .dataframe tbody tr th:only-of-type {\n",
       "        vertical-align: middle;\n",
       "    }\n",
       "\n",
       "    .dataframe tbody tr th {\n",
       "        vertical-align: top;\n",
       "    }\n",
       "\n",
       "    .dataframe thead th {\n",
       "        text-align: right;\n",
       "    }\n",
       "</style>\n",
       "<table border=\"1\" class=\"dataframe\">\n",
       "  <thead>\n",
       "    <tr style=\"text-align: right;\">\n",
       "      <th></th>\n",
       "      <th>metrics</th>\n",
       "      <th>Score</th>\n",
       "    </tr>\n",
       "  </thead>\n",
       "  <tbody>\n",
       "    <tr>\n",
       "      <th>0</th>\n",
       "      <td>F1</td>\n",
       "      <td>0.411367</td>\n",
       "    </tr>\n",
       "    <tr>\n",
       "      <th>1</th>\n",
       "      <td>accuracy</td>\n",
       "      <td>0.712302</td>\n",
       "    </tr>\n",
       "    <tr>\n",
       "      <th>2</th>\n",
       "      <td>precision</td>\n",
       "      <td>0.333333</td>\n",
       "    </tr>\n",
       "    <tr>\n",
       "      <th>3</th>\n",
       "      <td>recall</td>\n",
       "      <td>0.537102</td>\n",
       "    </tr>\n",
       "    <tr>\n",
       "      <th>4</th>\n",
       "      <td>specificity</td>\n",
       "      <td>0.752644</td>\n",
       "    </tr>\n",
       "  </tbody>\n",
       "</table>\n",
       "</div>"
      ],
      "text/plain": [
       "       metrics     Score\n",
       "0           F1  0.411367\n",
       "1     accuracy  0.712302\n",
       "2    precision  0.333333\n",
       "3       recall  0.537102\n",
       "4  specificity  0.752644"
      ]
     },
     "execution_count": 127,
     "metadata": {},
     "output_type": "execute_result"
    }
   ],
   "source": [
    "results[1]"
   ]
  },
  {
   "cell_type": "code",
   "execution_count": 128,
   "metadata": {},
   "outputs": [
    {
     "data": {
      "text/plain": [
       "0.18469036042692943"
      ]
     },
     "execution_count": 128,
     "metadata": {},
     "output_type": "execute_result"
    }
   ],
   "source": [
    "results[2]"
   ]
  },
  {
   "cell_type": "code",
   "execution_count": 129,
   "metadata": {},
   "outputs": [
    {
     "data": {
      "text/plain": [
       "0.770367069293202"
      ]
     },
     "execution_count": 129,
     "metadata": {},
     "output_type": "execute_result"
    }
   ],
   "source": [
    "\n",
    "# training set\n",
    "Model = GradientBoostingClassifier(min_samples_split=350,subsample=0.3,learning_rate=0.01,max_depth=11,random_state=100).fit(X_train_transformed, y_train)\n",
    "# prediction=Model.predict(X_train_transformed)\n",
    "prediction_prob=Model.predict_proba(X_train_transformed)\n",
    "prediction_prob=prediction_prob[:,1]\n",
    "\n",
    "\n",
    "fpr, tpr, tresholds = roc_curve(y_train, prediction_prob)\n",
    "roc_auc = sklearn.metrics.auc(fpr,tpr) # get auroc score \n",
    "roc_auc"
   ]
  },
  {
   "cell_type": "markdown",
   "metadata": {},
   "source": [
    "### AUROC plots for GrandientBoostingClassifier (GBDT)"
   ]
  },
  {
   "cell_type": "code",
   "execution_count": 95,
   "metadata": {},
   "outputs": [
    {
     "data": {
      "image/png": "[encoded data removed]",
      "text/plain": [
       "<Figure size 432x288 with 1 Axes>"
      ]
     },
     "metadata": {
      "needs_background": "light"
     },
     "output_type": "display_data"
    }
   ],
   "source": [
    "model=GradientBoostingClassifier(min_samples_split=350,subsample=0.3,learning_rate=0.01,max_depth=11,random_state=100) # RF\n",
    "drawAUROC(model,'GBDT_exp_1.csv')"
   ]
  },
  {
   "cell_type": "markdown",
   "metadata": {},
   "source": [
    "### GrandientBoostingClassifier (GBDT) calibration plots without normalzied"
   ]
  },
  {
   "cell_type": "code",
   "execution_count": 96,
   "metadata": {},
   "outputs": [
    {
     "data": {
      "image/png": "[encoded data removed]",
      "text/plain": [
       "<Figure size 432x288 with 1 Axes>"
      ]
     },
     "metadata": {
      "needs_background": "light"
     },
     "output_type": "display_data"
    }
   ],
   "source": [
    "model=GradientBoostingClassifier(min_samples_split=350,subsample=0.3,learning_rate=0.01,max_depth=11,random_state=100)\n",
    "calibPlots(model,'GBDT_exp_1_cal.csv')"
   ]
  },
  {
   "cell_type": "markdown",
   "metadata": {},
   "source": [
    "### GrandientBoostingClassifier (GBDT) calibration plots with normalzied"
   ]
  },
  {
   "cell_type": "code",
   "execution_count": 97,
   "metadata": {},
   "outputs": [
    {
     "data": {
      "image/png": "[encoded data removed]",
      "text/plain": [
       "<Figure size 432x288 with 1 Axes>"
      ]
     },
     "metadata": {
      "needs_background": "light"
     },
     "output_type": "display_data"
    }
   ],
   "source": [
    "model=GradientBoostingClassifier(min_samples_split=350,subsample=0.3,learning_rate=0.01,max_depth=11,random_state=100)\n",
    "calibPlots_normalized(model,'GBDT__exp_1_NorCal.csv')"
   ]
  },
  {
   "cell_type": "markdown",
   "metadata": {},
   "source": [
    "# tuning hyperparameters for MultinomialNB based on \"roc_auc\""
   ]
  },
  {
   "cell_type": "code",
   "execution_count": 81,
   "metadata": {},
   "outputs": [],
   "source": [
    "from sklearn.naive_bayes import MultinomialNB"
   ]
  },
  {
   "cell_type": "code",
   "execution_count": 278,
   "metadata": {},
   "outputs": [
    {
     "name": "stdout",
     "output_type": "stream",
     "text": [
      "The parameters of the best model are: \n",
      "{'alpha': 0.3, 'fit_prior': True}\n",
      "             precision    recall  f1-score   support\n",
      "\n",
      "          0       0.83      0.90      0.86      1229\n",
      "          1       0.31      0.18      0.23       283\n",
      "\n",
      "avg / total       0.73      0.77      0.75      1512\n",
      "\n"
     ]
    }
   ],
   "source": [
    "\n",
    "parameters={'fit_prior':[True,False],'alpha':[0.3,0.4,0.5,0.6,0.7,0.8,1,1.2,1.5]}\n",
    "model = MultinomialNB()\n",
    "clf = GridSearchCV(model, parameters,n_jobs=-1,scoring='roc_auc', cv=5)\n",
    "clf.fit(X_train_transformed, y_train)\n",
    "print('The parameters of the best model are: ')\n",
    "print(clf.best_params_)\n",
    "y_pred = clf.predict(X_test_transformed)\n",
    "print(classification_report(y_test, y_pred))\n"
   ]
  },
  {
   "cell_type": "code",
   "execution_count": 130,
   "metadata": {},
   "outputs": [],
   "source": [
    "clf_model = MultinomialNB(alpha=0.3,fit_prior=True)\n",
    "results=metrics_m_prob(clf_model,X_train_transformed,X_test_transformed,y_train,y_test)"
   ]
  },
  {
   "cell_type": "code",
   "execution_count": 131,
   "metadata": {},
   "outputs": [
    {
     "data": {
      "text/html": [
       "<div>\n",
       "<style scoped>\n",
       "    .dataframe tbody tr th:only-of-type {\n",
       "        vertical-align: middle;\n",
       "    }\n",
       "\n",
       "    .dataframe tbody tr th {\n",
       "        vertical-align: top;\n",
       "    }\n",
       "\n",
       "    .dataframe thead th {\n",
       "        text-align: right;\n",
       "    }\n",
       "</style>\n",
       "<table border=\"1\" class=\"dataframe\">\n",
       "  <thead>\n",
       "    <tr style=\"text-align: right;\">\n",
       "      <th></th>\n",
       "      <th>metrics</th>\n",
       "      <th>Score</th>\n",
       "    </tr>\n",
       "  </thead>\n",
       "  <tbody>\n",
       "    <tr>\n",
       "      <th>0</th>\n",
       "      <td>AUROC</td>\n",
       "      <td>0.652172</td>\n",
       "    </tr>\n",
       "    <tr>\n",
       "      <th>1</th>\n",
       "      <td>F1</td>\n",
       "      <td>0.230088</td>\n",
       "    </tr>\n",
       "    <tr>\n",
       "      <th>2</th>\n",
       "      <td>accuracy</td>\n",
       "      <td>0.769841</td>\n",
       "    </tr>\n",
       "    <tr>\n",
       "      <th>3</th>\n",
       "      <td>precision</td>\n",
       "      <td>0.307692</td>\n",
       "    </tr>\n",
       "    <tr>\n",
       "      <th>4</th>\n",
       "      <td>recall</td>\n",
       "      <td>0.183746</td>\n",
       "    </tr>\n",
       "    <tr>\n",
       "      <th>5</th>\n",
       "      <td>specificity</td>\n",
       "      <td>0.904801</td>\n",
       "    </tr>\n",
       "  </tbody>\n",
       "</table>\n",
       "</div>"
      ],
      "text/plain": [
       "       metrics     Score\n",
       "0        AUROC  0.652172\n",
       "1           F1  0.230088\n",
       "2     accuracy  0.769841\n",
       "3    precision  0.307692\n",
       "4       recall  0.183746\n",
       "5  specificity  0.904801"
      ]
     },
     "execution_count": 131,
     "metadata": {},
     "output_type": "execute_result"
    }
   ],
   "source": [
    "results[0]"
   ]
  },
  {
   "cell_type": "code",
   "execution_count": 132,
   "metadata": {},
   "outputs": [
    {
     "data": {
      "text/html": [
       "<div>\n",
       "<style scoped>\n",
       "    .dataframe tbody tr th:only-of-type {\n",
       "        vertical-align: middle;\n",
       "    }\n",
       "\n",
       "    .dataframe tbody tr th {\n",
       "        vertical-align: top;\n",
       "    }\n",
       "\n",
       "    .dataframe thead th {\n",
       "        text-align: right;\n",
       "    }\n",
       "</style>\n",
       "<table border=\"1\" class=\"dataframe\">\n",
       "  <thead>\n",
       "    <tr style=\"text-align: right;\">\n",
       "      <th></th>\n",
       "      <th>metrics</th>\n",
       "      <th>Score</th>\n",
       "    </tr>\n",
       "  </thead>\n",
       "  <tbody>\n",
       "    <tr>\n",
       "      <th>0</th>\n",
       "      <td>F1</td>\n",
       "      <td>0.378431</td>\n",
       "    </tr>\n",
       "    <tr>\n",
       "      <th>1</th>\n",
       "      <td>accuracy</td>\n",
       "      <td>0.580688</td>\n",
       "    </tr>\n",
       "    <tr>\n",
       "      <th>2</th>\n",
       "      <td>precision</td>\n",
       "      <td>0.261872</td>\n",
       "    </tr>\n",
       "    <tr>\n",
       "      <th>3</th>\n",
       "      <td>recall</td>\n",
       "      <td>0.681979</td>\n",
       "    </tr>\n",
       "    <tr>\n",
       "      <th>4</th>\n",
       "      <td>specificity</td>\n",
       "      <td>0.557364</td>\n",
       "    </tr>\n",
       "  </tbody>\n",
       "</table>\n",
       "</div>"
      ],
      "text/plain": [
       "       metrics     Score\n",
       "0           F1  0.378431\n",
       "1     accuracy  0.580688\n",
       "2    precision  0.261872\n",
       "3       recall  0.681979\n",
       "4  specificity  0.557364"
      ]
     },
     "execution_count": 132,
     "metadata": {},
     "output_type": "execute_result"
    }
   ],
   "source": [
    "results[1]"
   ]
  },
  {
   "cell_type": "code",
   "execution_count": 133,
   "metadata": {},
   "outputs": [
    {
     "data": {
      "text/plain": [
       "0.0729877973913016"
      ]
     },
     "execution_count": 133,
     "metadata": {},
     "output_type": "execute_result"
    }
   ],
   "source": [
    "results[2]"
   ]
  },
  {
   "cell_type": "code",
   "execution_count": 97,
   "metadata": {},
   "outputs": [
    {
     "data": {
      "text/plain": [
       "0.6802970214320403"
      ]
     },
     "execution_count": 97,
     "metadata": {},
     "output_type": "execute_result"
    }
   ],
   "source": [
    "\n",
    "# training set\n",
    "Model =  MultinomialNB(alpha=0.3,fit_prior=True).fit(X_train_transformed, y_train)\n",
    "# prediction=Model.predict(X_train_transformed)\n",
    "prediction_prob=Model.predict_proba(X_train_transformed)\n",
    "prediction_prob=prediction_prob[:,1]\n",
    "\n",
    "\n",
    "fpr, tpr, tresholds = roc_curve(y_train, prediction_prob)\n",
    "roc_auc = sklearn.metrics.auc(fpr,tpr) # get auroc score \n",
    "roc_auc"
   ]
  },
  {
   "cell_type": "markdown",
   "metadata": {},
   "source": [
    "# GaussianNB"
   ]
  },
  {
   "cell_type": "code",
   "execution_count": 134,
   "metadata": {},
   "outputs": [],
   "source": [
    "clf_model=GaussianNB()\n",
    "results=metrics_m_prob(clf_model,X_train_transformed,X_test_transformed,y_train,y_test)"
   ]
  },
  {
   "cell_type": "code",
   "execution_count": 135,
   "metadata": {},
   "outputs": [
    {
     "data": {
      "text/html": [
       "<div>\n",
       "<style scoped>\n",
       "    .dataframe tbody tr th:only-of-type {\n",
       "        vertical-align: middle;\n",
       "    }\n",
       "\n",
       "    .dataframe tbody tr th {\n",
       "        vertical-align: top;\n",
       "    }\n",
       "\n",
       "    .dataframe thead th {\n",
       "        text-align: right;\n",
       "    }\n",
       "</style>\n",
       "<table border=\"1\" class=\"dataframe\">\n",
       "  <thead>\n",
       "    <tr style=\"text-align: right;\">\n",
       "      <th></th>\n",
       "      <th>metrics</th>\n",
       "      <th>Score</th>\n",
       "    </tr>\n",
       "  </thead>\n",
       "  <tbody>\n",
       "    <tr>\n",
       "      <th>0</th>\n",
       "      <td>AUROC</td>\n",
       "      <td>0.665598</td>\n",
       "    </tr>\n",
       "    <tr>\n",
       "      <th>1</th>\n",
       "      <td>F1</td>\n",
       "      <td>0.344828</td>\n",
       "    </tr>\n",
       "    <tr>\n",
       "      <th>2</th>\n",
       "      <td>accuracy</td>\n",
       "      <td>0.346561</td>\n",
       "    </tr>\n",
       "    <tr>\n",
       "      <th>3</th>\n",
       "      <td>precision</td>\n",
       "      <td>0.212245</td>\n",
       "    </tr>\n",
       "    <tr>\n",
       "      <th>4</th>\n",
       "      <td>recall</td>\n",
       "      <td>0.918728</td>\n",
       "    </tr>\n",
       "    <tr>\n",
       "      <th>5</th>\n",
       "      <td>specificity</td>\n",
       "      <td>0.214809</td>\n",
       "    </tr>\n",
       "  </tbody>\n",
       "</table>\n",
       "</div>"
      ],
      "text/plain": [
       "       metrics     Score\n",
       "0        AUROC  0.665598\n",
       "1           F1  0.344828\n",
       "2     accuracy  0.346561\n",
       "3    precision  0.212245\n",
       "4       recall  0.918728\n",
       "5  specificity  0.214809"
      ]
     },
     "execution_count": 135,
     "metadata": {},
     "output_type": "execute_result"
    }
   ],
   "source": [
    "results[0]"
   ]
  },
  {
   "cell_type": "code",
   "execution_count": 136,
   "metadata": {},
   "outputs": [
    {
     "data": {
      "text/html": [
       "<div>\n",
       "<style scoped>\n",
       "    .dataframe tbody tr th:only-of-type {\n",
       "        vertical-align: middle;\n",
       "    }\n",
       "\n",
       "    .dataframe tbody tr th {\n",
       "        vertical-align: top;\n",
       "    }\n",
       "\n",
       "    .dataframe thead th {\n",
       "        text-align: right;\n",
       "    }\n",
       "</style>\n",
       "<table border=\"1\" class=\"dataframe\">\n",
       "  <thead>\n",
       "    <tr style=\"text-align: right;\">\n",
       "      <th></th>\n",
       "      <th>metrics</th>\n",
       "      <th>Score</th>\n",
       "    </tr>\n",
       "  </thead>\n",
       "  <tbody>\n",
       "    <tr>\n",
       "      <th>0</th>\n",
       "      <td>F1</td>\n",
       "      <td>0.390625</td>\n",
       "    </tr>\n",
       "    <tr>\n",
       "      <th>1</th>\n",
       "      <td>accuracy</td>\n",
       "      <td>0.587302</td>\n",
       "    </tr>\n",
       "    <tr>\n",
       "      <th>2</th>\n",
       "      <td>precision</td>\n",
       "      <td>0.269906</td>\n",
       "    </tr>\n",
       "    <tr>\n",
       "      <th>3</th>\n",
       "      <td>recall</td>\n",
       "      <td>0.706714</td>\n",
       "    </tr>\n",
       "    <tr>\n",
       "      <th>4</th>\n",
       "      <td>specificity</td>\n",
       "      <td>0.559805</td>\n",
       "    </tr>\n",
       "  </tbody>\n",
       "</table>\n",
       "</div>"
      ],
      "text/plain": [
       "       metrics     Score\n",
       "0           F1  0.390625\n",
       "1     accuracy  0.587302\n",
       "2    precision  0.269906\n",
       "3       recall  0.706714\n",
       "4  specificity  0.559805"
      ]
     },
     "execution_count": 136,
     "metadata": {},
     "output_type": "execute_result"
    }
   ],
   "source": [
    "results[1]"
   ]
  },
  {
   "cell_type": "code",
   "execution_count": 137,
   "metadata": {},
   "outputs": [
    {
     "data": {
      "text/plain": [
       "0.999319781217388"
      ]
     },
     "execution_count": 137,
     "metadata": {},
     "output_type": "execute_result"
    }
   ],
   "source": [
    "results[2]"
   ]
  },
  {
   "cell_type": "code",
   "execution_count": 101,
   "metadata": {},
   "outputs": [
    {
     "data": {
      "text/plain": [
       "0.676881586455211"
      ]
     },
     "execution_count": 101,
     "metadata": {},
     "output_type": "execute_result"
    }
   ],
   "source": [
    "\n",
    "# training set\n",
    "Model =  GaussianNB().fit(X_train_transformed, y_train)\n",
    "# prediction=Model.predict(X_train_transformed)\n",
    "prediction_prob=Model.predict_proba(X_train_transformed)\n",
    "prediction_prob=prediction_prob[:,1]\n",
    "\n",
    "\n",
    "fpr, tpr, tresholds = roc_curve(y_train, prediction_prob)\n",
    "roc_auc = sklearn.metrics.auc(fpr,tpr) # get auroc score \n",
    "roc_auc"
   ]
  },
  {
   "cell_type": "code",
   "execution_count": null,
   "metadata": {},
   "outputs": [],
   "source": []
  }
 ],
 "metadata": {
  "kernelspec": {
   "display_name": "Python 3",
   "language": "python",
   "name": "python3"
  },
  "language_info": {
   "codemirror_mode": {
    "name": "ipython",
    "version": 3
   },
   "file_extension": ".py",
   "mimetype": "text/x-python",
   "name": "python",
   "nbconvert_exporter": "python",
   "pygments_lexer": "ipython3",
   "version": "3.7.3"
  }
 },
 "nbformat": 4,
 "nbformat_minor": 2
}
