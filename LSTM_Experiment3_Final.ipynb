{
 "cells": [
  {
   "cell_type": "code",
   "execution_count": 1,
   "metadata": {},
   "outputs": [
    {
     "name": "stdout",
     "output_type": "stream",
     "text": [
      "('python version: ', '2.7.15 |Anaconda, Inc.| (default, Dec 14 2018, 19:04:19) \\n[GCC 7.3.0]')\n",
      "('pandas version: ', u'0.23.4')\n",
      "('numpy version: ', '1.15.4')\n",
      "('scipy version: ', '1.1.0')\n",
      "('sklearn version: ', '0.19.2')\n"
     ]
    },
    {
     "name": "stderr",
     "output_type": "stream",
     "text": [
      "Using TensorFlow backend.\n"
     ]
    },
    {
     "name": "stdout",
     "output_type": "stream",
     "text": [
      "('keras version: ', '2.1.6')\n",
      "('keras backend: ', u'tensorflow')\n",
      "('tensorflow version: ', '1.10.0')\n",
      "('theano version: ', '0.8.2')\n"
     ]
    }
   ],
   "source": [
    "import sys\n",
    "print(\"python version: \", sys.version)\n",
    "\n",
    "import pandas as pd\n",
    "print(\"pandas version: \", pd.__version__)\n",
    "\n",
    "import numpy as np\n",
    "print('numpy version: ', np.__version__)\n",
    "\n",
    "import scipy as sp\n",
    "print('scipy version: ', sp.__version__)\n",
    "\n",
    "import sklearn as skl\n",
    "print('sklearn version: ', skl.__version__)\n",
    "\n",
    "import matplotlib.pyplot as plt\n",
    "\n",
    "import seaborn as sns\n",
    "\n",
    "import keras as ks\n",
    "print('keras version: ', ks.__version__)\n",
    "print('keras backend: ', ks.backend.backend())\n",
    "\n",
    "import tensorflow as tf\n",
    "print('tensorflow version: ', tf.__version__)\n",
    "\n",
    "import theano as th\n",
    "print('theano version: ', th.__version__)\n",
    "\n",
    "import warnings\n",
    "warnings.filterwarnings('ignore')\n",
    "\n",
    "\n",
    "from keras import backend as K\n",
    "from sklearn.metrics import confusion_matrix, precision_score, recall_score\n",
    "from sklearn.metrics import roc_curve, auc, f1_score, accuracy_score, precision_recall_curve\n",
    "\n",
    "import os\n",
    "import random"
   ]
  },
  {
   "cell_type": "code",
   "execution_count": 2,
   "metadata": {},
   "outputs": [],
   "source": [
    "def set_keras_backend(backend):\n",
    "    if K.backend() != backend:\n",
    "        os.environ['KERAS_BACKEND'] = backend\n",
    "        reload(K)\n",
    "        assert K.backend() == backend\n",
    "\n",
    "set_keras_backend(\"tensorflow\")"
   ]
  },
  {
   "cell_type": "code",
   "execution_count": 3,
   "metadata": {},
   "outputs": [
    {
     "name": "stdout",
     "output_type": "stream",
     "text": [
      "(7584, 208)\n"
     ]
    }
   ],
   "source": [
    "excel_file = r'PATH_TO_DATASET'\n",
    "df = pd.DataFrame(pd.read_csv(excel_file, sep='\\t'))\n",
    "print(df.shape)"
   ]
  },
  {
   "cell_type": "code",
   "execution_count": 4,
   "metadata": {},
   "outputs": [],
   "source": [
    "# Get atc codes\n",
    "atc_list = []\n",
    "for i in range(1, 6):\n",
    "    atc_list.append(df.groupby('atc_%d' % i)['min_effective_dose_%d' % i].first())\n",
    "atc_codes = pd.concat(atc_list)\n",
    "atc_codes = atc_codes[~atc_codes.index.duplicated()].index.tolist()\n",
    "\n",
    "# Set sdd=0 to NA\n",
    "for i in range(1, 6):\n",
    "    df.loc[df['psych_sdd_%d' % i] == 0, 'psych_sdd_%d' % i] = np.nan"
   ]
  },
  {
   "cell_type": "markdown",
   "metadata": {},
   "source": [
    "# Missing value means not relevant\n",
    "### One Hot Encoding (All zero stands for NA)\n",
    "* \"Mds-fall-2-6-months-to-admission\", \"Mds-fall-last-month-to-admission\", \"mds-pain-last-five-days\" (Y/N/U/NA)\n",
    "* \"recent-start-other-fall-risk-rx\" (Y/N/NA)\n",
    "\n",
    "### Label Encoding & Sin, Cos Transform (NA: (0, 0))\n",
    "* \"mds-cognitive-scale\": \n",
    "  - 'Independent': 0, \n",
    "  - 'Modified Independence': 1, \n",
    "  - 'Moderately Impaired': 2, \n",
    "  - 'Severely Impaired': 3\n",
    "* \"mds-pain-freq-last-five-days\": \n",
    "  - 'Continuous': 4, \n",
    "  - 'Frequent': 3, \n",
    "  - 'Occasional': 2, \n",
    "  - 'Rare': 1, \n",
    "  - 'Unable to respond': 0,\n",
    "* \"mds-pain-intensity\": \n",
    "  - 'None': 0, \n",
    "  - 'Mild': 1, \n",
    "  - 'Moderate': 2, \n",
    "  - 'Severe': 3, \n",
    "  - 'Very severe, horrible': 4\n",
    "* \"Psychotropic-X\": Number\n",
    "* (Added) \"Psychotropic-X-Period\": Number\n",
    "\n",
    "\n",
    "# Drop features\n",
    "\n",
    "* ~~\"Unnamed: 51\"~~, \n",
    "* ~~\"pk-interaction\", \"pk-interaction-type\"~~ \n",
    "* ~~\"object-drug-1\", \"object-drug-1-dose\", \"object-drug-1-effective-dose-increase\", \"object-drug-1-effective-dose\", \"interaction-1-stop-date\"~~, \n",
    "* ~~\"object-drug-2\", \"object-drug-2-dose\", \"object-drug-2-effective-dose-increase\", \"object-drug-2-effective-dose\", \"interaction-2-stop-date\"~~\n",
    "* \"ws-sudden-stop\", \"ws-sudden-stop-drugs\", \"ws-prolonged-psychotropics\", \"mds-toilet-prgm-atmptd\"\n",
    "* \"Blank-1\", \"Deleted-X\" (X from 1 to 12), \"Psychotropic-X-average-daily-dose\", \"Psychotropic-X-Start/End-date\"\n",
    "* \"Entry-discharge-type\"\n",
    "\n",
    "* \"acute_mental_change\", \"aphasia\", \"balance_toileting\", \"balance_turning_around\", \"bipolar\", \"bph\", \n",
    "* \"cam_motor_retardation\", \"cerebralpalsy\", \"cirrhosis\", \"cms-long-stay\", \"comatose\", \"conduct_pain_assmnt\", \n",
    "* \"dysrhythmias\", \"embolisms\", \"facility\", \"hemiplegia/hemiparesis\", \"hepatitis\", \"huntingtons\", \"hyperkalemia\", \n",
    "* \"hypertension\", \"hyperthyroidism\", \"hyponatremia\", \"hypotension\", \"hypothyroidism\", \n",
    "* \"limb_prosthesis_past_7_days\", \"marital-status\", \"mds-conduct-staff-assessment-mental-status\", \"mds-dehydrated\",\n",
    "* \"mds-delirium-scale\", \"mds-excess-weight-loss\", \"mds-long-term-memory-ok\", \n",
    "* \"mds-pressure-ulcer-stage-1\", \"mds-pressure-ulcer-stage-2\", \"mds-pressure-ulcer-stage-3\", \"mds-pressure-ulcer-stage-4\", \n",
    "* \"mds-short-term-memory-ok\", \"mds-staff-assess-pain\", \"multiple-sclerosis\", \"neurogenic-bladder\", \n",
    "* \"obstructive-uropathy\", \"paraplegia\", \"pneumonia\", \"ptsd\", \"pvd\", \"quadriplegia\", \n",
    "* \"renal-failure\", \"schizophrenia\", \"septicemia\", \"stroke\", \"tourettes\", \"traumatic-brain-injury\", \n",
    "* \"tuberculosis\", \"wound\", \"ws-antibiotic-anticoag-coexposure\", \"ws-diuretic-adl\", \"ws-meclizine-psych-coexposure\", \n",
    "* \"ws-meclizine-psych-coexposure\", \"ws-meclizine-psych-coexposure\", \"ws-meclizine-psych-coexposure\", \n",
    "* \"ws-meclizine-psych-coexposure\", \"ws-psychotropic-with-not-ordered-weight-loss\", \"ws-tramadol-antidepressant-coexposure\""
   ]
  },
  {
   "cell_type": "markdown",
   "metadata": {},
   "source": [
    "# Encode features (originally) with no missing values\n",
    "\n",
    "### Date-related Transform\n",
    "\n",
    "* episodePeriod = episode-end-date - episode-start-date\n",
    "* stayPeriod = stay-end-date - stay-start-date\n",
    "\n",
    "### Drop Date-related Features\n",
    "\n",
    "* \"episode-start-date\", \"episode-end-date\", \"stay-start-date\", \"stay-end-date\", \"predictor-date\", \"projected-date\"\n",
    "\n",
    "### Binary Encoding (Y/N)\n",
    "\n",
    "* \"mds-stay-trans-short-to-long\",\n",
    "* \"mds-antianxiety-medication\", \"mds-antidepressant-medication\", \"mds-antipsychotic-medication\", \"mds-antibiotic-medication\",\n",
    "* \"mds-anticoagulant-medication\", \"mds-diuretic-medication\", \"mds-hypnotic-medication\",\n",
    "* \"mds-behavioral-symptoms\", \"mds-behavioral-symptoms-to-others\", \"mds-depression\", \"mds-fever\",\n",
    "* \"mds-impaired-mobility\", \"mds-impaired-transfer\", \"mds-internal-bleeding\", \"mds-malnutrition\", \"mds-no-problem-conditions\",\n",
    "* \"mds-vomiting\", \"mds-impaired-walk-in-room\", \"mds-impaired-walk-in-corridor\", \"mds-impaired-locomot-unit\", \"mds-impaired-locomot-other\",\n",
    "\n",
    "### One Hot Encoding\n",
    "\n",
    "* \"race\", \"gender\", \"mds-bims-summary-ranking\"\n",
    "\n",
    "### Drop Feature\n",
    "* \"PPS-assessment\", \"Federal-assessment\"\n",
    "\n",
    "### Mapping\n",
    "\n",
    "* mds-pain-non-verbal {'None/Mild':0,'Moderate/Severe':1}"
   ]
  },
  {
   "cell_type": "markdown",
   "metadata": {},
   "source": [
    "# Features need imputation\n",
    "### One Hot Encoding\n",
    "\n",
    "1. Binary categories (Yes/No/NA)\n",
    "   * \"uti\", \"mdro\", \"anemia\", \"constipation\", \n",
    "   * \"alzheimers\", \"anxiety\", \"depression\", \"non-alz-dimentia\", \n",
    "   * \"parkinsons\", \"psychosis\", \"seizure\", \"emphysema\", \n",
    "   * \"arthritis\", \"ashd\", \"cancer\", \n",
    "   * \"diabetes\",\"gerd\", \"heart-failure\",\n",
    "   * \"hyperlipidemia\",\n",
    "   * \"osteoporosis\", \"thyroid-disorder\", \n",
    "   * \"transient-ischemic-attack\",\n",
    "\n",
    "   * \"mds-pain-medication\", \"mds-received-pain-tx-non-pharm\", \"mds-received-prn-pain-medication\",\n",
    "   * \"mds-pressure-ulcer-prsnt\", \"conduct_bims\",\n",
    "   * \"cane_or_crutch_past_7_days\", \"walker_past_7_days\", \"wheelchair_past_7_days\", \n",
    "   * \"no_listed_mobility_device\", \n",
    "\n",
    "\n",
    "2. Other categories\n",
    "\n",
    "   * \"mds-entered-from\": \n",
    "     - \"Acute Hospital\", \"Psychiatric Hospital\", \"Another nursing home or swing bed\", \"Hospice\", \"Inpatient rehabilitation facility\"\n",
    "     - \"Community (private home/apt., board/care, assisted living, group home)\",  \"Other\", \n",
    "\n",
    "   * \"balance_while_standing\", \"balance_while_walking\", \"balance_bed_to_chair\"\n",
    "     - \"Steady at all times\", \"able to stabilize without assistance\", \"able to stabilize with assistance\", \"Activity did not occur\"\n",
    "    \n",
    "### Label Encoding\n",
    "* \"mds-urinary-incontinence\"\n",
    "  - \"Always continent\": 0, \n",
    "  - \"Occasionally incontinent\": 1,\n",
    "  - \"Frequently incontinent\": 2,\n",
    "  - \"Always incontinent\": 3,\n",
    "  - \"Catheter - not rated\": (0, 0)\n",
    "\n",
    "\n",
    "* \"cam_inattention\",\n",
    "* \"cam_disorganized_thought\",\n",
    "* \"cam_altered_conc\",\n",
    "  - \"Behavior not present\": 0,\n",
    "  - \"Behavior present, fluctuates\": 1, \n",
    "  - \"Behavior continuously present\": 2, \n",
    "\n",
    "   \n",
    "* \"functlimit_rom_upper\", \n",
    "* \"functlimit_rom_lower\"\n",
    "   - \"No impairment\": 0, \n",
    "   - \"Impairment on one side\": 1, \n",
    "   - \"Impairment on both sides\": 2 \n",
    "\n",
    "\n",
    "* \"does_resident_wander\"\n",
    "   - \"Behavior not exhibited\": 0, \n",
    "   - \"1 to 3 days\": 1, \n",
    "   - \"4 to 6 days\": 2, \n",
    "   - \"occurred daily\": 3,"
   ]
  },
  {
   "cell_type": "markdown",
   "metadata": {},
   "source": [
    "# Features from new dataset\n",
    "* \"atc_X\" (X from 1 to 5) - one hot encoding\n",
    "* \"number_of_behavior_changes\" - keep\n",
    "* \"min_effective_dose_X\" - drop\n",
    "* \"psych_sdd_X\" - sin/cos transform"
   ]
  },
  {
   "cell_type": "code",
   "execution_count": 5,
   "metadata": {},
   "outputs": [],
   "source": [
    "# drop feature\n",
    "def drop_features(df, f):\n",
    "    df.drop(f, axis=1, inplace=True)"
   ]
  },
  {
   "cell_type": "code",
   "execution_count": 6,
   "metadata": {},
   "outputs": [],
   "source": [
    "# one hot encoding\n",
    "def one_hot_encoding(df, features, categories):\n",
    "    for f, c in zip(features, categories):\n",
    "        df[f] = df[f].astype('category', categories=c)\n",
    "    return pd.get_dummies(df, columns=features, prefix=features)"
   ]
  },
  {
   "cell_type": "code",
   "execution_count": 7,
   "metadata": {},
   "outputs": [],
   "source": [
    "# compute date difference\n",
    "def date_diff(start, end):\n",
    "    return (pd.to_datetime(end) - pd.to_datetime(start)) / np.timedelta64(1, 'D')"
   ]
  },
  {
   "cell_type": "code",
   "execution_count": 8,
   "metadata": {},
   "outputs": [],
   "source": [
    "# generate date diff features\n",
    "def generate_period(df, f):\n",
    "    for start, end, period in f:\n",
    "        df[period] = date_diff(df[start], df[end])\n",
    "        df.drop([start, end], axis=1, inplace=True)"
   ]
  },
  {
   "cell_type": "code",
   "execution_count": 9,
   "metadata": {},
   "outputs": [],
   "source": [
    "# label encoding\n",
    "def label_encoding(df, features, dictionaries):\n",
    "    for f, dic in zip(features, dictionaries):\n",
    "        df[f] = df[f].map(dic)"
   ]
  },
  {
   "cell_type": "code",
   "execution_count": 10,
   "metadata": {},
   "outputs": [],
   "source": [
    "# sin&cos transform\n",
    "def col_transform(df, col, mmax, mmin, df_ref=None):\n",
    "    if(mmax <= mmin):\n",
    "        # for test set, if max&min not set, use training set value\n",
    "        if(df_ref is not None): \n",
    "            mmax = df_ref[col].max()\n",
    "            mmin = df_ref[col].max()\n",
    "        else:\n",
    "            mmax = df[col].max()\n",
    "            mmin = df[col].min()\n",
    "    angle = 0.25 * np.pi * (df[col] - mmin) / (mmax - mmin) + 0.125 * np.pi\n",
    "    return (np.cos(angle), np.sin(angle))\n",
    "\n",
    "def df_transform(df, f, df_ref=None):\n",
    "    for col, mmax, mmin in f:\n",
    "        df[col + '_x'], df[col + '_y'] = col_transform(df, col, mmax, mmin, df_ref)\n",
    "        df[col + '_x'].fillna(0, inplace=True)\n",
    "        df[col + '_y'].fillna(0, inplace=True)\n",
    "        df.drop(col, axis=1, inplace=True)"
   ]
  },
  {
   "cell_type": "code",
   "execution_count": 11,
   "metadata": {},
   "outputs": [],
   "source": [
    "# train test split\n",
    "from sklearn.model_selection import GroupShuffleSplit\n",
    "def train_test_split(df, target, groupby, radio, random_state):\n",
    "    train_idx, test_idx = GroupShuffleSplit(train_size=radio, random_state=random_state).split(df, target, df[groupby]).next()\n",
    "    return df.iloc[train_idx], df.iloc[test_idx], target.iloc[train_idx], target.iloc[test_idx]"
   ]
  },
  {
   "cell_type": "code",
   "execution_count": 12,
   "metadata": {},
   "outputs": [],
   "source": [
    "# missing data describe\n",
    "def missing_summary(df):\n",
    "    missing_cnt = df.isna().sum()\n",
    "    missing_data = pd.concat([missing_cnt, missing_cnt/df.shape[0]], axis=1, keys=['count', 'percentage'])\n",
    "    return missing_data[missing_data['percentage'] != 0].sort_values(by='percentage', ascending=False)"
   ]
  },
  {
   "cell_type": "code",
   "execution_count": 13,
   "metadata": {},
   "outputs": [],
   "source": [
    "# Drop features\n",
    "f_drop = [\"Blank-1\", \"ws-sudden-stop\", \"ws-sudden-stop-drugs\", \"ws-prolonged-psychotropics\", \"mds-toilet-prgm-atmptd\"] + \\\n",
    "         ['Deleted-%d' % i for i in range(1, 13)] + ['Psychotropic-%d' % i for i in range(1, 6)] + \\\n",
    "         ['Psychotropic-%d-average-daily-dose' % i for i in range(1, 6)] + [\"Entry-discharge-type\"]\n",
    "\n",
    "f_drop += [\"acute_mental_change\", \"aphasia\", \"balance_toileting\", \"balance_turning_around\", \"bipolar\", \"bph\", \\\n",
    "           \"cam_motor_retardation\", \"cerebralpalsy\", \"cirrhosis\", \"cms-long-stay\", \"comatose\", \"conduct_pain_assmnt\",\\\n",
    "           \"dysrhythmias\", \"embolisms\", \"facility\", \"hemiplegia/hemiparesis\", \"hepatitis\", \"huntingtons\", \"hyperkalemia\",\\\n",
    "           \"hypertension\", \"hyperthyroidism\", \"hyponatremia\", \"hypotension\", \"hypothyroidism\", \\\n",
    "           \"limb_prosthesis_past_7_days\", \"marital-status\", \"mds-conduct-staff-assessment-mental-status\", \\\n",
    "           \"mds-dehydrated\", \"mds-delirium-scale\", \"mds-excess-weight-loss\", \"mds-long-term-memory-ok\", \\\n",
    "           \"mds-pressure-ulcer-stage-1\", \"mds-pressure-ulcer-stage-2\", \"mds-pressure-ulcer-stage-3\", \\\n",
    "           \"mds-pressure-ulcer-stage-4\", \"mds-short-term-memory-ok\", \"mds-staff-assess-pain\", \"multiple-sclerosis\", \\\n",
    "           \"neurogenic-bladder\", \"obstructive-uropathy\", \"paraplegia\", \"pneumonia\", \"ptsd\", \"pvd\", \"quadriplegia\", \\\n",
    "           \"renal-failure\", \"schizophrenia\", \"septicemia\", \"stroke\", \"tourettes\", \"traumatic-brain-injury\", \\\n",
    "           \"tuberculosis\", \"wound\", \"ws-antibiotic-anticoag-coexposure\", \"ws-diuretic-adl\", \\\n",
    "           \"ws-meclizine-psych-coexposure\", \"ws-meclizine-psych-coexposure\", \"ws-meclizine-psych-coexposure\",\\\n",
    "           \"ws-meclizine-psych-coexposure\", \"ws-meclizine-psych-coexposure\", \\\n",
    "           \"ws-psychotropic-with-not-ordered-weight-loss\", \"ws-tramadol-antidepressant-coexposure\"]\n",
    " \n",
    "# Missing value means not relevant\n",
    "f_one_hot = [\"Mds-fall-2-6-months-to-admission\", \"Mds-fall-last-month-to-admission\", \"mds-pain-last-five-days\", \\\n",
    "             \"recent-start-other-fall-risk-rx\"]\n",
    "cate_one_hot = [['Yes', 'No', 'Unable to answer']] * 3 + [['Yes', 'No']]\n",
    "\n",
    "f_period = [(\"Psychotropic-%d-Start-date\" % i, 'Psychotropic-%d-End-date' % i, 'Psychotropic-%d-Period' % i) for i in range(1, 6)]\n",
    "\n",
    "f_label = ['mds-cognitive-scale', 'mds-pain-freq-last-five-days', 'mds-pain-intensity']\n",
    "dic_label = [{'Independent': 0, 'Modified Independence': 1, 'Moderately Impaired': 2, 'Severely Impaired': 3}, \\\n",
    "             {'Continuous': 4, 'Frequent': 3, 'Occasional': 2, 'Rare': 1, 'Unable to respond': 0}, \\\n",
    "             {'None': 0, 'Mild': 1, 'Moderate': 2, 'Severe': 3, 'Very severe, horrible': 4}]\n",
    "\n",
    "f_transform = [('mds-cognitive-scale', 3, 0), ('mds-pain-freq-last-five-days', 4, 0), ('mds-pain-intensity', 4, 0)] + \\\n",
    "              [('Psychotropic-%d-Period' % i, 0, 0) for i in range(1, 6)]"
   ]
  },
  {
   "cell_type": "code",
   "execution_count": 14,
   "metadata": {},
   "outputs": [],
   "source": [
    "# Encode features (originally) with no missing values\n",
    "f_drop += [\"predictor-date\", \"projected-date\", \"PPS-assessment\", \"Federal-assessment\"]\n",
    "\n",
    "f_period += [('episode-start-date', 'episode-end-date', 'episode-period'),\\\n",
    "             ('stay-start-date', 'stay-end-date', 'stay-period')]\n",
    "\n",
    "f_label += [\"mds-stay-trans-short-to-long\", \"mds-antianxiety-medication\", \\\n",
    "            \"mds-antidepressant-medication\", \"mds-antipsychotic-medication\", \"mds-antibiotic-medication\",\n",
    "            \"mds-anticoagulant-medication\", \"mds-diuretic-medication\", \\\n",
    "            \"mds-hypnotic-medication\", \"mds-behavioral-symptoms\", \"mds-behavioral-symptoms-to-others\", \\\n",
    "            \"mds-depression\", \"mds-fever\", \"mds-impaired-mobility\", \"mds-impaired-transfer\", \\\n",
    "            \"mds-internal-bleeding\", \"mds-malnutrition\", \"mds-no-problem-conditions\", \"mds-vomiting\", \\\n",
    "            \"mds-impaired-walk-in-room\", \"mds-impaired-walk-in-corridor\", \"mds-impaired-locomot-unit\", \\\n",
    "            \"mds-impaired-locomot-other\"] + [\"mds-pain-non-verbal\"]\n",
    "dic_label += [{'Yes': 1, 'No': 0}] * 22 + [{'None/Mild':0,'Moderate/Severe':1}]\n",
    "\n",
    "f_one_hot += [\"race\", \"gender\", \"mds-bims-summary-ranking\"]\n",
    "cate_one_hot += [['White', 'Black', 'Other'], \\\n",
    "                 ['Female', 'Male'], ['Intact or Moderately Intact', 'Moderate Impairment']]"
   ]
  },
  {
   "cell_type": "code",
   "execution_count": 15,
   "metadata": {},
   "outputs": [],
   "source": [
    "# Features need imputation\n",
    "f_one_hot += [\"uti\", \"mdro\", \"anemia\", \"constipation\", \"alzheimers\", \"anxiety\", \"depression\", \"non-alz-dimentia\", \\\n",
    "              \"parkinsons\", \"psychosis\", \"seizure\", \"emphysema\", \"arthritis\", \"ashd\", \"cancer\", \"diabetes\", \"gerd\",\\\n",
    "              \"heart-failure\", \"osteoporosis\", \"thyroid-disorder\", \"transient-ischemic-attack\", \"mds-pain-medication\", \\\n",
    "              \"mds-received-pain-tx-non-pharm\", \"mds-received-prn-pain-medication\", \"mds-pressure-ulcer-prsnt\", \\\n",
    "              \"conduct_bims\", \"cane_or_crutch_past_7_days\", \"walker_past_7_days\", \"wheelchair_past_7_days\", \\\n",
    "              \"no_listed_mobility_device\", \"hyperlipidemia\"] + \\\n",
    "              [\"balance_while_standing\", \"balance_while_walking\", \"balance_bed_to_chair\"] + [\"mds-entered-from\"]\n",
    "cate_one_hot += [['Yes', 'No']] * 31 + \\\n",
    "                [[\"Steady at all times\", \"able to stabilize without assistance\", \\\n",
    "                  \"able to stabilize with assistance\", \"Activity did not occur\"]] * 3 + \\\n",
    "                [[\"Acute Hospital\", \"Psychiatric Hospital\", \"Another nursing home or swing bed\", \"Hospice\", \\\n",
    "                  \"Inpatient rehabilitation facility\",\n",
    "                  \"Community (private home/apt., board/care, assisted living, group home)\", \"Other\"]]\n",
    "\n",
    "f_label += [\"mds-urinary-incontinence\", \"functlimit_rom_upper\", \"functlimit_rom_lower\", \"does_resident_wander\"] + \\\n",
    "           [\"cam_inattention\", \"cam_disorganized_thought\", \"cam_altered_conc\"]\n",
    "dic_label += [{\"Always continent\": 0, \"Occasionally incontinent\": 1, \"Frequently incontinent\": 2,\\\n",
    "               \"Always incontinent\": 3, \"Catheter - not rated\": np.nan}] + \\\n",
    "             [{\"No impairment\": 0, \"Impairment on one side\": 1, \"Impairment on both sides\": 2}] * 2 + \\\n",
    "             [{\"Behavior not exhibited\": 0, \"1 to 3 days\": 1, \"4 to 6 days\": 2, \"occurred daily\": 3}] + \\\n",
    "             [{\"Behavior not present\": 0, \"Behavior present, fluctuates\": 1, \"Behavior continuously present\": 2}] * 3\n",
    "\n",
    "f_transform += [(\"mds-urinary-incontinence\", 3, 0), (\"cam_inattention\", 2, 0), (\"cam_disorganized_thought\", 2, 0), \\\n",
    "                (\"cam_altered_conc\", 2, 0), (\"functlimit_rom_upper\", 2, 0), \\\n",
    "                (\"functlimit_rom_lower\", 2, 0), (\"does_resident_wander\", 3, 0)]"
   ]
  },
  {
   "cell_type": "code",
   "execution_count": 16,
   "metadata": {},
   "outputs": [],
   "source": [
    "# Features from new dataset\n",
    "f_drop += [\"min_effective_dose_%d\" % i for i in range(1, 6)]\n",
    "\n",
    "f_one_hot += [\"atc_%d\" % i for i in range(1, 6)]\n",
    "cate_one_hot += [atc_codes] * 5\n",
    "\n",
    "f_transform += [('psych_sdd_%d' % i, 0, 0) for i in range(1, 6)]"
   ]
  },
  {
   "cell_type": "code",
   "execution_count": 17,
   "metadata": {},
   "outputs": [],
   "source": [
    "# generate target\n",
    "target = df['outcome-Mds-fall-since-prior-assessment'].map({'None': 0, 'Yes': 1})\n",
    "dff = df.drop(['outcome-mds-fall-no-injury', 'outcome-mds-fall-minor-injury', 'outcome-mds-fall-major-injury', \\\n",
    "               'outcome-Mds-fall-since-prior-assessment', 'outcome-riskmaster-fall-incident'], axis=1)"
   ]
  },
  {
   "cell_type": "code",
   "execution_count": 18,
   "metadata": {},
   "outputs": [
    {
     "name": "stdout",
     "output_type": "stream",
     "text": [
      "Total number of patients: 3133\n",
      "Number of patients in training set: 2193\n"
     ]
    }
   ],
   "source": [
    "X_train, X_test, y_train, y_test = train_test_split(dff, target, 'patient-id', 0.7, 0)\n",
    "print 'Total number of patients: %d' % len(df.groupby('patient-id'))\n",
    "print 'Number of patients in training set: %d' % len(X_train.groupby('patient-id'))"
   ]
  },
  {
   "cell_type": "code",
   "execution_count": 19,
   "metadata": {
    "scrolled": true
   },
   "outputs": [
    {
     "name": "stdout",
     "output_type": "stream",
     "text": [
      "CPU times: user 26 s, sys: 688 ms, total: 26.7 s\n",
      "Wall time: 14.6 s\n"
     ]
    }
   ],
   "source": [
    "%%time\n",
    "generate_period(X_train, f_period)\n",
    "label_encoding(X_train, f_label, dic_label)\n",
    "X_train_original = X_train.copy() # store value range\n",
    "df_transform(X_train, f_transform)\n",
    "X_train = one_hot_encoding(X_train, f_one_hot, cate_one_hot)\n",
    "drop_features(X_train, f_drop)"
   ]
  },
  {
   "cell_type": "code",
   "execution_count": 20,
   "metadata": {},
   "outputs": [],
   "source": [
    "X_train_use = X_train.copy()"
   ]
  },
  {
   "cell_type": "code",
   "execution_count": 21,
   "metadata": {},
   "outputs": [
    {
     "name": "stdout",
     "output_type": "stream",
     "text": [
      "Index([], dtype='object')\n"
     ]
    }
   ],
   "source": [
    "print(X_train.dtypes[X_train.dtypes == 'object'].index)"
   ]
  },
  {
   "cell_type": "code",
   "execution_count": 22,
   "metadata": {},
   "outputs": [
    {
     "data": {
      "text/html": [
       "<div>\n",
       "<style scoped>\n",
       "    .dataframe tbody tr th:only-of-type {\n",
       "        vertical-align: middle;\n",
       "    }\n",
       "\n",
       "    .dataframe tbody tr th {\n",
       "        vertical-align: top;\n",
       "    }\n",
       "\n",
       "    .dataframe thead th {\n",
       "        text-align: right;\n",
       "    }\n",
       "</style>\n",
       "<table border=\"1\" class=\"dataframe\">\n",
       "  <thead>\n",
       "    <tr style=\"text-align: right;\">\n",
       "      <th></th>\n",
       "      <th>count</th>\n",
       "      <th>percentage</th>\n",
       "    </tr>\n",
       "  </thead>\n",
       "  <tbody>\n",
       "  </tbody>\n",
       "</table>\n",
       "</div>"
      ],
      "text/plain": [
       "Empty DataFrame\n",
       "Columns: [count, percentage]\n",
       "Index: []"
      ]
     },
     "execution_count": 22,
     "metadata": {},
     "output_type": "execute_result"
    }
   ],
   "source": [
    "missing_summary(X_train_use)"
   ]
  },
  {
   "cell_type": "code",
   "execution_count": 23,
   "metadata": {},
   "outputs": [
    {
     "name": "stdout",
     "output_type": "stream",
     "text": [
      "CPU times: user 13.4 s, sys: 0 ns, total: 13.4 s\n",
      "Wall time: 13.4 s\n"
     ]
    }
   ],
   "source": [
    "%%time\n",
    "generate_period(X_test, f_period)\n",
    "label_encoding(X_test, f_label, dic_label)\n",
    "df_transform(X_test, f_transform, X_train_original)\n",
    "X_test = one_hot_encoding(X_test, f_one_hot, cate_one_hot)\n",
    "drop_features(X_test, f_drop)"
   ]
  },
  {
   "cell_type": "code",
   "execution_count": 24,
   "metadata": {},
   "outputs": [],
   "source": [
    "X_test_use = X_test.copy()"
   ]
  },
  {
   "cell_type": "code",
   "execution_count": 25,
   "metadata": {},
   "outputs": [
    {
     "name": "stdout",
     "output_type": "stream",
     "text": [
      "Index([], dtype='object')\n"
     ]
    }
   ],
   "source": [
    "print(X_train.dtypes[X_train.dtypes == 'object'].index)"
   ]
  },
  {
   "cell_type": "code",
   "execution_count": 26,
   "metadata": {},
   "outputs": [
    {
     "data": {
      "text/html": [
       "<div>\n",
       "<style scoped>\n",
       "    .dataframe tbody tr th:only-of-type {\n",
       "        vertical-align: middle;\n",
       "    }\n",
       "\n",
       "    .dataframe tbody tr th {\n",
       "        vertical-align: top;\n",
       "    }\n",
       "\n",
       "    .dataframe thead th {\n",
       "        text-align: right;\n",
       "    }\n",
       "</style>\n",
       "<table border=\"1\" class=\"dataframe\">\n",
       "  <thead>\n",
       "    <tr style=\"text-align: right;\">\n",
       "      <th></th>\n",
       "      <th>count</th>\n",
       "      <th>percentage</th>\n",
       "    </tr>\n",
       "  </thead>\n",
       "  <tbody>\n",
       "  </tbody>\n",
       "</table>\n",
       "</div>"
      ],
      "text/plain": [
       "Empty DataFrame\n",
       "Columns: [count, percentage]\n",
       "Index: []"
      ]
     },
     "execution_count": 26,
     "metadata": {},
     "output_type": "execute_result"
    }
   ],
   "source": [
    "missing_summary(X_train_use)"
   ]
  },
  {
   "cell_type": "code",
   "execution_count": 27,
   "metadata": {},
   "outputs": [
    {
     "data": {
      "text/plain": [
       "(5311, 398)"
      ]
     },
     "execution_count": 27,
     "metadata": {},
     "output_type": "execute_result"
    }
   ],
   "source": [
    "X_train_use.shape"
   ]
  },
  {
   "cell_type": "code",
   "execution_count": 28,
   "metadata": {},
   "outputs": [
    {
     "data": {
      "text/plain": [
       "(1512, 398)"
      ]
     },
     "execution_count": 28,
     "metadata": {},
     "output_type": "execute_result"
    }
   ],
   "source": [
    "X_test_use.shape"
   ]
  },
  {
   "cell_type": "markdown",
   "metadata": {},
   "source": [
    "### RNN"
   ]
  },
  {
   "cell_type": "code",
   "execution_count": 29,
   "metadata": {},
   "outputs": [],
   "source": [
    "from sklearn.preprocessing import MinMaxScaler\n",
    "from keras.models import Sequential\n",
    "from keras.layers import LSTM, GRU, Dense, Dropout\n",
    "from numpy.random import seed\n",
    "from tensorflow import set_random_seed"
   ]
  },
  {
   "cell_type": "code",
   "execution_count": 30,
   "metadata": {},
   "outputs": [],
   "source": [
    "def scaler_transform(X_train_use, X_test_use):    \n",
    "    scaler = MinMaxScaler(feature_range=(0, 1)).fit(X_train_use.drop('patient-id', axis=1))\n",
    "    X_train_transformed = pd.DataFrame(scaler.transform(X_train_use.drop('patient-id', axis=1)), \\\n",
    "                                       columns=X_train_use.columns[1:], index=X_train_use.index)                                   \n",
    "    X_train_transformed['patient-id'] = X_train_use['patient-id']\n",
    "    X_test_transformed = pd.DataFrame(scaler.transform(X_test_use.drop('patient-id', axis=1)), \\\n",
    "                                       columns=X_test_use.columns[1:], index=X_test_use.index) \n",
    "    X_test_transformed['patient-id'] = X_test_use['patient-id']\n",
    "    return X_train_transformed, X_test_transformed"
   ]
  },
  {
   "cell_type": "code",
   "execution_count": 31,
   "metadata": {},
   "outputs": [],
   "source": [
    "def generate_nested_list(X, Y):\n",
    "    X = X.copy()\n",
    "    Y = Y.copy()\n",
    "    x_list, y_list = [], [] \n",
    "    x1, x2 = [], []\n",
    "    pids = X['patient-id'].unique()\n",
    "    for pid in pids:\n",
    "        df = Y[X[X['patient-id']==pid].index]\n",
    "        if(df.shape[0] == 1):\n",
    "            x1.append(pd.Series([0]))\n",
    "            x2.append(pd.Series([0]))\n",
    "        else:\n",
    "            # input 1=(1, 0), 0=(0, 1), NA=(0, 0)\n",
    "            x1.append(pd.Series([0]))\n",
    "            x1.append(df[:-1])\n",
    "            x2.append(pd.Series([0]))\n",
    "            x2.append(df[:-1].map({0: 1, 1: 0}))\n",
    "    X['input_outcome_x'] = pd.Series(pd.concat(x1, ignore_index=True).tolist(), index=X.index)\n",
    "    X['input_outcome_y'] = pd.Series(pd.concat(x2, ignore_index=True).tolist(), index=X.index)\n",
    "    for pid in pids:\n",
    "        df = X[X['patient-id']==pid]\n",
    "        y_list.append(Y[df.index].values)\n",
    "        x_list.append([record for record in df.drop('patient-id', axis=1).values])\n",
    "    return x_list, y_list"
   ]
  },
  {
   "cell_type": "code",
   "execution_count": 32,
   "metadata": {},
   "outputs": [],
   "source": [
    "def mygenerator(x_list, y_list=None):\n",
    "    if(y_list is not None):\n",
    "        while True:\n",
    "            for x, y in zip(x_list, y_list):\n",
    "                yield np.array(x).reshape((len(x), 1, x[0].shape[0])), y\n",
    "    else:\n",
    "        while True:\n",
    "            for x in x_list:\n",
    "                yield np.array(x).reshape((len(x), 1, x[0].shape[0])) "
   ]
  },
  {
   "cell_type": "code",
   "execution_count": 33,
   "metadata": {},
   "outputs": [],
   "source": [
    "def fit_model(model, epoch, X_train, y_train, X_valid=None, y_valid=None, verbose=0):\n",
    "    if(verbose == 0):\n",
    "        model.fit_generator(mygenerator(X_train, y_train), steps_per_epoch=len(X_train), epochs=epoch, verbose=0)\n",
    "    else:\n",
    "        history = model.fit_generator(mygenerator(X_train, y_train), steps_per_epoch=len(X_train), \\\n",
    "                                      validation_data=mygenerator(X_valid, y_valid), validation_steps=len(X_valid), \\\n",
    "                                      epochs=epoch, verbose=verbose)\n",
    "        plot_history(history)\n",
    "    return history"
   ]
  },
  {
   "cell_type": "code",
   "execution_count": 34,
   "metadata": {},
   "outputs": [],
   "source": [
    "def plot_roc_curve(fpr, tpr):\n",
    "    plt.figure()\n",
    "    plt.plot(fpr, tpr, color='darkorange', label='ROC curve (area = %0.2f)' % auc(fpr, tpr))\n",
    "    plt.plot([0, 1], [0, 1], color='navy', linestyle='--')\n",
    "    plt.xlim([0.0, 1.0])\n",
    "    plt.ylim([0.0, 1.05])\n",
    "    plt.xlabel('False Positive Rate')\n",
    "    plt.ylabel('True Positive Rate')\n",
    "    plt.legend(loc=\"lower right\")\n",
    "    plt.show()"
   ]
  },
  {
   "cell_type": "code",
   "execution_count": 35,
   "metadata": {},
   "outputs": [],
   "source": [
    "def plot_history(history):\n",
    "    plt.figure()\n",
    "    plt.plot(history.history['loss'])\n",
    "    plt.plot(history.history['val_loss'])\n",
    "    plt.title('model loss')\n",
    "    plt.ylabel('loss')\n",
    "    plt.xlabel('epoch')\n",
    "    plt.legend(['train', 'test'], loc='upper right')\n",
    "    plt.show()"
   ]
  },
  {
   "cell_type": "code",
   "execution_count": 36,
   "metadata": {},
   "outputs": [],
   "source": [
    "from sklearn.model_selection import GroupKFold\n",
    "def kfold_validation(unit, ratio, epoch, X, y, groupby, k=5, verbose=0):\n",
    "    auroc_list = []\n",
    "    for train_idx, valid_idx in GroupKFold(n_splits=5).split(X, y, X[groupby]):\n",
    "        X_train, X_valid, y_train, y_valid = X.iloc[train_idx], X.iloc[valid_idx], y.iloc[train_idx], y.iloc[valid_idx]\n",
    "        X_train, y_train = generate_nested_list(X_train, y_train)\n",
    "        X_valid, y_valid = generate_nested_list(X_valid, y_valid)\n",
    "        seed(1)\n",
    "        set_random_seed(2)\n",
    "        model = build_model(unit, ratio, 1, X_train[0][0].shape[0])\n",
    "        if (verbose == 0):\n",
    "            fit_model(model, epoch, X_train, y_train)\n",
    "        else:\n",
    "            fit_model(model, epoch, X_train, y_train, X_valid, y_valid, verbose)\n",
    "        y_predict = model.predict_generator(mygenerator(X_valid), steps=len(X_valid))\n",
    "        y_predict = np.concatenate(y_predict)\n",
    "        y_true = np.concatenate(y_valid)\n",
    "        auroc_list.append(auroc(y_predict, y_true))\n",
    "    return auroc_list "
   ]
  },
  {
   "cell_type": "code",
   "execution_count": 37,
   "metadata": {},
   "outputs": [],
   "source": [
    "def auroc(y_predict, y_true, plot=False):\n",
    "    fpr, tpr, thresholds = roc_curve(y_true, y_predict, pos_label=1)    \n",
    "    if(plot):\n",
    "        plot_roc_curve(fpr, tpr)\n",
    "    return auc(fpr, tpr)"
   ]
  },
  {
   "cell_type": "code",
   "execution_count": 38,
   "metadata": {},
   "outputs": [],
   "source": [
    "def find_best_f1(y_predict, y_true):\n",
    "    fpr, tpr, thresholds = roc_curve(y_true, y_predict, pos_label=1) \n",
    "    max_f1, th = 0, 0\n",
    "    for threshold in thresholds:\n",
    "        f1 = f1_score(y_true, y_predict > threshold)\n",
    "        if(f1 > max_f1):\n",
    "            max_f1 = f1\n",
    "            th = threshold\n",
    "    return max_f1, th"
   ]
  },
  {
   "cell_type": "code",
   "execution_count": 39,
   "metadata": {},
   "outputs": [],
   "source": [
    "def other_metrics(y_predict, y_true, threshold):\n",
    "    y_threshold = y_predict > threshold\n",
    "    tn, fp, fn, tp = confusion_matrix(y_true, y_threshold).ravel()\n",
    "    return precision_score(y_true, y_threshold), recall_score(y_true, y_threshold),\\\n",
    "            accuracy_score(y_true, y_threshold), float(tn) / (tn + fp)"
   ]
  },
  {
   "cell_type": "code",
   "execution_count": 40,
   "metadata": {},
   "outputs": [],
   "source": [
    "X_train_transformed, X_test_transformed = scaler_transform(X_train_use, X_test_use)"
   ]
  },
  {
   "cell_type": "code",
   "execution_count": 41,
   "metadata": {},
   "outputs": [],
   "source": [
    "# %%time\n",
    "X_train_list, y_train_list = generate_nested_list(X_train_transformed, y_train)\n",
    "X_test_list, y_test_list = generate_nested_list(X_test_transformed, y_test)"
   ]
  },
  {
   "cell_type": "code",
   "execution_count": 47,
   "metadata": {},
   "outputs": [],
   "source": [
    "from keras import regularizers\n",
    "from keras.optimizers import Adagrad, Adadelta \n",
    "def build_model(cell_size, dropout_ratio, n_timesteps, n_dimensions):\n",
    "    model = Sequential()\n",
    "    model.add(LSTM(cell_size, input_shape=(n_timesteps, n_dimensions), recurrent_dropout=0.1, dropout=dropout_ratio))\n",
    "#     model.add(LSTM(cell_size, input_shape=(n_timesteps, n_dimensions), recurrent_dropout=0.4, recurrent_regularizer=regularizers.l2(dropout_ratio)))\n",
    "#     model.add(LSTM(cell_size, input_shape=(n_timesteps, n_dimensions)))\n",
    "#     model.add(GRU(cell_size, input_shape=(n_timesteps, n_dimensions), recurrent_dropout=dropout_ratio))\n",
    "#     model.add(Dropout(dropout_ratio))\n",
    "    model.add(Dense(1, activation='sigmoid'))\n",
    "#     model.compile(loss='binary_crossentropy', optimizer=Adagrad(lr=0.009), metrics=['binary_accuracy'])\n",
    "    model.compile(loss='binary_crossentropy', optimizer='adagrad', metrics=['binary_accuracy'])\n",
    "    return model"
   ]
  },
  {
   "cell_type": "code",
   "execution_count": 53,
   "metadata": {
    "scrolled": true
   },
   "outputs": [
    {
     "name": "stdout",
     "output_type": "stream",
     "text": [
      "Epoch 1/40\n",
      "2193/2193 [==============================] - 15s 7ms/step - loss: 0.3755 - binary_accuracy: 0.8711 - val_loss: 0.4685 - val_binary_accuracy: 0.8128\n",
      "Epoch 2/40\n",
      "2193/2193 [==============================] - 12s 5ms/step - loss: 0.3589 - binary_accuracy: 0.8709 - val_loss: 0.4594 - val_binary_accuracy: 0.8128\n",
      "Epoch 3/40\n",
      "2193/2193 [==============================] - 12s 6ms/step - loss: 0.3528 - binary_accuracy: 0.8710 - val_loss: 0.4599 - val_binary_accuracy: 0.8128\n",
      "Epoch 4/40\n",
      "2193/2193 [==============================] - 11s 5ms/step - loss: 0.3556 - binary_accuracy: 0.8705 - val_loss: 0.4564 - val_binary_accuracy: 0.8128\n",
      "Epoch 5/40\n",
      "2193/2193 [==============================] - 11s 5ms/step - loss: 0.3522 - binary_accuracy: 0.8707 - val_loss: 0.4542 - val_binary_accuracy: 0.8128\n",
      "Epoch 6/40\n",
      "2193/2193 [==============================] - 12s 5ms/step - loss: 0.3453 - binary_accuracy: 0.8701 - val_loss: 0.4535 - val_binary_accuracy: 0.8128\n",
      "Epoch 7/40\n",
      "2193/2193 [==============================] - 12s 5ms/step - loss: 0.3468 - binary_accuracy: 0.8716 - val_loss: 0.4535 - val_binary_accuracy: 0.8128\n",
      "Epoch 8/40\n",
      "2193/2193 [==============================] - 11s 5ms/step - loss: 0.3452 - binary_accuracy: 0.8716 - val_loss: 0.4525 - val_binary_accuracy: 0.8128\n",
      "Epoch 9/40\n",
      "2193/2193 [==============================] - 11s 5ms/step - loss: 0.3455 - binary_accuracy: 0.8727 - val_loss: 0.4536 - val_binary_accuracy: 0.8128\n",
      "Epoch 10/40\n",
      "2193/2193 [==============================] - 11s 5ms/step - loss: 0.3469 - binary_accuracy: 0.8718 - val_loss: 0.4520 - val_binary_accuracy: 0.8128\n",
      "Epoch 11/40\n",
      "2193/2193 [==============================] - 10s 5ms/step - loss: 0.3453 - binary_accuracy: 0.8727 - val_loss: 0.4514 - val_binary_accuracy: 0.8128\n",
      "Epoch 12/40\n",
      "2193/2193 [==============================] - 11s 5ms/step - loss: 0.3458 - binary_accuracy: 0.8723 - val_loss: 0.4519 - val_binary_accuracy: 0.8128\n",
      "Epoch 13/40\n",
      "2193/2193 [==============================] - 11s 5ms/step - loss: 0.3432 - binary_accuracy: 0.8713 - val_loss: 0.4509 - val_binary_accuracy: 0.8128\n",
      "Epoch 14/40\n",
      "2193/2193 [==============================] - 10s 5ms/step - loss: 0.3419 - binary_accuracy: 0.8724 - val_loss: 0.4498 - val_binary_accuracy: 0.8128\n",
      "Epoch 15/40\n",
      "2193/2193 [==============================] - 10s 5ms/step - loss: 0.3413 - binary_accuracy: 0.8719 - val_loss: 0.4496 - val_binary_accuracy: 0.8128\n",
      "Epoch 16/40\n",
      "2193/2193 [==============================] - 10s 5ms/step - loss: 0.3441 - binary_accuracy: 0.8704 - val_loss: 0.4494 - val_binary_accuracy: 0.8128\n",
      "Epoch 17/40\n",
      "2193/2193 [==============================] - 10s 5ms/step - loss: 0.3437 - binary_accuracy: 0.8726 - val_loss: 0.4482 - val_binary_accuracy: 0.8128\n",
      "Epoch 18/40\n",
      "2193/2193 [==============================] - 10s 5ms/step - loss: 0.3400 - binary_accuracy: 0.8712 - val_loss: 0.4500 - val_binary_accuracy: 0.8128\n",
      "Epoch 19/40\n",
      "2193/2193 [==============================] - 10s 5ms/step - loss: 0.3403 - binary_accuracy: 0.8721 - val_loss: 0.4501 - val_binary_accuracy: 0.8128\n",
      "Epoch 20/40\n",
      "2193/2193 [==============================] - 10s 5ms/step - loss: 0.3416 - binary_accuracy: 0.8701 - val_loss: 0.4494 - val_binary_accuracy: 0.8128\n",
      "Epoch 21/40\n",
      "2193/2193 [==============================] - 11s 5ms/step - loss: 0.3410 - binary_accuracy: 0.8736 - val_loss: 0.4481 - val_binary_accuracy: 0.8128\n",
      "Epoch 22/40\n",
      "2193/2193 [==============================] - 10s 5ms/step - loss: 0.3404 - binary_accuracy: 0.8728 - val_loss: 0.4478 - val_binary_accuracy: 0.8128\n",
      "Epoch 23/40\n",
      "2193/2193 [==============================] - 11s 5ms/step - loss: 0.3381 - binary_accuracy: 0.8724 - val_loss: 0.4484 - val_binary_accuracy: 0.8128\n",
      "Epoch 24/40\n",
      "2193/2193 [==============================] - 11s 5ms/step - loss: 0.3400 - binary_accuracy: 0.8722 - val_loss: 0.4469 - val_binary_accuracy: 0.8128\n",
      "Epoch 25/40\n",
      "2193/2193 [==============================] - 11s 5ms/step - loss: 0.3362 - binary_accuracy: 0.8725 - val_loss: 0.4473 - val_binary_accuracy: 0.8128\n",
      "Epoch 26/40\n",
      "2193/2193 [==============================] - 10s 5ms/step - loss: 0.3374 - binary_accuracy: 0.8723 - val_loss: 0.4481 - val_binary_accuracy: 0.8128\n",
      "Epoch 27/40\n",
      "2193/2193 [==============================] - 10s 5ms/step - loss: 0.3370 - binary_accuracy: 0.8729 - val_loss: 0.4492 - val_binary_accuracy: 0.8128\n",
      "Epoch 28/40\n",
      "2193/2193 [==============================] - 10s 5ms/step - loss: 0.3378 - binary_accuracy: 0.8706 - val_loss: 0.4502 - val_binary_accuracy: 0.8128\n",
      "Epoch 29/40\n",
      "2193/2193 [==============================] - 10s 5ms/step - loss: 0.3374 - binary_accuracy: 0.8738 - val_loss: 0.4499 - val_binary_accuracy: 0.8135\n",
      "Epoch 30/40\n",
      "2193/2193 [==============================] - 10s 5ms/step - loss: 0.3390 - binary_accuracy: 0.8728 - val_loss: 0.4491 - val_binary_accuracy: 0.8135\n",
      "Epoch 31/40\n",
      "2193/2193 [==============================] - 10s 5ms/step - loss: 0.3346 - binary_accuracy: 0.8712 - val_loss: 0.4488 - val_binary_accuracy: 0.8148\n",
      "Epoch 32/40\n",
      "2193/2193 [==============================] - 10s 5ms/step - loss: 0.3381 - binary_accuracy: 0.8733 - val_loss: 0.4496 - val_binary_accuracy: 0.8142\n",
      "Epoch 33/40\n",
      "2193/2193 [==============================] - 10s 5ms/step - loss: 0.3401 - binary_accuracy: 0.8719 - val_loss: 0.4491 - val_binary_accuracy: 0.8142\n",
      "Epoch 34/40\n",
      "2193/2193 [==============================] - 10s 5ms/step - loss: 0.3357 - binary_accuracy: 0.8711 - val_loss: 0.4497 - val_binary_accuracy: 0.8142\n",
      "Epoch 35/40\n",
      "2193/2193 [==============================] - 10s 5ms/step - loss: 0.3353 - binary_accuracy: 0.8733 - val_loss: 0.4480 - val_binary_accuracy: 0.8148\n",
      "Epoch 36/40\n",
      "2193/2193 [==============================] - 10s 5ms/step - loss: 0.3320 - binary_accuracy: 0.8736 - val_loss: 0.4476 - val_binary_accuracy: 0.8155\n",
      "Epoch 37/40\n",
      "2193/2193 [==============================] - 11s 5ms/step - loss: 0.3363 - binary_accuracy: 0.8715 - val_loss: 0.4473 - val_binary_accuracy: 0.8142\n",
      "Epoch 38/40\n",
      "2193/2193 [==============================] - 10s 5ms/step - loss: 0.3408 - binary_accuracy: 0.8722 - val_loss: 0.4479 - val_binary_accuracy: 0.8142\n",
      "Epoch 39/40\n",
      "2193/2193 [==============================] - 10s 5ms/step - loss: 0.3346 - binary_accuracy: 0.8728 - val_loss: 0.4471 - val_binary_accuracy: 0.8148\n",
      "Epoch 40/40\n",
      "2193/2193 [==============================] - 10s 5ms/step - loss: 0.3315 - binary_accuracy: 0.8736 - val_loss: 0.4475 - val_binary_accuracy: 0.8155\n"
     ]
    },
    {
     "data": {
      "image/png": "[encoded data removed]",
      "text/plain": [
       "<Figure size 432x288 with 1 Axes>"
      ]
     },
     "metadata": {
      "needs_background": "light"
     },
     "output_type": "display_data"
    },
    {
     "name": "stdout",
     "output_type": "stream",
     "text": [
      "('avg auroc: ', 0.7126394810915249)\n",
      "('avg precision: ', 0.4212328767123288)\n",
      "('avg recall: ', 0.43462897526501765)\n",
      "('avg accuracy: ', 0.7824074074074074)\n",
      "('avg specificity: ', 0.8624898291293734)\n",
      "('avg f1: ', 0.4278260869565217)\n",
      "('auroc: ', [0.7126394810915249])\n",
      "('precision: ', [0.4212328767123288])\n",
      "('recall: ', [0.43462897526501765])\n",
      "('accuracy: ', [0.7824074074074074])\n",
      "('specificity: ', [0.8624898291293734])\n",
      "('f1: ', [0.4278260869565217])\n",
      "('threshold: ', [0.20670114])\n",
      "CPU times: user 10min 1s, sys: 52.6 s, total: 10min 54s\n",
      "Wall time: 7min 12s\n"
     ]
    }
   ],
   "source": [
    "%%time\n",
    "seed(1)\n",
    "set_random_seed(2)\n",
    "auroc_list = []\n",
    "precision_list = []\n",
    "recall_list = []\n",
    "accuracy_list = []\n",
    "specificity_list = []\n",
    "f1_list = []\n",
    "th_list = []\n",
    "for i in range(0,1):\n",
    "    model = build_model(16, 0.5, 1, X_train_list[0][0].shape[0])\n",
    "    history = fit_model(model, 40, X_train_list, y_train_list, X_test_list, y_test_list, verbose=1)\n",
    "    y_predict = model.predict_generator(mygenerator(X_test_list), steps=len(X_test_list))\n",
    "    y_predict = np.concatenate(y_predict)\n",
    "    y_true = np.concatenate(y_test_list)\n",
    "    auroc_list.append(auroc(y_predict, y_true))\n",
    "    f1, th = find_best_f1(y_predict, y_true)\n",
    "    f1_list.append(f1)\n",
    "    th_list.append(th)\n",
    "    precision, recall, accuracy, specificity = other_metrics(y_predict, y_true, th)\n",
    "    precision_list.append(precision)\n",
    "    recall_list.append(recall)\n",
    "    accuracy_list.append(accuracy)\n",
    "    specificity_list.append(specificity)\n",
    "print('avg auroc: ', np.mean(auroc_list))\n",
    "print('avg precision: ', np.mean(precision_list))\n",
    "print('avg recall: ', np.mean(recall_list))\n",
    "print('avg accuracy: ', np.mean(accuracy_list))\n",
    "print('avg specificity: ', np.mean(specificity_list))\n",
    "print('avg f1: ', np.mean(f1_list))\n",
    "print('auroc: ', auroc_list)\n",
    "print('precision: ', precision_list)\n",
    "print('recall: ', recall_list)\n",
    "print('accuracy: ', accuracy_list)\n",
    "print('specificity: ', specificity_list)\n",
    "print('f1: ', f1_list)\n",
    "print('threshold: ', th_list)"
   ]
  },
  {
   "cell_type": "code",
   "execution_count": 59,
   "metadata": {},
   "outputs": [],
   "source": [
    "# from sklearn.calibration import calibration_curve\n",
    "# # fraction_of_positives, mean_predicted_value = calibration_curve(y_true, y_predict, n_bins=10)\n",
    "# fraction_of_positives, mean_predicted_value = calibration_curve(y_true, y_predict, normalize=True, n_bins=10)\n",
    "# with open(\"exp_3_cal.csv\", \"w\") as writeFile:\n",
    "#     writer  = csv.writer(writeFile)\n",
    "#     writer.writerows([fraction_of_positives, mean_predicted_value])\n",
    "    \n",
    "# plt.figure()\n",
    "# plt.plot(mean_predicted_value, fraction_of_positives, 's-')\n",
    "# plt.plot([0, 1], [0, 1], '--', color='gray')\n",
    "# plt.show()"
   ]
  },
  {
   "cell_type": "code",
   "execution_count": 60,
   "metadata": {},
   "outputs": [],
   "source": [
    "# import csv \n",
    "# fpr, tpr, thresholds = roc_curve(y_true, y_predict, pos_label=1)\n",
    "# plot_roc_curve(fpr, tpr)\n",
    "# with open(\"exp_3.csv\", \"w\") as writeFile:\n",
    "#     writer  = csv.writer(writeFile)\n",
    "#     writer.writerows([fpr, tpr, [recall, 1-specificity]])"
   ]
  },
  {
   "cell_type": "code",
   "execution_count": 50,
   "metadata": {},
   "outputs": [
    {
     "name": "stdout",
     "output_type": "stream",
     "text": [
      "('auroc: ', 0.7544910250292967)\n",
      "('precision: ', 0.3546448087431694)\n",
      "('recall: ', 0.66359918200409)\n",
      "('accuracy: ', 0.7156844285445302)\n",
      "('specificity: ', 0.7274405723517193)\n",
      "('f1: ', 0.4622507122507123)\n",
      "('threshold: ', 0.18051799)\n"
     ]
    }
   ],
   "source": [
    "y_predict_t = model.predict_generator(mygenerator(X_train_list), steps=len(X_train_list))\n",
    "y_predict_t = np.concatenate(y_predict_t)\n",
    "y_true_t = np.concatenate(y_train_list)\n",
    "\n",
    "f1_t, th_t = find_best_f1(y_predict_t, y_true_t)\n",
    "precision_t, recall_t, accuracy_t, specificity_t = other_metrics(y_predict_t, y_true_t, th_t)\n",
    "\n",
    "print('auroc: ', auroc(y_predict_t, y_true_t))\n",
    "print('precision: ', precision_t)\n",
    "print('recall: ', recall_t)\n",
    "print('accuracy: ', accuracy_t)\n",
    "print('specificity: ', specificity_t)\n",
    "print('f1: ', f1_t);\n",
    "print('threshold: ', th_t)"
   ]
  },
  {
   "cell_type": "code",
   "execution_count": 51,
   "metadata": {
    "scrolled": true
   },
   "outputs": [
    {
     "name": "stdout",
     "output_type": "stream",
     "text": [
      "Epoch 1/40\n",
      "2193/2193 [==============================] - 16s 7ms/step - loss: 0.3755 - binary_accuracy: 0.8711 - val_loss: 0.4686 - val_binary_accuracy: 0.8128\n",
      "Epoch 2/40\n",
      "2193/2193 [==============================] - 12s 6ms/step - loss: 0.3589 - binary_accuracy: 0.8709 - val_loss: 0.4596 - val_binary_accuracy: 0.8128\n",
      "Epoch 3/40\n",
      "2193/2193 [==============================] - 13s 6ms/step - loss: 0.3527 - binary_accuracy: 0.8710 - val_loss: 0.4599 - val_binary_accuracy: 0.8128\n",
      "Epoch 4/40\n",
      "2193/2193 [==============================] - 12s 5ms/step - loss: 0.3556 - binary_accuracy: 0.8706 - val_loss: 0.4564 - val_binary_accuracy: 0.8128\n",
      "Epoch 5/40\n",
      "2193/2193 [==============================] - 12s 5ms/step - loss: 0.3522 - binary_accuracy: 0.8706 - val_loss: 0.4542 - val_binary_accuracy: 0.8128\n",
      "Epoch 6/40\n",
      "2193/2193 [==============================] - 13s 6ms/step - loss: 0.3453 - binary_accuracy: 0.8701 - val_loss: 0.4535 - val_binary_accuracy: 0.8128\n",
      "Epoch 7/40\n",
      "2193/2193 [==============================] - 13s 6ms/step - loss: 0.3468 - binary_accuracy: 0.8715 - val_loss: 0.4534 - val_binary_accuracy: 0.8128\n",
      "Epoch 8/40\n",
      "2193/2193 [==============================] - 12s 6ms/step - loss: 0.3452 - binary_accuracy: 0.8717 - val_loss: 0.4524 - val_binary_accuracy: 0.8128\n",
      "Epoch 9/40\n",
      "2193/2193 [==============================] - 13s 6ms/step - loss: 0.3455 - binary_accuracy: 0.8727 - val_loss: 0.4536 - val_binary_accuracy: 0.8128\n",
      "Epoch 10/40\n",
      "2193/2193 [==============================] - 13s 6ms/step - loss: 0.3468 - binary_accuracy: 0.8719 - val_loss: 0.4519 - val_binary_accuracy: 0.8128\n",
      "Epoch 11/40\n",
      "2193/2193 [==============================] - 13s 6ms/step - loss: 0.3453 - binary_accuracy: 0.8731 - val_loss: 0.4513 - val_binary_accuracy: 0.8128\n",
      "Epoch 12/40\n",
      "2193/2193 [==============================] - 12s 6ms/step - loss: 0.3457 - binary_accuracy: 0.8722 - val_loss: 0.4518 - val_binary_accuracy: 0.8128\n",
      "Epoch 13/40\n",
      "2193/2193 [==============================] - 12s 6ms/step - loss: 0.3432 - binary_accuracy: 0.8715 - val_loss: 0.4509 - val_binary_accuracy: 0.8128\n",
      "Epoch 14/40\n",
      "2193/2193 [==============================] - 12s 6ms/step - loss: 0.3418 - binary_accuracy: 0.8728 - val_loss: 0.4498 - val_binary_accuracy: 0.8128\n",
      "Epoch 15/40\n",
      "2193/2193 [==============================] - 13s 6ms/step - loss: 0.3413 - binary_accuracy: 0.8719 - val_loss: 0.4496 - val_binary_accuracy: 0.8128\n",
      "Epoch 16/40\n",
      "2193/2193 [==============================] - 12s 6ms/step - loss: 0.3441 - binary_accuracy: 0.8710 - val_loss: 0.4493 - val_binary_accuracy: 0.8128\n",
      "Epoch 17/40\n",
      "2193/2193 [==============================] - 12s 6ms/step - loss: 0.3437 - binary_accuracy: 0.8722 - val_loss: 0.4481 - val_binary_accuracy: 0.8128\n",
      "Epoch 18/40\n",
      "2193/2193 [==============================] - 12s 6ms/step - loss: 0.3400 - binary_accuracy: 0.8714 - val_loss: 0.4499 - val_binary_accuracy: 0.8128\n",
      "Epoch 19/40\n",
      "2193/2193 [==============================] - 12s 6ms/step - loss: 0.3402 - binary_accuracy: 0.8722 - val_loss: 0.4501 - val_binary_accuracy: 0.8128\n",
      "Epoch 20/40\n",
      "2193/2193 [==============================] - 13s 6ms/step - loss: 0.3416 - binary_accuracy: 0.8701 - val_loss: 0.4494 - val_binary_accuracy: 0.8128\n",
      "Epoch 21/40\n",
      "2193/2193 [==============================] - 13s 6ms/step - loss: 0.3410 - binary_accuracy: 0.8732 - val_loss: 0.4482 - val_binary_accuracy: 0.8128\n",
      "Epoch 22/40\n",
      "2193/2193 [==============================] - 13s 6ms/step - loss: 0.3404 - binary_accuracy: 0.8728 - val_loss: 0.4479 - val_binary_accuracy: 0.8128\n",
      "Epoch 23/40\n",
      "2193/2193 [==============================] - 13s 6ms/step - loss: 0.3381 - binary_accuracy: 0.8725 - val_loss: 0.4485 - val_binary_accuracy: 0.8128\n",
      "Epoch 24/40\n",
      "2193/2193 [==============================] - 14s 6ms/step - loss: 0.3400 - binary_accuracy: 0.8723 - val_loss: 0.4469 - val_binary_accuracy: 0.8128\n",
      "Epoch 25/40\n",
      "2193/2193 [==============================] - 13s 6ms/step - loss: 0.3362 - binary_accuracy: 0.8725 - val_loss: 0.4473 - val_binary_accuracy: 0.8128\n",
      "Epoch 26/40\n",
      "2193/2193 [==============================] - 12s 5ms/step - loss: 0.3374 - binary_accuracy: 0.8723 - val_loss: 0.4481 - val_binary_accuracy: 0.8128\n",
      "Epoch 27/40\n",
      "2193/2193 [==============================] - 12s 5ms/step - loss: 0.3371 - binary_accuracy: 0.8729 - val_loss: 0.4493 - val_binary_accuracy: 0.8128\n",
      "Epoch 28/40\n",
      "2193/2193 [==============================] - 12s 6ms/step - loss: 0.3378 - binary_accuracy: 0.8706 - val_loss: 0.4503 - val_binary_accuracy: 0.8128\n",
      "Epoch 29/40\n",
      "2193/2193 [==============================] - 12s 6ms/step - loss: 0.3374 - binary_accuracy: 0.8741 - val_loss: 0.4499 - val_binary_accuracy: 0.8128\n",
      "Epoch 30/40\n",
      "2193/2193 [==============================] - 13s 6ms/step - loss: 0.3390 - binary_accuracy: 0.8729 - val_loss: 0.4490 - val_binary_accuracy: 0.8128\n",
      "Epoch 31/40\n",
      "2193/2193 [==============================] - 13s 6ms/step - loss: 0.3346 - binary_accuracy: 0.8712 - val_loss: 0.4488 - val_binary_accuracy: 0.8148\n",
      "Epoch 32/40\n",
      "2193/2193 [==============================] - 12s 5ms/step - loss: 0.3381 - binary_accuracy: 0.8733 - val_loss: 0.4496 - val_binary_accuracy: 0.8135\n",
      "Epoch 33/40\n",
      "2193/2193 [==============================] - 12s 6ms/step - loss: 0.3400 - binary_accuracy: 0.8721 - val_loss: 0.4492 - val_binary_accuracy: 0.8135\n",
      "Epoch 34/40\n",
      "2193/2193 [==============================] - 13s 6ms/step - loss: 0.3356 - binary_accuracy: 0.8711 - val_loss: 0.4497 - val_binary_accuracy: 0.8142\n",
      "Epoch 35/40\n",
      "2193/2193 [==============================] - 13s 6ms/step - loss: 0.3353 - binary_accuracy: 0.8731 - val_loss: 0.4479 - val_binary_accuracy: 0.8148\n",
      "Epoch 36/40\n",
      "2193/2193 [==============================] - 13s 6ms/step - loss: 0.3320 - binary_accuracy: 0.8737 - val_loss: 0.4476 - val_binary_accuracy: 0.8148\n",
      "Epoch 37/40\n",
      "2193/2193 [==============================] - 11s 5ms/step - loss: 0.3363 - binary_accuracy: 0.8718 - val_loss: 0.4473 - val_binary_accuracy: 0.8142\n",
      "Epoch 38/40\n",
      "2193/2193 [==============================] - 12s 6ms/step - loss: 0.3409 - binary_accuracy: 0.8722 - val_loss: 0.4480 - val_binary_accuracy: 0.8142\n",
      "Epoch 39/40\n",
      "2193/2193 [==============================] - 12s 6ms/step - loss: 0.3346 - binary_accuracy: 0.8726 - val_loss: 0.4471 - val_binary_accuracy: 0.8148\n",
      "Epoch 40/40\n",
      "2193/2193 [==============================] - 12s 5ms/step - loss: 0.3315 - binary_accuracy: 0.8735 - val_loss: 0.4475 - val_binary_accuracy: 0.8148\n"
     ]
    },
    {
     "data": {
      "image/png": "[encoded data removed]",
      "text/plain": [
       "<Figure size 432x288 with 1 Axes>"
      ]
     },
     "metadata": {
      "needs_background": "light"
     },
     "output_type": "display_data"
    },
    {
     "name": "stdout",
     "output_type": "stream",
     "text": [
      "Epoch 1/40\n",
      "2193/2193 [==============================] - 16s 7ms/step - loss: 0.3728 - binary_accuracy: 0.8707 - val_loss: 0.4663 - val_binary_accuracy: 0.8128\n",
      "Epoch 2/40\n",
      "2193/2193 [==============================] - 13s 6ms/step - loss: 0.3611 - binary_accuracy: 0.8711 - val_loss: 0.4613 - val_binary_accuracy: 0.8128\n",
      "Epoch 3/40\n",
      "2193/2193 [==============================] - 12s 5ms/step - loss: 0.3534 - binary_accuracy: 0.8711 - val_loss: 0.4558 - val_binary_accuracy: 0.8128\n",
      "Epoch 4/40\n",
      "2193/2193 [==============================] - 12s 5ms/step - loss: 0.3537 - binary_accuracy: 0.8717 - val_loss: 0.4546 - val_binary_accuracy: 0.8128\n",
      "Epoch 5/40\n",
      "2193/2193 [==============================] - 12s 6ms/step - loss: 0.3521 - binary_accuracy: 0.8713 - val_loss: 0.4536 - val_binary_accuracy: 0.8128\n",
      "Epoch 6/40\n",
      "2193/2193 [==============================] - 12s 6ms/step - loss: 0.3480 - binary_accuracy: 0.8719 - val_loss: 0.4535 - val_binary_accuracy: 0.8128\n",
      "Epoch 7/40\n",
      "2193/2193 [==============================] - 12s 6ms/step - loss: 0.3502 - binary_accuracy: 0.8712 - val_loss: 0.4513 - val_binary_accuracy: 0.8128\n",
      "Epoch 8/40\n",
      "2193/2193 [==============================] - 12s 5ms/step - loss: 0.3493 - binary_accuracy: 0.8718 - val_loss: 0.4521 - val_binary_accuracy: 0.8128\n",
      "Epoch 9/40\n",
      "2193/2193 [==============================] - 12s 6ms/step - loss: 0.3471 - binary_accuracy: 0.8712 - val_loss: 0.4522 - val_binary_accuracy: 0.8128\n",
      "Epoch 10/40\n",
      "2193/2193 [==============================] - 12s 6ms/step - loss: 0.3457 - binary_accuracy: 0.8725 - val_loss: 0.4514 - val_binary_accuracy: 0.8128\n",
      "Epoch 11/40\n",
      "2193/2193 [==============================] - 12s 6ms/step - loss: 0.3418 - binary_accuracy: 0.8732 - val_loss: 0.4513 - val_binary_accuracy: 0.8128\n",
      "Epoch 12/40\n",
      "2193/2193 [==============================] - 12s 6ms/step - loss: 0.3451 - binary_accuracy: 0.8720 - val_loss: 0.4513 - val_binary_accuracy: 0.8128\n",
      "Epoch 13/40\n",
      "2193/2193 [==============================] - 12s 5ms/step - loss: 0.3439 - binary_accuracy: 0.8716 - val_loss: 0.4500 - val_binary_accuracy: 0.8128\n",
      "Epoch 14/40\n",
      "2193/2193 [==============================] - 12s 5ms/step - loss: 0.3394 - binary_accuracy: 0.8714 - val_loss: 0.4480 - val_binary_accuracy: 0.8128\n",
      "Epoch 15/40\n",
      "2193/2193 [==============================] - 12s 5ms/step - loss: 0.3397 - binary_accuracy: 0.8736 - val_loss: 0.4473 - val_binary_accuracy: 0.8128\n",
      "Epoch 16/40\n",
      "2193/2193 [==============================] - 12s 6ms/step - loss: 0.3370 - binary_accuracy: 0.8724 - val_loss: 0.4473 - val_binary_accuracy: 0.8128\n",
      "Epoch 17/40\n",
      "2193/2193 [==============================] - 12s 5ms/step - loss: 0.3424 - binary_accuracy: 0.8710 - val_loss: 0.4470 - val_binary_accuracy: 0.8128\n",
      "Epoch 18/40\n",
      "2193/2193 [==============================] - 12s 5ms/step - loss: 0.3404 - binary_accuracy: 0.8724 - val_loss: 0.4489 - val_binary_accuracy: 0.8128\n",
      "Epoch 19/40\n",
      "2193/2193 [==============================] - 12s 5ms/step - loss: 0.3376 - binary_accuracy: 0.8718 - val_loss: 0.4474 - val_binary_accuracy: 0.8128\n",
      "Epoch 20/40\n",
      "2193/2193 [==============================] - 13s 6ms/step - loss: 0.3400 - binary_accuracy: 0.8727 - val_loss: 0.4472 - val_binary_accuracy: 0.8128\n",
      "Epoch 21/40\n",
      "2193/2193 [==============================] - 12s 6ms/step - loss: 0.3387 - binary_accuracy: 0.8719 - val_loss: 0.4464 - val_binary_accuracy: 0.8128\n",
      "Epoch 22/40\n",
      "2193/2193 [==============================] - 12s 6ms/step - loss: 0.3397 - binary_accuracy: 0.8724 - val_loss: 0.4466 - val_binary_accuracy: 0.8128\n",
      "Epoch 23/40\n",
      "2193/2193 [==============================] - 13s 6ms/step - loss: 0.3393 - binary_accuracy: 0.8722 - val_loss: 0.4470 - val_binary_accuracy: 0.8122\n",
      "Epoch 24/40\n",
      "2193/2193 [==============================] - 12s 6ms/step - loss: 0.3383 - binary_accuracy: 0.8727 - val_loss: 0.4480 - val_binary_accuracy: 0.8128\n",
      "Epoch 25/40\n",
      "2193/2193 [==============================] - 12s 6ms/step - loss: 0.3358 - binary_accuracy: 0.8724 - val_loss: 0.4480 - val_binary_accuracy: 0.8128\n",
      "Epoch 26/40\n",
      "2193/2193 [==============================] - 12s 6ms/step - loss: 0.3386 - binary_accuracy: 0.8729 - val_loss: 0.4465 - val_binary_accuracy: 0.8128\n",
      "Epoch 27/40\n",
      "2193/2193 [==============================] - 12s 6ms/step - loss: 0.3371 - binary_accuracy: 0.8731 - val_loss: 0.4466 - val_binary_accuracy: 0.8128\n",
      "Epoch 28/40\n",
      "2193/2193 [==============================] - 11s 5ms/step - loss: 0.3372 - binary_accuracy: 0.8719 - val_loss: 0.4473 - val_binary_accuracy: 0.8128\n",
      "Epoch 29/40\n",
      "2193/2193 [==============================] - 9s 4ms/step - loss: 0.3370 - binary_accuracy: 0.8729 - val_loss: 0.4466 - val_binary_accuracy: 0.8128\n",
      "Epoch 30/40\n",
      "2193/2193 [==============================] - 9s 4ms/step - loss: 0.3345 - binary_accuracy: 0.8707 - val_loss: 0.4467 - val_binary_accuracy: 0.8128\n",
      "Epoch 31/40\n",
      "2193/2193 [==============================] - 9s 4ms/step - loss: 0.3344 - binary_accuracy: 0.8713 - val_loss: 0.4477 - val_binary_accuracy: 0.8128\n",
      "Epoch 32/40\n",
      "2193/2193 [==============================] - 8s 4ms/step - loss: 0.3377 - binary_accuracy: 0.8737 - val_loss: 0.4465 - val_binary_accuracy: 0.8128\n",
      "Epoch 33/40\n",
      "2193/2193 [==============================] - 7s 3ms/step - loss: 0.3339 - binary_accuracy: 0.8726 - val_loss: 0.4457 - val_binary_accuracy: 0.8128\n",
      "Epoch 34/40\n",
      "2193/2193 [==============================] - 7s 3ms/step - loss: 0.3344 - binary_accuracy: 0.8710 - val_loss: 0.4457 - val_binary_accuracy: 0.8128\n",
      "Epoch 35/40\n",
      "2193/2193 [==============================] - 7s 3ms/step - loss: 0.3337 - binary_accuracy: 0.8718 - val_loss: 0.4462 - val_binary_accuracy: 0.8128\n",
      "Epoch 36/40\n",
      "2193/2193 [==============================] - 7s 3ms/step - loss: 0.3354 - binary_accuracy: 0.8716 - val_loss: 0.4456 - val_binary_accuracy: 0.8128\n",
      "Epoch 37/40\n",
      "2193/2193 [==============================] - 7s 3ms/step - loss: 0.3321 - binary_accuracy: 0.8732 - val_loss: 0.4453 - val_binary_accuracy: 0.8122\n",
      "Epoch 38/40\n",
      "2193/2193 [==============================] - 7s 3ms/step - loss: 0.3362 - binary_accuracy: 0.8737 - val_loss: 0.4463 - val_binary_accuracy: 0.8128\n",
      "Epoch 39/40\n",
      "2193/2193 [==============================] - 7s 3ms/step - loss: 0.3383 - binary_accuracy: 0.8746 - val_loss: 0.4460 - val_binary_accuracy: 0.8128\n",
      "Epoch 40/40\n",
      "2193/2193 [==============================] - 7s 3ms/step - loss: 0.3384 - binary_accuracy: 0.8727 - val_loss: 0.4450 - val_binary_accuracy: 0.8128\n"
     ]
    },
    {
     "data": {
      "image/png": "[encoded data removed]",
      "text/plain": [
       "<Figure size 432x288 with 1 Axes>"
      ]
     },
     "metadata": {
      "needs_background": "light"
     },
     "output_type": "display_data"
    },
    {
     "name": "stdout",
     "output_type": "stream",
     "text": [
      "Epoch 1/40\n",
      "2193/2193 [==============================] - 9s 4ms/step - loss: 0.3755 - binary_accuracy: 0.8711 - val_loss: 0.4707 - val_binary_accuracy: 0.8128\n",
      "Epoch 2/40\n",
      "2193/2193 [==============================] - 9s 4ms/step - loss: 0.3598 - binary_accuracy: 0.8711 - val_loss: 0.4635 - val_binary_accuracy: 0.8128\n",
      "Epoch 3/40\n",
      "2193/2193 [==============================] - 8s 3ms/step - loss: 0.3558 - binary_accuracy: 0.8712 - val_loss: 0.4606 - val_binary_accuracy: 0.8128\n",
      "Epoch 4/40\n",
      "2193/2193 [==============================] - 7s 3ms/step - loss: 0.3535 - binary_accuracy: 0.8715 - val_loss: 0.4565 - val_binary_accuracy: 0.8128\n",
      "Epoch 5/40\n",
      "2193/2193 [==============================] - 7s 3ms/step - loss: 0.3517 - binary_accuracy: 0.8714 - val_loss: 0.4579 - val_binary_accuracy: 0.8128\n",
      "Epoch 6/40\n",
      "2193/2193 [==============================] - 7s 3ms/step - loss: 0.3500 - binary_accuracy: 0.8711 - val_loss: 0.4555 - val_binary_accuracy: 0.8128\n",
      "Epoch 7/40\n",
      "2193/2193 [==============================] - 7s 3ms/step - loss: 0.3429 - binary_accuracy: 0.8722 - val_loss: 0.4550 - val_binary_accuracy: 0.8128\n",
      "Epoch 8/40\n",
      "2193/2193 [==============================] - 7s 3ms/step - loss: 0.3495 - binary_accuracy: 0.8712 - val_loss: 0.4535 - val_binary_accuracy: 0.8128\n",
      "Epoch 9/40\n",
      "2193/2193 [==============================] - 7s 3ms/step - loss: 0.3471 - binary_accuracy: 0.8718 - val_loss: 0.4546 - val_binary_accuracy: 0.8128\n",
      "Epoch 10/40\n",
      "2193/2193 [==============================] - 7s 3ms/step - loss: 0.3473 - binary_accuracy: 0.8726 - val_loss: 0.4546 - val_binary_accuracy: 0.8128\n",
      "Epoch 11/40\n",
      "2193/2193 [==============================] - 7s 3ms/step - loss: 0.3439 - binary_accuracy: 0.8720 - val_loss: 0.4531 - val_binary_accuracy: 0.8128\n",
      "Epoch 12/40\n",
      "2193/2193 [==============================] - 7s 3ms/step - loss: 0.3400 - binary_accuracy: 0.8738 - val_loss: 0.4527 - val_binary_accuracy: 0.8128\n",
      "Epoch 13/40\n",
      "2193/2193 [==============================] - 8s 4ms/step - loss: 0.3420 - binary_accuracy: 0.8710 - val_loss: 0.4529 - val_binary_accuracy: 0.8128\n",
      "Epoch 14/40\n",
      "2193/2193 [==============================] - 8s 3ms/step - loss: 0.3448 - binary_accuracy: 0.8727 - val_loss: 0.4523 - val_binary_accuracy: 0.8128\n",
      "Epoch 15/40\n",
      "2193/2193 [==============================] - 7s 3ms/step - loss: 0.3399 - binary_accuracy: 0.8718 - val_loss: 0.4506 - val_binary_accuracy: 0.8122\n",
      "Epoch 16/40\n",
      "2193/2193 [==============================] - 8s 4ms/step - loss: 0.3425 - binary_accuracy: 0.8721 - val_loss: 0.4517 - val_binary_accuracy: 0.8128\n",
      "Epoch 17/40\n",
      "2193/2193 [==============================] - 7s 3ms/step - loss: 0.3432 - binary_accuracy: 0.8715 - val_loss: 0.4519 - val_binary_accuracy: 0.8128\n",
      "Epoch 18/40\n",
      "2193/2193 [==============================] - 7s 3ms/step - loss: 0.3426 - binary_accuracy: 0.8717 - val_loss: 0.4495 - val_binary_accuracy: 0.8128\n",
      "Epoch 19/40\n",
      "2193/2193 [==============================] - 7s 3ms/step - loss: 0.3418 - binary_accuracy: 0.8729 - val_loss: 0.4497 - val_binary_accuracy: 0.8128\n",
      "Epoch 20/40\n",
      "2193/2193 [==============================] - 8s 4ms/step - loss: 0.3401 - binary_accuracy: 0.8705 - val_loss: 0.4516 - val_binary_accuracy: 0.8128\n",
      "Epoch 21/40\n",
      "2193/2193 [==============================] - 7s 3ms/step - loss: 0.3392 - binary_accuracy: 0.8728 - val_loss: 0.4501 - val_binary_accuracy: 0.8128\n",
      "Epoch 22/40\n",
      "2193/2193 [==============================] - 8s 3ms/step - loss: 0.3397 - binary_accuracy: 0.8712 - val_loss: 0.4487 - val_binary_accuracy: 0.8122\n",
      "Epoch 23/40\n",
      "2193/2193 [==============================] - 7s 3ms/step - loss: 0.3415 - binary_accuracy: 0.8724 - val_loss: 0.4492 - val_binary_accuracy: 0.8122\n",
      "Epoch 24/40\n",
      "2193/2193 [==============================] - 8s 4ms/step - loss: 0.3385 - binary_accuracy: 0.8732 - val_loss: 0.4491 - val_binary_accuracy: 0.8122\n",
      "Epoch 25/40\n",
      "2193/2193 [==============================] - 8s 3ms/step - loss: 0.3382 - binary_accuracy: 0.8732 - val_loss: 0.4499 - val_binary_accuracy: 0.8122\n",
      "Epoch 26/40\n",
      "2193/2193 [==============================] - 8s 3ms/step - loss: 0.3419 - binary_accuracy: 0.8721 - val_loss: 0.4487 - val_binary_accuracy: 0.8122\n",
      "Epoch 27/40\n",
      "2193/2193 [==============================] - 8s 4ms/step - loss: 0.3370 - binary_accuracy: 0.8724 - val_loss: 0.4486 - val_binary_accuracy: 0.8122\n",
      "Epoch 28/40\n",
      "2193/2193 [==============================] - 7s 3ms/step - loss: 0.3375 - binary_accuracy: 0.8728 - val_loss: 0.4486 - val_binary_accuracy: 0.8122\n",
      "Epoch 29/40\n",
      "2193/2193 [==============================] - 8s 3ms/step - loss: 0.3392 - binary_accuracy: 0.8721 - val_loss: 0.4490 - val_binary_accuracy: 0.8122\n",
      "Epoch 30/40\n",
      "2193/2193 [==============================] - 8s 3ms/step - loss: 0.3379 - binary_accuracy: 0.8730 - val_loss: 0.4495 - val_binary_accuracy: 0.8122\n",
      "Epoch 31/40\n",
      "2193/2193 [==============================] - 7s 3ms/step - loss: 0.3374 - binary_accuracy: 0.8715 - val_loss: 0.4509 - val_binary_accuracy: 0.8122\n",
      "Epoch 32/40\n",
      "2193/2193 [==============================] - 8s 4ms/step - loss: 0.3387 - binary_accuracy: 0.8742 - val_loss: 0.4488 - val_binary_accuracy: 0.8122\n",
      "Epoch 33/40\n",
      "2193/2193 [==============================] - 7s 3ms/step - loss: 0.3355 - binary_accuracy: 0.8723 - val_loss: 0.4486 - val_binary_accuracy: 0.8122\n",
      "Epoch 34/40\n",
      "2193/2193 [==============================] - 7s 3ms/step - loss: 0.3387 - binary_accuracy: 0.8729 - val_loss: 0.4489 - val_binary_accuracy: 0.8122\n",
      "Epoch 35/40\n",
      "2193/2193 [==============================] - 7s 3ms/step - loss: 0.3351 - binary_accuracy: 0.8744 - val_loss: 0.4478 - val_binary_accuracy: 0.8128\n",
      "Epoch 36/40\n",
      "2193/2193 [==============================] - 7s 3ms/step - loss: 0.3392 - binary_accuracy: 0.8714 - val_loss: 0.4470 - val_binary_accuracy: 0.8122\n",
      "Epoch 37/40\n",
      "2193/2193 [==============================] - 7s 3ms/step - loss: 0.3382 - binary_accuracy: 0.8725 - val_loss: 0.4482 - val_binary_accuracy: 0.8122\n",
      "Epoch 38/40\n",
      "2193/2193 [==============================] - 7s 3ms/step - loss: 0.3385 - binary_accuracy: 0.8726 - val_loss: 0.4486 - val_binary_accuracy: 0.8122\n",
      "Epoch 39/40\n",
      "2193/2193 [==============================] - 7s 3ms/step - loss: 0.3384 - binary_accuracy: 0.8719 - val_loss: 0.4475 - val_binary_accuracy: 0.8122\n",
      "Epoch 40/40\n",
      "2193/2193 [==============================] - 7s 3ms/step - loss: 0.3349 - binary_accuracy: 0.8715 - val_loss: 0.4472 - val_binary_accuracy: 0.8122\n"
     ]
    },
    {
     "data": {
      "image/png": "[encoded data removed]",
      "text/plain": [
       "<Figure size 432x288 with 1 Axes>"
      ]
     },
     "metadata": {
      "needs_background": "light"
     },
     "output_type": "display_data"
    },
    {
     "name": "stdout",
     "output_type": "stream",
     "text": [
      "Epoch 1/40\n",
      "2193/2193 [==============================] - 9s 4ms/step - loss: 0.3729 - binary_accuracy: 0.8707 - val_loss: 0.4693 - val_binary_accuracy: 0.8128\n",
      "Epoch 2/40\n",
      "2193/2193 [==============================] - 7s 3ms/step - loss: 0.3610 - binary_accuracy: 0.8711 - val_loss: 0.4639 - val_binary_accuracy: 0.8128\n",
      "Epoch 3/40\n",
      "2193/2193 [==============================] - 7s 3ms/step - loss: 0.3560 - binary_accuracy: 0.8713 - val_loss: 0.4627 - val_binary_accuracy: 0.8128\n",
      "Epoch 4/40\n",
      "2193/2193 [==============================] - 7s 3ms/step - loss: 0.3539 - binary_accuracy: 0.8714 - val_loss: 0.4633 - val_binary_accuracy: 0.8128\n",
      "Epoch 5/40\n",
      "2193/2193 [==============================] - 7s 3ms/step - loss: 0.3498 - binary_accuracy: 0.8718 - val_loss: 0.4613 - val_binary_accuracy: 0.8128\n",
      "Epoch 6/40\n",
      "2193/2193 [==============================] - 7s 3ms/step - loss: 0.3506 - binary_accuracy: 0.8714 - val_loss: 0.4595 - val_binary_accuracy: 0.8128\n",
      "Epoch 7/40\n",
      "2193/2193 [==============================] - 7s 3ms/step - loss: 0.3493 - binary_accuracy: 0.8713 - val_loss: 0.4594 - val_binary_accuracy: 0.8128\n",
      "Epoch 8/40\n",
      "2193/2193 [==============================] - 7s 3ms/step - loss: 0.3489 - binary_accuracy: 0.8713 - val_loss: 0.4572 - val_binary_accuracy: 0.8128\n",
      "Epoch 9/40\n",
      "2193/2193 [==============================] - 7s 3ms/step - loss: 0.3507 - binary_accuracy: 0.8720 - val_loss: 0.4585 - val_binary_accuracy: 0.8128\n",
      "Epoch 10/40\n",
      "2193/2193 [==============================] - 7s 3ms/step - loss: 0.3478 - binary_accuracy: 0.8720 - val_loss: 0.4554 - val_binary_accuracy: 0.8128\n",
      "Epoch 11/40\n",
      "2193/2193 [==============================] - 7s 3ms/step - loss: 0.3450 - binary_accuracy: 0.8721 - val_loss: 0.4561 - val_binary_accuracy: 0.8128\n",
      "Epoch 12/40\n",
      "2193/2193 [==============================] - 7s 3ms/step - loss: 0.3435 - binary_accuracy: 0.8724 - val_loss: 0.4555 - val_binary_accuracy: 0.8128\n",
      "Epoch 13/40\n",
      "2193/2193 [==============================] - 7s 3ms/step - loss: 0.3443 - binary_accuracy: 0.8723 - val_loss: 0.4550 - val_binary_accuracy: 0.8128\n",
      "Epoch 14/40\n",
      "2193/2193 [==============================] - 7s 3ms/step - loss: 0.3421 - binary_accuracy: 0.8718 - val_loss: 0.4554 - val_binary_accuracy: 0.8128\n",
      "Epoch 15/40\n",
      "2193/2193 [==============================] - 7s 3ms/step - loss: 0.3430 - binary_accuracy: 0.8718 - val_loss: 0.4536 - val_binary_accuracy: 0.8128\n",
      "Epoch 16/40\n",
      "2193/2193 [==============================] - 7s 3ms/step - loss: 0.3431 - binary_accuracy: 0.8717 - val_loss: 0.4543 - val_binary_accuracy: 0.8128\n",
      "Epoch 17/40\n",
      "2193/2193 [==============================] - 7s 3ms/step - loss: 0.3425 - binary_accuracy: 0.8715 - val_loss: 0.4535 - val_binary_accuracy: 0.8128\n",
      "Epoch 18/40\n",
      "2193/2193 [==============================] - 7s 3ms/step - loss: 0.3389 - binary_accuracy: 0.8717 - val_loss: 0.4533 - val_binary_accuracy: 0.8128\n",
      "Epoch 19/40\n",
      "2193/2193 [==============================] - 7s 3ms/step - loss: 0.3450 - binary_accuracy: 0.8721 - val_loss: 0.4531 - val_binary_accuracy: 0.8128\n",
      "Epoch 20/40\n",
      "2193/2193 [==============================] - 7s 3ms/step - loss: 0.3416 - binary_accuracy: 0.8709 - val_loss: 0.4527 - val_binary_accuracy: 0.8128\n",
      "Epoch 21/40\n",
      "2193/2193 [==============================] - 7s 3ms/step - loss: 0.3436 - binary_accuracy: 0.8714 - val_loss: 0.4532 - val_binary_accuracy: 0.8128\n",
      "Epoch 22/40\n",
      "2193/2193 [==============================] - 7s 3ms/step - loss: 0.3377 - binary_accuracy: 0.8718 - val_loss: 0.4528 - val_binary_accuracy: 0.8128\n",
      "Epoch 23/40\n",
      "2193/2193 [==============================] - 7s 3ms/step - loss: 0.3395 - binary_accuracy: 0.8715 - val_loss: 0.4520 - val_binary_accuracy: 0.8128\n",
      "Epoch 24/40\n",
      "2193/2193 [==============================] - 7s 3ms/step - loss: 0.3411 - binary_accuracy: 0.8720 - val_loss: 0.4519 - val_binary_accuracy: 0.8128\n",
      "Epoch 25/40\n",
      "2193/2193 [==============================] - 7s 3ms/step - loss: 0.3435 - binary_accuracy: 0.8700 - val_loss: 0.4502 - val_binary_accuracy: 0.8128\n",
      "Epoch 26/40\n",
      "2193/2193 [==============================] - 7s 3ms/step - loss: 0.3400 - binary_accuracy: 0.8730 - val_loss: 0.4516 - val_binary_accuracy: 0.8128\n",
      "Epoch 27/40\n",
      "2193/2193 [==============================] - 7s 3ms/step - loss: 0.3368 - binary_accuracy: 0.8722 - val_loss: 0.4512 - val_binary_accuracy: 0.8142\n",
      "Epoch 28/40\n",
      "2193/2193 [==============================] - 8s 3ms/step - loss: 0.3377 - binary_accuracy: 0.8712 - val_loss: 0.4504 - val_binary_accuracy: 0.8142\n",
      "Epoch 29/40\n",
      "2193/2193 [==============================] - 8s 3ms/step - loss: 0.3332 - binary_accuracy: 0.8719 - val_loss: 0.4520 - val_binary_accuracy: 0.8142\n",
      "Epoch 30/40\n",
      "2193/2193 [==============================] - 7s 3ms/step - loss: 0.3398 - binary_accuracy: 0.8723 - val_loss: 0.4517 - val_binary_accuracy: 0.8142\n",
      "Epoch 31/40\n",
      "2193/2193 [==============================] - 7s 3ms/step - loss: 0.3367 - binary_accuracy: 0.8728 - val_loss: 0.4509 - val_binary_accuracy: 0.8142\n",
      "Epoch 32/40\n",
      "2193/2193 [==============================] - 7s 3ms/step - loss: 0.3371 - binary_accuracy: 0.8717 - val_loss: 0.4510 - val_binary_accuracy: 0.8142\n",
      "Epoch 33/40\n",
      "2193/2193 [==============================] - 7s 3ms/step - loss: 0.3379 - binary_accuracy: 0.8724 - val_loss: 0.4497 - val_binary_accuracy: 0.8142\n",
      "Epoch 34/40\n",
      "2193/2193 [==============================] - 7s 3ms/step - loss: 0.3356 - binary_accuracy: 0.8709 - val_loss: 0.4518 - val_binary_accuracy: 0.8142\n",
      "Epoch 35/40\n",
      "2193/2193 [==============================] - 7s 3ms/step - loss: 0.3367 - binary_accuracy: 0.8730 - val_loss: 0.4501 - val_binary_accuracy: 0.8135\n",
      "Epoch 36/40\n",
      "2193/2193 [==============================] - 7s 3ms/step - loss: 0.3392 - binary_accuracy: 0.8735 - val_loss: 0.4505 - val_binary_accuracy: 0.8142\n",
      "Epoch 37/40\n",
      "2193/2193 [==============================] - 8s 3ms/step - loss: 0.3355 - binary_accuracy: 0.8733 - val_loss: 0.4507 - val_binary_accuracy: 0.8142\n",
      "Epoch 38/40\n",
      "2193/2193 [==============================] - 8s 4ms/step - loss: 0.3421 - binary_accuracy: 0.8728 - val_loss: 0.4488 - val_binary_accuracy: 0.8135\n",
      "Epoch 39/40\n",
      "2193/2193 [==============================] - 8s 4ms/step - loss: 0.3370 - binary_accuracy: 0.8734 - val_loss: 0.4504 - val_binary_accuracy: 0.8142\n",
      "Epoch 40/40\n",
      "2193/2193 [==============================] - 7s 3ms/step - loss: 0.3370 - binary_accuracy: 0.8721 - val_loss: 0.4512 - val_binary_accuracy: 0.8142\n"
     ]
    },
    {
     "data": {
      "image/png": "[encoded data removed]",
      "text/plain": [
       "<Figure size 432x288 with 1 Axes>"
      ]
     },
     "metadata": {
      "needs_background": "light"
     },
     "output_type": "display_data"
    },
    {
     "name": "stdout",
     "output_type": "stream",
     "text": [
      "Epoch 1/40\n",
      "2193/2193 [==============================] - 9s 4ms/step - loss: 0.3728 - binary_accuracy: 0.8711 - val_loss: 0.4665 - val_binary_accuracy: 0.8128\n",
      "Epoch 2/40\n",
      "2193/2193 [==============================] - 7s 3ms/step - loss: 0.3581 - binary_accuracy: 0.8711 - val_loss: 0.4611 - val_binary_accuracy: 0.8128\n",
      "Epoch 3/40\n",
      "2193/2193 [==============================] - 7s 3ms/step - loss: 0.3571 - binary_accuracy: 0.8712 - val_loss: 0.4577 - val_binary_accuracy: 0.8128\n",
      "Epoch 4/40\n",
      "2193/2193 [==============================] - 7s 3ms/step - loss: 0.3496 - binary_accuracy: 0.8708 - val_loss: 0.4543 - val_binary_accuracy: 0.8128\n",
      "Epoch 5/40\n",
      "2193/2193 [==============================] - 7s 3ms/step - loss: 0.3519 - binary_accuracy: 0.8716 - val_loss: 0.4543 - val_binary_accuracy: 0.8128\n",
      "Epoch 6/40\n",
      "2193/2193 [==============================] - 7s 3ms/step - loss: 0.3478 - binary_accuracy: 0.8721 - val_loss: 0.4520 - val_binary_accuracy: 0.8128\n",
      "Epoch 7/40\n",
      "2193/2193 [==============================] - 7s 3ms/step - loss: 0.3457 - binary_accuracy: 0.8713 - val_loss: 0.4522 - val_binary_accuracy: 0.8128\n",
      "Epoch 8/40\n",
      "2193/2193 [==============================] - 7s 3ms/step - loss: 0.3467 - binary_accuracy: 0.8712 - val_loss: 0.4524 - val_binary_accuracy: 0.8128\n",
      "Epoch 9/40\n",
      "2193/2193 [==============================] - 7s 3ms/step - loss: 0.3438 - binary_accuracy: 0.8719 - val_loss: 0.4494 - val_binary_accuracy: 0.8128\n",
      "Epoch 10/40\n",
      "2193/2193 [==============================] - 7s 3ms/step - loss: 0.3442 - binary_accuracy: 0.8718 - val_loss: 0.4491 - val_binary_accuracy: 0.8122\n",
      "Epoch 11/40\n",
      "2193/2193 [==============================] - 7s 3ms/step - loss: 0.3459 - binary_accuracy: 0.8714 - val_loss: 0.4491 - val_binary_accuracy: 0.8128\n",
      "Epoch 12/40\n",
      "2193/2193 [==============================] - 7s 3ms/step - loss: 0.3410 - binary_accuracy: 0.8718 - val_loss: 0.4490 - val_binary_accuracy: 0.8122\n",
      "Epoch 13/40\n",
      "2193/2193 [==============================] - 7s 3ms/step - loss: 0.3453 - binary_accuracy: 0.8727 - val_loss: 0.4495 - val_binary_accuracy: 0.8122\n",
      "Epoch 14/40\n",
      "2193/2193 [==============================] - 7s 3ms/step - loss: 0.3434 - binary_accuracy: 0.8739 - val_loss: 0.4498 - val_binary_accuracy: 0.8122\n",
      "Epoch 15/40\n",
      "2193/2193 [==============================] - 7s 3ms/step - loss: 0.3397 - binary_accuracy: 0.8723 - val_loss: 0.4478 - val_binary_accuracy: 0.8122\n",
      "Epoch 16/40\n",
      "2193/2193 [==============================] - 6s 3ms/step - loss: 0.3429 - binary_accuracy: 0.8729 - val_loss: 0.4483 - val_binary_accuracy: 0.8122\n",
      "Epoch 17/40\n",
      "2193/2193 [==============================] - 7s 3ms/step - loss: 0.3391 - binary_accuracy: 0.8732 - val_loss: 0.4481 - val_binary_accuracy: 0.8122\n",
      "Epoch 18/40\n",
      "2193/2193 [==============================] - 7s 3ms/step - loss: 0.3419 - binary_accuracy: 0.8721 - val_loss: 0.4478 - val_binary_accuracy: 0.8122\n",
      "Epoch 19/40\n",
      "2193/2193 [==============================] - 7s 3ms/step - loss: 0.3383 - binary_accuracy: 0.8720 - val_loss: 0.4483 - val_binary_accuracy: 0.8122\n",
      "Epoch 20/40\n",
      "2193/2193 [==============================] - 7s 3ms/step - loss: 0.3388 - binary_accuracy: 0.8717 - val_loss: 0.4477 - val_binary_accuracy: 0.8122\n",
      "Epoch 21/40\n",
      "2193/2193 [==============================] - 8s 3ms/step - loss: 0.3370 - binary_accuracy: 0.8734 - val_loss: 0.4480 - val_binary_accuracy: 0.8122\n",
      "Epoch 22/40\n",
      "2193/2193 [==============================] - 7s 3ms/step - loss: 0.3371 - binary_accuracy: 0.8721 - val_loss: 0.4476 - val_binary_accuracy: 0.8122\n",
      "Epoch 23/40\n",
      "2193/2193 [==============================] - 8s 4ms/step - loss: 0.3397 - binary_accuracy: 0.8733 - val_loss: 0.4471 - val_binary_accuracy: 0.8122\n",
      "Epoch 24/40\n",
      "2193/2193 [==============================] - 9s 4ms/step - loss: 0.3392 - binary_accuracy: 0.8729 - val_loss: 0.4465 - val_binary_accuracy: 0.8122\n",
      "Epoch 25/40\n",
      "2193/2193 [==============================] - 9s 4ms/step - loss: 0.3409 - binary_accuracy: 0.8723 - val_loss: 0.4473 - val_binary_accuracy: 0.8122\n",
      "Epoch 26/40\n",
      "2193/2193 [==============================] - 9s 4ms/step - loss: 0.3400 - binary_accuracy: 0.8721 - val_loss: 0.4477 - val_binary_accuracy: 0.8122\n",
      "Epoch 27/40\n",
      "2193/2193 [==============================] - 7s 3ms/step - loss: 0.3360 - binary_accuracy: 0.8736 - val_loss: 0.4480 - val_binary_accuracy: 0.8122\n",
      "Epoch 28/40\n",
      "2193/2193 [==============================] - 7s 3ms/step - loss: 0.3353 - binary_accuracy: 0.8717 - val_loss: 0.4464 - val_binary_accuracy: 0.8122\n",
      "Epoch 29/40\n",
      "2193/2193 [==============================] - 7s 3ms/step - loss: 0.3394 - binary_accuracy: 0.8734 - val_loss: 0.4470 - val_binary_accuracy: 0.8122\n",
      "Epoch 30/40\n",
      "2193/2193 [==============================] - 7s 3ms/step - loss: 0.3368 - binary_accuracy: 0.8728 - val_loss: 0.4465 - val_binary_accuracy: 0.8122\n",
      "Epoch 31/40\n",
      "2193/2193 [==============================] - 7s 3ms/step - loss: 0.3345 - binary_accuracy: 0.8723 - val_loss: 0.4478 - val_binary_accuracy: 0.8122\n",
      "Epoch 32/40\n",
      "2193/2193 [==============================] - 7s 3ms/step - loss: 0.3361 - binary_accuracy: 0.8724 - val_loss: 0.4474 - val_binary_accuracy: 0.8122\n",
      "Epoch 33/40\n",
      "2193/2193 [==============================] - 7s 3ms/step - loss: 0.3371 - binary_accuracy: 0.8734 - val_loss: 0.4467 - val_binary_accuracy: 0.8122\n",
      "Epoch 34/40\n",
      "2193/2193 [==============================] - 7s 3ms/step - loss: 0.3368 - binary_accuracy: 0.8738 - val_loss: 0.4466 - val_binary_accuracy: 0.8122\n",
      "Epoch 35/40\n",
      "2193/2193 [==============================] - 7s 3ms/step - loss: 0.3366 - binary_accuracy: 0.8732 - val_loss: 0.4448 - val_binary_accuracy: 0.8122\n",
      "Epoch 36/40\n",
      "2193/2193 [==============================] - 7s 3ms/step - loss: 0.3352 - binary_accuracy: 0.8720 - val_loss: 0.4459 - val_binary_accuracy: 0.8122\n",
      "Epoch 37/40\n",
      "2193/2193 [==============================] - 8s 3ms/step - loss: 0.3368 - binary_accuracy: 0.8744 - val_loss: 0.4443 - val_binary_accuracy: 0.8122\n",
      "Epoch 38/40\n",
      "2193/2193 [==============================] - 7s 3ms/step - loss: 0.3344 - binary_accuracy: 0.8732 - val_loss: 0.4443 - val_binary_accuracy: 0.8122\n",
      "Epoch 39/40\n",
      "2193/2193 [==============================] - 7s 3ms/step - loss: 0.3325 - binary_accuracy: 0.8736 - val_loss: 0.4445 - val_binary_accuracy: 0.8122\n",
      "Epoch 40/40\n",
      "2193/2193 [==============================] - 8s 4ms/step - loss: 0.3372 - binary_accuracy: 0.8736 - val_loss: 0.4459 - val_binary_accuracy: 0.8122\n"
     ]
    },
    {
     "data": {
      "image/png": "[encoded data removed]",
      "text/plain": [
       "<Figure size 432x288 with 1 Axes>"
      ]
     },
     "metadata": {
      "needs_background": "light"
     },
     "output_type": "display_data"
    },
    {
     "name": "stdout",
     "output_type": "stream",
     "text": [
      "('avg auroc: ', 0.7145928632833726)\n",
      "('avg precision: ', 0.3876231825984478)\n",
      "('avg recall: ', 0.4763250883392226)\n",
      "('avg accuracy: ', 0.7595238095238095)\n",
      "('avg specificity: ', 0.8247355573637103)\n",
      "('avg f1: ', 0.4257288345764746)\n",
      "('auroc: ', [0.7126049791982334, 0.7168975897552379, 0.7138585479878208, 0.7129816248666645, 0.7166215746089066])\n",
      "('precision: ', [0.42214532871972316, 0.37275064267352187, 0.36159600997506236, 0.37777777777777777, 0.40384615384615385])\n",
      "('recall: ', [0.43109540636042404, 0.5123674911660777, 0.5123674911660777, 0.48056537102473496, 0.4452296819787986])\n",
      "('accuracy: ', [0.783068783068783, 0.7473544973544973, 0.7394179894179894, 0.7546296296296297, 0.7731481481481481])\n",
      "('specificity: ', [0.8641171684296176, 0.8014646053702197, 0.7917005695687551, 0.8177379983726607, 0.8486574450772986])\n",
      "('f1: ', [0.4265734265734266, 0.431547619047619, 0.4239766081871345, 0.4230171073094867, 0.42352941176470593])\n",
      "('threshold: ', [0.20718536, 0.18536751, 0.17276067, 0.17795178, 0.20798817])\n",
      "CPU times: user 46min 30s, sys: 4min 41s, total: 51min 12s\n",
      "Wall time: 30min 20s\n"
     ]
    }
   ],
   "source": [
    "%%time\n",
    "seed(1)\n",
    "set_random_seed(2)\n",
    "auroc_list = []\n",
    "precision_list = []\n",
    "recall_list = []\n",
    "accuracy_list = []\n",
    "specificity_list = []\n",
    "f1_list = []\n",
    "th_list = []\n",
    "for i in range(0,5):\n",
    "    model = build_model(16, 0.5, 1, X_train_list[0][0].shape[0])\n",
    "    history = fit_model(model, 40, X_train_list, y_train_list, X_test_list, y_test_list, verbose=1)\n",
    "    y_predict = model.predict_generator(mygenerator(X_test_list), steps=len(X_test_list))\n",
    "    y_predict = np.concatenate(y_predict)\n",
    "    y_true = np.concatenate(y_test_list)\n",
    "    auroc_list.append(auroc(y_predict, y_true))\n",
    "    f1, th = find_best_f1(y_predict, y_true)\n",
    "    f1_list.append(f1)\n",
    "    th_list.append(th)\n",
    "    precision, recall, accuracy, specificity = other_metrics(y_predict, y_true, th)\n",
    "    precision_list.append(precision)\n",
    "    recall_list.append(recall)\n",
    "    accuracy_list.append(accuracy)\n",
    "    specificity_list.append(specificity)\n",
    "print('avg auroc: ', np.mean(auroc_list))\n",
    "print('avg precision: ', np.mean(precision_list))\n",
    "print('avg recall: ', np.mean(recall_list))\n",
    "print('avg accuracy: ', np.mean(accuracy_list))\n",
    "print('avg specificity: ', np.mean(specificity_list))\n",
    "print('avg f1: ', np.mean(f1_list))\n",
    "print('auroc: ', auroc_list)\n",
    "print('precision: ', precision_list)\n",
    "print('recall: ', recall_list)\n",
    "print('accuracy: ', accuracy_list)\n",
    "print('specificity: ', specificity_list)\n",
    "print('f1: ', f1_list)\n",
    "print('threshold: ', th_list)"
   ]
  },
  {
   "cell_type": "markdown",
   "metadata": {},
   "source": [
    "old results (wrong sdd)\n",
    "unit: 8\tepoch: 50\tauroc_mean: 0.715993\tauroc_std: 0.014383\n",
    "unit: 8\tepoch: 60\tauroc_mean: 0.716188\tauroc_std: 0.014191\n",
    "unit: 8\tepoch: 70\tauroc_mean: 0.716360\tauroc_std: 0.013688\n",
    "unit: 8\tepoch: 80\tauroc_mean: 0.716965\tauroc_std: 0.013612\n",
    "unit: 8\tepoch: 90\tauroc_mean: 0.716444\tauroc_std: 0.013414\n",
    "unit: 8\tepoch: 110\tauroc_mean: 0.716207\tauroc_std: 0.013120\n",
    "unit: 8\tepoch: 120\tauroc_mean: 0.715924\tauroc_std: 0.013136\n",
    "\n",
    "unit: 4 \tepoch: 100\tauroc_mean: 0.714870\tauroc_std: 0.016497\n",
    "unit: 8 \tepoch: 100\tauroc_mean: 0.715778\tauroc_std: 0.013265\n",
    "unit: 16\tepoch: 100\tauroc_mean: 0.717123\tauroc_std: 0.014345\n",
    "\n",
    "unit: 8\tepoch: 100\tauroc_mean: 0.713937\tauroc_std: 0.012976 dropout=0.4\n",
    "unit: 8\tepoch: 100\tauroc_mean: 0.715778\tauroc_std: 0.013265 dropout=0.5 \n",
    "unit: 8\tepoch: 100\tauroc_mean: 0.712397\tauroc_std: 0.014861 dropout=0.7\n",
    "unit: 8\tepoch: 100\tauroc_mean: 0.711219\tauroc_std: 0.013590 dropout=0.15\n",
    "\n",
    "unit: 4\tepoch: 50\tauroc_mean: 0.714767\tauroc_std: 0.016784\n",
    "unit: 4\tepoch: 70\tauroc_mean: 0.715340\tauroc_std: 0.016425\n",
    "unit: 4\tepoch: 80\tauroc_mean: 0.715265\tauroc_std: 0.016201\n",
    "unit: 4\tepoch: 90\tauroc_mean: 0.714966\tauroc_std: 0.016489\n",
    "unit: 4\tepoch: 100\tauroc_mean: 0.714870\tauroc_std: 0.016497\n",
    "unit: 4\tepoch: 110\tauroc_mean: 0.715042\tauroc_std: 0.016499\n",
    "unit: 4\tepoch: 120\tauroc_mean: 0.714916\tauroc_std: 0.016397\n",
    "\n",
    "unit: 16\tepoch: 25\tauroc_mean: 0.716086\tauroc_std: 0.015586\n",
    "unit: 16\tepoch: 30\tauroc_mean: 0.716496\tauroc_std: 0.015561\n",
    "unit: 16\tepoch: 35\tauroc_mean: 0.717407\tauroc_std: 0.015532\n",
    "unit: 16\tepoch: 40\tauroc_mean: 0.717659\tauroc_std: 0.015106 *\n",
    "unit: 16\tepoch: 45\tauroc_mean: 0.717425\tauroc_std: 0.015553\n",
    "unit: 16\tepoch: 50\tauroc_mean: 0.717583\tauroc_std: 0.015427\n",
    "unit: 16\tepoch: 60\tauroc_mean: 0.717364\tauroc_std: 0.015517\n",
    "unit: 16\tepoch: 75\tauroc_mean: 0.717354\tauroc_std: 0.014874\n",
    "\n",
    "unit: 12\tepoch: 40\tauroc_mean: 0.716228\tauroc_std: 0.014876\n",
    "unit: 12\tepoch: 50\tauroc_mean: 0.716779\tauroc_std: 0.014170\n",
    "unit: 12\tepoch: 60\tauroc_mean: 0.716556\tauroc_std: 0.013815\n",
    "unit: 12\tepoch: 70\tauroc_mean: 0.716421\tauroc_std: 0.013296\n",
    "unit: 12\tepoch: 80\tauroc_mean: 0.716143\tauroc_std: 0.012780\n",
    "\n",
    "unit: 14\tepoch: 40\tauroc_mean: 0.714447\tauroc_std: 0.014219\n",
    "unit: 14\tepoch: 50\tauroc_mean: 0.715464\tauroc_std: 0.013763"
   ]
  },
  {
   "cell_type": "code",
   "execution_count": 61,
   "metadata": {
    "scrolled": true
   },
   "outputs": [],
   "source": [
    "# %%time\n",
    "# # K-Fold Cross Validation\n",
    "# result = []\n",
    "# pdic = [(16, [55], [0.5])]\n",
    "# for unit, epoch_list, ratio_list in pdic:\n",
    "#     for epoch in epoch_list:\n",
    "#         for ratio in ratio_list:\n",
    "#             auroc_list = kfold_validation(unit, ratio, epoch, X_train_transformed, y_train, 'patient-id', verbose=1)\n",
    "#             result.append((unit, epoch, auroc_list))\n",
    "#             print(\"unit: %d\\tepoch: %d\\tauroc_mean: %f\\tauroc_std: %f\"  % (unit, epoch, np.mean(auroc_list), np.std(auroc_list)))"
   ]
  },
  {
   "cell_type": "markdown",
   "metadata": {},
   "source": [
    "learning rate 0.001:\n",
    "unit: 16\tepoch: 100\tauroc_mean: 0.695739\tauroc_std: 0.017014\n",
    "unit: 24\tepoch: 100\tauroc_mean: 0.698280\tauroc_std: 0.018764\n",
    "unit: 32\tepoch: 100\tauroc_mean: 0.700865\tauroc_std: 0.016971\n",
    "unit: 40\tepoch: 100\tauroc_mean: 0.701996\tauroc_std: 0.018621\n",
    "unit: 40\tepoch: 150\tauroc_mean: 0.705638\tauroc_std: 0.017872\n",
    "unit: 40\tepoch: 200\tauroc_mean: 0.708169\tauroc_std: 0.017475\n",
    "unit: 50\tepoch: 100\tauroc_mean: 0.699599\tauroc_std: 0.016310\n",
    "\n",
    "unit: 50\tepoch: 50\tauroc_mean: 0.712041\tauroc_std: 0.016337 (0.003)\n",
    "unit: 50\tepoch: 100\tauroc_mean: 0.714913\tauroc_std: 0.016200 (0.003)"
   ]
  }
 ],
 "metadata": {
  "kernelspec": {
   "display_name": "Python 2",
   "language": "python",
   "name": "python2"
  },
  "language_info": {
   "codemirror_mode": {
    "name": "ipython",
    "version": 2
   },
   "file_extension": ".py",
   "mimetype": "text/x-python",
   "name": "python",
   "nbconvert_exporter": "python",
   "pygments_lexer": "ipython2",
   "version": "2.7.15"
  }
 },
 "nbformat": 4,
 "nbformat_minor": 2
}
