{
 "cells": [
  {
   "cell_type": "code",
   "execution_count": 4,
   "id": "dd3b369f",
   "metadata": {},
   "outputs": [
    {
     "name": "stdout",
     "output_type": "stream",
     "text": [
      "python version:  3.8.0 | packaged by conda-forge | (default, Nov 22 2019, 19:11:38) \n",
      "[GCC 7.3.0]\n",
      "pandas version:  1.4.2\n",
      "numpy version:  1.22.4\n",
      "scipy version:  1.8.1\n",
      "sklearn version:  1.1.1\n",
      "keras version:  2.9.0\n",
      "keras backend:  tensorflow\n",
      "tensorflow version:  2.9.1\n"
     ]
    }
   ],
   "source": [
    "import sys\n",
    "print(\"python version: \", sys.version)\n",
    "\n",
    "import pandas as pd\n",
    "print(\"pandas version: \", pd.__version__)\n",
    "\n",
    "import numpy as np\n",
    "print('numpy version: ', np.__version__)\n",
    "\n",
    "import scipy as sp\n",
    "print('scipy version: ', sp.__version__)\n",
    "\n",
    "import sklearn as skl\n",
    "print('sklearn version: ', skl.__version__)\n",
    "\n",
    "import matplotlib.pyplot as plt\n",
    "\n",
    "import os\n",
    "os.environ[\"CUDA_DEVICE_ORDER\"] = \"PCI_BUS_ID\"\n",
    "os.environ[\"CUDA_VISIBLE_DEVICES\"] = \"\"\n",
    "\n",
    "import keras as ks\n",
    "print('keras version: ', ks.__version__)\n",
    "print('keras backend: ', ks.backend.backend())\n",
    "\n",
    "import tensorflow as tf\n",
    "print('tensorflow version: ', tf.__version__)\n",
    "\n",
    "import warnings\n",
    "warnings.filterwarnings('ignore')\n",
    "\n",
    "from keras import backend as K\n",
    "from sklearn.metrics import confusion_matrix, precision_score, recall_score\n",
    "from sklearn.metrics import roc_curve, auc, f1_score, accuracy_score, precision_recall_curve\n",
    "from pandas.api.types import CategoricalDtype\n",
    "\n",
    "import random"
   ]
  },
  {
   "cell_type": "code",
   "execution_count": 5,
   "id": "010df3ff",
   "metadata": {},
   "outputs": [],
   "source": [
    "excel_file = r'/home/kravchen/Desktop/NH/full_set_copy.xls'\n",
    "df = pd.DataFrame(pd.read_excel(excel_file))"
   ]
  },
  {
   "cell_type": "code",
   "execution_count": null,
   "id": "3e144228",
   "metadata": {},
   "outputs": [],
   "source": [
    "#Discuss with Rich the order of tasks that Richael should perform, for example: \n",
    "#--Explore/characterize the dataset \n",
    "#--Run RNN (should I give Richael the code or ask her to write her own?)\n",
    "#--Pull out predicted/true values\n",
    "#OR - should I clean up the code first (with all the features dropped etc.), save it as a file and give it to her this way? \n",
    "#in a manner of this kaggle tutorial (i.e. so that she only does training and testing?)\n",
    "#https://www.kaggle.com/code/kcsener/8-recurrent-neural-network-rnn-tutorial/notebook\n",
    "#\n",
    "#"
   ]
  }
 ],
 "metadata": {
  "kernelspec": {
   "display_name": "Python 3 (ipykernel)",
   "language": "python",
   "name": "python3"
  },
  "language_info": {
   "codemirror_mode": {
    "name": "ipython",
    "version": 3
   },
   "file_extension": ".py",
   "mimetype": "text/x-python",
   "name": "python",
   "nbconvert_exporter": "python",
   "pygments_lexer": "ipython3",
   "version": "3.8.0"
  }
 },
 "nbformat": 4,
 "nbformat_minor": 5
}
